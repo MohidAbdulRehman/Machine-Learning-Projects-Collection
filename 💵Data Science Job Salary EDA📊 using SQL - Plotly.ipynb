{
 "cells": [
  {
   "cell_type": "markdown",
   "id": "c789e931",
   "metadata": {
    "papermill": {
     "duration": 0.016066,
     "end_time": "2022-10-23T19:09:38.496915",
     "exception": false,
     "start_time": "2022-10-23T19:09:38.480849",
     "status": "completed"
    },
    "tags": []
   },
   "source": [
    "<h1 style=\"padding:20px;background-color:#003f5c;margin:0;color:white;font-family:Georgia;font-size:300%;text-align:center;border-radius: 20px 20px;overflow:hidden;font-weight:500\">💵Data Science Job Salaries EDA📊 </h1>"
   ]
  },
  {
   "cell_type": "markdown",
   "id": "5bbe9234",
   "metadata": {
    "papermill": {
     "duration": 0.015887,
     "end_time": "2022-10-23T19:09:38.527379",
     "exception": false,
     "start_time": "2022-10-23T19:09:38.511492",
     "status": "completed"
    },
    "tags": []
   },
   "source": [
    "<div class=\"inner_cell\">\n",
    "<div class=\"text_cell_render border-box-sizing rendered_html\">\n",
    "<div class=\"list-group\" id=\"list-tab\" role=\"tablist\">\n",
    "  <h3 class=\"list-group-item list-group-item-action active\" data-toggle=\"list\" role=\"tab\" aria-controls=\"home\" style = \"border:2px solid #003f5c;background-color:#2f4b7c;opacity:0.8; color:white; font-family:Verdana;text-align: center; font-size:120%;\">Notebook Content 📝</h3>\n",
    "  <a class=\"list-group-item list-group-item-action\" data-toggle=\"list\" href=\"#1\" role=\"tab\" aria-controls=\"profile\" target=\"_self\" style = \"color:grey; font-family:Verdana;text-align: left; font-size:100%;\">Introduction<span class=\"badge badge-primary badge-pill\">1</span></a>\n",
    "  <a class=\"list-group-item list-group-item-action\" data-toggle=\"list\" href=\"#2\" role=\"tab\" aria-controls=\"messages\" target=\"_self\" style = \"color:grey; font-family:Verdana;text-align: left; font-size:100%;\">Importing Libraries<span class=\"badge badge-primary badge-pill\">2</span></a>\n",
    "<a class=\"list-group-item list-group-item-action\" data-toggle=\"list\" href=\"#3\" role=\"tab\" aria-controls=\"profile\" target=\"_self\" style = \"color:grey; font-family:Verdana;text-align: left; font-size:100%;\">Loading Dataset<span class=\"badge badge-primary badge-pill\">3</span></a>\n",
    "  <a class=\"list-group-item list-group-item-action\" data-toggle=\"list\" href=\"#4\" role=\"tab\" aria-controls=\"settings\" target=\"_self\" style = \"color:grey; font-family:Verdana;text-align: left; font-size:100%;\"> Data Preprocessing<span class=\"badge badge-primary badge-pill\">4</span></a>\n",
    "  <a class=\"list-group-item list-group-item-action\" data-toggle=\"list\" href=\"#5\" role=\"tab\" aria-controls=\"settings\" target=\"_self\" style = \"color:grey; font-family:Verdana;text-align: left; font-size:100%;\"> Data Visualization<span class=\"badge badge-primary badge-pill\">5</span></a> \n",
    "  <a class=\"list-group-item list-group-item-action\" data-toggle=\"list\" href=\"#6\" role=\"tab\" aria-controls=\"settings\" target=\"_self\" style = \"color:grey; font-family:Verdana;text-align: left; font-size:100%;\">\n",
    "      Conclusion<span class=\"badge badge-primary badge-pill\">6</span></a>\n",
    "</div>\n",
    "</div>\n",
    "</div>"
   ]
  },
  {
   "cell_type": "markdown",
   "id": "0687c213",
   "metadata": {
    "papermill": {
     "duration": 0.014577,
     "end_time": "2022-10-23T19:09:38.556639",
     "exception": false,
     "start_time": "2022-10-23T19:09:38.542062",
     "status": "completed"
    },
    "tags": []
   },
   "source": [
    "<a id = \"1\"></a>\n",
    "<h1 style=\"padding:10px;background-color:#2f4b7c;opacity: 0.8;margin:0;color:white;font-family:newtimeroman;font-size:200%;text-align:center;border-radius: 15px 50px;overflow:hidden;font-weight:500\"> Introduction</h1>"
   ]
  },
  {
   "cell_type": "markdown",
   "id": "92771ba5",
   "metadata": {
    "papermill": {
     "duration": 0.014187,
     "end_time": "2022-10-23T19:09:38.585273",
     "exception": false,
     "start_time": "2022-10-23T19:09:38.571086",
     "status": "completed"
    },
    "tags": []
   },
   "source": [
    "* <b>SQL</b>?<br>\n",
    "<p>SQL stands for Structured Query Language and it is an ANSI standard computer language for accessing and manipulating database systems. It is used for managing data in relational database management system which stores data in the form of tables and relationship between data is also stored in the form of tables. SQL statements are used to retrieve and update data in a database.</p><br>\n",
    "\n",
    "* <b>Pandasql</b>?<br>\n",
    "<p>Pandasql allows you to query pandas DataFrames using SQL syntax. It works similarly to sqldf in R. pandasql seeks to provide a more familiar way of manipulating and cleaning data for people new to Python or pandas.</p>"
   ]
  },
  {
   "cell_type": "markdown",
   "id": "551cb954",
   "metadata": {
    "papermill": {
     "duration": 0.013974,
     "end_time": "2022-10-23T19:09:38.613552",
     "exception": false,
     "start_time": "2022-10-23T19:09:38.599578",
     "status": "completed"
    },
    "tags": []
   },
   "source": [
    "<a id = \"2\"></a>\n",
    "<h1 style=\"padding:10px;background-color:#2f4b7c;opacity: 0.8;margin:0;color:white;font-family:newtimeroman;font-size:200%;text-align:center;border-radius: 15px 50px;overflow:hidden;font-weight:500\">Importing Libraries 📚</h1>"
   ]
  },
  {
   "cell_type": "code",
   "execution_count": 1,
   "id": "a2ef409a",
   "metadata": {
    "execution": {
     "iopub.execute_input": "2022-10-23T19:09:38.644632Z",
     "iopub.status.busy": "2022-10-23T19:09:38.644159Z",
     "iopub.status.idle": "2022-10-23T19:09:54.430284Z",
     "shell.execute_reply": "2022-10-23T19:09:54.429027Z"
    },
    "papermill": {
     "duration": 15.805147,
     "end_time": "2022-10-23T19:09:54.433510",
     "exception": false,
     "start_time": "2022-10-23T19:09:38.628363",
     "status": "completed"
    },
    "tags": []
   },
   "outputs": [
    {
     "name": "stdout",
     "output_type": "stream",
     "text": [
      "Collecting country-converter\r\n",
      "  Downloading country_converter-0.7.7.tar.gz (51 kB)\r\n",
      "\u001b[2K     \u001b[90m━━━━━━━━━━━━━━━━━━━━━━━━━━━━━━━━━━━━━━━\u001b[0m \u001b[32m51.2/51.2 kB\u001b[0m \u001b[31m220.2 kB/s\u001b[0m eta \u001b[36m0:00:00\u001b[0m\r\n",
      "\u001b[?25h  Preparing metadata (setup.py) ... \u001b[?25l-\b \bdone\r\n",
      "\u001b[?25hRequirement already satisfied: pandas>=1.0 in /opt/conda/lib/python3.7/site-packages (from country-converter) (1.3.5)\r\n",
      "Requirement already satisfied: python-dateutil>=2.7.3 in /opt/conda/lib/python3.7/site-packages (from pandas>=1.0->country-converter) (2.8.2)\r\n",
      "Requirement already satisfied: pytz>=2017.3 in /opt/conda/lib/python3.7/site-packages (from pandas>=1.0->country-converter) (2022.1)\r\n",
      "Requirement already satisfied: numpy>=1.17.3 in /opt/conda/lib/python3.7/site-packages (from pandas>=1.0->country-converter) (1.21.6)\r\n",
      "Requirement already satisfied: six>=1.5 in /opt/conda/lib/python3.7/site-packages (from python-dateutil>=2.7.3->pandas>=1.0->country-converter) (1.15.0)\r\n",
      "Building wheels for collected packages: country-converter\r\n",
      "  Building wheel for country-converter (setup.py) ... \u001b[?25l-\b \b\\\b \bdone\r\n",
      "\u001b[?25h  Created wheel for country-converter: filename=country_converter-0.7.7-py3-none-any.whl size=53786 sha256=9b05785a8703f81a397bbc201d5781cbaa7b4c69af73799a6bfd37d46b3dff46\r\n",
      "  Stored in directory: /root/.cache/pip/wheels/e8/e6/60/61798a8a91462250002293d1c8cc8de90a130119a813277ccc\r\n",
      "Successfully built country-converter\r\n",
      "Installing collected packages: country-converter\r\n",
      "Successfully installed country-converter-0.7.7\r\n",
      "\u001b[33mWARNING: Running pip as the 'root' user can result in broken permissions and conflicting behaviour with the system package manager. It is recommended to use a virtual environment instead: https://pip.pypa.io/warnings/venv\u001b[0m\u001b[33m\r\n",
      "\u001b[0m"
     ]
    }
   ],
   "source": [
    "!pip install country-converter"
   ]
  },
  {
   "cell_type": "code",
   "execution_count": 2,
   "id": "fa6cd1d7",
   "metadata": {
    "execution": {
     "iopub.execute_input": "2022-10-23T19:09:54.467097Z",
     "iopub.status.busy": "2022-10-23T19:09:54.466670Z",
     "iopub.status.idle": "2022-10-23T19:09:56.530194Z",
     "shell.execute_reply": "2022-10-23T19:09:56.529057Z"
    },
    "papermill": {
     "duration": 2.083172,
     "end_time": "2022-10-23T19:09:56.532692",
     "exception": false,
     "start_time": "2022-10-23T19:09:54.449520",
     "status": "completed"
    },
    "tags": []
   },
   "outputs": [
    {
     "data": {
      "text/html": [
       "        <script type=\"text/javascript\">\n",
       "        window.PlotlyConfig = {MathJaxConfig: 'local'};\n",
       "        if (window.MathJax && window.MathJax.Hub && window.MathJax.Hub.Config) {window.MathJax.Hub.Config({SVG: {font: \"STIX-Web\"}});}\n",
       "        if (typeof require !== 'undefined') {\n",
       "        require.undef(\"plotly\");\n",
       "        requirejs.config({\n",
       "            paths: {\n",
       "                'plotly': ['https://cdn.plot.ly/plotly-2.14.0.min']\n",
       "            }\n",
       "        });\n",
       "        require(['plotly'], function(Plotly) {\n",
       "            window._Plotly = Plotly;\n",
       "        });\n",
       "        }\n",
       "        </script>\n",
       "        "
      ]
     },
     "metadata": {},
     "output_type": "display_data"
    }
   ],
   "source": [
    "# For loading data\n",
    "import pandas as pd\n",
    "\n",
    "# For SQL queries\n",
    "import pandasql as ps\n",
    "\n",
    "# For ploting graph / Visualization\n",
    "import plotly.graph_objects as go\n",
    "import plotly.express as px\n",
    "from plotly.offline import iplot\n",
    "import plotly.io as pio\n",
    "import seaborn as sns\n",
    "import matplotlib.pyplot as plt\n",
    "\n",
    "# To show graph below the code or on same notebook\n",
    "from plotly.offline import init_notebook_mode\n",
    "init_notebook_mode(connected=True)\n",
    "\n",
    "# To convert country code to country name\n",
    "import country_converter as coco\n",
    "\n",
    "import warnings\n",
    "warnings.filterwarnings('ignore')\n"
   ]
  },
  {
   "cell_type": "markdown",
   "id": "d3d60700",
   "metadata": {
    "papermill": {
     "duration": 0.015461,
     "end_time": "2022-10-23T19:09:56.564389",
     "exception": false,
     "start_time": "2022-10-23T19:09:56.548928",
     "status": "completed"
    },
    "tags": []
   },
   "source": [
    "<a id = \"3\"></a>\n",
    "<h1 style=\"padding:10px;background-color:#2f4b7c;opacity: 0.8;margin:0;color:white;font-family:newtimeroman;font-size:200%;text-align:center;border-radius: 15px 50px;overflow:hidden;font-weight:500\"> Loading Dataset 💾</h1>"
   ]
  },
  {
   "cell_type": "code",
   "execution_count": 3,
   "id": "f047fd5e",
   "metadata": {
    "execution": {
     "iopub.execute_input": "2022-10-23T19:09:56.598841Z",
     "iopub.status.busy": "2022-10-23T19:09:56.598186Z",
     "iopub.status.idle": "2022-10-23T19:09:56.623668Z",
     "shell.execute_reply": "2022-10-23T19:09:56.622758Z"
    },
    "papermill": {
     "duration": 0.045503,
     "end_time": "2022-10-23T19:09:56.626303",
     "exception": false,
     "start_time": "2022-10-23T19:09:56.580800",
     "status": "completed"
    },
    "tags": []
   },
   "outputs": [],
   "source": [
    "# Loading data\n",
    "salaries = pd.read_csv('../input/data-science-job-salaries/ds_salaries.csv')"
   ]
  },
  {
   "cell_type": "code",
   "execution_count": 4,
   "id": "abf5ac6c",
   "metadata": {
    "execution": {
     "iopub.execute_input": "2022-10-23T19:09:56.660158Z",
     "iopub.status.busy": "2022-10-23T19:09:56.659384Z",
     "iopub.status.idle": "2022-10-23T19:09:56.664828Z",
     "shell.execute_reply": "2022-10-23T19:09:56.663793Z"
    },
    "papermill": {
     "duration": 0.025153,
     "end_time": "2022-10-23T19:09:56.667397",
     "exception": false,
     "start_time": "2022-10-23T19:09:56.642244",
     "status": "completed"
    },
    "tags": []
   },
   "outputs": [],
   "source": [
    "# Function query to execute SQL queries\n",
    "def query(query):\n",
    "    return ps.sqldf(query)"
   ]
  },
  {
   "cell_type": "code",
   "execution_count": 5,
   "id": "3035eb29",
   "metadata": {
    "execution": {
     "iopub.execute_input": "2022-10-23T19:09:56.700409Z",
     "iopub.status.busy": "2022-10-23T19:09:56.699977Z",
     "iopub.status.idle": "2022-10-23T19:09:56.937805Z",
     "shell.execute_reply": "2022-10-23T19:09:56.936425Z"
    },
    "papermill": {
     "duration": 0.257194,
     "end_time": "2022-10-23T19:09:56.940276",
     "exception": false,
     "start_time": "2022-10-23T19:09:56.683082",
     "status": "completed"
    },
    "tags": []
   },
   "outputs": [
    {
     "data": {
      "text/html": [
       "<div>\n",
       "<style scoped>\n",
       "    .dataframe tbody tr th:only-of-type {\n",
       "        vertical-align: middle;\n",
       "    }\n",
       "\n",
       "    .dataframe tbody tr th {\n",
       "        vertical-align: top;\n",
       "    }\n",
       "\n",
       "    .dataframe thead th {\n",
       "        text-align: right;\n",
       "    }\n",
       "</style>\n",
       "<table border=\"1\" class=\"dataframe\">\n",
       "  <thead>\n",
       "    <tr style=\"text-align: right;\">\n",
       "      <th></th>\n",
       "      <th>Unnamed: 0</th>\n",
       "      <th>work_year</th>\n",
       "      <th>experience_level</th>\n",
       "      <th>employment_type</th>\n",
       "      <th>job_title</th>\n",
       "      <th>salary</th>\n",
       "      <th>salary_currency</th>\n",
       "      <th>salary_in_usd</th>\n",
       "      <th>employee_residence</th>\n",
       "      <th>remote_ratio</th>\n",
       "      <th>company_location</th>\n",
       "      <th>company_size</th>\n",
       "    </tr>\n",
       "  </thead>\n",
       "  <tbody>\n",
       "    <tr>\n",
       "      <th>0</th>\n",
       "      <td>0</td>\n",
       "      <td>2020</td>\n",
       "      <td>MI</td>\n",
       "      <td>FT</td>\n",
       "      <td>Data Scientist</td>\n",
       "      <td>70000</td>\n",
       "      <td>EUR</td>\n",
       "      <td>79833</td>\n",
       "      <td>DE</td>\n",
       "      <td>0</td>\n",
       "      <td>DE</td>\n",
       "      <td>L</td>\n",
       "    </tr>\n",
       "    <tr>\n",
       "      <th>1</th>\n",
       "      <td>1</td>\n",
       "      <td>2020</td>\n",
       "      <td>SE</td>\n",
       "      <td>FT</td>\n",
       "      <td>Machine Learning Scientist</td>\n",
       "      <td>260000</td>\n",
       "      <td>USD</td>\n",
       "      <td>260000</td>\n",
       "      <td>JP</td>\n",
       "      <td>0</td>\n",
       "      <td>JP</td>\n",
       "      <td>S</td>\n",
       "    </tr>\n",
       "    <tr>\n",
       "      <th>2</th>\n",
       "      <td>2</td>\n",
       "      <td>2020</td>\n",
       "      <td>SE</td>\n",
       "      <td>FT</td>\n",
       "      <td>Big Data Engineer</td>\n",
       "      <td>85000</td>\n",
       "      <td>GBP</td>\n",
       "      <td>109024</td>\n",
       "      <td>GB</td>\n",
       "      <td>50</td>\n",
       "      <td>GB</td>\n",
       "      <td>M</td>\n",
       "    </tr>\n",
       "    <tr>\n",
       "      <th>3</th>\n",
       "      <td>3</td>\n",
       "      <td>2020</td>\n",
       "      <td>MI</td>\n",
       "      <td>FT</td>\n",
       "      <td>Product Data Analyst</td>\n",
       "      <td>20000</td>\n",
       "      <td>USD</td>\n",
       "      <td>20000</td>\n",
       "      <td>HN</td>\n",
       "      <td>0</td>\n",
       "      <td>HN</td>\n",
       "      <td>S</td>\n",
       "    </tr>\n",
       "    <tr>\n",
       "      <th>4</th>\n",
       "      <td>4</td>\n",
       "      <td>2020</td>\n",
       "      <td>SE</td>\n",
       "      <td>FT</td>\n",
       "      <td>Machine Learning Engineer</td>\n",
       "      <td>150000</td>\n",
       "      <td>USD</td>\n",
       "      <td>150000</td>\n",
       "      <td>US</td>\n",
       "      <td>50</td>\n",
       "      <td>US</td>\n",
       "      <td>L</td>\n",
       "    </tr>\n",
       "  </tbody>\n",
       "</table>\n",
       "</div>"
      ],
      "text/plain": [
       "   Unnamed: 0  work_year experience_level employment_type  \\\n",
       "0           0       2020               MI              FT   \n",
       "1           1       2020               SE              FT   \n",
       "2           2       2020               SE              FT   \n",
       "3           3       2020               MI              FT   \n",
       "4           4       2020               SE              FT   \n",
       "\n",
       "                    job_title  salary salary_currency  salary_in_usd  \\\n",
       "0              Data Scientist   70000             EUR          79833   \n",
       "1  Machine Learning Scientist  260000             USD         260000   \n",
       "2           Big Data Engineer   85000             GBP         109024   \n",
       "3        Product Data Analyst   20000             USD          20000   \n",
       "4   Machine Learning Engineer  150000             USD         150000   \n",
       "\n",
       "  employee_residence  remote_ratio company_location company_size  \n",
       "0                 DE             0               DE            L  \n",
       "1                 JP             0               JP            S  \n",
       "2                 GB            50               GB            M  \n",
       "3                 HN             0               HN            S  \n",
       "4                 US            50               US            L  "
      ]
     },
     "execution_count": 5,
     "metadata": {},
     "output_type": "execute_result"
    }
   ],
   "source": [
    "# Showing Top5 rows of data\n",
    "query(\"\"\"SELECT *\n",
    "         FROM   salaries\n",
    "         LIMIT  5\"\"\")"
   ]
  },
  {
   "cell_type": "markdown",
   "id": "09889849",
   "metadata": {
    "papermill": {
     "duration": 0.015368,
     "end_time": "2022-10-23T19:09:56.971467",
     "exception": false,
     "start_time": "2022-10-23T19:09:56.956099",
     "status": "completed"
    },
    "tags": []
   },
   "source": [
    "<a id = \"4\"></a>\n",
    "<h1 style=\"padding:10px;background-color:#2f4b7c;opacity: 0.8;margin:0;color:white;font-family:newtimeroman;font-size:200%;text-align:center;border-radius: 15px 50px;overflow:hidden;font-weight:500\">Data Preprocessing ⚒️</h1>"
   ]
  },
  {
   "cell_type": "code",
   "execution_count": 6,
   "id": "f381de72",
   "metadata": {
    "execution": {
     "iopub.execute_input": "2022-10-23T19:09:57.004694Z",
     "iopub.status.busy": "2022-10-23T19:09:57.004296Z",
     "iopub.status.idle": "2022-10-23T19:09:58.140870Z",
     "shell.execute_reply": "2022-10-23T19:09:58.139702Z"
    },
    "papermill": {
     "duration": 1.156319,
     "end_time": "2022-10-23T19:09:58.143577",
     "exception": false,
     "start_time": "2022-10-23T19:09:56.987258",
     "status": "completed"
    },
    "tags": []
   },
   "outputs": [],
   "source": [
    "# Converting countries code to Country names :\n",
    "salaries[\"employee_residence\"] = coco.convert(names=salaries[\"employee_residence\"], to=\"name\")\n",
    "salaries[\"company_location\"] = coco.convert(names=salaries[\"company_location\"], to=\"name\")"
   ]
  },
  {
   "cell_type": "code",
   "execution_count": 7,
   "id": "3a2f5902",
   "metadata": {
    "execution": {
     "iopub.execute_input": "2022-10-23T19:09:58.177423Z",
     "iopub.status.busy": "2022-10-23T19:09:58.177019Z",
     "iopub.status.idle": "2022-10-23T19:09:58.426956Z",
     "shell.execute_reply": "2022-10-23T19:09:58.425765Z"
    },
    "papermill": {
     "duration": 0.26981,
     "end_time": "2022-10-23T19:09:58.429609",
     "exception": false,
     "start_time": "2022-10-23T19:09:58.159799",
     "status": "completed"
    },
    "tags": []
   },
   "outputs": [],
   "source": [
    "# Replacing values in column - experience_level :\n",
    "salaries['experience_level'] = query(\"\"\"SELECT \n",
    "                                          REPLACE(\n",
    "                                            REPLACE(\n",
    "                                              REPLACE(\n",
    "                                                REPLACE(\n",
    "                                                  experience_level, 'MI', 'Mid level'), \n",
    "                                                                    'SE', 'Senior Level'), \n",
    "                                                                    'EN', 'Entry Level'), \n",
    "                                                                    'EX', 'Expert Level') \n",
    "                                        FROM \n",
    "                                          salaries\"\"\")  \n",
    "\n",
    "# ---------------------------------------------------------------------------------------------------------------------------- #\n",
    "\n",
    "# Replacing values in column - employment_type :\n",
    "salaries['employment_type'] = query(\"\"\"SELECT \n",
    "                                          REPLACE(\n",
    "                                            REPLACE(\n",
    "                                              REPLACE(\n",
    "                                                REPLACE(\n",
    "                                                  employment_type, 'PT', 'Part Time'), \n",
    "                                                                   'FT', 'Full Time'), \n",
    "                                                                   'FL', 'Freelance'), \n",
    "                                                                   'CT', 'Contract') \n",
    "                                        FROM \n",
    "                                          salaries\"\"\")\n",
    "\n",
    "# ---------------------------------------------------------------------------------------------------------------------------- #\n",
    "\n",
    "\n",
    "# Replacing values in column - company_size :\n",
    "salaries['company_size'] = query(\"\"\"SELECT \n",
    "                                       REPLACE(\n",
    "                                         REPLACE(\n",
    "                                           REPLACE(\n",
    "                                             company_size, 'M', 'Medium'), \n",
    "                                                           'L', 'Large'), \n",
    "                                                           'S', 'Small') \n",
    "                                    FROM \n",
    "                                       salaries\"\"\")\n",
    "\n",
    "# ---------------------------------------------------------------------------------------------------------------------------- #\n",
    "\n",
    "\n",
    "# Replacing values in column - remote_ratio :\n",
    "salaries['remote_ratio'] = query(\"\"\"SELECT \n",
    "                                        REPLACE(\n",
    "                                          REPLACE(\n",
    "                                            REPLACE(\n",
    "                                              remote_ratio, '100', 'Fully Remote'), \n",
    "                                                            '50', 'Partially Remote'), \n",
    "                                                            '0', 'Non Remote Work') \n",
    "                                    FROM \n",
    "                                      salaries\"\"\") "
   ]
  },
  {
   "cell_type": "code",
   "execution_count": 8,
   "id": "5a9dbd61",
   "metadata": {
    "execution": {
     "iopub.execute_input": "2022-10-23T19:09:58.463146Z",
     "iopub.status.busy": "2022-10-23T19:09:58.462714Z",
     "iopub.status.idle": "2022-10-23T19:09:58.537793Z",
     "shell.execute_reply": "2022-10-23T19:09:58.536665Z"
    },
    "papermill": {
     "duration": 0.094743,
     "end_time": "2022-10-23T19:09:58.540285",
     "exception": false,
     "start_time": "2022-10-23T19:09:58.445542",
     "status": "completed"
    },
    "tags": []
   },
   "outputs": [
    {
     "data": {
      "text/html": [
       "<div>\n",
       "<style scoped>\n",
       "    .dataframe tbody tr th:only-of-type {\n",
       "        vertical-align: middle;\n",
       "    }\n",
       "\n",
       "    .dataframe tbody tr th {\n",
       "        vertical-align: top;\n",
       "    }\n",
       "\n",
       "    .dataframe thead th {\n",
       "        text-align: right;\n",
       "    }\n",
       "</style>\n",
       "<table border=\"1\" class=\"dataframe\">\n",
       "  <thead>\n",
       "    <tr style=\"text-align: right;\">\n",
       "      <th></th>\n",
       "      <th>Unnamed: 0</th>\n",
       "      <th>work_year</th>\n",
       "      <th>experience_level</th>\n",
       "      <th>employment_type</th>\n",
       "      <th>job_title</th>\n",
       "      <th>salary</th>\n",
       "      <th>salary_currency</th>\n",
       "      <th>salary_in_usd</th>\n",
       "      <th>employee_residence</th>\n",
       "      <th>remote_ratio</th>\n",
       "      <th>company_location</th>\n",
       "      <th>company_size</th>\n",
       "    </tr>\n",
       "  </thead>\n",
       "  <tbody>\n",
       "    <tr>\n",
       "      <th>0</th>\n",
       "      <td>0</td>\n",
       "      <td>2020</td>\n",
       "      <td>Mid level</td>\n",
       "      <td>Full Time</td>\n",
       "      <td>Data Scientist</td>\n",
       "      <td>70000</td>\n",
       "      <td>EUR</td>\n",
       "      <td>79833</td>\n",
       "      <td>Germany</td>\n",
       "      <td>Non Remote Work</td>\n",
       "      <td>Germany</td>\n",
       "      <td>Large</td>\n",
       "    </tr>\n",
       "    <tr>\n",
       "      <th>1</th>\n",
       "      <td>1</td>\n",
       "      <td>2020</td>\n",
       "      <td>Senior Level</td>\n",
       "      <td>Full Time</td>\n",
       "      <td>Machine Learning Scientist</td>\n",
       "      <td>260000</td>\n",
       "      <td>USD</td>\n",
       "      <td>260000</td>\n",
       "      <td>Japan</td>\n",
       "      <td>Non Remote Work</td>\n",
       "      <td>Japan</td>\n",
       "      <td>Small</td>\n",
       "    </tr>\n",
       "    <tr>\n",
       "      <th>2</th>\n",
       "      <td>2</td>\n",
       "      <td>2020</td>\n",
       "      <td>Senior Level</td>\n",
       "      <td>Full Time</td>\n",
       "      <td>Big Data Engineer</td>\n",
       "      <td>85000</td>\n",
       "      <td>GBP</td>\n",
       "      <td>109024</td>\n",
       "      <td>United Kingdom</td>\n",
       "      <td>Partially Remote</td>\n",
       "      <td>United Kingdom</td>\n",
       "      <td>Medium</td>\n",
       "    </tr>\n",
       "    <tr>\n",
       "      <th>3</th>\n",
       "      <td>3</td>\n",
       "      <td>2020</td>\n",
       "      <td>Mid level</td>\n",
       "      <td>Full Time</td>\n",
       "      <td>Product Data Analyst</td>\n",
       "      <td>20000</td>\n",
       "      <td>USD</td>\n",
       "      <td>20000</td>\n",
       "      <td>Honduras</td>\n",
       "      <td>Non Remote Work</td>\n",
       "      <td>Honduras</td>\n",
       "      <td>Small</td>\n",
       "    </tr>\n",
       "    <tr>\n",
       "      <th>4</th>\n",
       "      <td>4</td>\n",
       "      <td>2020</td>\n",
       "      <td>Senior Level</td>\n",
       "      <td>Full Time</td>\n",
       "      <td>Machine Learning Engineer</td>\n",
       "      <td>150000</td>\n",
       "      <td>USD</td>\n",
       "      <td>150000</td>\n",
       "      <td>United States</td>\n",
       "      <td>Partially Remote</td>\n",
       "      <td>United States</td>\n",
       "      <td>Large</td>\n",
       "    </tr>\n",
       "  </tbody>\n",
       "</table>\n",
       "</div>"
      ],
      "text/plain": [
       "   Unnamed: 0  work_year experience_level employment_type  \\\n",
       "0           0       2020        Mid level       Full Time   \n",
       "1           1       2020     Senior Level       Full Time   \n",
       "2           2       2020     Senior Level       Full Time   \n",
       "3           3       2020        Mid level       Full Time   \n",
       "4           4       2020     Senior Level       Full Time   \n",
       "\n",
       "                    job_title  salary salary_currency  salary_in_usd  \\\n",
       "0              Data Scientist   70000             EUR          79833   \n",
       "1  Machine Learning Scientist  260000             USD         260000   \n",
       "2           Big Data Engineer   85000             GBP         109024   \n",
       "3        Product Data Analyst   20000             USD          20000   \n",
       "4   Machine Learning Engineer  150000             USD         150000   \n",
       "\n",
       "  employee_residence      remote_ratio company_location company_size  \n",
       "0            Germany   Non Remote Work          Germany        Large  \n",
       "1              Japan   Non Remote Work            Japan        Small  \n",
       "2     United Kingdom  Partially Remote   United Kingdom       Medium  \n",
       "3           Honduras   Non Remote Work         Honduras        Small  \n",
       "4      United States  Partially Remote    United States        Large  "
      ]
     },
     "execution_count": 8,
     "metadata": {},
     "output_type": "execute_result"
    }
   ],
   "source": [
    "# Top 5 rows of data after data preprocessing\n",
    "query(\"\"\"SELECT *\n",
    "         FROM   salaries\n",
    "         LIMIT  5 \"\"\")"
   ]
  },
  {
   "cell_type": "markdown",
   "id": "6c6d3e60",
   "metadata": {
    "papermill": {
     "duration": 0.016106,
     "end_time": "2022-10-23T19:09:58.572641",
     "exception": false,
     "start_time": "2022-10-23T19:09:58.556535",
     "status": "completed"
    },
    "tags": []
   },
   "source": [
    "<div class=\"alert alert-block alert-info\">\n",
    "In <b>preprocessing step</b> first I converted country ISO code to country full name and replace many abbreviation to unit using <b>SQL</b> queries.\n",
    "</div>"
   ]
  },
  {
   "cell_type": "markdown",
   "id": "be42ecb6",
   "metadata": {
    "papermill": {
     "duration": 0.016593,
     "end_time": "2022-10-23T19:09:58.605384",
     "exception": false,
     "start_time": "2022-10-23T19:09:58.588791",
     "status": "completed"
    },
    "tags": []
   },
   "source": [
    "<a id = \"5\"></a>\n",
    "<h1 style=\"padding:10px;background-color:#2f4b7c;opacity: 0.8;margin:0;color:white;font-family:newtimeroman;font-size:200%;text-align:center;border-radius: 15px 50px;overflow:hidden;font-weight:500\">Data Visualizations 📊</h1>"
   ]
  },
  {
   "cell_type": "code",
   "execution_count": 9,
   "id": "61b00c97",
   "metadata": {
    "execution": {
     "iopub.execute_input": "2022-10-23T19:09:58.639300Z",
     "iopub.status.busy": "2022-10-23T19:09:58.638870Z",
     "iopub.status.idle": "2022-10-23T19:09:58.644148Z",
     "shell.execute_reply": "2022-10-23T19:09:58.643079Z"
    },
    "papermill": {
     "duration": 0.025025,
     "end_time": "2022-10-23T19:09:58.646541",
     "exception": false,
     "start_time": "2022-10-23T19:09:58.621516",
     "status": "completed"
    },
    "tags": []
   },
   "outputs": [],
   "source": [
    "colors = ['#003f5c','#2f4b7c','#665191','#a05195','#d45087','#f95d6a','#ff7c43','#ffa600']"
   ]
  },
  {
   "cell_type": "markdown",
   "id": "b3c0574d",
   "metadata": {
    "papermill": {
     "duration": 0.015713,
     "end_time": "2022-10-23T19:09:58.678665",
     "exception": false,
     "start_time": "2022-10-23T19:09:58.662952",
     "status": "completed"
    },
    "tags": []
   },
   "source": [
    "<a id=\"4\"></a>\n",
    "## <div style=\"text-align: left; background-color:#f1e7d2 ; font-family: Trebuchet MS; color: #7B3F00; padding: 15px; line-height:1;border-radius:1px; margin-bottom: 0em; text-align: center; font-size: 25px;border-style: solid;border-color: dark green;\">4.1 Top10 Data Science Jobs </div> "
   ]
  },
  {
   "cell_type": "code",
   "execution_count": 10,
   "id": "05bab2da",
   "metadata": {
    "execution": {
     "iopub.execute_input": "2022-10-23T19:09:58.713074Z",
     "iopub.status.busy": "2022-10-23T19:09:58.712112Z",
     "iopub.status.idle": "2022-10-23T19:09:58.777901Z",
     "shell.execute_reply": "2022-10-23T19:09:58.776740Z"
    },
    "papermill": {
     "duration": 0.085555,
     "end_time": "2022-10-23T19:09:58.780418",
     "exception": false,
     "start_time": "2022-10-23T19:09:58.694863",
     "status": "completed"
    },
    "tags": []
   },
   "outputs": [
    {
     "data": {
      "text/html": [
       "<div>\n",
       "<style scoped>\n",
       "    .dataframe tbody tr th:only-of-type {\n",
       "        vertical-align: middle;\n",
       "    }\n",
       "\n",
       "    .dataframe tbody tr th {\n",
       "        vertical-align: top;\n",
       "    }\n",
       "\n",
       "    .dataframe thead th {\n",
       "        text-align: right;\n",
       "    }\n",
       "</style>\n",
       "<table border=\"1\" class=\"dataframe\">\n",
       "  <thead>\n",
       "    <tr style=\"text-align: right;\">\n",
       "      <th></th>\n",
       "      <th>job_title</th>\n",
       "      <th>job_count</th>\n",
       "    </tr>\n",
       "  </thead>\n",
       "  <tbody>\n",
       "    <tr>\n",
       "      <th>0</th>\n",
       "      <td>Data Scientist</td>\n",
       "      <td>143</td>\n",
       "    </tr>\n",
       "    <tr>\n",
       "      <th>1</th>\n",
       "      <td>Data Engineer</td>\n",
       "      <td>132</td>\n",
       "    </tr>\n",
       "    <tr>\n",
       "      <th>2</th>\n",
       "      <td>Data Analyst</td>\n",
       "      <td>97</td>\n",
       "    </tr>\n",
       "    <tr>\n",
       "      <th>3</th>\n",
       "      <td>Machine Learning Engineer</td>\n",
       "      <td>41</td>\n",
       "    </tr>\n",
       "    <tr>\n",
       "      <th>4</th>\n",
       "      <td>Research Scientist</td>\n",
       "      <td>16</td>\n",
       "    </tr>\n",
       "    <tr>\n",
       "      <th>5</th>\n",
       "      <td>Data Science Manager</td>\n",
       "      <td>12</td>\n",
       "    </tr>\n",
       "    <tr>\n",
       "      <th>6</th>\n",
       "      <td>Data Architect</td>\n",
       "      <td>11</td>\n",
       "    </tr>\n",
       "    <tr>\n",
       "      <th>7</th>\n",
       "      <td>Machine Learning Scientist</td>\n",
       "      <td>8</td>\n",
       "    </tr>\n",
       "    <tr>\n",
       "      <th>8</th>\n",
       "      <td>Big Data Engineer</td>\n",
       "      <td>8</td>\n",
       "    </tr>\n",
       "    <tr>\n",
       "      <th>9</th>\n",
       "      <td>Principal Data Scientist</td>\n",
       "      <td>7</td>\n",
       "    </tr>\n",
       "  </tbody>\n",
       "</table>\n",
       "</div>"
      ],
      "text/plain": [
       "                    job_title  job_count\n",
       "0              Data Scientist        143\n",
       "1               Data Engineer        132\n",
       "2                Data Analyst         97\n",
       "3   Machine Learning Engineer         41\n",
       "4          Research Scientist         16\n",
       "5        Data Science Manager         12\n",
       "6              Data Architect         11\n",
       "7  Machine Learning Scientist          8\n",
       "8           Big Data Engineer          8\n",
       "9    Principal Data Scientist          7"
      ]
     },
     "execution_count": 10,
     "metadata": {},
     "output_type": "execute_result"
    }
   ],
   "source": [
    "top10_jobs = query(\"\"\"SELECT job_title,\n",
    "                             Count(*) AS job_count\n",
    "                      FROM   salaries\n",
    "                      GROUP  BY job_title\n",
    "                      ORDER  BY job_count DESC\n",
    "                      LIMIT  10  \"\"\")\n",
    "top10_jobs"
   ]
  },
  {
   "cell_type": "code",
   "execution_count": 11,
   "id": "f0163e82",
   "metadata": {
    "execution": {
     "iopub.execute_input": "2022-10-23T19:09:58.815790Z",
     "iopub.status.busy": "2022-10-23T19:09:58.815385Z",
     "iopub.status.idle": "2022-10-23T19:09:58.942430Z",
     "shell.execute_reply": "2022-10-23T19:09:58.941356Z"
    },
    "papermill": {
     "duration": 0.147814,
     "end_time": "2022-10-23T19:09:58.945117",
     "exception": false,
     "start_time": "2022-10-23T19:09:58.797303",
     "status": "completed"
    },
    "tags": []
   },
   "outputs": [
    {
     "data": {
      "application/vnd.plotly.v1+json": {
       "config": {
        "plotlyServerURL": "https://plot.ly"
       },
       "data": [
        {
         "marker": {
          "color": [
           "#003f5c",
           "#2f4b7c",
           "#665191",
           "#a05195",
           "#d45087",
           "#f95d6a",
           "#ff7c43",
           "#ffa600"
          ],
          "line": {
           "color": "white",
           "width": 3
          },
          "opacity": 0.9
         },
         "text": [
          143.0,
          132.0,
          97.0,
          41.0,
          16.0,
          12.0,
          11.0,
          8.0,
          8.0,
          7.0
         ],
         "textfont": {
          "color": "white",
          "size": 12
         },
         "textposition": "inside",
         "type": "bar",
         "x": [
          "Data Scientist",
          "Data Engineer",
          "Data Analyst",
          "Machine Learning Engineer",
          "Research Scientist",
          "Data Science Manager",
          "Data Architect",
          "Machine Learning Scientist",
          "Big Data Engineer",
          "Principal Data Scientist"
         ],
         "y": [
          143,
          132,
          97,
          41,
          16,
          12,
          11,
          8,
          8,
          7
         ]
        }
       ],
       "layout": {
        "height": 600,
        "paper_bgcolor": "#f1e7d2",
        "plot_bgcolor": "#f1e7d2",
        "template": {
         "data": {
          "bar": [
           {
            "error_x": {
             "color": "#2a3f5f"
            },
            "error_y": {
             "color": "#2a3f5f"
            },
            "marker": {
             "line": {
              "color": "#E5ECF6",
              "width": 0.5
             },
             "pattern": {
              "fillmode": "overlay",
              "size": 10,
              "solidity": 0.2
             }
            },
            "type": "bar"
           }
          ],
          "barpolar": [
           {
            "marker": {
             "line": {
              "color": "#E5ECF6",
              "width": 0.5
             },
             "pattern": {
              "fillmode": "overlay",
              "size": 10,
              "solidity": 0.2
             }
            },
            "type": "barpolar"
           }
          ],
          "carpet": [
           {
            "aaxis": {
             "endlinecolor": "#2a3f5f",
             "gridcolor": "white",
             "linecolor": "white",
             "minorgridcolor": "white",
             "startlinecolor": "#2a3f5f"
            },
            "baxis": {
             "endlinecolor": "#2a3f5f",
             "gridcolor": "white",
             "linecolor": "white",
             "minorgridcolor": "white",
             "startlinecolor": "#2a3f5f"
            },
            "type": "carpet"
           }
          ],
          "choropleth": [
           {
            "colorbar": {
             "outlinewidth": 0,
             "ticks": ""
            },
            "type": "choropleth"
           }
          ],
          "contour": [
           {
            "colorbar": {
             "outlinewidth": 0,
             "ticks": ""
            },
            "colorscale": [
             [
              0.0,
              "#0d0887"
             ],
             [
              0.1111111111111111,
              "#46039f"
             ],
             [
              0.2222222222222222,
              "#7201a8"
             ],
             [
              0.3333333333333333,
              "#9c179e"
             ],
             [
              0.4444444444444444,
              "#bd3786"
             ],
             [
              0.5555555555555556,
              "#d8576b"
             ],
             [
              0.6666666666666666,
              "#ed7953"
             ],
             [
              0.7777777777777778,
              "#fb9f3a"
             ],
             [
              0.8888888888888888,
              "#fdca26"
             ],
             [
              1.0,
              "#f0f921"
             ]
            ],
            "type": "contour"
           }
          ],
          "contourcarpet": [
           {
            "colorbar": {
             "outlinewidth": 0,
             "ticks": ""
            },
            "type": "contourcarpet"
           }
          ],
          "heatmap": [
           {
            "colorbar": {
             "outlinewidth": 0,
             "ticks": ""
            },
            "colorscale": [
             [
              0.0,
              "#0d0887"
             ],
             [
              0.1111111111111111,
              "#46039f"
             ],
             [
              0.2222222222222222,
              "#7201a8"
             ],
             [
              0.3333333333333333,
              "#9c179e"
             ],
             [
              0.4444444444444444,
              "#bd3786"
             ],
             [
              0.5555555555555556,
              "#d8576b"
             ],
             [
              0.6666666666666666,
              "#ed7953"
             ],
             [
              0.7777777777777778,
              "#fb9f3a"
             ],
             [
              0.8888888888888888,
              "#fdca26"
             ],
             [
              1.0,
              "#f0f921"
             ]
            ],
            "type": "heatmap"
           }
          ],
          "heatmapgl": [
           {
            "colorbar": {
             "outlinewidth": 0,
             "ticks": ""
            },
            "colorscale": [
             [
              0.0,
              "#0d0887"
             ],
             [
              0.1111111111111111,
              "#46039f"
             ],
             [
              0.2222222222222222,
              "#7201a8"
             ],
             [
              0.3333333333333333,
              "#9c179e"
             ],
             [
              0.4444444444444444,
              "#bd3786"
             ],
             [
              0.5555555555555556,
              "#d8576b"
             ],
             [
              0.6666666666666666,
              "#ed7953"
             ],
             [
              0.7777777777777778,
              "#fb9f3a"
             ],
             [
              0.8888888888888888,
              "#fdca26"
             ],
             [
              1.0,
              "#f0f921"
             ]
            ],
            "type": "heatmapgl"
           }
          ],
          "histogram": [
           {
            "marker": {
             "pattern": {
              "fillmode": "overlay",
              "size": 10,
              "solidity": 0.2
             }
            },
            "type": "histogram"
           }
          ],
          "histogram2d": [
           {
            "colorbar": {
             "outlinewidth": 0,
             "ticks": ""
            },
            "colorscale": [
             [
              0.0,
              "#0d0887"
             ],
             [
              0.1111111111111111,
              "#46039f"
             ],
             [
              0.2222222222222222,
              "#7201a8"
             ],
             [
              0.3333333333333333,
              "#9c179e"
             ],
             [
              0.4444444444444444,
              "#bd3786"
             ],
             [
              0.5555555555555556,
              "#d8576b"
             ],
             [
              0.6666666666666666,
              "#ed7953"
             ],
             [
              0.7777777777777778,
              "#fb9f3a"
             ],
             [
              0.8888888888888888,
              "#fdca26"
             ],
             [
              1.0,
              "#f0f921"
             ]
            ],
            "type": "histogram2d"
           }
          ],
          "histogram2dcontour": [
           {
            "colorbar": {
             "outlinewidth": 0,
             "ticks": ""
            },
            "colorscale": [
             [
              0.0,
              "#0d0887"
             ],
             [
              0.1111111111111111,
              "#46039f"
             ],
             [
              0.2222222222222222,
              "#7201a8"
             ],
             [
              0.3333333333333333,
              "#9c179e"
             ],
             [
              0.4444444444444444,
              "#bd3786"
             ],
             [
              0.5555555555555556,
              "#d8576b"
             ],
             [
              0.6666666666666666,
              "#ed7953"
             ],
             [
              0.7777777777777778,
              "#fb9f3a"
             ],
             [
              0.8888888888888888,
              "#fdca26"
             ],
             [
              1.0,
              "#f0f921"
             ]
            ],
            "type": "histogram2dcontour"
           }
          ],
          "mesh3d": [
           {
            "colorbar": {
             "outlinewidth": 0,
             "ticks": ""
            },
            "type": "mesh3d"
           }
          ],
          "parcoords": [
           {
            "line": {
             "colorbar": {
              "outlinewidth": 0,
              "ticks": ""
             }
            },
            "type": "parcoords"
           }
          ],
          "pie": [
           {
            "automargin": true,
            "type": "pie"
           }
          ],
          "scatter": [
           {
            "fillpattern": {
             "fillmode": "overlay",
             "size": 10,
             "solidity": 0.2
            },
            "type": "scatter"
           }
          ],
          "scatter3d": [
           {
            "line": {
             "colorbar": {
              "outlinewidth": 0,
              "ticks": ""
             }
            },
            "marker": {
             "colorbar": {
              "outlinewidth": 0,
              "ticks": ""
             }
            },
            "type": "scatter3d"
           }
          ],
          "scattercarpet": [
           {
            "marker": {
             "colorbar": {
              "outlinewidth": 0,
              "ticks": ""
             }
            },
            "type": "scattercarpet"
           }
          ],
          "scattergeo": [
           {
            "marker": {
             "colorbar": {
              "outlinewidth": 0,
              "ticks": ""
             }
            },
            "type": "scattergeo"
           }
          ],
          "scattergl": [
           {
            "marker": {
             "colorbar": {
              "outlinewidth": 0,
              "ticks": ""
             }
            },
            "type": "scattergl"
           }
          ],
          "scattermapbox": [
           {
            "marker": {
             "colorbar": {
              "outlinewidth": 0,
              "ticks": ""
             }
            },
            "type": "scattermapbox"
           }
          ],
          "scatterpolar": [
           {
            "marker": {
             "colorbar": {
              "outlinewidth": 0,
              "ticks": ""
             }
            },
            "type": "scatterpolar"
           }
          ],
          "scatterpolargl": [
           {
            "marker": {
             "colorbar": {
              "outlinewidth": 0,
              "ticks": ""
             }
            },
            "type": "scatterpolargl"
           }
          ],
          "scatterternary": [
           {
            "marker": {
             "colorbar": {
              "outlinewidth": 0,
              "ticks": ""
             }
            },
            "type": "scatterternary"
           }
          ],
          "surface": [
           {
            "colorbar": {
             "outlinewidth": 0,
             "ticks": ""
            },
            "colorscale": [
             [
              0.0,
              "#0d0887"
             ],
             [
              0.1111111111111111,
              "#46039f"
             ],
             [
              0.2222222222222222,
              "#7201a8"
             ],
             [
              0.3333333333333333,
              "#9c179e"
             ],
             [
              0.4444444444444444,
              "#bd3786"
             ],
             [
              0.5555555555555556,
              "#d8576b"
             ],
             [
              0.6666666666666666,
              "#ed7953"
             ],
             [
              0.7777777777777778,
              "#fb9f3a"
             ],
             [
              0.8888888888888888,
              "#fdca26"
             ],
             [
              1.0,
              "#f0f921"
             ]
            ],
            "type": "surface"
           }
          ],
          "table": [
           {
            "cells": {
             "fill": {
              "color": "#EBF0F8"
             },
             "line": {
              "color": "white"
             }
            },
            "header": {
             "fill": {
              "color": "#C8D4E3"
             },
             "line": {
              "color": "white"
             }
            },
            "type": "table"
           }
          ]
         },
         "layout": {
          "annotationdefaults": {
           "arrowcolor": "#2a3f5f",
           "arrowhead": 0,
           "arrowwidth": 1
          },
          "autotypenumbers": "strict",
          "coloraxis": {
           "colorbar": {
            "outlinewidth": 0,
            "ticks": ""
           }
          },
          "colorscale": {
           "diverging": [
            [
             0,
             "#8e0152"
            ],
            [
             0.1,
             "#c51b7d"
            ],
            [
             0.2,
             "#de77ae"
            ],
            [
             0.3,
             "#f1b6da"
            ],
            [
             0.4,
             "#fde0ef"
            ],
            [
             0.5,
             "#f7f7f7"
            ],
            [
             0.6,
             "#e6f5d0"
            ],
            [
             0.7,
             "#b8e186"
            ],
            [
             0.8,
             "#7fbc41"
            ],
            [
             0.9,
             "#4d9221"
            ],
            [
             1,
             "#276419"
            ]
           ],
           "sequential": [
            [
             0.0,
             "#0d0887"
            ],
            [
             0.1111111111111111,
             "#46039f"
            ],
            [
             0.2222222222222222,
             "#7201a8"
            ],
            [
             0.3333333333333333,
             "#9c179e"
            ],
            [
             0.4444444444444444,
             "#bd3786"
            ],
            [
             0.5555555555555556,
             "#d8576b"
            ],
            [
             0.6666666666666666,
             "#ed7953"
            ],
            [
             0.7777777777777778,
             "#fb9f3a"
            ],
            [
             0.8888888888888888,
             "#fdca26"
            ],
            [
             1.0,
             "#f0f921"
            ]
           ],
           "sequentialminus": [
            [
             0.0,
             "#0d0887"
            ],
            [
             0.1111111111111111,
             "#46039f"
            ],
            [
             0.2222222222222222,
             "#7201a8"
            ],
            [
             0.3333333333333333,
             "#9c179e"
            ],
            [
             0.4444444444444444,
             "#bd3786"
            ],
            [
             0.5555555555555556,
             "#d8576b"
            ],
            [
             0.6666666666666666,
             "#ed7953"
            ],
            [
             0.7777777777777778,
             "#fb9f3a"
            ],
            [
             0.8888888888888888,
             "#fdca26"
            ],
            [
             1.0,
             "#f0f921"
            ]
           ]
          },
          "colorway": [
           "#636efa",
           "#EF553B",
           "#00cc96",
           "#ab63fa",
           "#FFA15A",
           "#19d3f3",
           "#FF6692",
           "#B6E880",
           "#FF97FF",
           "#FECB52"
          ],
          "font": {
           "color": "#2a3f5f"
          },
          "geo": {
           "bgcolor": "white",
           "lakecolor": "white",
           "landcolor": "#E5ECF6",
           "showlakes": true,
           "showland": true,
           "subunitcolor": "white"
          },
          "hoverlabel": {
           "align": "left"
          },
          "hovermode": "closest",
          "mapbox": {
           "style": "light"
          },
          "paper_bgcolor": "white",
          "plot_bgcolor": "#E5ECF6",
          "polar": {
           "angularaxis": {
            "gridcolor": "white",
            "linecolor": "white",
            "ticks": ""
           },
           "bgcolor": "#E5ECF6",
           "radialaxis": {
            "gridcolor": "white",
            "linecolor": "white",
            "ticks": ""
           }
          },
          "scene": {
           "xaxis": {
            "backgroundcolor": "#E5ECF6",
            "gridcolor": "white",
            "gridwidth": 2,
            "linecolor": "white",
            "showbackground": true,
            "ticks": "",
            "zerolinecolor": "white"
           },
           "yaxis": {
            "backgroundcolor": "#E5ECF6",
            "gridcolor": "white",
            "gridwidth": 2,
            "linecolor": "white",
            "showbackground": true,
            "ticks": "",
            "zerolinecolor": "white"
           },
           "zaxis": {
            "backgroundcolor": "#E5ECF6",
            "gridcolor": "white",
            "gridwidth": 2,
            "linecolor": "white",
            "showbackground": true,
            "ticks": "",
            "zerolinecolor": "white"
           }
          },
          "shapedefaults": {
           "line": {
            "color": "#2a3f5f"
           }
          },
          "ternary": {
           "aaxis": {
            "gridcolor": "white",
            "linecolor": "white",
            "ticks": ""
           },
           "baxis": {
            "gridcolor": "white",
            "linecolor": "white",
            "ticks": ""
           },
           "bgcolor": "#E5ECF6",
           "caxis": {
            "gridcolor": "white",
            "linecolor": "white",
            "ticks": ""
           }
          },
          "title": {
           "x": 0.05
          },
          "xaxis": {
           "automargin": true,
           "gridcolor": "white",
           "linecolor": "white",
           "ticks": "",
           "title": {
            "standoff": 15
           },
           "zerolinecolor": "white",
           "zerolinewidth": 2
          },
          "yaxis": {
           "automargin": true,
           "gridcolor": "white",
           "linecolor": "white",
           "ticks": "",
           "title": {
            "standoff": 15
           },
           "zerolinecolor": "white",
           "zerolinewidth": 2
          }
         }
        },
        "title": {
         "text": "<b><i>Top 10 Data Science Jobs</i></b>",
         "x": 0.5,
         "xanchor": "center"
        },
        "width": 900,
        "xaxis": {
         "tickmode": "array",
         "title": {
          "text": "<b>Job Title</b>"
         }
        },
        "yaxis": {
         "title": {
          "text": "<b>Total</b>"
         }
        }
       }
      },
      "text/html": [
       "<div>                            <div id=\"b7860680-7f71-4cf5-b250-8393e30a752b\" class=\"plotly-graph-div\" style=\"height:600px; width:900px;\"></div>            <script type=\"text/javascript\">                require([\"plotly\"], function(Plotly) {                    window.PLOTLYENV=window.PLOTLYENV || {};                                    if (document.getElementById(\"b7860680-7f71-4cf5-b250-8393e30a752b\")) {                    Plotly.newPlot(                        \"b7860680-7f71-4cf5-b250-8393e30a752b\",                        [{\"marker\":{\"color\":[\"#003f5c\",\"#2f4b7c\",\"#665191\",\"#a05195\",\"#d45087\",\"#f95d6a\",\"#ff7c43\",\"#ffa600\"],\"line\":{\"color\":\"white\",\"width\":3},\"opacity\":0.9},\"text\":[143.0,132.0,97.0,41.0,16.0,12.0,11.0,8.0,8.0,7.0],\"textfont\":{\"color\":\"white\",\"size\":12},\"textposition\":\"inside\",\"x\":[\"Data Scientist\",\"Data Engineer\",\"Data Analyst\",\"Machine Learning Engineer\",\"Research Scientist\",\"Data Science Manager\",\"Data Architect\",\"Machine Learning Scientist\",\"Big Data Engineer\",\"Principal Data Scientist\"],\"y\":[143,132,97,41,16,12,11,8,8,7],\"type\":\"bar\"}],                        {\"height\":600,\"title\":{\"text\":\"<b><i>Top 10 Data Science Jobs</i></b>\",\"x\":0.5,\"xanchor\":\"center\"},\"width\":900,\"xaxis\":{\"tickmode\":\"array\",\"title\":{\"text\":\"<b>Job Title</b>\"}},\"yaxis\":{\"title\":{\"text\":\"<b>Total</b>\"}},\"template\":{\"data\":{\"histogram2dcontour\":[{\"type\":\"histogram2dcontour\",\"colorbar\":{\"outlinewidth\":0,\"ticks\":\"\"},\"colorscale\":[[0.0,\"#0d0887\"],[0.1111111111111111,\"#46039f\"],[0.2222222222222222,\"#7201a8\"],[0.3333333333333333,\"#9c179e\"],[0.4444444444444444,\"#bd3786\"],[0.5555555555555556,\"#d8576b\"],[0.6666666666666666,\"#ed7953\"],[0.7777777777777778,\"#fb9f3a\"],[0.8888888888888888,\"#fdca26\"],[1.0,\"#f0f921\"]]}],\"choropleth\":[{\"type\":\"choropleth\",\"colorbar\":{\"outlinewidth\":0,\"ticks\":\"\"}}],\"histogram2d\":[{\"type\":\"histogram2d\",\"colorbar\":{\"outlinewidth\":0,\"ticks\":\"\"},\"colorscale\":[[0.0,\"#0d0887\"],[0.1111111111111111,\"#46039f\"],[0.2222222222222222,\"#7201a8\"],[0.3333333333333333,\"#9c179e\"],[0.4444444444444444,\"#bd3786\"],[0.5555555555555556,\"#d8576b\"],[0.6666666666666666,\"#ed7953\"],[0.7777777777777778,\"#fb9f3a\"],[0.8888888888888888,\"#fdca26\"],[1.0,\"#f0f921\"]]}],\"heatmap\":[{\"type\":\"heatmap\",\"colorbar\":{\"outlinewidth\":0,\"ticks\":\"\"},\"colorscale\":[[0.0,\"#0d0887\"],[0.1111111111111111,\"#46039f\"],[0.2222222222222222,\"#7201a8\"],[0.3333333333333333,\"#9c179e\"],[0.4444444444444444,\"#bd3786\"],[0.5555555555555556,\"#d8576b\"],[0.6666666666666666,\"#ed7953\"],[0.7777777777777778,\"#fb9f3a\"],[0.8888888888888888,\"#fdca26\"],[1.0,\"#f0f921\"]]}],\"heatmapgl\":[{\"type\":\"heatmapgl\",\"colorbar\":{\"outlinewidth\":0,\"ticks\":\"\"},\"colorscale\":[[0.0,\"#0d0887\"],[0.1111111111111111,\"#46039f\"],[0.2222222222222222,\"#7201a8\"],[0.3333333333333333,\"#9c179e\"],[0.4444444444444444,\"#bd3786\"],[0.5555555555555556,\"#d8576b\"],[0.6666666666666666,\"#ed7953\"],[0.7777777777777778,\"#fb9f3a\"],[0.8888888888888888,\"#fdca26\"],[1.0,\"#f0f921\"]]}],\"contourcarpet\":[{\"type\":\"contourcarpet\",\"colorbar\":{\"outlinewidth\":0,\"ticks\":\"\"}}],\"contour\":[{\"type\":\"contour\",\"colorbar\":{\"outlinewidth\":0,\"ticks\":\"\"},\"colorscale\":[[0.0,\"#0d0887\"],[0.1111111111111111,\"#46039f\"],[0.2222222222222222,\"#7201a8\"],[0.3333333333333333,\"#9c179e\"],[0.4444444444444444,\"#bd3786\"],[0.5555555555555556,\"#d8576b\"],[0.6666666666666666,\"#ed7953\"],[0.7777777777777778,\"#fb9f3a\"],[0.8888888888888888,\"#fdca26\"],[1.0,\"#f0f921\"]]}],\"surface\":[{\"type\":\"surface\",\"colorbar\":{\"outlinewidth\":0,\"ticks\":\"\"},\"colorscale\":[[0.0,\"#0d0887\"],[0.1111111111111111,\"#46039f\"],[0.2222222222222222,\"#7201a8\"],[0.3333333333333333,\"#9c179e\"],[0.4444444444444444,\"#bd3786\"],[0.5555555555555556,\"#d8576b\"],[0.6666666666666666,\"#ed7953\"],[0.7777777777777778,\"#fb9f3a\"],[0.8888888888888888,\"#fdca26\"],[1.0,\"#f0f921\"]]}],\"mesh3d\":[{\"type\":\"mesh3d\",\"colorbar\":{\"outlinewidth\":0,\"ticks\":\"\"}}],\"scatter\":[{\"fillpattern\":{\"fillmode\":\"overlay\",\"size\":10,\"solidity\":0.2},\"type\":\"scatter\"}],\"parcoords\":[{\"type\":\"parcoords\",\"line\":{\"colorbar\":{\"outlinewidth\":0,\"ticks\":\"\"}}}],\"scatterpolargl\":[{\"type\":\"scatterpolargl\",\"marker\":{\"colorbar\":{\"outlinewidth\":0,\"ticks\":\"\"}}}],\"bar\":[{\"error_x\":{\"color\":\"#2a3f5f\"},\"error_y\":{\"color\":\"#2a3f5f\"},\"marker\":{\"line\":{\"color\":\"#E5ECF6\",\"width\":0.5},\"pattern\":{\"fillmode\":\"overlay\",\"size\":10,\"solidity\":0.2}},\"type\":\"bar\"}],\"scattergeo\":[{\"type\":\"scattergeo\",\"marker\":{\"colorbar\":{\"outlinewidth\":0,\"ticks\":\"\"}}}],\"scatterpolar\":[{\"type\":\"scatterpolar\",\"marker\":{\"colorbar\":{\"outlinewidth\":0,\"ticks\":\"\"}}}],\"histogram\":[{\"marker\":{\"pattern\":{\"fillmode\":\"overlay\",\"size\":10,\"solidity\":0.2}},\"type\":\"histogram\"}],\"scattergl\":[{\"type\":\"scattergl\",\"marker\":{\"colorbar\":{\"outlinewidth\":0,\"ticks\":\"\"}}}],\"scatter3d\":[{\"type\":\"scatter3d\",\"line\":{\"colorbar\":{\"outlinewidth\":0,\"ticks\":\"\"}},\"marker\":{\"colorbar\":{\"outlinewidth\":0,\"ticks\":\"\"}}}],\"scattermapbox\":[{\"type\":\"scattermapbox\",\"marker\":{\"colorbar\":{\"outlinewidth\":0,\"ticks\":\"\"}}}],\"scatterternary\":[{\"type\":\"scatterternary\",\"marker\":{\"colorbar\":{\"outlinewidth\":0,\"ticks\":\"\"}}}],\"scattercarpet\":[{\"type\":\"scattercarpet\",\"marker\":{\"colorbar\":{\"outlinewidth\":0,\"ticks\":\"\"}}}],\"carpet\":[{\"aaxis\":{\"endlinecolor\":\"#2a3f5f\",\"gridcolor\":\"white\",\"linecolor\":\"white\",\"minorgridcolor\":\"white\",\"startlinecolor\":\"#2a3f5f\"},\"baxis\":{\"endlinecolor\":\"#2a3f5f\",\"gridcolor\":\"white\",\"linecolor\":\"white\",\"minorgridcolor\":\"white\",\"startlinecolor\":\"#2a3f5f\"},\"type\":\"carpet\"}],\"table\":[{\"cells\":{\"fill\":{\"color\":\"#EBF0F8\"},\"line\":{\"color\":\"white\"}},\"header\":{\"fill\":{\"color\":\"#C8D4E3\"},\"line\":{\"color\":\"white\"}},\"type\":\"table\"}],\"barpolar\":[{\"marker\":{\"line\":{\"color\":\"#E5ECF6\",\"width\":0.5},\"pattern\":{\"fillmode\":\"overlay\",\"size\":10,\"solidity\":0.2}},\"type\":\"barpolar\"}],\"pie\":[{\"automargin\":true,\"type\":\"pie\"}]},\"layout\":{\"autotypenumbers\":\"strict\",\"colorway\":[\"#636efa\",\"#EF553B\",\"#00cc96\",\"#ab63fa\",\"#FFA15A\",\"#19d3f3\",\"#FF6692\",\"#B6E880\",\"#FF97FF\",\"#FECB52\"],\"font\":{\"color\":\"#2a3f5f\"},\"hovermode\":\"closest\",\"hoverlabel\":{\"align\":\"left\"},\"paper_bgcolor\":\"white\",\"plot_bgcolor\":\"#E5ECF6\",\"polar\":{\"bgcolor\":\"#E5ECF6\",\"angularaxis\":{\"gridcolor\":\"white\",\"linecolor\":\"white\",\"ticks\":\"\"},\"radialaxis\":{\"gridcolor\":\"white\",\"linecolor\":\"white\",\"ticks\":\"\"}},\"ternary\":{\"bgcolor\":\"#E5ECF6\",\"aaxis\":{\"gridcolor\":\"white\",\"linecolor\":\"white\",\"ticks\":\"\"},\"baxis\":{\"gridcolor\":\"white\",\"linecolor\":\"white\",\"ticks\":\"\"},\"caxis\":{\"gridcolor\":\"white\",\"linecolor\":\"white\",\"ticks\":\"\"}},\"coloraxis\":{\"colorbar\":{\"outlinewidth\":0,\"ticks\":\"\"}},\"colorscale\":{\"sequential\":[[0.0,\"#0d0887\"],[0.1111111111111111,\"#46039f\"],[0.2222222222222222,\"#7201a8\"],[0.3333333333333333,\"#9c179e\"],[0.4444444444444444,\"#bd3786\"],[0.5555555555555556,\"#d8576b\"],[0.6666666666666666,\"#ed7953\"],[0.7777777777777778,\"#fb9f3a\"],[0.8888888888888888,\"#fdca26\"],[1.0,\"#f0f921\"]],\"sequentialminus\":[[0.0,\"#0d0887\"],[0.1111111111111111,\"#46039f\"],[0.2222222222222222,\"#7201a8\"],[0.3333333333333333,\"#9c179e\"],[0.4444444444444444,\"#bd3786\"],[0.5555555555555556,\"#d8576b\"],[0.6666666666666666,\"#ed7953\"],[0.7777777777777778,\"#fb9f3a\"],[0.8888888888888888,\"#fdca26\"],[1.0,\"#f0f921\"]],\"diverging\":[[0,\"#8e0152\"],[0.1,\"#c51b7d\"],[0.2,\"#de77ae\"],[0.3,\"#f1b6da\"],[0.4,\"#fde0ef\"],[0.5,\"#f7f7f7\"],[0.6,\"#e6f5d0\"],[0.7,\"#b8e186\"],[0.8,\"#7fbc41\"],[0.9,\"#4d9221\"],[1,\"#276419\"]]},\"xaxis\":{\"gridcolor\":\"white\",\"linecolor\":\"white\",\"ticks\":\"\",\"title\":{\"standoff\":15},\"zerolinecolor\":\"white\",\"automargin\":true,\"zerolinewidth\":2},\"yaxis\":{\"gridcolor\":\"white\",\"linecolor\":\"white\",\"ticks\":\"\",\"title\":{\"standoff\":15},\"zerolinecolor\":\"white\",\"automargin\":true,\"zerolinewidth\":2},\"scene\":{\"xaxis\":{\"backgroundcolor\":\"#E5ECF6\",\"gridcolor\":\"white\",\"linecolor\":\"white\",\"showbackground\":true,\"ticks\":\"\",\"zerolinecolor\":\"white\",\"gridwidth\":2},\"yaxis\":{\"backgroundcolor\":\"#E5ECF6\",\"gridcolor\":\"white\",\"linecolor\":\"white\",\"showbackground\":true,\"ticks\":\"\",\"zerolinecolor\":\"white\",\"gridwidth\":2},\"zaxis\":{\"backgroundcolor\":\"#E5ECF6\",\"gridcolor\":\"white\",\"linecolor\":\"white\",\"showbackground\":true,\"ticks\":\"\",\"zerolinecolor\":\"white\",\"gridwidth\":2}},\"shapedefaults\":{\"line\":{\"color\":\"#2a3f5f\"}},\"annotationdefaults\":{\"arrowcolor\":\"#2a3f5f\",\"arrowhead\":0,\"arrowwidth\":1},\"geo\":{\"bgcolor\":\"white\",\"landcolor\":\"#E5ECF6\",\"subunitcolor\":\"white\",\"showland\":true,\"showlakes\":true,\"lakecolor\":\"white\"},\"title\":{\"x\":0.05},\"mapbox\":{\"style\":\"light\"}}},\"plot_bgcolor\":\"#f1e7d2\",\"paper_bgcolor\":\"#f1e7d2\"},                        {\"responsive\": true}                    ).then(function(){\n",
       "                            \n",
       "var gd = document.getElementById('b7860680-7f71-4cf5-b250-8393e30a752b');\n",
       "var x = new MutationObserver(function (mutations, observer) {{\n",
       "        var display = window.getComputedStyle(gd).display;\n",
       "        if (!display || display === 'none') {{\n",
       "            console.log([gd, 'removed!']);\n",
       "            Plotly.purge(gd);\n",
       "            observer.disconnect();\n",
       "        }}\n",
       "}});\n",
       "\n",
       "// Listen for the removal of the full notebook cells\n",
       "var notebookContainer = gd.closest('#notebook-container');\n",
       "if (notebookContainer) {{\n",
       "    x.observe(notebookContainer, {childList: true});\n",
       "}}\n",
       "\n",
       "// Listen for the clearing of the current output cell\n",
       "var outputEl = gd.closest('.output');\n",
       "if (outputEl) {{\n",
       "    x.observe(outputEl, {childList: true});\n",
       "}}\n",
       "\n",
       "                        })                };                });            </script>        </div>"
      ]
     },
     "metadata": {},
     "output_type": "display_data"
    }
   ],
   "source": [
    "data =  go.Bar(x = top10_jobs['job_title'], y = top10_jobs['job_count'],text = top10_jobs['job_count'], textposition ='inside',\n",
    "              textfont = dict(size = 12,\n",
    "                             color = 'white'),\n",
    "                    marker = dict(color = colors,\n",
    "                    opacity = 0.9,\n",
    "                    line_color = 'white',\n",
    "                    line_width = 3))\n",
    "layout = go.Layout(title = {'text': \"<b><i>Top 10 Data Science Jobs</i></b>\",\n",
    "                           'x':0.5,\n",
    "                           'xanchor': 'center'},\n",
    "                   xaxis = dict(title='<b>Job Title</b>', tickmode = 'array'),\n",
    "                   yaxis =dict(title='<b>Total</b>'),\n",
    "                   width = 900,\n",
    "                   height = 600)\n",
    "fig = go.Figure(data = data, layout = layout)\n",
    "fig.update_layout(plot_bgcolor = '#f1e7d2', \n",
    "                  paper_bgcolor = '#f1e7d2') \n",
    "#fig.update_xaxes(tickvals=['Data Scientist', 'Data Engineer', 'Data Analyst', 'Machine Learning Engineer', 'Research Scientist',\n",
    "#                          'Data Science Manager', 'Data Architect', 'Machine Learning Scientist','Big Data Engineer', \n",
    "#                           'Principal Data Scientist'])\n",
    "fig.show()"
   ]
  },
  {
   "cell_type": "markdown",
   "id": "79860842",
   "metadata": {
    "papermill": {
     "duration": 0.02128,
     "end_time": "2022-10-23T19:09:58.988746",
     "exception": false,
     "start_time": "2022-10-23T19:09:58.967466",
     "status": "completed"
    },
    "tags": []
   },
   "source": [
    "<div class=\"alert alert-block alert-info\">\n",
    "<b>Insights:</b><br> The most jobs are available in data science is <b>Data Scientist</b> followed by <b>Data Engineer</b> & <b>Data Analyst</b>.\n",
    "</div>"
   ]
  },
  {
   "cell_type": "markdown",
   "id": "63a72576",
   "metadata": {
    "papermill": {
     "duration": 0.021753,
     "end_time": "2022-10-23T19:09:59.035247",
     "exception": false,
     "start_time": "2022-10-23T19:09:59.013494",
     "status": "completed"
    },
    "tags": []
   },
   "source": [
    "<a id=\"4\"></a>\n",
    "## <div style=\"text-align: left; background-color:#f1e7d2 ; font-family: Trebuchet MS; color: #7B3F00; padding: 15px; line-height:1;border-radius:1px; margin-bottom: 0em; text-align: center; font-size: 25px;border-style: solid;border-color: dark green;\">4.2 Data Science  on Company Location </div> "
   ]
  },
  {
   "cell_type": "code",
   "execution_count": 12,
   "id": "41792042",
   "metadata": {
    "execution": {
     "iopub.execute_input": "2022-10-23T19:09:59.081992Z",
     "iopub.status.busy": "2022-10-23T19:09:59.081324Z",
     "iopub.status.idle": "2022-10-23T19:09:59.156701Z",
     "shell.execute_reply": "2022-10-23T19:09:59.155671Z"
    },
    "papermill": {
     "duration": 0.101535,
     "end_time": "2022-10-23T19:09:59.159524",
     "exception": false,
     "start_time": "2022-10-23T19:09:59.057989",
     "status": "completed"
    },
    "tags": []
   },
   "outputs": [
    {
     "data": {
      "text/html": [
       "<div>\n",
       "<style scoped>\n",
       "    .dataframe tbody tr th:only-of-type {\n",
       "        vertical-align: middle;\n",
       "    }\n",
       "\n",
       "    .dataframe tbody tr th {\n",
       "        vertical-align: top;\n",
       "    }\n",
       "\n",
       "    .dataframe thead th {\n",
       "        text-align: right;\n",
       "    }\n",
       "</style>\n",
       "<table border=\"1\" class=\"dataframe\">\n",
       "  <thead>\n",
       "    <tr style=\"text-align: right;\">\n",
       "      <th></th>\n",
       "      <th>company</th>\n",
       "      <th>job_count</th>\n",
       "    </tr>\n",
       "  </thead>\n",
       "  <tbody>\n",
       "    <tr>\n",
       "      <th>0</th>\n",
       "      <td>United States</td>\n",
       "      <td>355</td>\n",
       "    </tr>\n",
       "    <tr>\n",
       "      <th>1</th>\n",
       "      <td>United Kingdom</td>\n",
       "      <td>47</td>\n",
       "    </tr>\n",
       "    <tr>\n",
       "      <th>2</th>\n",
       "      <td>Canada</td>\n",
       "      <td>30</td>\n",
       "    </tr>\n",
       "    <tr>\n",
       "      <th>3</th>\n",
       "      <td>Germany</td>\n",
       "      <td>28</td>\n",
       "    </tr>\n",
       "    <tr>\n",
       "      <th>4</th>\n",
       "      <td>India</td>\n",
       "      <td>24</td>\n",
       "    </tr>\n",
       "    <tr>\n",
       "      <th>5</th>\n",
       "      <td>France</td>\n",
       "      <td>15</td>\n",
       "    </tr>\n",
       "    <tr>\n",
       "      <th>6</th>\n",
       "      <td>Spain</td>\n",
       "      <td>14</td>\n",
       "    </tr>\n",
       "    <tr>\n",
       "      <th>7</th>\n",
       "      <td>Greece</td>\n",
       "      <td>11</td>\n",
       "    </tr>\n",
       "    <tr>\n",
       "      <th>8</th>\n",
       "      <td>Japan</td>\n",
       "      <td>6</td>\n",
       "    </tr>\n",
       "    <tr>\n",
       "      <th>9</th>\n",
       "      <td>Portugal</td>\n",
       "      <td>4</td>\n",
       "    </tr>\n",
       "  </tbody>\n",
       "</table>\n",
       "</div>"
      ],
      "text/plain": [
       "          company  job_count\n",
       "0   United States        355\n",
       "1  United Kingdom         47\n",
       "2          Canada         30\n",
       "3         Germany         28\n",
       "4           India         24\n",
       "5          France         15\n",
       "6           Spain         14\n",
       "7          Greece         11\n",
       "8           Japan          6\n",
       "9        Portugal          4"
      ]
     },
     "execution_count": 12,
     "metadata": {},
     "output_type": "execute_result"
    }
   ],
   "source": [
    "top10_contr = query(\"\"\"SELECT company_location AS company,\n",
    "                              Count(*)         AS job_count\n",
    "                       FROM   salaries\n",
    "                       GROUP  BY company\n",
    "                       ORDER  BY job_count DESC\n",
    "                       LIMIT  10\"\"\")\n",
    "top10_contr"
   ]
  },
  {
   "cell_type": "code",
   "execution_count": 13,
   "id": "5f42371a",
   "metadata": {
    "execution": {
     "iopub.execute_input": "2022-10-23T19:09:59.205122Z",
     "iopub.status.busy": "2022-10-23T19:09:59.204704Z",
     "iopub.status.idle": "2022-10-23T19:09:59.225134Z",
     "shell.execute_reply": "2022-10-23T19:09:59.224187Z"
    },
    "papermill": {
     "duration": 0.045958,
     "end_time": "2022-10-23T19:09:59.227448",
     "exception": false,
     "start_time": "2022-10-23T19:09:59.181490",
     "status": "completed"
    },
    "tags": []
   },
   "outputs": [
    {
     "data": {
      "application/vnd.plotly.v1+json": {
       "config": {
        "plotlyServerURL": "https://plot.ly"
       },
       "data": [
        {
         "marker": {
          "color": [
           "#003f5c",
           "#2f4b7c",
           "#665191",
           "#a05195",
           "#d45087",
           "#f95d6a",
           "#ff7c43",
           "#ffa600"
          ],
          "line": {
           "color": "black",
           "width": 2
          },
          "opacity": 0.9
         },
         "type": "bar",
         "x": [
          "United States",
          "United Kingdom",
          "Canada",
          "Germany",
          "India",
          "France",
          "Spain",
          "Greece",
          "Japan",
          "Portugal"
         ],
         "y": [
          355,
          47,
          30,
          28,
          24,
          15,
          14,
          11,
          6,
          4
         ]
        }
       ],
       "layout": {
        "height": 600,
        "paper_bgcolor": "#f1e7d2",
        "plot_bgcolor": "#f1e7d2",
        "template": {
         "data": {
          "bar": [
           {
            "error_x": {
             "color": "#2a3f5f"
            },
            "error_y": {
             "color": "#2a3f5f"
            },
            "marker": {
             "line": {
              "color": "#E5ECF6",
              "width": 0.5
             },
             "pattern": {
              "fillmode": "overlay",
              "size": 10,
              "solidity": 0.2
             }
            },
            "type": "bar"
           }
          ],
          "barpolar": [
           {
            "marker": {
             "line": {
              "color": "#E5ECF6",
              "width": 0.5
             },
             "pattern": {
              "fillmode": "overlay",
              "size": 10,
              "solidity": 0.2
             }
            },
            "type": "barpolar"
           }
          ],
          "carpet": [
           {
            "aaxis": {
             "endlinecolor": "#2a3f5f",
             "gridcolor": "white",
             "linecolor": "white",
             "minorgridcolor": "white",
             "startlinecolor": "#2a3f5f"
            },
            "baxis": {
             "endlinecolor": "#2a3f5f",
             "gridcolor": "white",
             "linecolor": "white",
             "minorgridcolor": "white",
             "startlinecolor": "#2a3f5f"
            },
            "type": "carpet"
           }
          ],
          "choropleth": [
           {
            "colorbar": {
             "outlinewidth": 0,
             "ticks": ""
            },
            "type": "choropleth"
           }
          ],
          "contour": [
           {
            "colorbar": {
             "outlinewidth": 0,
             "ticks": ""
            },
            "colorscale": [
             [
              0.0,
              "#0d0887"
             ],
             [
              0.1111111111111111,
              "#46039f"
             ],
             [
              0.2222222222222222,
              "#7201a8"
             ],
             [
              0.3333333333333333,
              "#9c179e"
             ],
             [
              0.4444444444444444,
              "#bd3786"
             ],
             [
              0.5555555555555556,
              "#d8576b"
             ],
             [
              0.6666666666666666,
              "#ed7953"
             ],
             [
              0.7777777777777778,
              "#fb9f3a"
             ],
             [
              0.8888888888888888,
              "#fdca26"
             ],
             [
              1.0,
              "#f0f921"
             ]
            ],
            "type": "contour"
           }
          ],
          "contourcarpet": [
           {
            "colorbar": {
             "outlinewidth": 0,
             "ticks": ""
            },
            "type": "contourcarpet"
           }
          ],
          "heatmap": [
           {
            "colorbar": {
             "outlinewidth": 0,
             "ticks": ""
            },
            "colorscale": [
             [
              0.0,
              "#0d0887"
             ],
             [
              0.1111111111111111,
              "#46039f"
             ],
             [
              0.2222222222222222,
              "#7201a8"
             ],
             [
              0.3333333333333333,
              "#9c179e"
             ],
             [
              0.4444444444444444,
              "#bd3786"
             ],
             [
              0.5555555555555556,
              "#d8576b"
             ],
             [
              0.6666666666666666,
              "#ed7953"
             ],
             [
              0.7777777777777778,
              "#fb9f3a"
             ],
             [
              0.8888888888888888,
              "#fdca26"
             ],
             [
              1.0,
              "#f0f921"
             ]
            ],
            "type": "heatmap"
           }
          ],
          "heatmapgl": [
           {
            "colorbar": {
             "outlinewidth": 0,
             "ticks": ""
            },
            "colorscale": [
             [
              0.0,
              "#0d0887"
             ],
             [
              0.1111111111111111,
              "#46039f"
             ],
             [
              0.2222222222222222,
              "#7201a8"
             ],
             [
              0.3333333333333333,
              "#9c179e"
             ],
             [
              0.4444444444444444,
              "#bd3786"
             ],
             [
              0.5555555555555556,
              "#d8576b"
             ],
             [
              0.6666666666666666,
              "#ed7953"
             ],
             [
              0.7777777777777778,
              "#fb9f3a"
             ],
             [
              0.8888888888888888,
              "#fdca26"
             ],
             [
              1.0,
              "#f0f921"
             ]
            ],
            "type": "heatmapgl"
           }
          ],
          "histogram": [
           {
            "marker": {
             "pattern": {
              "fillmode": "overlay",
              "size": 10,
              "solidity": 0.2
             }
            },
            "type": "histogram"
           }
          ],
          "histogram2d": [
           {
            "colorbar": {
             "outlinewidth": 0,
             "ticks": ""
            },
            "colorscale": [
             [
              0.0,
              "#0d0887"
             ],
             [
              0.1111111111111111,
              "#46039f"
             ],
             [
              0.2222222222222222,
              "#7201a8"
             ],
             [
              0.3333333333333333,
              "#9c179e"
             ],
             [
              0.4444444444444444,
              "#bd3786"
             ],
             [
              0.5555555555555556,
              "#d8576b"
             ],
             [
              0.6666666666666666,
              "#ed7953"
             ],
             [
              0.7777777777777778,
              "#fb9f3a"
             ],
             [
              0.8888888888888888,
              "#fdca26"
             ],
             [
              1.0,
              "#f0f921"
             ]
            ],
            "type": "histogram2d"
           }
          ],
          "histogram2dcontour": [
           {
            "colorbar": {
             "outlinewidth": 0,
             "ticks": ""
            },
            "colorscale": [
             [
              0.0,
              "#0d0887"
             ],
             [
              0.1111111111111111,
              "#46039f"
             ],
             [
              0.2222222222222222,
              "#7201a8"
             ],
             [
              0.3333333333333333,
              "#9c179e"
             ],
             [
              0.4444444444444444,
              "#bd3786"
             ],
             [
              0.5555555555555556,
              "#d8576b"
             ],
             [
              0.6666666666666666,
              "#ed7953"
             ],
             [
              0.7777777777777778,
              "#fb9f3a"
             ],
             [
              0.8888888888888888,
              "#fdca26"
             ],
             [
              1.0,
              "#f0f921"
             ]
            ],
            "type": "histogram2dcontour"
           }
          ],
          "mesh3d": [
           {
            "colorbar": {
             "outlinewidth": 0,
             "ticks": ""
            },
            "type": "mesh3d"
           }
          ],
          "parcoords": [
           {
            "line": {
             "colorbar": {
              "outlinewidth": 0,
              "ticks": ""
             }
            },
            "type": "parcoords"
           }
          ],
          "pie": [
           {
            "automargin": true,
            "type": "pie"
           }
          ],
          "scatter": [
           {
            "fillpattern": {
             "fillmode": "overlay",
             "size": 10,
             "solidity": 0.2
            },
            "type": "scatter"
           }
          ],
          "scatter3d": [
           {
            "line": {
             "colorbar": {
              "outlinewidth": 0,
              "ticks": ""
             }
            },
            "marker": {
             "colorbar": {
              "outlinewidth": 0,
              "ticks": ""
             }
            },
            "type": "scatter3d"
           }
          ],
          "scattercarpet": [
           {
            "marker": {
             "colorbar": {
              "outlinewidth": 0,
              "ticks": ""
             }
            },
            "type": "scattercarpet"
           }
          ],
          "scattergeo": [
           {
            "marker": {
             "colorbar": {
              "outlinewidth": 0,
              "ticks": ""
             }
            },
            "type": "scattergeo"
           }
          ],
          "scattergl": [
           {
            "marker": {
             "colorbar": {
              "outlinewidth": 0,
              "ticks": ""
             }
            },
            "type": "scattergl"
           }
          ],
          "scattermapbox": [
           {
            "marker": {
             "colorbar": {
              "outlinewidth": 0,
              "ticks": ""
             }
            },
            "type": "scattermapbox"
           }
          ],
          "scatterpolar": [
           {
            "marker": {
             "colorbar": {
              "outlinewidth": 0,
              "ticks": ""
             }
            },
            "type": "scatterpolar"
           }
          ],
          "scatterpolargl": [
           {
            "marker": {
             "colorbar": {
              "outlinewidth": 0,
              "ticks": ""
             }
            },
            "type": "scatterpolargl"
           }
          ],
          "scatterternary": [
           {
            "marker": {
             "colorbar": {
              "outlinewidth": 0,
              "ticks": ""
             }
            },
            "type": "scatterternary"
           }
          ],
          "surface": [
           {
            "colorbar": {
             "outlinewidth": 0,
             "ticks": ""
            },
            "colorscale": [
             [
              0.0,
              "#0d0887"
             ],
             [
              0.1111111111111111,
              "#46039f"
             ],
             [
              0.2222222222222222,
              "#7201a8"
             ],
             [
              0.3333333333333333,
              "#9c179e"
             ],
             [
              0.4444444444444444,
              "#bd3786"
             ],
             [
              0.5555555555555556,
              "#d8576b"
             ],
             [
              0.6666666666666666,
              "#ed7953"
             ],
             [
              0.7777777777777778,
              "#fb9f3a"
             ],
             [
              0.8888888888888888,
              "#fdca26"
             ],
             [
              1.0,
              "#f0f921"
             ]
            ],
            "type": "surface"
           }
          ],
          "table": [
           {
            "cells": {
             "fill": {
              "color": "#EBF0F8"
             },
             "line": {
              "color": "white"
             }
            },
            "header": {
             "fill": {
              "color": "#C8D4E3"
             },
             "line": {
              "color": "white"
             }
            },
            "type": "table"
           }
          ]
         },
         "layout": {
          "annotationdefaults": {
           "arrowcolor": "#2a3f5f",
           "arrowhead": 0,
           "arrowwidth": 1
          },
          "autotypenumbers": "strict",
          "coloraxis": {
           "colorbar": {
            "outlinewidth": 0,
            "ticks": ""
           }
          },
          "colorscale": {
           "diverging": [
            [
             0,
             "#8e0152"
            ],
            [
             0.1,
             "#c51b7d"
            ],
            [
             0.2,
             "#de77ae"
            ],
            [
             0.3,
             "#f1b6da"
            ],
            [
             0.4,
             "#fde0ef"
            ],
            [
             0.5,
             "#f7f7f7"
            ],
            [
             0.6,
             "#e6f5d0"
            ],
            [
             0.7,
             "#b8e186"
            ],
            [
             0.8,
             "#7fbc41"
            ],
            [
             0.9,
             "#4d9221"
            ],
            [
             1,
             "#276419"
            ]
           ],
           "sequential": [
            [
             0.0,
             "#0d0887"
            ],
            [
             0.1111111111111111,
             "#46039f"
            ],
            [
             0.2222222222222222,
             "#7201a8"
            ],
            [
             0.3333333333333333,
             "#9c179e"
            ],
            [
             0.4444444444444444,
             "#bd3786"
            ],
            [
             0.5555555555555556,
             "#d8576b"
            ],
            [
             0.6666666666666666,
             "#ed7953"
            ],
            [
             0.7777777777777778,
             "#fb9f3a"
            ],
            [
             0.8888888888888888,
             "#fdca26"
            ],
            [
             1.0,
             "#f0f921"
            ]
           ],
           "sequentialminus": [
            [
             0.0,
             "#0d0887"
            ],
            [
             0.1111111111111111,
             "#46039f"
            ],
            [
             0.2222222222222222,
             "#7201a8"
            ],
            [
             0.3333333333333333,
             "#9c179e"
            ],
            [
             0.4444444444444444,
             "#bd3786"
            ],
            [
             0.5555555555555556,
             "#d8576b"
            ],
            [
             0.6666666666666666,
             "#ed7953"
            ],
            [
             0.7777777777777778,
             "#fb9f3a"
            ],
            [
             0.8888888888888888,
             "#fdca26"
            ],
            [
             1.0,
             "#f0f921"
            ]
           ]
          },
          "colorway": [
           "#636efa",
           "#EF553B",
           "#00cc96",
           "#ab63fa",
           "#FFA15A",
           "#19d3f3",
           "#FF6692",
           "#B6E880",
           "#FF97FF",
           "#FECB52"
          ],
          "font": {
           "color": "#2a3f5f"
          },
          "geo": {
           "bgcolor": "white",
           "lakecolor": "white",
           "landcolor": "#E5ECF6",
           "showlakes": true,
           "showland": true,
           "subunitcolor": "white"
          },
          "hoverlabel": {
           "align": "left"
          },
          "hovermode": "closest",
          "mapbox": {
           "style": "light"
          },
          "paper_bgcolor": "white",
          "plot_bgcolor": "#E5ECF6",
          "polar": {
           "angularaxis": {
            "gridcolor": "white",
            "linecolor": "white",
            "ticks": ""
           },
           "bgcolor": "#E5ECF6",
           "radialaxis": {
            "gridcolor": "white",
            "linecolor": "white",
            "ticks": ""
           }
          },
          "scene": {
           "xaxis": {
            "backgroundcolor": "#E5ECF6",
            "gridcolor": "white",
            "gridwidth": 2,
            "linecolor": "white",
            "showbackground": true,
            "ticks": "",
            "zerolinecolor": "white"
           },
           "yaxis": {
            "backgroundcolor": "#E5ECF6",
            "gridcolor": "white",
            "gridwidth": 2,
            "linecolor": "white",
            "showbackground": true,
            "ticks": "",
            "zerolinecolor": "white"
           },
           "zaxis": {
            "backgroundcolor": "#E5ECF6",
            "gridcolor": "white",
            "gridwidth": 2,
            "linecolor": "white",
            "showbackground": true,
            "ticks": "",
            "zerolinecolor": "white"
           }
          },
          "shapedefaults": {
           "line": {
            "color": "#2a3f5f"
           }
          },
          "ternary": {
           "aaxis": {
            "gridcolor": "white",
            "linecolor": "white",
            "ticks": ""
           },
           "baxis": {
            "gridcolor": "white",
            "linecolor": "white",
            "ticks": ""
           },
           "bgcolor": "#E5ECF6",
           "caxis": {
            "gridcolor": "white",
            "linecolor": "white",
            "ticks": ""
           }
          },
          "title": {
           "x": 0.05
          },
          "xaxis": {
           "automargin": true,
           "gridcolor": "white",
           "linecolor": "white",
           "ticks": "",
           "title": {
            "standoff": 15
           },
           "zerolinecolor": "white",
           "zerolinewidth": 2
          },
          "yaxis": {
           "automargin": true,
           "gridcolor": "white",
           "linecolor": "white",
           "ticks": "",
           "title": {
            "standoff": 15
           },
           "zerolinecolor": "white",
           "zerolinewidth": 2
          }
         }
        },
        "title": {
         "text": "<b><i>Top 10 Data Science Countries</i></b>",
         "x": 0.5,
         "xanchor": "center"
        },
        "width": 900,
        "xaxis": {
         "tickangle": 0,
         "title": {
          "text": "<b>Country</b>"
         }
        },
        "yaxis": {
         "title": {
          "text": "<b>Total</b>"
         }
        }
       }
      },
      "text/html": [
       "<div>                            <div id=\"ec5960c8-eb90-4010-92fc-84c62d7ea6fe\" class=\"plotly-graph-div\" style=\"height:600px; width:900px;\"></div>            <script type=\"text/javascript\">                require([\"plotly\"], function(Plotly) {                    window.PLOTLYENV=window.PLOTLYENV || {};                                    if (document.getElementById(\"ec5960c8-eb90-4010-92fc-84c62d7ea6fe\")) {                    Plotly.newPlot(                        \"ec5960c8-eb90-4010-92fc-84c62d7ea6fe\",                        [{\"marker\":{\"color\":[\"#003f5c\",\"#2f4b7c\",\"#665191\",\"#a05195\",\"#d45087\",\"#f95d6a\",\"#ff7c43\",\"#ffa600\"],\"line\":{\"color\":\"black\",\"width\":2},\"opacity\":0.9},\"x\":[\"United States\",\"United Kingdom\",\"Canada\",\"Germany\",\"India\",\"France\",\"Spain\",\"Greece\",\"Japan\",\"Portugal\"],\"y\":[355,47,30,28,24,15,14,11,6,4],\"type\":\"bar\"}],                        {\"height\":600,\"title\":{\"text\":\"<b><i>Top 10 Data Science Countries</i></b>\",\"x\":0.5,\"xanchor\":\"center\"},\"width\":900,\"xaxis\":{\"tickangle\":0,\"title\":{\"text\":\"<b>Country</b>\"}},\"yaxis\":{\"title\":{\"text\":\"<b>Total</b>\"}},\"template\":{\"data\":{\"histogram2dcontour\":[{\"type\":\"histogram2dcontour\",\"colorbar\":{\"outlinewidth\":0,\"ticks\":\"\"},\"colorscale\":[[0.0,\"#0d0887\"],[0.1111111111111111,\"#46039f\"],[0.2222222222222222,\"#7201a8\"],[0.3333333333333333,\"#9c179e\"],[0.4444444444444444,\"#bd3786\"],[0.5555555555555556,\"#d8576b\"],[0.6666666666666666,\"#ed7953\"],[0.7777777777777778,\"#fb9f3a\"],[0.8888888888888888,\"#fdca26\"],[1.0,\"#f0f921\"]]}],\"choropleth\":[{\"type\":\"choropleth\",\"colorbar\":{\"outlinewidth\":0,\"ticks\":\"\"}}],\"histogram2d\":[{\"type\":\"histogram2d\",\"colorbar\":{\"outlinewidth\":0,\"ticks\":\"\"},\"colorscale\":[[0.0,\"#0d0887\"],[0.1111111111111111,\"#46039f\"],[0.2222222222222222,\"#7201a8\"],[0.3333333333333333,\"#9c179e\"],[0.4444444444444444,\"#bd3786\"],[0.5555555555555556,\"#d8576b\"],[0.6666666666666666,\"#ed7953\"],[0.7777777777777778,\"#fb9f3a\"],[0.8888888888888888,\"#fdca26\"],[1.0,\"#f0f921\"]]}],\"heatmap\":[{\"type\":\"heatmap\",\"colorbar\":{\"outlinewidth\":0,\"ticks\":\"\"},\"colorscale\":[[0.0,\"#0d0887\"],[0.1111111111111111,\"#46039f\"],[0.2222222222222222,\"#7201a8\"],[0.3333333333333333,\"#9c179e\"],[0.4444444444444444,\"#bd3786\"],[0.5555555555555556,\"#d8576b\"],[0.6666666666666666,\"#ed7953\"],[0.7777777777777778,\"#fb9f3a\"],[0.8888888888888888,\"#fdca26\"],[1.0,\"#f0f921\"]]}],\"heatmapgl\":[{\"type\":\"heatmapgl\",\"colorbar\":{\"outlinewidth\":0,\"ticks\":\"\"},\"colorscale\":[[0.0,\"#0d0887\"],[0.1111111111111111,\"#46039f\"],[0.2222222222222222,\"#7201a8\"],[0.3333333333333333,\"#9c179e\"],[0.4444444444444444,\"#bd3786\"],[0.5555555555555556,\"#d8576b\"],[0.6666666666666666,\"#ed7953\"],[0.7777777777777778,\"#fb9f3a\"],[0.8888888888888888,\"#fdca26\"],[1.0,\"#f0f921\"]]}],\"contourcarpet\":[{\"type\":\"contourcarpet\",\"colorbar\":{\"outlinewidth\":0,\"ticks\":\"\"}}],\"contour\":[{\"type\":\"contour\",\"colorbar\":{\"outlinewidth\":0,\"ticks\":\"\"},\"colorscale\":[[0.0,\"#0d0887\"],[0.1111111111111111,\"#46039f\"],[0.2222222222222222,\"#7201a8\"],[0.3333333333333333,\"#9c179e\"],[0.4444444444444444,\"#bd3786\"],[0.5555555555555556,\"#d8576b\"],[0.6666666666666666,\"#ed7953\"],[0.7777777777777778,\"#fb9f3a\"],[0.8888888888888888,\"#fdca26\"],[1.0,\"#f0f921\"]]}],\"surface\":[{\"type\":\"surface\",\"colorbar\":{\"outlinewidth\":0,\"ticks\":\"\"},\"colorscale\":[[0.0,\"#0d0887\"],[0.1111111111111111,\"#46039f\"],[0.2222222222222222,\"#7201a8\"],[0.3333333333333333,\"#9c179e\"],[0.4444444444444444,\"#bd3786\"],[0.5555555555555556,\"#d8576b\"],[0.6666666666666666,\"#ed7953\"],[0.7777777777777778,\"#fb9f3a\"],[0.8888888888888888,\"#fdca26\"],[1.0,\"#f0f921\"]]}],\"mesh3d\":[{\"type\":\"mesh3d\",\"colorbar\":{\"outlinewidth\":0,\"ticks\":\"\"}}],\"scatter\":[{\"fillpattern\":{\"fillmode\":\"overlay\",\"size\":10,\"solidity\":0.2},\"type\":\"scatter\"}],\"parcoords\":[{\"type\":\"parcoords\",\"line\":{\"colorbar\":{\"outlinewidth\":0,\"ticks\":\"\"}}}],\"scatterpolargl\":[{\"type\":\"scatterpolargl\",\"marker\":{\"colorbar\":{\"outlinewidth\":0,\"ticks\":\"\"}}}],\"bar\":[{\"error_x\":{\"color\":\"#2a3f5f\"},\"error_y\":{\"color\":\"#2a3f5f\"},\"marker\":{\"line\":{\"color\":\"#E5ECF6\",\"width\":0.5},\"pattern\":{\"fillmode\":\"overlay\",\"size\":10,\"solidity\":0.2}},\"type\":\"bar\"}],\"scattergeo\":[{\"type\":\"scattergeo\",\"marker\":{\"colorbar\":{\"outlinewidth\":0,\"ticks\":\"\"}}}],\"scatterpolar\":[{\"type\":\"scatterpolar\",\"marker\":{\"colorbar\":{\"outlinewidth\":0,\"ticks\":\"\"}}}],\"histogram\":[{\"marker\":{\"pattern\":{\"fillmode\":\"overlay\",\"size\":10,\"solidity\":0.2}},\"type\":\"histogram\"}],\"scattergl\":[{\"type\":\"scattergl\",\"marker\":{\"colorbar\":{\"outlinewidth\":0,\"ticks\":\"\"}}}],\"scatter3d\":[{\"type\":\"scatter3d\",\"line\":{\"colorbar\":{\"outlinewidth\":0,\"ticks\":\"\"}},\"marker\":{\"colorbar\":{\"outlinewidth\":0,\"ticks\":\"\"}}}],\"scattermapbox\":[{\"type\":\"scattermapbox\",\"marker\":{\"colorbar\":{\"outlinewidth\":0,\"ticks\":\"\"}}}],\"scatterternary\":[{\"type\":\"scatterternary\",\"marker\":{\"colorbar\":{\"outlinewidth\":0,\"ticks\":\"\"}}}],\"scattercarpet\":[{\"type\":\"scattercarpet\",\"marker\":{\"colorbar\":{\"outlinewidth\":0,\"ticks\":\"\"}}}],\"carpet\":[{\"aaxis\":{\"endlinecolor\":\"#2a3f5f\",\"gridcolor\":\"white\",\"linecolor\":\"white\",\"minorgridcolor\":\"white\",\"startlinecolor\":\"#2a3f5f\"},\"baxis\":{\"endlinecolor\":\"#2a3f5f\",\"gridcolor\":\"white\",\"linecolor\":\"white\",\"minorgridcolor\":\"white\",\"startlinecolor\":\"#2a3f5f\"},\"type\":\"carpet\"}],\"table\":[{\"cells\":{\"fill\":{\"color\":\"#EBF0F8\"},\"line\":{\"color\":\"white\"}},\"header\":{\"fill\":{\"color\":\"#C8D4E3\"},\"line\":{\"color\":\"white\"}},\"type\":\"table\"}],\"barpolar\":[{\"marker\":{\"line\":{\"color\":\"#E5ECF6\",\"width\":0.5},\"pattern\":{\"fillmode\":\"overlay\",\"size\":10,\"solidity\":0.2}},\"type\":\"barpolar\"}],\"pie\":[{\"automargin\":true,\"type\":\"pie\"}]},\"layout\":{\"autotypenumbers\":\"strict\",\"colorway\":[\"#636efa\",\"#EF553B\",\"#00cc96\",\"#ab63fa\",\"#FFA15A\",\"#19d3f3\",\"#FF6692\",\"#B6E880\",\"#FF97FF\",\"#FECB52\"],\"font\":{\"color\":\"#2a3f5f\"},\"hovermode\":\"closest\",\"hoverlabel\":{\"align\":\"left\"},\"paper_bgcolor\":\"white\",\"plot_bgcolor\":\"#E5ECF6\",\"polar\":{\"bgcolor\":\"#E5ECF6\",\"angularaxis\":{\"gridcolor\":\"white\",\"linecolor\":\"white\",\"ticks\":\"\"},\"radialaxis\":{\"gridcolor\":\"white\",\"linecolor\":\"white\",\"ticks\":\"\"}},\"ternary\":{\"bgcolor\":\"#E5ECF6\",\"aaxis\":{\"gridcolor\":\"white\",\"linecolor\":\"white\",\"ticks\":\"\"},\"baxis\":{\"gridcolor\":\"white\",\"linecolor\":\"white\",\"ticks\":\"\"},\"caxis\":{\"gridcolor\":\"white\",\"linecolor\":\"white\",\"ticks\":\"\"}},\"coloraxis\":{\"colorbar\":{\"outlinewidth\":0,\"ticks\":\"\"}},\"colorscale\":{\"sequential\":[[0.0,\"#0d0887\"],[0.1111111111111111,\"#46039f\"],[0.2222222222222222,\"#7201a8\"],[0.3333333333333333,\"#9c179e\"],[0.4444444444444444,\"#bd3786\"],[0.5555555555555556,\"#d8576b\"],[0.6666666666666666,\"#ed7953\"],[0.7777777777777778,\"#fb9f3a\"],[0.8888888888888888,\"#fdca26\"],[1.0,\"#f0f921\"]],\"sequentialminus\":[[0.0,\"#0d0887\"],[0.1111111111111111,\"#46039f\"],[0.2222222222222222,\"#7201a8\"],[0.3333333333333333,\"#9c179e\"],[0.4444444444444444,\"#bd3786\"],[0.5555555555555556,\"#d8576b\"],[0.6666666666666666,\"#ed7953\"],[0.7777777777777778,\"#fb9f3a\"],[0.8888888888888888,\"#fdca26\"],[1.0,\"#f0f921\"]],\"diverging\":[[0,\"#8e0152\"],[0.1,\"#c51b7d\"],[0.2,\"#de77ae\"],[0.3,\"#f1b6da\"],[0.4,\"#fde0ef\"],[0.5,\"#f7f7f7\"],[0.6,\"#e6f5d0\"],[0.7,\"#b8e186\"],[0.8,\"#7fbc41\"],[0.9,\"#4d9221\"],[1,\"#276419\"]]},\"xaxis\":{\"gridcolor\":\"white\",\"linecolor\":\"white\",\"ticks\":\"\",\"title\":{\"standoff\":15},\"zerolinecolor\":\"white\",\"automargin\":true,\"zerolinewidth\":2},\"yaxis\":{\"gridcolor\":\"white\",\"linecolor\":\"white\",\"ticks\":\"\",\"title\":{\"standoff\":15},\"zerolinecolor\":\"white\",\"automargin\":true,\"zerolinewidth\":2},\"scene\":{\"xaxis\":{\"backgroundcolor\":\"#E5ECF6\",\"gridcolor\":\"white\",\"linecolor\":\"white\",\"showbackground\":true,\"ticks\":\"\",\"zerolinecolor\":\"white\",\"gridwidth\":2},\"yaxis\":{\"backgroundcolor\":\"#E5ECF6\",\"gridcolor\":\"white\",\"linecolor\":\"white\",\"showbackground\":true,\"ticks\":\"\",\"zerolinecolor\":\"white\",\"gridwidth\":2},\"zaxis\":{\"backgroundcolor\":\"#E5ECF6\",\"gridcolor\":\"white\",\"linecolor\":\"white\",\"showbackground\":true,\"ticks\":\"\",\"zerolinecolor\":\"white\",\"gridwidth\":2}},\"shapedefaults\":{\"line\":{\"color\":\"#2a3f5f\"}},\"annotationdefaults\":{\"arrowcolor\":\"#2a3f5f\",\"arrowhead\":0,\"arrowwidth\":1},\"geo\":{\"bgcolor\":\"white\",\"landcolor\":\"#E5ECF6\",\"subunitcolor\":\"white\",\"showland\":true,\"showlakes\":true,\"lakecolor\":\"white\"},\"title\":{\"x\":0.05},\"mapbox\":{\"style\":\"light\"}}},\"plot_bgcolor\":\"#f1e7d2\",\"paper_bgcolor\":\"#f1e7d2\"},                        {\"responsive\": true}                    ).then(function(){\n",
       "                            \n",
       "var gd = document.getElementById('ec5960c8-eb90-4010-92fc-84c62d7ea6fe');\n",
       "var x = new MutationObserver(function (mutations, observer) {{\n",
       "        var display = window.getComputedStyle(gd).display;\n",
       "        if (!display || display === 'none') {{\n",
       "            console.log([gd, 'removed!']);\n",
       "            Plotly.purge(gd);\n",
       "            observer.disconnect();\n",
       "        }}\n",
       "}});\n",
       "\n",
       "// Listen for the removal of the full notebook cells\n",
       "var notebookContainer = gd.closest('#notebook-container');\n",
       "if (notebookContainer) {{\n",
       "    x.observe(notebookContainer, {childList: true});\n",
       "}}\n",
       "\n",
       "// Listen for the clearing of the current output cell\n",
       "var outputEl = gd.closest('.output');\n",
       "if (outputEl) {{\n",
       "    x.observe(outputEl, {childList: true});\n",
       "}}\n",
       "\n",
       "                        })                };                });            </script>        </div>"
      ]
     },
     "metadata": {},
     "output_type": "display_data"
    }
   ],
   "source": [
    "data =  go.Bar(x = top10_contr['company'], y = top10_contr['job_count'],\n",
    "                    marker = dict(color = colors,\n",
    "                    opacity = 0.9,\n",
    "                    line_color = 'black',\n",
    "                    line_width = 2))\n",
    "layout = go.Layout(title = {'text': \"<b><i>Top 10 Data Science Countries</i></b>\",\n",
    "                           'x':0.5,\n",
    "                           'xanchor': 'center'},\n",
    "                   xaxis = dict(title='<b>Country</b>', tickangle =0),\n",
    "                   yaxis =dict(title='<b>Total</b>'),\n",
    "                   width = 900,\n",
    "                   height = 600)\n",
    "fig = go.Figure(data = data, layout = layout)\n",
    "fig.update_layout(plot_bgcolor = '#f1e7d2', \n",
    "                  paper_bgcolor = '#f1e7d2')\n",
    "fig.show()"
   ]
  },
  {
   "cell_type": "markdown",
   "id": "8f479a47",
   "metadata": {
    "papermill": {
     "duration": 0.026759,
     "end_time": "2022-10-23T19:09:59.281644",
     "exception": false,
     "start_time": "2022-10-23T19:09:59.254885",
     "status": "completed"
    },
    "tags": []
   },
   "source": [
    "<div class=\"alert alert-block alert-info\">\n",
    "    <b>Insights</b><br><b></b>From above graph, <b>United States</b> have the most job opportunity in Data Science.   \n",
    "</div>"
   ]
  },
  {
   "cell_type": "markdown",
   "id": "cb55f902",
   "metadata": {
    "papermill": {
     "duration": 0.026599,
     "end_time": "2022-10-23T19:09:59.335501",
     "exception": false,
     "start_time": "2022-10-23T19:09:59.308902",
     "status": "completed"
    },
    "tags": []
   },
   "source": [
    "<a id=\"4\"></a>\n",
    "## <div style=\"text-align: left; background-color:#f1e7d2 ; font-family: Trebuchet MS; color: #7B3F00; padding: 15px; line-height:1;border-radius:1px; margin-bottom: 0em; text-align: center; font-size: 25px;border-style: solid;border-color: dark green;\">4.3 Data Science  on Experince Level </div> "
   ]
  },
  {
   "cell_type": "code",
   "execution_count": 14,
   "id": "74a6e0e9",
   "metadata": {
    "execution": {
     "iopub.execute_input": "2022-10-23T19:09:59.391752Z",
     "iopub.status.busy": "2022-10-23T19:09:59.391388Z",
     "iopub.status.idle": "2022-10-23T19:09:59.456473Z",
     "shell.execute_reply": "2022-10-23T19:09:59.455151Z"
    },
    "papermill": {
     "duration": 0.09619,
     "end_time": "2022-10-23T19:09:59.458832",
     "exception": false,
     "start_time": "2022-10-23T19:09:59.362642",
     "status": "completed"
    },
    "tags": []
   },
   "outputs": [
    {
     "data": {
      "text/html": [
       "<div>\n",
       "<style scoped>\n",
       "    .dataframe tbody tr th:only-of-type {\n",
       "        vertical-align: middle;\n",
       "    }\n",
       "\n",
       "    .dataframe tbody tr th {\n",
       "        vertical-align: top;\n",
       "    }\n",
       "\n",
       "    .dataframe thead th {\n",
       "        text-align: right;\n",
       "    }\n",
       "</style>\n",
       "<table border=\"1\" class=\"dataframe\">\n",
       "  <thead>\n",
       "    <tr style=\"text-align: right;\">\n",
       "      <th></th>\n",
       "      <th>experience_level</th>\n",
       "      <th>job_count</th>\n",
       "    </tr>\n",
       "  </thead>\n",
       "  <tbody>\n",
       "    <tr>\n",
       "      <th>0</th>\n",
       "      <td>Expert Level</td>\n",
       "      <td>26</td>\n",
       "    </tr>\n",
       "    <tr>\n",
       "      <th>1</th>\n",
       "      <td>Entry Level</td>\n",
       "      <td>88</td>\n",
       "    </tr>\n",
       "    <tr>\n",
       "      <th>2</th>\n",
       "      <td>Mid level</td>\n",
       "      <td>213</td>\n",
       "    </tr>\n",
       "    <tr>\n",
       "      <th>3</th>\n",
       "      <td>Senior Level</td>\n",
       "      <td>280</td>\n",
       "    </tr>\n",
       "  </tbody>\n",
       "</table>\n",
       "</div>"
      ],
      "text/plain": [
       "  experience_level  job_count\n",
       "0     Expert Level         26\n",
       "1      Entry Level         88\n",
       "2        Mid level        213\n",
       "3     Senior Level        280"
      ]
     },
     "execution_count": 14,
     "metadata": {},
     "output_type": "execute_result"
    }
   ],
   "source": [
    "job_exp = query(\"\"\"SELECT experience_level,\n",
    "                          Count(*) AS job_count\n",
    "                   FROM   salaries\n",
    "                   GROUP  BY experience_level\n",
    "                   ORDER  BY job_count ASC \"\"\")\n",
    "job_exp"
   ]
  },
  {
   "cell_type": "code",
   "execution_count": 15,
   "id": "b0e2a0e8",
   "metadata": {
    "execution": {
     "iopub.execute_input": "2022-10-23T19:09:59.515964Z",
     "iopub.status.busy": "2022-10-23T19:09:59.515152Z",
     "iopub.status.idle": "2022-10-23T19:09:59.557617Z",
     "shell.execute_reply": "2022-10-23T19:09:59.556567Z"
    },
    "papermill": {
     "duration": 0.073688,
     "end_time": "2022-10-23T19:09:59.560187",
     "exception": false,
     "start_time": "2022-10-23T19:09:59.486499",
     "status": "completed"
    },
    "tags": []
   },
   "outputs": [
    {
     "data": {
      "application/vnd.plotly.v1+json": {
       "config": {
        "plotlyServerURL": "https://plot.ly"
       },
       "data": [
        {
         "marker": {
          "color": [
           "#665191",
           "#a05195",
           "#d45087",
           "#f95d6a"
          ],
          "line": {
           "color": "white",
           "width": 2
          },
          "opacity": 0.9
         },
         "orientation": "h",
         "text": [
          26.0,
          88.0,
          213.0,
          280.0
         ],
         "textfont": {
          "color": "white",
          "size": 16
         },
         "textposition": "inside",
         "type": "bar",
         "x": [
          26,
          88,
          213,
          280
         ],
         "y": [
          "Expert Level",
          "Entry Level",
          "Mid level",
          "Senior Level"
         ]
        }
       ],
       "layout": {
        "height": 600,
        "paper_bgcolor": "#f1e7d2",
        "plot_bgcolor": "#f1e7d2",
        "template": {
         "data": {
          "pie": [
           {
            "automargin": true,
            "type": "pie"
           }
          ]
         },
         "layout": {
          "yaxis": {
           "showgrid": false
          }
         }
        },
        "title": {
         "text": "<b><i>Jobs on Experience Levels</i></b>",
         "x": 0.5,
         "xanchor": "center"
        },
        "width": 900,
        "xaxis": {
         "tickmode": "array",
         "title": {
          "text": "<b>Total</b>"
         }
        },
        "yaxis": {
         "title": {
          "text": "<b>Experience lvl</b>"
         }
        }
       }
      },
      "text/html": [
       "<div>                            <div id=\"870c5bbc-a491-4c20-8641-803b7bda4947\" class=\"plotly-graph-div\" style=\"height:600px; width:900px;\"></div>            <script type=\"text/javascript\">                require([\"plotly\"], function(Plotly) {                    window.PLOTLYENV=window.PLOTLYENV || {};                                    if (document.getElementById(\"870c5bbc-a491-4c20-8641-803b7bda4947\")) {                    Plotly.newPlot(                        \"870c5bbc-a491-4c20-8641-803b7bda4947\",                        [{\"marker\":{\"color\":[\"#665191\",\"#a05195\",\"#d45087\",\"#f95d6a\"],\"line\":{\"color\":\"white\",\"width\":2},\"opacity\":0.9},\"orientation\":\"h\",\"text\":[26.0,88.0,213.0,280.0],\"textfont\":{\"color\":\"white\",\"size\":16},\"textposition\":\"inside\",\"x\":[26,88,213,280],\"y\":[\"Expert Level\",\"Entry Level\",\"Mid level\",\"Senior Level\"],\"type\":\"bar\"}],                        {\"height\":600,\"template\":{\"data\":{\"pie\":[{\"automargin\":true,\"type\":\"pie\"}]},\"layout\":{\"yaxis\":{\"showgrid\":false}}},\"title\":{\"text\":\"<b><i>Jobs on Experience Levels</i></b>\",\"x\":0.5,\"xanchor\":\"center\"},\"width\":900,\"xaxis\":{\"tickmode\":\"array\",\"title\":{\"text\":\"<b>Total</b>\"}},\"yaxis\":{\"title\":{\"text\":\"<b>Experience lvl</b>\"}},\"plot_bgcolor\":\"#f1e7d2\",\"paper_bgcolor\":\"#f1e7d2\"},                        {\"responsive\": true}                    ).then(function(){\n",
       "                            \n",
       "var gd = document.getElementById('870c5bbc-a491-4c20-8641-803b7bda4947');\n",
       "var x = new MutationObserver(function (mutations, observer) {{\n",
       "        var display = window.getComputedStyle(gd).display;\n",
       "        if (!display || display === 'none') {{\n",
       "            console.log([gd, 'removed!']);\n",
       "            Plotly.purge(gd);\n",
       "            observer.disconnect();\n",
       "        }}\n",
       "}});\n",
       "\n",
       "// Listen for the removal of the full notebook cells\n",
       "var notebookContainer = gd.closest('#notebook-container');\n",
       "if (notebookContainer) {{\n",
       "    x.observe(notebookContainer, {childList: true});\n",
       "}}\n",
       "\n",
       "// Listen for the clearing of the current output cell\n",
       "var outputEl = gd.closest('.output');\n",
       "if (outputEl) {{\n",
       "    x.observe(outputEl, {childList: true});\n",
       "}}\n",
       "\n",
       "                        })                };                });            </script>        </div>"
      ]
     },
     "metadata": {},
     "output_type": "display_data"
    }
   ],
   "source": [
    "data =  go.Bar(x = job_exp['job_count'], y = job_exp['experience_level'], orientation ='h',text = job_exp['job_count'], \n",
    "              textposition ='inside',\n",
    "              textfont = dict(size = 16,\n",
    "                             color = 'white'),\n",
    "                    marker = dict(color = ['#665191','#a05195','#d45087','#f95d6a'],\n",
    "                    opacity = 0.9,\n",
    "                    line_color = 'white',\n",
    "                    line_width = 2))\n",
    "layout = go.Layout(title = {'text': \"<b><i>Jobs on Experience Levels</i></b>\",\n",
    "                           'x':0.5,\n",
    "                           'xanchor': 'center'},\n",
    "                   xaxis = dict(title='<b>Total</b>', tickmode = 'array'),\n",
    "                   yaxis =dict(title='<b>Experience lvl</b>'),\n",
    "                   width = 900,\n",
    "                   height = 600,\n",
    "                   template = 'ygridoff')\n",
    "fig = go.Figure(data = data, layout = layout)\n",
    "fig.update_layout(plot_bgcolor = '#f1e7d2', \n",
    "                  paper_bgcolor = '#f1e7d2')\n",
    "fig.show()"
   ]
  },
  {
   "cell_type": "markdown",
   "id": "62c62c64",
   "metadata": {
    "papermill": {
     "duration": 0.027698,
     "end_time": "2022-10-23T19:09:59.616104",
     "exception": false,
     "start_time": "2022-10-23T19:09:59.588406",
     "status": "completed"
    },
    "tags": []
   },
   "source": [
    "<div class=\"alert alert-block alert-info\">\n",
    "    <b>Insights</b><br><br><b></b>From above graph, we can see that most of the data science are <b>Senior level </b> and less are on <b>Expert Level </b>\n",
    "</div>"
   ]
  },
  {
   "cell_type": "markdown",
   "id": "b22f4ff4",
   "metadata": {
    "papermill": {
     "duration": 0.027758,
     "end_time": "2022-10-23T19:09:59.672124",
     "exception": false,
     "start_time": "2022-10-23T19:09:59.644366",
     "status": "completed"
    },
    "tags": []
   },
   "source": [
    "<a id=\"4\"></a>\n",
    "## <div style=\"text-align: left; background-color:#f1e7d2 ; font-family: Trebuchet MS; color: #7B3F00; padding: 15px; line-height:1;border-radius:1px; margin-bottom: 0em; text-align: center; font-size: 25px;border-style: solid;border-color: dark green;\">4.4 Data Science  on Employment Type</div> "
   ]
  },
  {
   "cell_type": "code",
   "execution_count": 16,
   "id": "3bcb4ab7",
   "metadata": {
    "execution": {
     "iopub.execute_input": "2022-10-23T19:09:59.737112Z",
     "iopub.status.busy": "2022-10-23T19:09:59.736700Z",
     "iopub.status.idle": "2022-10-23T19:09:59.804831Z",
     "shell.execute_reply": "2022-10-23T19:09:59.803665Z"
    },
    "papermill": {
     "duration": 0.100184,
     "end_time": "2022-10-23T19:09:59.807117",
     "exception": false,
     "start_time": "2022-10-23T19:09:59.706933",
     "status": "completed"
    },
    "tags": []
   },
   "outputs": [
    {
     "data": {
      "text/html": [
       "<div>\n",
       "<style scoped>\n",
       "    .dataframe tbody tr th:only-of-type {\n",
       "        vertical-align: middle;\n",
       "    }\n",
       "\n",
       "    .dataframe tbody tr th {\n",
       "        vertical-align: top;\n",
       "    }\n",
       "\n",
       "    .dataframe thead th {\n",
       "        text-align: right;\n",
       "    }\n",
       "</style>\n",
       "<table border=\"1\" class=\"dataframe\">\n",
       "  <thead>\n",
       "    <tr style=\"text-align: right;\">\n",
       "      <th></th>\n",
       "      <th>employment_type</th>\n",
       "      <th>job_count</th>\n",
       "    </tr>\n",
       "  </thead>\n",
       "  <tbody>\n",
       "    <tr>\n",
       "      <th>0</th>\n",
       "      <td>Freelance</td>\n",
       "      <td>4</td>\n",
       "    </tr>\n",
       "    <tr>\n",
       "      <th>1</th>\n",
       "      <td>Contract</td>\n",
       "      <td>5</td>\n",
       "    </tr>\n",
       "    <tr>\n",
       "      <th>2</th>\n",
       "      <td>Part Time</td>\n",
       "      <td>10</td>\n",
       "    </tr>\n",
       "    <tr>\n",
       "      <th>3</th>\n",
       "      <td>Full Time</td>\n",
       "      <td>588</td>\n",
       "    </tr>\n",
       "  </tbody>\n",
       "</table>\n",
       "</div>"
      ],
      "text/plain": [
       "  employment_type  job_count\n",
       "0       Freelance          4\n",
       "1        Contract          5\n",
       "2       Part Time         10\n",
       "3       Full Time        588"
      ]
     },
     "execution_count": 16,
     "metadata": {},
     "output_type": "execute_result"
    }
   ],
   "source": [
    "job_emp = query(\"\"\"SELECT employment_type,\n",
    "                          Count(*) AS job_count\n",
    "                   FROM   salaries\n",
    "                   GROUP  BY employment_type\n",
    "                   ORDER  BY job_count ASC\"\"\")\n",
    "job_emp"
   ]
  },
  {
   "cell_type": "code",
   "execution_count": 17,
   "id": "4c2abc3f",
   "metadata": {
    "execution": {
     "iopub.execute_input": "2022-10-23T19:09:59.865977Z",
     "iopub.status.busy": "2022-10-23T19:09:59.865541Z",
     "iopub.status.idle": "2022-10-23T19:09:59.884532Z",
     "shell.execute_reply": "2022-10-23T19:09:59.883555Z"
    },
    "papermill": {
     "duration": 0.051223,
     "end_time": "2022-10-23T19:09:59.886991",
     "exception": false,
     "start_time": "2022-10-23T19:09:59.835768",
     "status": "completed"
    },
    "tags": []
   },
   "outputs": [
    {
     "data": {
      "application/vnd.plotly.v1+json": {
       "config": {
        "plotlyServerURL": "https://plot.ly"
       },
       "data": [
        {
         "marker": {
          "color": [
           "#d45087",
           "#f95d6a",
           "#ff7c43",
           "#ffa600"
          ],
          "line": {
           "color": "white",
           "width": 2
          },
          "opacity": 0.9
         },
         "orientation": "h",
         "text": [
          4.0,
          5.0,
          10.0,
          588.0
         ],
         "textfont": {
          "color": "black",
          "size": 16
         },
         "textposition": "outside",
         "type": "bar",
         "x": [
          4,
          5,
          10,
          588
         ],
         "y": [
          "Freelance",
          "Contract",
          "Part Time",
          "Full Time"
         ]
        }
       ],
       "layout": {
        "height": 600,
        "paper_bgcolor": "#f1e7d2",
        "plot_bgcolor": "#f1e7d2",
        "template": {
         "data": {
          "pie": [
           {
            "automargin": true,
            "type": "pie"
           }
          ]
         },
         "layout": {
          "yaxis": {
           "showgrid": false
          }
         }
        },
        "title": {
         "text": "<b><i>Jobs on Employment Type</i></b>",
         "x": 0.5,
         "xanchor": "center"
        },
        "width": 900,
        "xaxis": {
         "tickmode": "array",
         "title": {
          "text": "<b>Total</b>"
         }
        },
        "yaxis": {
         "title": {
          "text": "<b>Emp Type lvl</b>"
         }
        }
       }
      },
      "text/html": [
       "<div>                            <div id=\"5a300bdd-0b4b-40a6-8c48-6fc3d1761541\" class=\"plotly-graph-div\" style=\"height:600px; width:900px;\"></div>            <script type=\"text/javascript\">                require([\"plotly\"], function(Plotly) {                    window.PLOTLYENV=window.PLOTLYENV || {};                                    if (document.getElementById(\"5a300bdd-0b4b-40a6-8c48-6fc3d1761541\")) {                    Plotly.newPlot(                        \"5a300bdd-0b4b-40a6-8c48-6fc3d1761541\",                        [{\"marker\":{\"color\":[\"#d45087\",\"#f95d6a\",\"#ff7c43\",\"#ffa600\"],\"line\":{\"color\":\"white\",\"width\":2},\"opacity\":0.9},\"orientation\":\"h\",\"text\":[4.0,5.0,10.0,588.0],\"textfont\":{\"color\":\"black\",\"size\":16},\"textposition\":\"outside\",\"x\":[4,5,10,588],\"y\":[\"Freelance\",\"Contract\",\"Part Time\",\"Full Time\"],\"type\":\"bar\"}],                        {\"height\":600,\"template\":{\"data\":{\"pie\":[{\"automargin\":true,\"type\":\"pie\"}]},\"layout\":{\"yaxis\":{\"showgrid\":false}}},\"title\":{\"text\":\"<b><i>Jobs on Employment Type</i></b>\",\"x\":0.5,\"xanchor\":\"center\"},\"width\":900,\"xaxis\":{\"tickmode\":\"array\",\"title\":{\"text\":\"<b>Total</b>\"}},\"yaxis\":{\"title\":{\"text\":\"<b>Emp Type lvl</b>\"}},\"plot_bgcolor\":\"#f1e7d2\",\"paper_bgcolor\":\"#f1e7d2\"},                        {\"responsive\": true}                    ).then(function(){\n",
       "                            \n",
       "var gd = document.getElementById('5a300bdd-0b4b-40a6-8c48-6fc3d1761541');\n",
       "var x = new MutationObserver(function (mutations, observer) {{\n",
       "        var display = window.getComputedStyle(gd).display;\n",
       "        if (!display || display === 'none') {{\n",
       "            console.log([gd, 'removed!']);\n",
       "            Plotly.purge(gd);\n",
       "            observer.disconnect();\n",
       "        }}\n",
       "}});\n",
       "\n",
       "// Listen for the removal of the full notebook cells\n",
       "var notebookContainer = gd.closest('#notebook-container');\n",
       "if (notebookContainer) {{\n",
       "    x.observe(notebookContainer, {childList: true});\n",
       "}}\n",
       "\n",
       "// Listen for the clearing of the current output cell\n",
       "var outputEl = gd.closest('.output');\n",
       "if (outputEl) {{\n",
       "    x.observe(outputEl, {childList: true});\n",
       "}}\n",
       "\n",
       "                        })                };                });            </script>        </div>"
      ]
     },
     "metadata": {},
     "output_type": "display_data"
    }
   ],
   "source": [
    "data =  go.Bar(x = job_emp['job_count'], y = job_emp['employment_type'], orientation ='h',text = job_emp['job_count'], \n",
    "              textposition ='outside',\n",
    "              textfont = dict(size = 16,\n",
    "                             color = 'black'),\n",
    "                    marker = dict(color = colors[4:8],\n",
    "                    opacity = 0.9,\n",
    "                    line_color = 'white',\n",
    "                    line_width = 2))\n",
    "layout = go.Layout(title = {'text': \"<b><i>Jobs on Employment Type</i></b>\",\n",
    "                           'x':0.5,\n",
    "                           'xanchor': 'center'},\n",
    "                   xaxis = dict(title='<b>Total</b>', tickmode = 'array'),\n",
    "                   yaxis =dict(title='<b>Emp Type lvl</b>'),\n",
    "                   width = 900,\n",
    "                   height = 600,\n",
    "                   template = 'ygridoff')\n",
    "fig = go.Figure(data = data, layout = layout)\n",
    "fig.update_layout(plot_bgcolor = '#f1e7d2', \n",
    "                  paper_bgcolor = '#f1e7d2')\n",
    "fig.show()\n",
    "\n"
   ]
  },
  {
   "cell_type": "markdown",
   "id": "74eeee52",
   "metadata": {
    "papermill": {
     "duration": 0.02882,
     "end_time": "2022-10-23T19:09:59.945735",
     "exception": false,
     "start_time": "2022-10-23T19:09:59.916915",
     "status": "completed"
    },
    "tags": []
   },
   "source": [
    "<div class=\"alert alert-block alert-info\">\n",
    "    <b>Insights</b><br><br><b></b>From above graph, we can see that most of the data science are doing work on <b> Full Time </b> employment and less are  <b> Contract </b> and <b>Freelancers</b>.\n",
    "</div>"
   ]
  },
  {
   "cell_type": "markdown",
   "id": "8ff47221",
   "metadata": {
    "papermill": {
     "duration": 0.028543,
     "end_time": "2022-10-23T19:10:00.003170",
     "exception": false,
     "start_time": "2022-10-23T19:09:59.974627",
     "status": "completed"
    },
    "tags": []
   },
   "source": [
    "<a id=\"4\"></a>\n",
    "## <div style=\"text-align: left; background-color:#f1e7d2 ; font-family: Trebuchet MS; color: #7B3F00; padding: 15px; line-height:1;border-radius:1px; margin-bottom: 0em; text-align: center; font-size: 25px;border-style: solid;border-color: dark green;\">4.5 Data Science Jobs Growth Year wise </div> "
   ]
  },
  {
   "cell_type": "code",
   "execution_count": 18,
   "id": "b2d454ea",
   "metadata": {
    "execution": {
     "iopub.execute_input": "2022-10-23T19:10:00.065195Z",
     "iopub.status.busy": "2022-10-23T19:10:00.064611Z",
     "iopub.status.idle": "2022-10-23T19:10:00.132966Z",
     "shell.execute_reply": "2022-10-23T19:10:00.131660Z"
    },
    "papermill": {
     "duration": 0.102865,
     "end_time": "2022-10-23T19:10:00.135384",
     "exception": false,
     "start_time": "2022-10-23T19:10:00.032519",
     "status": "completed"
    },
    "tags": []
   },
   "outputs": [
    {
     "data": {
      "text/html": [
       "<div>\n",
       "<style scoped>\n",
       "    .dataframe tbody tr th:only-of-type {\n",
       "        vertical-align: middle;\n",
       "    }\n",
       "\n",
       "    .dataframe tbody tr th {\n",
       "        vertical-align: top;\n",
       "    }\n",
       "\n",
       "    .dataframe thead th {\n",
       "        text-align: right;\n",
       "    }\n",
       "</style>\n",
       "<table border=\"1\" class=\"dataframe\">\n",
       "  <thead>\n",
       "    <tr style=\"text-align: right;\">\n",
       "      <th></th>\n",
       "      <th>work_year</th>\n",
       "      <th>job count</th>\n",
       "    </tr>\n",
       "  </thead>\n",
       "  <tbody>\n",
       "    <tr>\n",
       "      <th>0</th>\n",
       "      <td>2022</td>\n",
       "      <td>318</td>\n",
       "    </tr>\n",
       "    <tr>\n",
       "      <th>1</th>\n",
       "      <td>2021</td>\n",
       "      <td>217</td>\n",
       "    </tr>\n",
       "    <tr>\n",
       "      <th>2</th>\n",
       "      <td>2020</td>\n",
       "      <td>72</td>\n",
       "    </tr>\n",
       "  </tbody>\n",
       "</table>\n",
       "</div>"
      ],
      "text/plain": [
       "   work_year  job count\n",
       "0       2022        318\n",
       "1       2021        217\n",
       "2       2020         72"
      ]
     },
     "execution_count": 18,
     "metadata": {},
     "output_type": "execute_result"
    }
   ],
   "source": [
    "job_year = query(\"\"\"SELECT work_year,\n",
    "                          Count(*) AS 'job count'\n",
    "                   FROM   salaries\n",
    "                   GROUP  BY work_year\n",
    "                   ORDER  BY 'job count' DESC\"\"\")\n",
    "job_year"
   ]
  },
  {
   "cell_type": "code",
   "execution_count": 19,
   "id": "27b7b0db",
   "metadata": {
    "execution": {
     "iopub.execute_input": "2022-10-23T19:10:00.196248Z",
     "iopub.status.busy": "2022-10-23T19:10:00.195837Z",
     "iopub.status.idle": "2022-10-23T19:10:00.253275Z",
     "shell.execute_reply": "2022-10-23T19:10:00.252096Z"
    },
    "papermill": {
     "duration": 0.090718,
     "end_time": "2022-10-23T19:10:00.255875",
     "exception": false,
     "start_time": "2022-10-23T19:10:00.165157",
     "status": "completed"
    },
    "tags": []
   },
   "outputs": [
    {
     "data": {
      "application/vnd.plotly.v1+json": {
       "config": {
        "linkText": "Export to plot.ly",
        "plotlyServerURL": "https://plot.ly",
        "showLink": false
       },
       "data": [
        {
         "line": {
          "color": "#ff7c43",
          "width": 4
         },
         "marker": {
          "color": "#a05195",
          "line": {
           "color": "white",
           "width": 1.5
          },
          "size": 12
         },
         "mode": "lines+markers",
         "type": "scatter",
         "x": [
          2022,
          2021,
          2020
         ],
         "y": [
          318,
          217,
          72
         ]
        }
       ],
       "layout": {
        "height": 600,
        "paper_bgcolor": "#f1e7d2",
        "plot_bgcolor": "#f1e7d2",
        "template": {
         "data": {
          "pie": [
           {
            "automargin": true,
            "type": "pie"
           }
          ]
         },
         "layout": {
          "xaxis": {
           "showgrid": false,
           "title": {
            "standoff": 15
           }
          },
          "yaxis": {
           "title": {
            "standoff": 15
           }
          }
         }
        },
        "title": {
         "text": "<b>Data Science jobs Growth (2020 to 2022)</b>",
         "x": 0.5,
         "xanchor": "center"
        },
        "width": 950,
        "xaxis": {
         "tickvals": [
          "2020",
          "2021",
          "2022"
         ],
         "title": {
          "text": "<b>Year</b>"
         }
        },
        "yaxis": {
         "title": {
          "text": "<b>Jobs</b>"
         }
        }
       }
      },
      "text/html": [
       "<div>                            <div id=\"a61f3949-19bf-470c-a577-ecd8cd6edf11\" class=\"plotly-graph-div\" style=\"height:600px; width:950px;\"></div>            <script type=\"text/javascript\">                require([\"plotly\"], function(Plotly) {                    window.PLOTLYENV=window.PLOTLYENV || {};                                    if (document.getElementById(\"a61f3949-19bf-470c-a577-ecd8cd6edf11\")) {                    Plotly.newPlot(                        \"a61f3949-19bf-470c-a577-ecd8cd6edf11\",                        [{\"line\":{\"color\":\"#ff7c43\",\"width\":4},\"marker\":{\"color\":\"#a05195\",\"line\":{\"color\":\"white\",\"width\":1.5},\"size\":12},\"mode\":\"lines+markers\",\"x\":[2022,2021,2020],\"y\":[318,217,72],\"type\":\"scatter\"}],                        {\"height\":600,\"paper_bgcolor\":\"#f1e7d2\",\"plot_bgcolor\":\"#f1e7d2\",\"template\":{\"data\":{\"pie\":[{\"automargin\":true,\"type\":\"pie\"}]},\"layout\":{\"xaxis\":{\"showgrid\":false,\"title\":{\"standoff\":15}},\"yaxis\":{\"title\":{\"standoff\":15}}}},\"title\":{\"text\":\"<b>Data Science jobs Growth (2020 to 2022)</b>\",\"x\":0.5,\"xanchor\":\"center\"},\"width\":950,\"xaxis\":{\"tickvals\":[\"2020\",\"2021\",\"2022\"],\"title\":{\"text\":\"<b>Year</b>\"}},\"yaxis\":{\"title\":{\"text\":\"<b>Jobs</b>\"}}},                        {\"responsive\": true}                    ).then(function(){\n",
       "                            \n",
       "var gd = document.getElementById('a61f3949-19bf-470c-a577-ecd8cd6edf11');\n",
       "var x = new MutationObserver(function (mutations, observer) {{\n",
       "        var display = window.getComputedStyle(gd).display;\n",
       "        if (!display || display === 'none') {{\n",
       "            console.log([gd, 'removed!']);\n",
       "            Plotly.purge(gd);\n",
       "            observer.disconnect();\n",
       "        }}\n",
       "}});\n",
       "\n",
       "// Listen for the removal of the full notebook cells\n",
       "var notebookContainer = gd.closest('#notebook-container');\n",
       "if (notebookContainer) {{\n",
       "    x.observe(notebookContainer, {childList: true});\n",
       "}}\n",
       "\n",
       "// Listen for the clearing of the current output cell\n",
       "var outputEl = gd.closest('.output');\n",
       "if (outputEl) {{\n",
       "    x.observe(outputEl, {childList: true});\n",
       "}}\n",
       "\n",
       "                        })                };                });            </script>        </div>"
      ]
     },
     "metadata": {},
     "output_type": "display_data"
    }
   ],
   "source": [
    "data = go.Scatter(x=job_year['work_year'], y=job_year['job count'],\n",
    "                  marker = dict(size = 12,line_width=1.5, line_color = 'white', color = colors[3]),\n",
    "                  line=dict(color=colors[6], width=4),mode='lines+markers')\n",
    "layout  =go.Layout(\n",
    "    title = {\n",
    "        'text': \"<b>Data Science jobs Growth (2020 to 2022)</b>\",\n",
    "        'x':0.5,\n",
    "        'xanchor': 'center'},\n",
    "    xaxis=dict(title = '<b>Year</b>'),\n",
    "    yaxis = dict(title = '<b>Jobs</b>'),\n",
    "    width = 950,\n",
    "    height = 600,\n",
    "    template = 'xgridoff',\n",
    "    paper_bgcolor='#f1e7d2',\n",
    "    plot_bgcolor = '#f1e7d2')\n",
    "fig = go .Figure(data= data, layout = layout)\n",
    "fig.update_xaxes(tickvals= ['2020', '2021', '2022'])\n",
    "iplot(fig)"
   ]
  },
  {
   "cell_type": "markdown",
   "id": "929826e1",
   "metadata": {
    "papermill": {
     "duration": 0.029661,
     "end_time": "2022-10-23T19:10:00.315761",
     "exception": false,
     "start_time": "2022-10-23T19:10:00.286100",
     "status": "completed"
    },
    "tags": []
   },
   "source": [
    "<a id=\"4\"></a>\n",
    "## <div style=\"text-align: centre; background-color:#f1e7d2 ; font-family: Trebuchet MS; color: #7B3F00; padding: 15px; line-height:1;border-radius:1px; margin-bottom: 0em; text-align: center; font-size: 25px;border-style: solid;border-color: dark green;\">4.6 Salary Distribution </div> "
   ]
  },
  {
   "cell_type": "code",
   "execution_count": 20,
   "id": "15452ce0",
   "metadata": {
    "execution": {
     "iopub.execute_input": "2022-10-23T19:10:00.376922Z",
     "iopub.status.busy": "2022-10-23T19:10:00.376513Z",
     "iopub.status.idle": "2022-10-23T19:10:00.450752Z",
     "shell.execute_reply": "2022-10-23T19:10:00.449865Z"
    },
    "papermill": {
     "duration": 0.107589,
     "end_time": "2022-10-23T19:10:00.453332",
     "exception": false,
     "start_time": "2022-10-23T19:10:00.345743",
     "status": "completed"
    },
    "tags": []
   },
   "outputs": [
    {
     "data": {
      "text/html": [
       "<div>\n",
       "<style scoped>\n",
       "    .dataframe tbody tr th:only-of-type {\n",
       "        vertical-align: middle;\n",
       "    }\n",
       "\n",
       "    .dataframe tbody tr th {\n",
       "        vertical-align: top;\n",
       "    }\n",
       "\n",
       "    .dataframe thead th {\n",
       "        text-align: right;\n",
       "    }\n",
       "</style>\n",
       "<table border=\"1\" class=\"dataframe\">\n",
       "  <thead>\n",
       "    <tr style=\"text-align: right;\">\n",
       "      <th></th>\n",
       "      <th>salary_in_usd</th>\n",
       "    </tr>\n",
       "  </thead>\n",
       "  <tbody>\n",
       "    <tr>\n",
       "      <th>0</th>\n",
       "      <td>79833</td>\n",
       "    </tr>\n",
       "    <tr>\n",
       "      <th>1</th>\n",
       "      <td>260000</td>\n",
       "    </tr>\n",
       "    <tr>\n",
       "      <th>2</th>\n",
       "      <td>109024</td>\n",
       "    </tr>\n",
       "    <tr>\n",
       "      <th>3</th>\n",
       "      <td>20000</td>\n",
       "    </tr>\n",
       "    <tr>\n",
       "      <th>4</th>\n",
       "      <td>150000</td>\n",
       "    </tr>\n",
       "    <tr>\n",
       "      <th>...</th>\n",
       "      <td>...</td>\n",
       "    </tr>\n",
       "    <tr>\n",
       "      <th>602</th>\n",
       "      <td>154000</td>\n",
       "    </tr>\n",
       "    <tr>\n",
       "      <th>603</th>\n",
       "      <td>126000</td>\n",
       "    </tr>\n",
       "    <tr>\n",
       "      <th>604</th>\n",
       "      <td>129000</td>\n",
       "    </tr>\n",
       "    <tr>\n",
       "      <th>605</th>\n",
       "      <td>150000</td>\n",
       "    </tr>\n",
       "    <tr>\n",
       "      <th>606</th>\n",
       "      <td>200000</td>\n",
       "    </tr>\n",
       "  </tbody>\n",
       "</table>\n",
       "<p>607 rows × 1 columns</p>\n",
       "</div>"
      ],
      "text/plain": [
       "     salary_in_usd\n",
       "0            79833\n",
       "1           260000\n",
       "2           109024\n",
       "3            20000\n",
       "4           150000\n",
       "..             ...\n",
       "602         154000\n",
       "603         126000\n",
       "604         129000\n",
       "605         150000\n",
       "606         200000\n",
       "\n",
       "[607 rows x 1 columns]"
      ]
     },
     "execution_count": 20,
     "metadata": {},
     "output_type": "execute_result"
    }
   ],
   "source": [
    "salary_usd = query(\"\"\"SELECT salary_in_usd\n",
    "                      FROM   salaries\"\"\")\n",
    "salary_usd "
   ]
  },
  {
   "cell_type": "code",
   "execution_count": 21,
   "id": "8e150fe3",
   "metadata": {
    "execution": {
     "iopub.execute_input": "2022-10-23T19:10:00.515446Z",
     "iopub.status.busy": "2022-10-23T19:10:00.515075Z",
     "iopub.status.idle": "2022-10-23T19:10:00.950636Z",
     "shell.execute_reply": "2022-10-23T19:10:00.949431Z"
    },
    "papermill": {
     "duration": 0.469683,
     "end_time": "2022-10-23T19:10:00.953094",
     "exception": false,
     "start_time": "2022-10-23T19:10:00.483411",
     "status": "completed"
    },
    "tags": []
   },
   "outputs": [
    {
     "data": {
      "image/png": "[encoded data removed]",
      "text/plain": [
       "<Figure size 1440x576 with 1 Axes>"
      ]
     },
     "metadata": {
      "needs_background": "light"
     },
     "output_type": "display_data"
    }
   ],
   "source": [
    "plt.figure(figsize=(20, 8))\n",
    "sns.set(rc={'axes.facecolor':'#f1e7d2', 'figure.facecolor':'#f1e7d2'})\n",
    "p = sns.histplot(salary_usd[\"salary_in_usd\"],color=colors[1],\n",
    "                 kde=True,alpha=1,fill=True,edgecolor=\"black\",linewidth=3)\n",
    "p.axes.lines[0].set_color(\"orange\")\n",
    "plt.title(\"Data Science Salary Distribution\\n\",fontsize=25)\n",
    "plt.xlabel(\"Salary\",fontsize=18)\n",
    "plt.show()"
   ]
  },
  {
   "cell_type": "markdown",
   "id": "78e0e4b9",
   "metadata": {
    "papermill": {
     "duration": 0.031006,
     "end_time": "2022-10-23T19:10:01.016041",
     "exception": false,
     "start_time": "2022-10-23T19:10:00.985035",
     "status": "completed"
    },
    "tags": []
   },
   "source": [
    "<a id=\"4\"></a>\n",
    "## <div style=\"text-align: left; background-color:#f1e7d2 ; font-family: Trebuchet MS; color: #7B3F00; padding: 15px; line-height:1;border-radius:1px; margin-bottom: 0em; text-align: center; font-size: 25px;border-style: solid;border-color: dark green;\">4.7 Top10 Highest Paid Data Science Jobs </div> "
   ]
  },
  {
   "cell_type": "code",
   "execution_count": 22,
   "id": "02a37636",
   "metadata": {
    "execution": {
     "iopub.execute_input": "2022-10-23T19:10:01.080482Z",
     "iopub.status.busy": "2022-10-23T19:10:01.080076Z",
     "iopub.status.idle": "2022-10-23T19:10:01.155163Z",
     "shell.execute_reply": "2022-10-23T19:10:01.154045Z"
    },
    "papermill": {
     "duration": 0.110818,
     "end_time": "2022-10-23T19:10:01.157574",
     "exception": false,
     "start_time": "2022-10-23T19:10:01.046756",
     "status": "completed"
    },
    "tags": []
   },
   "outputs": [
    {
     "data": {
      "text/html": [
       "<div>\n",
       "<style scoped>\n",
       "    .dataframe tbody tr th:only-of-type {\n",
       "        vertical-align: middle;\n",
       "    }\n",
       "\n",
       "    .dataframe tbody tr th {\n",
       "        vertical-align: top;\n",
       "    }\n",
       "\n",
       "    .dataframe thead th {\n",
       "        text-align: right;\n",
       "    }\n",
       "</style>\n",
       "<table border=\"1\" class=\"dataframe\">\n",
       "  <thead>\n",
       "    <tr style=\"text-align: right;\">\n",
       "      <th></th>\n",
       "      <th>job_title</th>\n",
       "      <th>salary</th>\n",
       "    </tr>\n",
       "  </thead>\n",
       "  <tbody>\n",
       "    <tr>\n",
       "      <th>0</th>\n",
       "      <td>Principal Data Engineer</td>\n",
       "      <td>600000</td>\n",
       "    </tr>\n",
       "    <tr>\n",
       "      <th>1</th>\n",
       "      <td>Research Scientist</td>\n",
       "      <td>450000</td>\n",
       "    </tr>\n",
       "    <tr>\n",
       "      <th>2</th>\n",
       "      <td>Applied Machine Learning Scientist</td>\n",
       "      <td>423000</td>\n",
       "    </tr>\n",
       "    <tr>\n",
       "      <th>3</th>\n",
       "      <td>Principal Data Scientist</td>\n",
       "      <td>416000</td>\n",
       "    </tr>\n",
       "    <tr>\n",
       "      <th>4</th>\n",
       "      <td>Data Scientist</td>\n",
       "      <td>412000</td>\n",
       "    </tr>\n",
       "    <tr>\n",
       "      <th>5</th>\n",
       "      <td>Data Analytics Lead</td>\n",
       "      <td>405000</td>\n",
       "    </tr>\n",
       "    <tr>\n",
       "      <th>6</th>\n",
       "      <td>Applied Data Scientist</td>\n",
       "      <td>380000</td>\n",
       "    </tr>\n",
       "    <tr>\n",
       "      <th>7</th>\n",
       "      <td>Director of Data Science</td>\n",
       "      <td>325000</td>\n",
       "    </tr>\n",
       "    <tr>\n",
       "      <th>8</th>\n",
       "      <td>Data Engineer</td>\n",
       "      <td>324000</td>\n",
       "    </tr>\n",
       "    <tr>\n",
       "      <th>9</th>\n",
       "      <td>Lead Data Engineer</td>\n",
       "      <td>276000</td>\n",
       "    </tr>\n",
       "  </tbody>\n",
       "</table>\n",
       "</div>"
      ],
      "text/plain": [
       "                            job_title  salary\n",
       "0             Principal Data Engineer  600000\n",
       "1                  Research Scientist  450000\n",
       "2  Applied Machine Learning Scientist  423000\n",
       "3            Principal Data Scientist  416000\n",
       "4                      Data Scientist  412000\n",
       "5                 Data Analytics Lead  405000\n",
       "6              Applied Data Scientist  380000\n",
       "7            Director of Data Science  325000\n",
       "8                       Data Engineer  324000\n",
       "9                  Lead Data Engineer  276000"
      ]
     },
     "execution_count": 22,
     "metadata": {},
     "output_type": "execute_result"
    }
   ],
   "source": [
    "salary_hi10 = query(\"\"\"SELECT   job_title, \n",
    "                       MAX(salary_in_usd) AS salary \n",
    "                       FROM     salaries \n",
    "                       GROUP BY salary \n",
    "                       ORDER BY salary    DESC\n",
    "                       LIMIT 10\"\"\")\n",
    "salary_hi10"
   ]
  },
  {
   "cell_type": "code",
   "execution_count": 23,
   "id": "24e68e7f",
   "metadata": {
    "execution": {
     "iopub.execute_input": "2022-10-23T19:10:01.221393Z",
     "iopub.status.busy": "2022-10-23T19:10:01.220732Z",
     "iopub.status.idle": "2022-10-23T19:10:01.242134Z",
     "shell.execute_reply": "2022-10-23T19:10:01.241065Z"
    },
    "papermill": {
     "duration": 0.056417,
     "end_time": "2022-10-23T19:10:01.244905",
     "exception": false,
     "start_time": "2022-10-23T19:10:01.188488",
     "status": "completed"
    },
    "tags": []
   },
   "outputs": [
    {
     "data": {
      "application/vnd.plotly.v1+json": {
       "config": {
        "plotlyServerURL": "https://plot.ly"
       },
       "data": [
        {
         "insidetextanchor": "middle",
         "marker": {
          "color": [
           "#003f5c",
           "#2f4b7c",
           "#665191",
           "#a05195",
           "#d45087",
           "#f95d6a",
           "#ff7c43",
           "#ffa600"
          ],
          "line": {
           "color": "white",
           "width": 3
          },
          "opacity": 0.9
         },
         "orientation": "h",
         "text": [
          600000.0,
          450000.0,
          423000.0,
          416000.0,
          412000.0,
          405000.0,
          380000.0,
          325000.0,
          324000.0,
          276000.0
         ],
         "textfont": {
          "color": "white",
          "size": 13
         },
         "textposition": "inside",
         "type": "bar",
         "x": [
          600000,
          450000,
          423000,
          416000,
          412000,
          405000,
          380000,
          325000,
          324000,
          276000
         ],
         "y": [
          "Principal Data Engineer",
          "Research Scientist",
          "Applied Machine Learning Scientist",
          "Principal Data Scientist",
          "Data Scientist",
          "Data Analytics Lead",
          "Applied Data Scientist",
          "Director of Data Science",
          "Data Engineer",
          "Lead Data Engineer"
         ]
        }
       ],
       "layout": {
        "height": 600,
        "paper_bgcolor": "#f1e7d2",
        "plot_bgcolor": "#f1e7d2",
        "template": {
         "data": {
          "bar": [
           {
            "error_x": {
             "color": "#2a3f5f"
            },
            "error_y": {
             "color": "#2a3f5f"
            },
            "marker": {
             "line": {
              "color": "#E5ECF6",
              "width": 0.5
             },
             "pattern": {
              "fillmode": "overlay",
              "size": 10,
              "solidity": 0.2
             }
            },
            "type": "bar"
           }
          ],
          "barpolar": [
           {
            "marker": {
             "line": {
              "color": "#E5ECF6",
              "width": 0.5
             },
             "pattern": {
              "fillmode": "overlay",
              "size": 10,
              "solidity": 0.2
             }
            },
            "type": "barpolar"
           }
          ],
          "carpet": [
           {
            "aaxis": {
             "endlinecolor": "#2a3f5f",
             "gridcolor": "white",
             "linecolor": "white",
             "minorgridcolor": "white",
             "startlinecolor": "#2a3f5f"
            },
            "baxis": {
             "endlinecolor": "#2a3f5f",
             "gridcolor": "white",
             "linecolor": "white",
             "minorgridcolor": "white",
             "startlinecolor": "#2a3f5f"
            },
            "type": "carpet"
           }
          ],
          "choropleth": [
           {
            "colorbar": {
             "outlinewidth": 0,
             "ticks": ""
            },
            "type": "choropleth"
           }
          ],
          "contour": [
           {
            "colorbar": {
             "outlinewidth": 0,
             "ticks": ""
            },
            "colorscale": [
             [
              0.0,
              "#0d0887"
             ],
             [
              0.1111111111111111,
              "#46039f"
             ],
             [
              0.2222222222222222,
              "#7201a8"
             ],
             [
              0.3333333333333333,
              "#9c179e"
             ],
             [
              0.4444444444444444,
              "#bd3786"
             ],
             [
              0.5555555555555556,
              "#d8576b"
             ],
             [
              0.6666666666666666,
              "#ed7953"
             ],
             [
              0.7777777777777778,
              "#fb9f3a"
             ],
             [
              0.8888888888888888,
              "#fdca26"
             ],
             [
              1.0,
              "#f0f921"
             ]
            ],
            "type": "contour"
           }
          ],
          "contourcarpet": [
           {
            "colorbar": {
             "outlinewidth": 0,
             "ticks": ""
            },
            "type": "contourcarpet"
           }
          ],
          "heatmap": [
           {
            "colorbar": {
             "outlinewidth": 0,
             "ticks": ""
            },
            "colorscale": [
             [
              0.0,
              "#0d0887"
             ],
             [
              0.1111111111111111,
              "#46039f"
             ],
             [
              0.2222222222222222,
              "#7201a8"
             ],
             [
              0.3333333333333333,
              "#9c179e"
             ],
             [
              0.4444444444444444,
              "#bd3786"
             ],
             [
              0.5555555555555556,
              "#d8576b"
             ],
             [
              0.6666666666666666,
              "#ed7953"
             ],
             [
              0.7777777777777778,
              "#fb9f3a"
             ],
             [
              0.8888888888888888,
              "#fdca26"
             ],
             [
              1.0,
              "#f0f921"
             ]
            ],
            "type": "heatmap"
           }
          ],
          "heatmapgl": [
           {
            "colorbar": {
             "outlinewidth": 0,
             "ticks": ""
            },
            "colorscale": [
             [
              0.0,
              "#0d0887"
             ],
             [
              0.1111111111111111,
              "#46039f"
             ],
             [
              0.2222222222222222,
              "#7201a8"
             ],
             [
              0.3333333333333333,
              "#9c179e"
             ],
             [
              0.4444444444444444,
              "#bd3786"
             ],
             [
              0.5555555555555556,
              "#d8576b"
             ],
             [
              0.6666666666666666,
              "#ed7953"
             ],
             [
              0.7777777777777778,
              "#fb9f3a"
             ],
             [
              0.8888888888888888,
              "#fdca26"
             ],
             [
              1.0,
              "#f0f921"
             ]
            ],
            "type": "heatmapgl"
           }
          ],
          "histogram": [
           {
            "marker": {
             "pattern": {
              "fillmode": "overlay",
              "size": 10,
              "solidity": 0.2
             }
            },
            "type": "histogram"
           }
          ],
          "histogram2d": [
           {
            "colorbar": {
             "outlinewidth": 0,
             "ticks": ""
            },
            "colorscale": [
             [
              0.0,
              "#0d0887"
             ],
             [
              0.1111111111111111,
              "#46039f"
             ],
             [
              0.2222222222222222,
              "#7201a8"
             ],
             [
              0.3333333333333333,
              "#9c179e"
             ],
             [
              0.4444444444444444,
              "#bd3786"
             ],
             [
              0.5555555555555556,
              "#d8576b"
             ],
             [
              0.6666666666666666,
              "#ed7953"
             ],
             [
              0.7777777777777778,
              "#fb9f3a"
             ],
             [
              0.8888888888888888,
              "#fdca26"
             ],
             [
              1.0,
              "#f0f921"
             ]
            ],
            "type": "histogram2d"
           }
          ],
          "histogram2dcontour": [
           {
            "colorbar": {
             "outlinewidth": 0,
             "ticks": ""
            },
            "colorscale": [
             [
              0.0,
              "#0d0887"
             ],
             [
              0.1111111111111111,
              "#46039f"
             ],
             [
              0.2222222222222222,
              "#7201a8"
             ],
             [
              0.3333333333333333,
              "#9c179e"
             ],
             [
              0.4444444444444444,
              "#bd3786"
             ],
             [
              0.5555555555555556,
              "#d8576b"
             ],
             [
              0.6666666666666666,
              "#ed7953"
             ],
             [
              0.7777777777777778,
              "#fb9f3a"
             ],
             [
              0.8888888888888888,
              "#fdca26"
             ],
             [
              1.0,
              "#f0f921"
             ]
            ],
            "type": "histogram2dcontour"
           }
          ],
          "mesh3d": [
           {
            "colorbar": {
             "outlinewidth": 0,
             "ticks": ""
            },
            "type": "mesh3d"
           }
          ],
          "parcoords": [
           {
            "line": {
             "colorbar": {
              "outlinewidth": 0,
              "ticks": ""
             }
            },
            "type": "parcoords"
           }
          ],
          "pie": [
           {
            "automargin": true,
            "type": "pie"
           }
          ],
          "scatter": [
           {
            "fillpattern": {
             "fillmode": "overlay",
             "size": 10,
             "solidity": 0.2
            },
            "type": "scatter"
           }
          ],
          "scatter3d": [
           {
            "line": {
             "colorbar": {
              "outlinewidth": 0,
              "ticks": ""
             }
            },
            "marker": {
             "colorbar": {
              "outlinewidth": 0,
              "ticks": ""
             }
            },
            "type": "scatter3d"
           }
          ],
          "scattercarpet": [
           {
            "marker": {
             "colorbar": {
              "outlinewidth": 0,
              "ticks": ""
             }
            },
            "type": "scattercarpet"
           }
          ],
          "scattergeo": [
           {
            "marker": {
             "colorbar": {
              "outlinewidth": 0,
              "ticks": ""
             }
            },
            "type": "scattergeo"
           }
          ],
          "scattergl": [
           {
            "marker": {
             "colorbar": {
              "outlinewidth": 0,
              "ticks": ""
             }
            },
            "type": "scattergl"
           }
          ],
          "scattermapbox": [
           {
            "marker": {
             "colorbar": {
              "outlinewidth": 0,
              "ticks": ""
             }
            },
            "type": "scattermapbox"
           }
          ],
          "scatterpolar": [
           {
            "marker": {
             "colorbar": {
              "outlinewidth": 0,
              "ticks": ""
             }
            },
            "type": "scatterpolar"
           }
          ],
          "scatterpolargl": [
           {
            "marker": {
             "colorbar": {
              "outlinewidth": 0,
              "ticks": ""
             }
            },
            "type": "scatterpolargl"
           }
          ],
          "scatterternary": [
           {
            "marker": {
             "colorbar": {
              "outlinewidth": 0,
              "ticks": ""
             }
            },
            "type": "scatterternary"
           }
          ],
          "surface": [
           {
            "colorbar": {
             "outlinewidth": 0,
             "ticks": ""
            },
            "colorscale": [
             [
              0.0,
              "#0d0887"
             ],
             [
              0.1111111111111111,
              "#46039f"
             ],
             [
              0.2222222222222222,
              "#7201a8"
             ],
             [
              0.3333333333333333,
              "#9c179e"
             ],
             [
              0.4444444444444444,
              "#bd3786"
             ],
             [
              0.5555555555555556,
              "#d8576b"
             ],
             [
              0.6666666666666666,
              "#ed7953"
             ],
             [
              0.7777777777777778,
              "#fb9f3a"
             ],
             [
              0.8888888888888888,
              "#fdca26"
             ],
             [
              1.0,
              "#f0f921"
             ]
            ],
            "type": "surface"
           }
          ],
          "table": [
           {
            "cells": {
             "fill": {
              "color": "#EBF0F8"
             },
             "line": {
              "color": "white"
             }
            },
            "header": {
             "fill": {
              "color": "#C8D4E3"
             },
             "line": {
              "color": "white"
             }
            },
            "type": "table"
           }
          ]
         },
         "layout": {
          "annotationdefaults": {
           "arrowcolor": "#2a3f5f",
           "arrowhead": 0,
           "arrowwidth": 1
          },
          "autotypenumbers": "strict",
          "coloraxis": {
           "colorbar": {
            "outlinewidth": 0,
            "ticks": ""
           }
          },
          "colorscale": {
           "diverging": [
            [
             0,
             "#8e0152"
            ],
            [
             0.1,
             "#c51b7d"
            ],
            [
             0.2,
             "#de77ae"
            ],
            [
             0.3,
             "#f1b6da"
            ],
            [
             0.4,
             "#fde0ef"
            ],
            [
             0.5,
             "#f7f7f7"
            ],
            [
             0.6,
             "#e6f5d0"
            ],
            [
             0.7,
             "#b8e186"
            ],
            [
             0.8,
             "#7fbc41"
            ],
            [
             0.9,
             "#4d9221"
            ],
            [
             1,
             "#276419"
            ]
           ],
           "sequential": [
            [
             0.0,
             "#0d0887"
            ],
            [
             0.1111111111111111,
             "#46039f"
            ],
            [
             0.2222222222222222,
             "#7201a8"
            ],
            [
             0.3333333333333333,
             "#9c179e"
            ],
            [
             0.4444444444444444,
             "#bd3786"
            ],
            [
             0.5555555555555556,
             "#d8576b"
            ],
            [
             0.6666666666666666,
             "#ed7953"
            ],
            [
             0.7777777777777778,
             "#fb9f3a"
            ],
            [
             0.8888888888888888,
             "#fdca26"
            ],
            [
             1.0,
             "#f0f921"
            ]
           ],
           "sequentialminus": [
            [
             0.0,
             "#0d0887"
            ],
            [
             0.1111111111111111,
             "#46039f"
            ],
            [
             0.2222222222222222,
             "#7201a8"
            ],
            [
             0.3333333333333333,
             "#9c179e"
            ],
            [
             0.4444444444444444,
             "#bd3786"
            ],
            [
             0.5555555555555556,
             "#d8576b"
            ],
            [
             0.6666666666666666,
             "#ed7953"
            ],
            [
             0.7777777777777778,
             "#fb9f3a"
            ],
            [
             0.8888888888888888,
             "#fdca26"
            ],
            [
             1.0,
             "#f0f921"
            ]
           ]
          },
          "colorway": [
           "#636efa",
           "#EF553B",
           "#00cc96",
           "#ab63fa",
           "#FFA15A",
           "#19d3f3",
           "#FF6692",
           "#B6E880",
           "#FF97FF",
           "#FECB52"
          ],
          "font": {
           "color": "#2a3f5f"
          },
          "geo": {
           "bgcolor": "white",
           "lakecolor": "white",
           "landcolor": "#E5ECF6",
           "showlakes": true,
           "showland": true,
           "subunitcolor": "white"
          },
          "hoverlabel": {
           "align": "left"
          },
          "hovermode": "closest",
          "mapbox": {
           "style": "light"
          },
          "paper_bgcolor": "white",
          "plot_bgcolor": "#E5ECF6",
          "polar": {
           "angularaxis": {
            "gridcolor": "white",
            "linecolor": "white",
            "ticks": ""
           },
           "bgcolor": "#E5ECF6",
           "radialaxis": {
            "gridcolor": "white",
            "linecolor": "white",
            "ticks": ""
           }
          },
          "scene": {
           "xaxis": {
            "backgroundcolor": "#E5ECF6",
            "gridcolor": "white",
            "gridwidth": 2,
            "linecolor": "white",
            "showbackground": true,
            "ticks": "",
            "zerolinecolor": "white"
           },
           "yaxis": {
            "backgroundcolor": "#E5ECF6",
            "gridcolor": "white",
            "gridwidth": 2,
            "linecolor": "white",
            "showbackground": true,
            "ticks": "",
            "zerolinecolor": "white"
           },
           "zaxis": {
            "backgroundcolor": "#E5ECF6",
            "gridcolor": "white",
            "gridwidth": 2,
            "linecolor": "white",
            "showbackground": true,
            "ticks": "",
            "zerolinecolor": "white"
           }
          },
          "shapedefaults": {
           "line": {
            "color": "#2a3f5f"
           }
          },
          "ternary": {
           "aaxis": {
            "gridcolor": "white",
            "linecolor": "white",
            "ticks": ""
           },
           "baxis": {
            "gridcolor": "white",
            "linecolor": "white",
            "ticks": ""
           },
           "bgcolor": "#E5ECF6",
           "caxis": {
            "gridcolor": "white",
            "linecolor": "white",
            "ticks": ""
           }
          },
          "title": {
           "x": 0.05
          },
          "xaxis": {
           "automargin": true,
           "gridcolor": "white",
           "linecolor": "white",
           "ticks": "",
           "title": {
            "standoff": 15
           },
           "zerolinecolor": "white",
           "zerolinewidth": 2
          },
          "yaxis": {
           "automargin": true,
           "gridcolor": "white",
           "linecolor": "white",
           "ticks": "",
           "title": {
            "standoff": 15
           },
           "zerolinecolor": "white",
           "zerolinewidth": 2
          }
         }
        },
        "title": {
         "text": "<b><i>Top 10 Highest paid Data Science Jobs</i></b>",
         "x": 0.5,
         "xanchor": "center"
        },
        "width": 900,
        "xaxis": {
         "tickmode": "array",
         "title": {
          "text": "<b>salary</b>"
         }
        },
        "yaxis": {
         "title": {
          "text": "<b>Job Title</b>"
         }
        }
       }
      },
      "text/html": [
       "<div>                            <div id=\"bf079339-d859-45bc-8d8f-b83fbfb23f74\" class=\"plotly-graph-div\" style=\"height:600px; width:900px;\"></div>            <script type=\"text/javascript\">                require([\"plotly\"], function(Plotly) {                    window.PLOTLYENV=window.PLOTLYENV || {};                                    if (document.getElementById(\"bf079339-d859-45bc-8d8f-b83fbfb23f74\")) {                    Plotly.newPlot(                        \"bf079339-d859-45bc-8d8f-b83fbfb23f74\",                        [{\"insidetextanchor\":\"middle\",\"marker\":{\"color\":[\"#003f5c\",\"#2f4b7c\",\"#665191\",\"#a05195\",\"#d45087\",\"#f95d6a\",\"#ff7c43\",\"#ffa600\"],\"line\":{\"color\":\"white\",\"width\":3},\"opacity\":0.9},\"orientation\":\"h\",\"text\":[600000.0,450000.0,423000.0,416000.0,412000.0,405000.0,380000.0,325000.0,324000.0,276000.0],\"textfont\":{\"color\":\"white\",\"size\":13},\"textposition\":\"inside\",\"x\":[600000,450000,423000,416000,412000,405000,380000,325000,324000,276000],\"y\":[\"Principal Data Engineer\",\"Research Scientist\",\"Applied Machine Learning Scientist\",\"Principal Data Scientist\",\"Data Scientist\",\"Data Analytics Lead\",\"Applied Data Scientist\",\"Director of Data Science\",\"Data Engineer\",\"Lead Data Engineer\"],\"type\":\"bar\"}],                        {\"height\":600,\"title\":{\"text\":\"<b><i>Top 10 Highest paid Data Science Jobs</i></b>\",\"x\":0.5,\"xanchor\":\"center\"},\"width\":900,\"xaxis\":{\"tickmode\":\"array\",\"title\":{\"text\":\"<b>salary</b>\"}},\"yaxis\":{\"title\":{\"text\":\"<b>Job Title</b>\"}},\"template\":{\"data\":{\"histogram2dcontour\":[{\"type\":\"histogram2dcontour\",\"colorbar\":{\"outlinewidth\":0,\"ticks\":\"\"},\"colorscale\":[[0.0,\"#0d0887\"],[0.1111111111111111,\"#46039f\"],[0.2222222222222222,\"#7201a8\"],[0.3333333333333333,\"#9c179e\"],[0.4444444444444444,\"#bd3786\"],[0.5555555555555556,\"#d8576b\"],[0.6666666666666666,\"#ed7953\"],[0.7777777777777778,\"#fb9f3a\"],[0.8888888888888888,\"#fdca26\"],[1.0,\"#f0f921\"]]}],\"choropleth\":[{\"type\":\"choropleth\",\"colorbar\":{\"outlinewidth\":0,\"ticks\":\"\"}}],\"histogram2d\":[{\"type\":\"histogram2d\",\"colorbar\":{\"outlinewidth\":0,\"ticks\":\"\"},\"colorscale\":[[0.0,\"#0d0887\"],[0.1111111111111111,\"#46039f\"],[0.2222222222222222,\"#7201a8\"],[0.3333333333333333,\"#9c179e\"],[0.4444444444444444,\"#bd3786\"],[0.5555555555555556,\"#d8576b\"],[0.6666666666666666,\"#ed7953\"],[0.7777777777777778,\"#fb9f3a\"],[0.8888888888888888,\"#fdca26\"],[1.0,\"#f0f921\"]]}],\"heatmap\":[{\"type\":\"heatmap\",\"colorbar\":{\"outlinewidth\":0,\"ticks\":\"\"},\"colorscale\":[[0.0,\"#0d0887\"],[0.1111111111111111,\"#46039f\"],[0.2222222222222222,\"#7201a8\"],[0.3333333333333333,\"#9c179e\"],[0.4444444444444444,\"#bd3786\"],[0.5555555555555556,\"#d8576b\"],[0.6666666666666666,\"#ed7953\"],[0.7777777777777778,\"#fb9f3a\"],[0.8888888888888888,\"#fdca26\"],[1.0,\"#f0f921\"]]}],\"heatmapgl\":[{\"type\":\"heatmapgl\",\"colorbar\":{\"outlinewidth\":0,\"ticks\":\"\"},\"colorscale\":[[0.0,\"#0d0887\"],[0.1111111111111111,\"#46039f\"],[0.2222222222222222,\"#7201a8\"],[0.3333333333333333,\"#9c179e\"],[0.4444444444444444,\"#bd3786\"],[0.5555555555555556,\"#d8576b\"],[0.6666666666666666,\"#ed7953\"],[0.7777777777777778,\"#fb9f3a\"],[0.8888888888888888,\"#fdca26\"],[1.0,\"#f0f921\"]]}],\"contourcarpet\":[{\"type\":\"contourcarpet\",\"colorbar\":{\"outlinewidth\":0,\"ticks\":\"\"}}],\"contour\":[{\"type\":\"contour\",\"colorbar\":{\"outlinewidth\":0,\"ticks\":\"\"},\"colorscale\":[[0.0,\"#0d0887\"],[0.1111111111111111,\"#46039f\"],[0.2222222222222222,\"#7201a8\"],[0.3333333333333333,\"#9c179e\"],[0.4444444444444444,\"#bd3786\"],[0.5555555555555556,\"#d8576b\"],[0.6666666666666666,\"#ed7953\"],[0.7777777777777778,\"#fb9f3a\"],[0.8888888888888888,\"#fdca26\"],[1.0,\"#f0f921\"]]}],\"surface\":[{\"type\":\"surface\",\"colorbar\":{\"outlinewidth\":0,\"ticks\":\"\"},\"colorscale\":[[0.0,\"#0d0887\"],[0.1111111111111111,\"#46039f\"],[0.2222222222222222,\"#7201a8\"],[0.3333333333333333,\"#9c179e\"],[0.4444444444444444,\"#bd3786\"],[0.5555555555555556,\"#d8576b\"],[0.6666666666666666,\"#ed7953\"],[0.7777777777777778,\"#fb9f3a\"],[0.8888888888888888,\"#fdca26\"],[1.0,\"#f0f921\"]]}],\"mesh3d\":[{\"type\":\"mesh3d\",\"colorbar\":{\"outlinewidth\":0,\"ticks\":\"\"}}],\"scatter\":[{\"fillpattern\":{\"fillmode\":\"overlay\",\"size\":10,\"solidity\":0.2},\"type\":\"scatter\"}],\"parcoords\":[{\"type\":\"parcoords\",\"line\":{\"colorbar\":{\"outlinewidth\":0,\"ticks\":\"\"}}}],\"scatterpolargl\":[{\"type\":\"scatterpolargl\",\"marker\":{\"colorbar\":{\"outlinewidth\":0,\"ticks\":\"\"}}}],\"bar\":[{\"error_x\":{\"color\":\"#2a3f5f\"},\"error_y\":{\"color\":\"#2a3f5f\"},\"marker\":{\"line\":{\"color\":\"#E5ECF6\",\"width\":0.5},\"pattern\":{\"fillmode\":\"overlay\",\"size\":10,\"solidity\":0.2}},\"type\":\"bar\"}],\"scattergeo\":[{\"type\":\"scattergeo\",\"marker\":{\"colorbar\":{\"outlinewidth\":0,\"ticks\":\"\"}}}],\"scatterpolar\":[{\"type\":\"scatterpolar\",\"marker\":{\"colorbar\":{\"outlinewidth\":0,\"ticks\":\"\"}}}],\"histogram\":[{\"marker\":{\"pattern\":{\"fillmode\":\"overlay\",\"size\":10,\"solidity\":0.2}},\"type\":\"histogram\"}],\"scattergl\":[{\"type\":\"scattergl\",\"marker\":{\"colorbar\":{\"outlinewidth\":0,\"ticks\":\"\"}}}],\"scatter3d\":[{\"type\":\"scatter3d\",\"line\":{\"colorbar\":{\"outlinewidth\":0,\"ticks\":\"\"}},\"marker\":{\"colorbar\":{\"outlinewidth\":0,\"ticks\":\"\"}}}],\"scattermapbox\":[{\"type\":\"scattermapbox\",\"marker\":{\"colorbar\":{\"outlinewidth\":0,\"ticks\":\"\"}}}],\"scatterternary\":[{\"type\":\"scatterternary\",\"marker\":{\"colorbar\":{\"outlinewidth\":0,\"ticks\":\"\"}}}],\"scattercarpet\":[{\"type\":\"scattercarpet\",\"marker\":{\"colorbar\":{\"outlinewidth\":0,\"ticks\":\"\"}}}],\"carpet\":[{\"aaxis\":{\"endlinecolor\":\"#2a3f5f\",\"gridcolor\":\"white\",\"linecolor\":\"white\",\"minorgridcolor\":\"white\",\"startlinecolor\":\"#2a3f5f\"},\"baxis\":{\"endlinecolor\":\"#2a3f5f\",\"gridcolor\":\"white\",\"linecolor\":\"white\",\"minorgridcolor\":\"white\",\"startlinecolor\":\"#2a3f5f\"},\"type\":\"carpet\"}],\"table\":[{\"cells\":{\"fill\":{\"color\":\"#EBF0F8\"},\"line\":{\"color\":\"white\"}},\"header\":{\"fill\":{\"color\":\"#C8D4E3\"},\"line\":{\"color\":\"white\"}},\"type\":\"table\"}],\"barpolar\":[{\"marker\":{\"line\":{\"color\":\"#E5ECF6\",\"width\":0.5},\"pattern\":{\"fillmode\":\"overlay\",\"size\":10,\"solidity\":0.2}},\"type\":\"barpolar\"}],\"pie\":[{\"automargin\":true,\"type\":\"pie\"}]},\"layout\":{\"autotypenumbers\":\"strict\",\"colorway\":[\"#636efa\",\"#EF553B\",\"#00cc96\",\"#ab63fa\",\"#FFA15A\",\"#19d3f3\",\"#FF6692\",\"#B6E880\",\"#FF97FF\",\"#FECB52\"],\"font\":{\"color\":\"#2a3f5f\"},\"hovermode\":\"closest\",\"hoverlabel\":{\"align\":\"left\"},\"paper_bgcolor\":\"white\",\"plot_bgcolor\":\"#E5ECF6\",\"polar\":{\"bgcolor\":\"#E5ECF6\",\"angularaxis\":{\"gridcolor\":\"white\",\"linecolor\":\"white\",\"ticks\":\"\"},\"radialaxis\":{\"gridcolor\":\"white\",\"linecolor\":\"white\",\"ticks\":\"\"}},\"ternary\":{\"bgcolor\":\"#E5ECF6\",\"aaxis\":{\"gridcolor\":\"white\",\"linecolor\":\"white\",\"ticks\":\"\"},\"baxis\":{\"gridcolor\":\"white\",\"linecolor\":\"white\",\"ticks\":\"\"},\"caxis\":{\"gridcolor\":\"white\",\"linecolor\":\"white\",\"ticks\":\"\"}},\"coloraxis\":{\"colorbar\":{\"outlinewidth\":0,\"ticks\":\"\"}},\"colorscale\":{\"sequential\":[[0.0,\"#0d0887\"],[0.1111111111111111,\"#46039f\"],[0.2222222222222222,\"#7201a8\"],[0.3333333333333333,\"#9c179e\"],[0.4444444444444444,\"#bd3786\"],[0.5555555555555556,\"#d8576b\"],[0.6666666666666666,\"#ed7953\"],[0.7777777777777778,\"#fb9f3a\"],[0.8888888888888888,\"#fdca26\"],[1.0,\"#f0f921\"]],\"sequentialminus\":[[0.0,\"#0d0887\"],[0.1111111111111111,\"#46039f\"],[0.2222222222222222,\"#7201a8\"],[0.3333333333333333,\"#9c179e\"],[0.4444444444444444,\"#bd3786\"],[0.5555555555555556,\"#d8576b\"],[0.6666666666666666,\"#ed7953\"],[0.7777777777777778,\"#fb9f3a\"],[0.8888888888888888,\"#fdca26\"],[1.0,\"#f0f921\"]],\"diverging\":[[0,\"#8e0152\"],[0.1,\"#c51b7d\"],[0.2,\"#de77ae\"],[0.3,\"#f1b6da\"],[0.4,\"#fde0ef\"],[0.5,\"#f7f7f7\"],[0.6,\"#e6f5d0\"],[0.7,\"#b8e186\"],[0.8,\"#7fbc41\"],[0.9,\"#4d9221\"],[1,\"#276419\"]]},\"xaxis\":{\"gridcolor\":\"white\",\"linecolor\":\"white\",\"ticks\":\"\",\"title\":{\"standoff\":15},\"zerolinecolor\":\"white\",\"automargin\":true,\"zerolinewidth\":2},\"yaxis\":{\"gridcolor\":\"white\",\"linecolor\":\"white\",\"ticks\":\"\",\"title\":{\"standoff\":15},\"zerolinecolor\":\"white\",\"automargin\":true,\"zerolinewidth\":2},\"scene\":{\"xaxis\":{\"backgroundcolor\":\"#E5ECF6\",\"gridcolor\":\"white\",\"linecolor\":\"white\",\"showbackground\":true,\"ticks\":\"\",\"zerolinecolor\":\"white\",\"gridwidth\":2},\"yaxis\":{\"backgroundcolor\":\"#E5ECF6\",\"gridcolor\":\"white\",\"linecolor\":\"white\",\"showbackground\":true,\"ticks\":\"\",\"zerolinecolor\":\"white\",\"gridwidth\":2},\"zaxis\":{\"backgroundcolor\":\"#E5ECF6\",\"gridcolor\":\"white\",\"linecolor\":\"white\",\"showbackground\":true,\"ticks\":\"\",\"zerolinecolor\":\"white\",\"gridwidth\":2}},\"shapedefaults\":{\"line\":{\"color\":\"#2a3f5f\"}},\"annotationdefaults\":{\"arrowcolor\":\"#2a3f5f\",\"arrowhead\":0,\"arrowwidth\":1},\"geo\":{\"bgcolor\":\"white\",\"landcolor\":\"#E5ECF6\",\"subunitcolor\":\"white\",\"showland\":true,\"showlakes\":true,\"lakecolor\":\"white\"},\"title\":{\"x\":0.05},\"mapbox\":{\"style\":\"light\"}}},\"plot_bgcolor\":\"#f1e7d2\",\"paper_bgcolor\":\"#f1e7d2\"},                        {\"responsive\": true}                    ).then(function(){\n",
       "                            \n",
       "var gd = document.getElementById('bf079339-d859-45bc-8d8f-b83fbfb23f74');\n",
       "var x = new MutationObserver(function (mutations, observer) {{\n",
       "        var display = window.getComputedStyle(gd).display;\n",
       "        if (!display || display === 'none') {{\n",
       "            console.log([gd, 'removed!']);\n",
       "            Plotly.purge(gd);\n",
       "            observer.disconnect();\n",
       "        }}\n",
       "}});\n",
       "\n",
       "// Listen for the removal of the full notebook cells\n",
       "var notebookContainer = gd.closest('#notebook-container');\n",
       "if (notebookContainer) {{\n",
       "    x.observe(notebookContainer, {childList: true});\n",
       "}}\n",
       "\n",
       "// Listen for the clearing of the current output cell\n",
       "var outputEl = gd.closest('.output');\n",
       "if (outputEl) {{\n",
       "    x.observe(outputEl, {childList: true});\n",
       "}}\n",
       "\n",
       "                        })                };                });            </script>        </div>"
      ]
     },
     "metadata": {},
     "output_type": "display_data"
    }
   ],
   "source": [
    "data =  go.Bar(x = salary_hi10['salary'], y = salary_hi10['job_title'],orientation = 'h',text = salary_hi10['salary'], \n",
    "              textposition ='inside',\n",
    "               insidetextanchor=\"middle\",\n",
    "              textfont = dict(size = 13,\n",
    "                             color = 'white'),\n",
    "                    marker = dict(color = colors,\n",
    "                    opacity = 0.9,\n",
    "                    line_color = 'white',\n",
    "                    line_width = 3))\n",
    "layout = go.Layout(title = {'text': \"<b><i>Top 10 Highest paid Data Science Jobs</i></b>\",\n",
    "                           'x':0.5,\n",
    "                           'xanchor': 'center'},\n",
    "                   xaxis = dict(title='<b>salary</b>', tickmode = 'array'),\n",
    "                   yaxis =dict(title='<b>Job Title</b>'),\n",
    "                   width = 900,\n",
    "                   height = 600)\n",
    "fig = go.Figure(data = data, layout = layout)\n",
    "fig.update_layout(plot_bgcolor = '#f1e7d2', \n",
    "                  paper_bgcolor = '#f1e7d2') \n",
    "fig.show()"
   ]
  },
  {
   "cell_type": "markdown",
   "id": "edd5e3b4",
   "metadata": {
    "papermill": {
     "duration": 0.036668,
     "end_time": "2022-10-23T19:10:01.319356",
     "exception": false,
     "start_time": "2022-10-23T19:10:01.282688",
     "status": "completed"
    },
    "tags": []
   },
   "source": [
    "<div class=\"alert alert-block alert-info\">\n",
    "    <b>Insights</b><br><br><b></b><b>Principal Data Engineer</b> are highly paid job in data science.\n",
    "</div>"
   ]
  },
  {
   "cell_type": "markdown",
   "id": "c393b776",
   "metadata": {
    "papermill": {
     "duration": 0.036723,
     "end_time": "2022-10-23T19:10:01.392504",
     "exception": false,
     "start_time": "2022-10-23T19:10:01.355781",
     "status": "completed"
    },
    "tags": []
   },
   "source": [
    "<a id=\"4\"></a>\n",
    "## <div style=\"text-align: left; background-color:#f1e7d2 ; font-family: Trebuchet MS; color: #7B3F00; padding: 15px; line-height:1;border-radius:1px; margin-bottom: 0em; text-align: center; font-size: 25px;border-style: solid;border-color: dark green;\">4.8 Top10 Average paid Data Science Jobs </div> "
   ]
  },
  {
   "cell_type": "code",
   "execution_count": 24,
   "id": "8088de15",
   "metadata": {
    "execution": {
     "iopub.execute_input": "2022-10-23T19:10:01.467376Z",
     "iopub.status.busy": "2022-10-23T19:10:01.467000Z",
     "iopub.status.idle": "2022-10-23T19:10:01.538001Z",
     "shell.execute_reply": "2022-10-23T19:10:01.536898Z"
    },
    "papermill": {
     "duration": 0.111328,
     "end_time": "2022-10-23T19:10:01.540483",
     "exception": false,
     "start_time": "2022-10-23T19:10:01.429155",
     "status": "completed"
    },
    "tags": []
   },
   "outputs": [
    {
     "data": {
      "text/html": [
       "<div>\n",
       "<style scoped>\n",
       "    .dataframe tbody tr th:only-of-type {\n",
       "        vertical-align: middle;\n",
       "    }\n",
       "\n",
       "    .dataframe tbody tr th {\n",
       "        vertical-align: top;\n",
       "    }\n",
       "\n",
       "    .dataframe thead th {\n",
       "        text-align: right;\n",
       "    }\n",
       "</style>\n",
       "<table border=\"1\" class=\"dataframe\">\n",
       "  <thead>\n",
       "    <tr style=\"text-align: right;\">\n",
       "      <th></th>\n",
       "      <th>job_title</th>\n",
       "      <th>salary</th>\n",
       "    </tr>\n",
       "  </thead>\n",
       "  <tbody>\n",
       "    <tr>\n",
       "      <th>0</th>\n",
       "      <td>Data Analytics Lead</td>\n",
       "      <td>405000.0</td>\n",
       "    </tr>\n",
       "    <tr>\n",
       "      <th>1</th>\n",
       "      <td>Principal Data Engineer</td>\n",
       "      <td>328333.0</td>\n",
       "    </tr>\n",
       "    <tr>\n",
       "      <th>2</th>\n",
       "      <td>Financial Data Analyst</td>\n",
       "      <td>275000.0</td>\n",
       "    </tr>\n",
       "    <tr>\n",
       "      <th>3</th>\n",
       "      <td>Principal Data Scientist</td>\n",
       "      <td>215242.0</td>\n",
       "    </tr>\n",
       "    <tr>\n",
       "      <th>4</th>\n",
       "      <td>Director of Data Science</td>\n",
       "      <td>195074.0</td>\n",
       "    </tr>\n",
       "    <tr>\n",
       "      <th>5</th>\n",
       "      <td>Data Architect</td>\n",
       "      <td>177874.0</td>\n",
       "    </tr>\n",
       "    <tr>\n",
       "      <th>6</th>\n",
       "      <td>Applied Data Scientist</td>\n",
       "      <td>175655.0</td>\n",
       "    </tr>\n",
       "    <tr>\n",
       "      <th>7</th>\n",
       "      <td>Analytics Engineer</td>\n",
       "      <td>175000.0</td>\n",
       "    </tr>\n",
       "    <tr>\n",
       "      <th>8</th>\n",
       "      <td>Data Specialist</td>\n",
       "      <td>165000.0</td>\n",
       "    </tr>\n",
       "    <tr>\n",
       "      <th>9</th>\n",
       "      <td>Head of Data</td>\n",
       "      <td>160163.0</td>\n",
       "    </tr>\n",
       "  </tbody>\n",
       "</table>\n",
       "</div>"
      ],
      "text/plain": [
       "                  job_title    salary\n",
       "0       Data Analytics Lead  405000.0\n",
       "1   Principal Data Engineer  328333.0\n",
       "2    Financial Data Analyst  275000.0\n",
       "3  Principal Data Scientist  215242.0\n",
       "4  Director of Data Science  195074.0\n",
       "5            Data Architect  177874.0\n",
       "6    Applied Data Scientist  175655.0\n",
       "7        Analytics Engineer  175000.0\n",
       "8           Data Specialist  165000.0\n",
       "9              Head of Data  160163.0"
      ]
     },
     "execution_count": 24,
     "metadata": {},
     "output_type": "execute_result"
    }
   ],
   "source": [
    "salary_av10 = query(\"\"\"SELECT   job_title, \n",
    "                       ROUND(AVG(salary_in_usd)) AS salary \n",
    "                       FROM     salaries \n",
    "                       GROUP BY job_title \n",
    "                       ORDER BY salary    DESC\n",
    "                       LIMIT 10\"\"\")\n",
    "salary_av10"
   ]
  },
  {
   "cell_type": "code",
   "execution_count": 25,
   "id": "01efc654",
   "metadata": {
    "execution": {
     "iopub.execute_input": "2022-10-23T19:10:01.616558Z",
     "iopub.status.busy": "2022-10-23T19:10:01.616141Z",
     "iopub.status.idle": "2022-10-23T19:10:01.636810Z",
     "shell.execute_reply": "2022-10-23T19:10:01.635781Z"
    },
    "papermill": {
     "duration": 0.061938,
     "end_time": "2022-10-23T19:10:01.639347",
     "exception": false,
     "start_time": "2022-10-23T19:10:01.577409",
     "status": "completed"
    },
    "tags": []
   },
   "outputs": [
    {
     "data": {
      "application/vnd.plotly.v1+json": {
       "config": {
        "plotlyServerURL": "https://plot.ly"
       },
       "data": [
        {
         "insidetextanchor": "middle",
         "marker": {
          "color": [
           "#003f5c",
           "#2f4b7c",
           "#665191",
           "#a05195",
           "#d45087",
           "#f95d6a",
           "#ff7c43",
           "#ffa600"
          ],
          "line": {
           "color": "white",
           "width": 3
          },
          "opacity": 0.9
         },
         "orientation": "h",
         "text": [
          405000.0,
          328333.0,
          275000.0,
          215242.0,
          195074.0,
          177874.0,
          175655.0,
          175000.0,
          165000.0,
          160163.0
         ],
         "textfont": {
          "color": "white",
          "size": 14
         },
         "textposition": "inside",
         "type": "bar",
         "x": [
          405000.0,
          328333.0,
          275000.0,
          215242.0,
          195074.0,
          177874.0,
          175655.0,
          175000.0,
          165000.0,
          160163.0
         ],
         "y": [
          "Data Analytics Lead",
          "Principal Data Engineer",
          "Financial Data Analyst",
          "Principal Data Scientist",
          "Director of Data Science",
          "Data Architect",
          "Applied Data Scientist",
          "Analytics Engineer",
          "Data Specialist",
          "Head of Data"
         ]
        }
       ],
       "layout": {
        "height": 600,
        "paper_bgcolor": "#f1e7d2",
        "plot_bgcolor": "#f1e7d2",
        "template": {
         "data": {
          "bar": [
           {
            "error_x": {
             "color": "#2a3f5f"
            },
            "error_y": {
             "color": "#2a3f5f"
            },
            "marker": {
             "line": {
              "color": "#E5ECF6",
              "width": 0.5
             },
             "pattern": {
              "fillmode": "overlay",
              "size": 10,
              "solidity": 0.2
             }
            },
            "type": "bar"
           }
          ],
          "barpolar": [
           {
            "marker": {
             "line": {
              "color": "#E5ECF6",
              "width": 0.5
             },
             "pattern": {
              "fillmode": "overlay",
              "size": 10,
              "solidity": 0.2
             }
            },
            "type": "barpolar"
           }
          ],
          "carpet": [
           {
            "aaxis": {
             "endlinecolor": "#2a3f5f",
             "gridcolor": "white",
             "linecolor": "white",
             "minorgridcolor": "white",
             "startlinecolor": "#2a3f5f"
            },
            "baxis": {
             "endlinecolor": "#2a3f5f",
             "gridcolor": "white",
             "linecolor": "white",
             "minorgridcolor": "white",
             "startlinecolor": "#2a3f5f"
            },
            "type": "carpet"
           }
          ],
          "choropleth": [
           {
            "colorbar": {
             "outlinewidth": 0,
             "ticks": ""
            },
            "type": "choropleth"
           }
          ],
          "contour": [
           {
            "colorbar": {
             "outlinewidth": 0,
             "ticks": ""
            },
            "colorscale": [
             [
              0.0,
              "#0d0887"
             ],
             [
              0.1111111111111111,
              "#46039f"
             ],
             [
              0.2222222222222222,
              "#7201a8"
             ],
             [
              0.3333333333333333,
              "#9c179e"
             ],
             [
              0.4444444444444444,
              "#bd3786"
             ],
             [
              0.5555555555555556,
              "#d8576b"
             ],
             [
              0.6666666666666666,
              "#ed7953"
             ],
             [
              0.7777777777777778,
              "#fb9f3a"
             ],
             [
              0.8888888888888888,
              "#fdca26"
             ],
             [
              1.0,
              "#f0f921"
             ]
            ],
            "type": "contour"
           }
          ],
          "contourcarpet": [
           {
            "colorbar": {
             "outlinewidth": 0,
             "ticks": ""
            },
            "type": "contourcarpet"
           }
          ],
          "heatmap": [
           {
            "colorbar": {
             "outlinewidth": 0,
             "ticks": ""
            },
            "colorscale": [
             [
              0.0,
              "#0d0887"
             ],
             [
              0.1111111111111111,
              "#46039f"
             ],
             [
              0.2222222222222222,
              "#7201a8"
             ],
             [
              0.3333333333333333,
              "#9c179e"
             ],
             [
              0.4444444444444444,
              "#bd3786"
             ],
             [
              0.5555555555555556,
              "#d8576b"
             ],
             [
              0.6666666666666666,
              "#ed7953"
             ],
             [
              0.7777777777777778,
              "#fb9f3a"
             ],
             [
              0.8888888888888888,
              "#fdca26"
             ],
             [
              1.0,
              "#f0f921"
             ]
            ],
            "type": "heatmap"
           }
          ],
          "heatmapgl": [
           {
            "colorbar": {
             "outlinewidth": 0,
             "ticks": ""
            },
            "colorscale": [
             [
              0.0,
              "#0d0887"
             ],
             [
              0.1111111111111111,
              "#46039f"
             ],
             [
              0.2222222222222222,
              "#7201a8"
             ],
             [
              0.3333333333333333,
              "#9c179e"
             ],
             [
              0.4444444444444444,
              "#bd3786"
             ],
             [
              0.5555555555555556,
              "#d8576b"
             ],
             [
              0.6666666666666666,
              "#ed7953"
             ],
             [
              0.7777777777777778,
              "#fb9f3a"
             ],
             [
              0.8888888888888888,
              "#fdca26"
             ],
             [
              1.0,
              "#f0f921"
             ]
            ],
            "type": "heatmapgl"
           }
          ],
          "histogram": [
           {
            "marker": {
             "pattern": {
              "fillmode": "overlay",
              "size": 10,
              "solidity": 0.2
             }
            },
            "type": "histogram"
           }
          ],
          "histogram2d": [
           {
            "colorbar": {
             "outlinewidth": 0,
             "ticks": ""
            },
            "colorscale": [
             [
              0.0,
              "#0d0887"
             ],
             [
              0.1111111111111111,
              "#46039f"
             ],
             [
              0.2222222222222222,
              "#7201a8"
             ],
             [
              0.3333333333333333,
              "#9c179e"
             ],
             [
              0.4444444444444444,
              "#bd3786"
             ],
             [
              0.5555555555555556,
              "#d8576b"
             ],
             [
              0.6666666666666666,
              "#ed7953"
             ],
             [
              0.7777777777777778,
              "#fb9f3a"
             ],
             [
              0.8888888888888888,
              "#fdca26"
             ],
             [
              1.0,
              "#f0f921"
             ]
            ],
            "type": "histogram2d"
           }
          ],
          "histogram2dcontour": [
           {
            "colorbar": {
             "outlinewidth": 0,
             "ticks": ""
            },
            "colorscale": [
             [
              0.0,
              "#0d0887"
             ],
             [
              0.1111111111111111,
              "#46039f"
             ],
             [
              0.2222222222222222,
              "#7201a8"
             ],
             [
              0.3333333333333333,
              "#9c179e"
             ],
             [
              0.4444444444444444,
              "#bd3786"
             ],
             [
              0.5555555555555556,
              "#d8576b"
             ],
             [
              0.6666666666666666,
              "#ed7953"
             ],
             [
              0.7777777777777778,
              "#fb9f3a"
             ],
             [
              0.8888888888888888,
              "#fdca26"
             ],
             [
              1.0,
              "#f0f921"
             ]
            ],
            "type": "histogram2dcontour"
           }
          ],
          "mesh3d": [
           {
            "colorbar": {
             "outlinewidth": 0,
             "ticks": ""
            },
            "type": "mesh3d"
           }
          ],
          "parcoords": [
           {
            "line": {
             "colorbar": {
              "outlinewidth": 0,
              "ticks": ""
             }
            },
            "type": "parcoords"
           }
          ],
          "pie": [
           {
            "automargin": true,
            "type": "pie"
           }
          ],
          "scatter": [
           {
            "fillpattern": {
             "fillmode": "overlay",
             "size": 10,
             "solidity": 0.2
            },
            "type": "scatter"
           }
          ],
          "scatter3d": [
           {
            "line": {
             "colorbar": {
              "outlinewidth": 0,
              "ticks": ""
             }
            },
            "marker": {
             "colorbar": {
              "outlinewidth": 0,
              "ticks": ""
             }
            },
            "type": "scatter3d"
           }
          ],
          "scattercarpet": [
           {
            "marker": {
             "colorbar": {
              "outlinewidth": 0,
              "ticks": ""
             }
            },
            "type": "scattercarpet"
           }
          ],
          "scattergeo": [
           {
            "marker": {
             "colorbar": {
              "outlinewidth": 0,
              "ticks": ""
             }
            },
            "type": "scattergeo"
           }
          ],
          "scattergl": [
           {
            "marker": {
             "colorbar": {
              "outlinewidth": 0,
              "ticks": ""
             }
            },
            "type": "scattergl"
           }
          ],
          "scattermapbox": [
           {
            "marker": {
             "colorbar": {
              "outlinewidth": 0,
              "ticks": ""
             }
            },
            "type": "scattermapbox"
           }
          ],
          "scatterpolar": [
           {
            "marker": {
             "colorbar": {
              "outlinewidth": 0,
              "ticks": ""
             }
            },
            "type": "scatterpolar"
           }
          ],
          "scatterpolargl": [
           {
            "marker": {
             "colorbar": {
              "outlinewidth": 0,
              "ticks": ""
             }
            },
            "type": "scatterpolargl"
           }
          ],
          "scatterternary": [
           {
            "marker": {
             "colorbar": {
              "outlinewidth": 0,
              "ticks": ""
             }
            },
            "type": "scatterternary"
           }
          ],
          "surface": [
           {
            "colorbar": {
             "outlinewidth": 0,
             "ticks": ""
            },
            "colorscale": [
             [
              0.0,
              "#0d0887"
             ],
             [
              0.1111111111111111,
              "#46039f"
             ],
             [
              0.2222222222222222,
              "#7201a8"
             ],
             [
              0.3333333333333333,
              "#9c179e"
             ],
             [
              0.4444444444444444,
              "#bd3786"
             ],
             [
              0.5555555555555556,
              "#d8576b"
             ],
             [
              0.6666666666666666,
              "#ed7953"
             ],
             [
              0.7777777777777778,
              "#fb9f3a"
             ],
             [
              0.8888888888888888,
              "#fdca26"
             ],
             [
              1.0,
              "#f0f921"
             ]
            ],
            "type": "surface"
           }
          ],
          "table": [
           {
            "cells": {
             "fill": {
              "color": "#EBF0F8"
             },
             "line": {
              "color": "white"
             }
            },
            "header": {
             "fill": {
              "color": "#C8D4E3"
             },
             "line": {
              "color": "white"
             }
            },
            "type": "table"
           }
          ]
         },
         "layout": {
          "annotationdefaults": {
           "arrowcolor": "#2a3f5f",
           "arrowhead": 0,
           "arrowwidth": 1
          },
          "autotypenumbers": "strict",
          "coloraxis": {
           "colorbar": {
            "outlinewidth": 0,
            "ticks": ""
           }
          },
          "colorscale": {
           "diverging": [
            [
             0,
             "#8e0152"
            ],
            [
             0.1,
             "#c51b7d"
            ],
            [
             0.2,
             "#de77ae"
            ],
            [
             0.3,
             "#f1b6da"
            ],
            [
             0.4,
             "#fde0ef"
            ],
            [
             0.5,
             "#f7f7f7"
            ],
            [
             0.6,
             "#e6f5d0"
            ],
            [
             0.7,
             "#b8e186"
            ],
            [
             0.8,
             "#7fbc41"
            ],
            [
             0.9,
             "#4d9221"
            ],
            [
             1,
             "#276419"
            ]
           ],
           "sequential": [
            [
             0.0,
             "#0d0887"
            ],
            [
             0.1111111111111111,
             "#46039f"
            ],
            [
             0.2222222222222222,
             "#7201a8"
            ],
            [
             0.3333333333333333,
             "#9c179e"
            ],
            [
             0.4444444444444444,
             "#bd3786"
            ],
            [
             0.5555555555555556,
             "#d8576b"
            ],
            [
             0.6666666666666666,
             "#ed7953"
            ],
            [
             0.7777777777777778,
             "#fb9f3a"
            ],
            [
             0.8888888888888888,
             "#fdca26"
            ],
            [
             1.0,
             "#f0f921"
            ]
           ],
           "sequentialminus": [
            [
             0.0,
             "#0d0887"
            ],
            [
             0.1111111111111111,
             "#46039f"
            ],
            [
             0.2222222222222222,
             "#7201a8"
            ],
            [
             0.3333333333333333,
             "#9c179e"
            ],
            [
             0.4444444444444444,
             "#bd3786"
            ],
            [
             0.5555555555555556,
             "#d8576b"
            ],
            [
             0.6666666666666666,
             "#ed7953"
            ],
            [
             0.7777777777777778,
             "#fb9f3a"
            ],
            [
             0.8888888888888888,
             "#fdca26"
            ],
            [
             1.0,
             "#f0f921"
            ]
           ]
          },
          "colorway": [
           "#636efa",
           "#EF553B",
           "#00cc96",
           "#ab63fa",
           "#FFA15A",
           "#19d3f3",
           "#FF6692",
           "#B6E880",
           "#FF97FF",
           "#FECB52"
          ],
          "font": {
           "color": "#2a3f5f"
          },
          "geo": {
           "bgcolor": "white",
           "lakecolor": "white",
           "landcolor": "#E5ECF6",
           "showlakes": true,
           "showland": true,
           "subunitcolor": "white"
          },
          "hoverlabel": {
           "align": "left"
          },
          "hovermode": "closest",
          "mapbox": {
           "style": "light"
          },
          "paper_bgcolor": "white",
          "plot_bgcolor": "#E5ECF6",
          "polar": {
           "angularaxis": {
            "gridcolor": "white",
            "linecolor": "white",
            "ticks": ""
           },
           "bgcolor": "#E5ECF6",
           "radialaxis": {
            "gridcolor": "white",
            "linecolor": "white",
            "ticks": ""
           }
          },
          "scene": {
           "xaxis": {
            "backgroundcolor": "#E5ECF6",
            "gridcolor": "white",
            "gridwidth": 2,
            "linecolor": "white",
            "showbackground": true,
            "ticks": "",
            "zerolinecolor": "white"
           },
           "yaxis": {
            "backgroundcolor": "#E5ECF6",
            "gridcolor": "white",
            "gridwidth": 2,
            "linecolor": "white",
            "showbackground": true,
            "ticks": "",
            "zerolinecolor": "white"
           },
           "zaxis": {
            "backgroundcolor": "#E5ECF6",
            "gridcolor": "white",
            "gridwidth": 2,
            "linecolor": "white",
            "showbackground": true,
            "ticks": "",
            "zerolinecolor": "white"
           }
          },
          "shapedefaults": {
           "line": {
            "color": "#2a3f5f"
           }
          },
          "ternary": {
           "aaxis": {
            "gridcolor": "white",
            "linecolor": "white",
            "ticks": ""
           },
           "baxis": {
            "gridcolor": "white",
            "linecolor": "white",
            "ticks": ""
           },
           "bgcolor": "#E5ECF6",
           "caxis": {
            "gridcolor": "white",
            "linecolor": "white",
            "ticks": ""
           }
          },
          "title": {
           "x": 0.05
          },
          "xaxis": {
           "automargin": true,
           "gridcolor": "white",
           "linecolor": "white",
           "ticks": "",
           "title": {
            "standoff": 15
           },
           "zerolinecolor": "white",
           "zerolinewidth": 2
          },
          "yaxis": {
           "automargin": true,
           "gridcolor": "white",
           "linecolor": "white",
           "ticks": "",
           "title": {
            "standoff": 15
           },
           "zerolinecolor": "white",
           "zerolinewidth": 2
          }
         }
        },
        "title": {
         "text": "<b><i>Top 10 Average paid Data Science Jobs</i></b>",
         "x": 0.5,
         "xanchor": "center"
        },
        "width": 900,
        "xaxis": {
         "tickmode": "array",
         "title": {
          "text": "<b>salary</b>"
         }
        },
        "yaxis": {
         "title": {
          "text": "<b>Job Title</b>"
         }
        }
       }
      },
      "text/html": [
       "<div>                            <div id=\"0da0af69-fa38-4a60-b99d-47a1610d9bfe\" class=\"plotly-graph-div\" style=\"height:600px; width:900px;\"></div>            <script type=\"text/javascript\">                require([\"plotly\"], function(Plotly) {                    window.PLOTLYENV=window.PLOTLYENV || {};                                    if (document.getElementById(\"0da0af69-fa38-4a60-b99d-47a1610d9bfe\")) {                    Plotly.newPlot(                        \"0da0af69-fa38-4a60-b99d-47a1610d9bfe\",                        [{\"insidetextanchor\":\"middle\",\"marker\":{\"color\":[\"#003f5c\",\"#2f4b7c\",\"#665191\",\"#a05195\",\"#d45087\",\"#f95d6a\",\"#ff7c43\",\"#ffa600\"],\"line\":{\"color\":\"white\",\"width\":3},\"opacity\":0.9},\"orientation\":\"h\",\"text\":[405000.0,328333.0,275000.0,215242.0,195074.0,177874.0,175655.0,175000.0,165000.0,160163.0],\"textfont\":{\"color\":\"white\",\"size\":14},\"textposition\":\"inside\",\"x\":[405000.0,328333.0,275000.0,215242.0,195074.0,177874.0,175655.0,175000.0,165000.0,160163.0],\"y\":[\"Data Analytics Lead\",\"Principal Data Engineer\",\"Financial Data Analyst\",\"Principal Data Scientist\",\"Director of Data Science\",\"Data Architect\",\"Applied Data Scientist\",\"Analytics Engineer\",\"Data Specialist\",\"Head of Data\"],\"type\":\"bar\"}],                        {\"height\":600,\"title\":{\"text\":\"<b><i>Top 10 Average paid Data Science Jobs</i></b>\",\"x\":0.5,\"xanchor\":\"center\"},\"width\":900,\"xaxis\":{\"tickmode\":\"array\",\"title\":{\"text\":\"<b>salary</b>\"}},\"yaxis\":{\"title\":{\"text\":\"<b>Job Title</b>\"}},\"template\":{\"data\":{\"histogram2dcontour\":[{\"type\":\"histogram2dcontour\",\"colorbar\":{\"outlinewidth\":0,\"ticks\":\"\"},\"colorscale\":[[0.0,\"#0d0887\"],[0.1111111111111111,\"#46039f\"],[0.2222222222222222,\"#7201a8\"],[0.3333333333333333,\"#9c179e\"],[0.4444444444444444,\"#bd3786\"],[0.5555555555555556,\"#d8576b\"],[0.6666666666666666,\"#ed7953\"],[0.7777777777777778,\"#fb9f3a\"],[0.8888888888888888,\"#fdca26\"],[1.0,\"#f0f921\"]]}],\"choropleth\":[{\"type\":\"choropleth\",\"colorbar\":{\"outlinewidth\":0,\"ticks\":\"\"}}],\"histogram2d\":[{\"type\":\"histogram2d\",\"colorbar\":{\"outlinewidth\":0,\"ticks\":\"\"},\"colorscale\":[[0.0,\"#0d0887\"],[0.1111111111111111,\"#46039f\"],[0.2222222222222222,\"#7201a8\"],[0.3333333333333333,\"#9c179e\"],[0.4444444444444444,\"#bd3786\"],[0.5555555555555556,\"#d8576b\"],[0.6666666666666666,\"#ed7953\"],[0.7777777777777778,\"#fb9f3a\"],[0.8888888888888888,\"#fdca26\"],[1.0,\"#f0f921\"]]}],\"heatmap\":[{\"type\":\"heatmap\",\"colorbar\":{\"outlinewidth\":0,\"ticks\":\"\"},\"colorscale\":[[0.0,\"#0d0887\"],[0.1111111111111111,\"#46039f\"],[0.2222222222222222,\"#7201a8\"],[0.3333333333333333,\"#9c179e\"],[0.4444444444444444,\"#bd3786\"],[0.5555555555555556,\"#d8576b\"],[0.6666666666666666,\"#ed7953\"],[0.7777777777777778,\"#fb9f3a\"],[0.8888888888888888,\"#fdca26\"],[1.0,\"#f0f921\"]]}],\"heatmapgl\":[{\"type\":\"heatmapgl\",\"colorbar\":{\"outlinewidth\":0,\"ticks\":\"\"},\"colorscale\":[[0.0,\"#0d0887\"],[0.1111111111111111,\"#46039f\"],[0.2222222222222222,\"#7201a8\"],[0.3333333333333333,\"#9c179e\"],[0.4444444444444444,\"#bd3786\"],[0.5555555555555556,\"#d8576b\"],[0.6666666666666666,\"#ed7953\"],[0.7777777777777778,\"#fb9f3a\"],[0.8888888888888888,\"#fdca26\"],[1.0,\"#f0f921\"]]}],\"contourcarpet\":[{\"type\":\"contourcarpet\",\"colorbar\":{\"outlinewidth\":0,\"ticks\":\"\"}}],\"contour\":[{\"type\":\"contour\",\"colorbar\":{\"outlinewidth\":0,\"ticks\":\"\"},\"colorscale\":[[0.0,\"#0d0887\"],[0.1111111111111111,\"#46039f\"],[0.2222222222222222,\"#7201a8\"],[0.3333333333333333,\"#9c179e\"],[0.4444444444444444,\"#bd3786\"],[0.5555555555555556,\"#d8576b\"],[0.6666666666666666,\"#ed7953\"],[0.7777777777777778,\"#fb9f3a\"],[0.8888888888888888,\"#fdca26\"],[1.0,\"#f0f921\"]]}],\"surface\":[{\"type\":\"surface\",\"colorbar\":{\"outlinewidth\":0,\"ticks\":\"\"},\"colorscale\":[[0.0,\"#0d0887\"],[0.1111111111111111,\"#46039f\"],[0.2222222222222222,\"#7201a8\"],[0.3333333333333333,\"#9c179e\"],[0.4444444444444444,\"#bd3786\"],[0.5555555555555556,\"#d8576b\"],[0.6666666666666666,\"#ed7953\"],[0.7777777777777778,\"#fb9f3a\"],[0.8888888888888888,\"#fdca26\"],[1.0,\"#f0f921\"]]}],\"mesh3d\":[{\"type\":\"mesh3d\",\"colorbar\":{\"outlinewidth\":0,\"ticks\":\"\"}}],\"scatter\":[{\"fillpattern\":{\"fillmode\":\"overlay\",\"size\":10,\"solidity\":0.2},\"type\":\"scatter\"}],\"parcoords\":[{\"type\":\"parcoords\",\"line\":{\"colorbar\":{\"outlinewidth\":0,\"ticks\":\"\"}}}],\"scatterpolargl\":[{\"type\":\"scatterpolargl\",\"marker\":{\"colorbar\":{\"outlinewidth\":0,\"ticks\":\"\"}}}],\"bar\":[{\"error_x\":{\"color\":\"#2a3f5f\"},\"error_y\":{\"color\":\"#2a3f5f\"},\"marker\":{\"line\":{\"color\":\"#E5ECF6\",\"width\":0.5},\"pattern\":{\"fillmode\":\"overlay\",\"size\":10,\"solidity\":0.2}},\"type\":\"bar\"}],\"scattergeo\":[{\"type\":\"scattergeo\",\"marker\":{\"colorbar\":{\"outlinewidth\":0,\"ticks\":\"\"}}}],\"scatterpolar\":[{\"type\":\"scatterpolar\",\"marker\":{\"colorbar\":{\"outlinewidth\":0,\"ticks\":\"\"}}}],\"histogram\":[{\"marker\":{\"pattern\":{\"fillmode\":\"overlay\",\"size\":10,\"solidity\":0.2}},\"type\":\"histogram\"}],\"scattergl\":[{\"type\":\"scattergl\",\"marker\":{\"colorbar\":{\"outlinewidth\":0,\"ticks\":\"\"}}}],\"scatter3d\":[{\"type\":\"scatter3d\",\"line\":{\"colorbar\":{\"outlinewidth\":0,\"ticks\":\"\"}},\"marker\":{\"colorbar\":{\"outlinewidth\":0,\"ticks\":\"\"}}}],\"scattermapbox\":[{\"type\":\"scattermapbox\",\"marker\":{\"colorbar\":{\"outlinewidth\":0,\"ticks\":\"\"}}}],\"scatterternary\":[{\"type\":\"scatterternary\",\"marker\":{\"colorbar\":{\"outlinewidth\":0,\"ticks\":\"\"}}}],\"scattercarpet\":[{\"type\":\"scattercarpet\",\"marker\":{\"colorbar\":{\"outlinewidth\":0,\"ticks\":\"\"}}}],\"carpet\":[{\"aaxis\":{\"endlinecolor\":\"#2a3f5f\",\"gridcolor\":\"white\",\"linecolor\":\"white\",\"minorgridcolor\":\"white\",\"startlinecolor\":\"#2a3f5f\"},\"baxis\":{\"endlinecolor\":\"#2a3f5f\",\"gridcolor\":\"white\",\"linecolor\":\"white\",\"minorgridcolor\":\"white\",\"startlinecolor\":\"#2a3f5f\"},\"type\":\"carpet\"}],\"table\":[{\"cells\":{\"fill\":{\"color\":\"#EBF0F8\"},\"line\":{\"color\":\"white\"}},\"header\":{\"fill\":{\"color\":\"#C8D4E3\"},\"line\":{\"color\":\"white\"}},\"type\":\"table\"}],\"barpolar\":[{\"marker\":{\"line\":{\"color\":\"#E5ECF6\",\"width\":0.5},\"pattern\":{\"fillmode\":\"overlay\",\"size\":10,\"solidity\":0.2}},\"type\":\"barpolar\"}],\"pie\":[{\"automargin\":true,\"type\":\"pie\"}]},\"layout\":{\"autotypenumbers\":\"strict\",\"colorway\":[\"#636efa\",\"#EF553B\",\"#00cc96\",\"#ab63fa\",\"#FFA15A\",\"#19d3f3\",\"#FF6692\",\"#B6E880\",\"#FF97FF\",\"#FECB52\"],\"font\":{\"color\":\"#2a3f5f\"},\"hovermode\":\"closest\",\"hoverlabel\":{\"align\":\"left\"},\"paper_bgcolor\":\"white\",\"plot_bgcolor\":\"#E5ECF6\",\"polar\":{\"bgcolor\":\"#E5ECF6\",\"angularaxis\":{\"gridcolor\":\"white\",\"linecolor\":\"white\",\"ticks\":\"\"},\"radialaxis\":{\"gridcolor\":\"white\",\"linecolor\":\"white\",\"ticks\":\"\"}},\"ternary\":{\"bgcolor\":\"#E5ECF6\",\"aaxis\":{\"gridcolor\":\"white\",\"linecolor\":\"white\",\"ticks\":\"\"},\"baxis\":{\"gridcolor\":\"white\",\"linecolor\":\"white\",\"ticks\":\"\"},\"caxis\":{\"gridcolor\":\"white\",\"linecolor\":\"white\",\"ticks\":\"\"}},\"coloraxis\":{\"colorbar\":{\"outlinewidth\":0,\"ticks\":\"\"}},\"colorscale\":{\"sequential\":[[0.0,\"#0d0887\"],[0.1111111111111111,\"#46039f\"],[0.2222222222222222,\"#7201a8\"],[0.3333333333333333,\"#9c179e\"],[0.4444444444444444,\"#bd3786\"],[0.5555555555555556,\"#d8576b\"],[0.6666666666666666,\"#ed7953\"],[0.7777777777777778,\"#fb9f3a\"],[0.8888888888888888,\"#fdca26\"],[1.0,\"#f0f921\"]],\"sequentialminus\":[[0.0,\"#0d0887\"],[0.1111111111111111,\"#46039f\"],[0.2222222222222222,\"#7201a8\"],[0.3333333333333333,\"#9c179e\"],[0.4444444444444444,\"#bd3786\"],[0.5555555555555556,\"#d8576b\"],[0.6666666666666666,\"#ed7953\"],[0.7777777777777778,\"#fb9f3a\"],[0.8888888888888888,\"#fdca26\"],[1.0,\"#f0f921\"]],\"diverging\":[[0,\"#8e0152\"],[0.1,\"#c51b7d\"],[0.2,\"#de77ae\"],[0.3,\"#f1b6da\"],[0.4,\"#fde0ef\"],[0.5,\"#f7f7f7\"],[0.6,\"#e6f5d0\"],[0.7,\"#b8e186\"],[0.8,\"#7fbc41\"],[0.9,\"#4d9221\"],[1,\"#276419\"]]},\"xaxis\":{\"gridcolor\":\"white\",\"linecolor\":\"white\",\"ticks\":\"\",\"title\":{\"standoff\":15},\"zerolinecolor\":\"white\",\"automargin\":true,\"zerolinewidth\":2},\"yaxis\":{\"gridcolor\":\"white\",\"linecolor\":\"white\",\"ticks\":\"\",\"title\":{\"standoff\":15},\"zerolinecolor\":\"white\",\"automargin\":true,\"zerolinewidth\":2},\"scene\":{\"xaxis\":{\"backgroundcolor\":\"#E5ECF6\",\"gridcolor\":\"white\",\"linecolor\":\"white\",\"showbackground\":true,\"ticks\":\"\",\"zerolinecolor\":\"white\",\"gridwidth\":2},\"yaxis\":{\"backgroundcolor\":\"#E5ECF6\",\"gridcolor\":\"white\",\"linecolor\":\"white\",\"showbackground\":true,\"ticks\":\"\",\"zerolinecolor\":\"white\",\"gridwidth\":2},\"zaxis\":{\"backgroundcolor\":\"#E5ECF6\",\"gridcolor\":\"white\",\"linecolor\":\"white\",\"showbackground\":true,\"ticks\":\"\",\"zerolinecolor\":\"white\",\"gridwidth\":2}},\"shapedefaults\":{\"line\":{\"color\":\"#2a3f5f\"}},\"annotationdefaults\":{\"arrowcolor\":\"#2a3f5f\",\"arrowhead\":0,\"arrowwidth\":1},\"geo\":{\"bgcolor\":\"white\",\"landcolor\":\"#E5ECF6\",\"subunitcolor\":\"white\",\"showland\":true,\"showlakes\":true,\"lakecolor\":\"white\"},\"title\":{\"x\":0.05},\"mapbox\":{\"style\":\"light\"}}},\"plot_bgcolor\":\"#f1e7d2\",\"paper_bgcolor\":\"#f1e7d2\"},                        {\"responsive\": true}                    ).then(function(){\n",
       "                            \n",
       "var gd = document.getElementById('0da0af69-fa38-4a60-b99d-47a1610d9bfe');\n",
       "var x = new MutationObserver(function (mutations, observer) {{\n",
       "        var display = window.getComputedStyle(gd).display;\n",
       "        if (!display || display === 'none') {{\n",
       "            console.log([gd, 'removed!']);\n",
       "            Plotly.purge(gd);\n",
       "            observer.disconnect();\n",
       "        }}\n",
       "}});\n",
       "\n",
       "// Listen for the removal of the full notebook cells\n",
       "var notebookContainer = gd.closest('#notebook-container');\n",
       "if (notebookContainer) {{\n",
       "    x.observe(notebookContainer, {childList: true});\n",
       "}}\n",
       "\n",
       "// Listen for the clearing of the current output cell\n",
       "var outputEl = gd.closest('.output');\n",
       "if (outputEl) {{\n",
       "    x.observe(outputEl, {childList: true});\n",
       "}}\n",
       "\n",
       "                        })                };                });            </script>        </div>"
      ]
     },
     "metadata": {},
     "output_type": "display_data"
    }
   ],
   "source": [
    "data =  go.Bar(x = salary_av10['salary'], y = salary_av10['job_title'],orientation = 'h',text = salary_av10['salary'], \n",
    "              textposition ='inside',\n",
    "               insidetextanchor=\"middle\",\n",
    "              textfont = dict(size = 14,\n",
    "                             color = 'white'),\n",
    "                    marker = dict(color = colors,\n",
    "                    opacity = 0.9,\n",
    "                    line_color = 'white',\n",
    "                    line_width = 3))\n",
    "layout = go.Layout(title = {'text': \"<b><i>Top 10 Average paid Data Science Jobs</i></b>\",\n",
    "                           'x':0.5,\n",
    "                           'xanchor': 'center'},\n",
    "                   xaxis = dict(title='<b>salary</b>', tickmode = 'array'),\n",
    "                   yaxis =dict(title='<b>Job Title</b>'),\n",
    "                   width = 900,\n",
    "                   height = 600)\n",
    "fig = go.Figure(data = data, layout = layout)\n",
    "fig.update_layout(plot_bgcolor = '#f1e7d2', \n",
    "                  paper_bgcolor = '#f1e7d2') \n",
    "fig.show()"
   ]
  },
  {
   "cell_type": "markdown",
   "id": "d0bf5dd0",
   "metadata": {
    "papermill": {
     "duration": 0.043438,
     "end_time": "2022-10-23T19:10:01.726533",
     "exception": false,
     "start_time": "2022-10-23T19:10:01.683095",
     "status": "completed"
    },
    "tags": []
   },
   "source": [
    "<a id=\"4.9\"></a>\n",
    "## <div style=\"text-align: left; background-color:#f1e7d2 ; font-family: Trebuchet MS; color: #7B3F00; padding: 15px; line-height:1;border-radius:1px; margin-bottom: 0em; text-align: center; font-size: 25px;border-style: solid;border-color: dark green;\">4.9 Average salary of Data Science year wise </div> "
   ]
  },
  {
   "cell_type": "code",
   "execution_count": 26,
   "id": "5aaf35df",
   "metadata": {
    "execution": {
     "iopub.execute_input": "2022-10-23T19:10:01.814914Z",
     "iopub.status.busy": "2022-10-23T19:10:01.814296Z",
     "iopub.status.idle": "2022-10-23T19:10:01.878757Z",
     "shell.execute_reply": "2022-10-23T19:10:01.877622Z"
    },
    "papermill": {
     "duration": 0.111835,
     "end_time": "2022-10-23T19:10:01.881372",
     "exception": false,
     "start_time": "2022-10-23T19:10:01.769537",
     "status": "completed"
    },
    "scrolled": true,
    "tags": []
   },
   "outputs": [
    {
     "data": {
      "text/html": [
       "<div>\n",
       "<style scoped>\n",
       "    .dataframe tbody tr th:only-of-type {\n",
       "        vertical-align: middle;\n",
       "    }\n",
       "\n",
       "    .dataframe tbody tr th {\n",
       "        vertical-align: top;\n",
       "    }\n",
       "\n",
       "    .dataframe thead th {\n",
       "        text-align: right;\n",
       "    }\n",
       "</style>\n",
       "<table border=\"1\" class=\"dataframe\">\n",
       "  <thead>\n",
       "    <tr style=\"text-align: right;\">\n",
       "      <th></th>\n",
       "      <th>salary</th>\n",
       "      <th>year</th>\n",
       "    </tr>\n",
       "  </thead>\n",
       "  <tbody>\n",
       "    <tr>\n",
       "      <th>0</th>\n",
       "      <td>124522.0</td>\n",
       "      <td>2022</td>\n",
       "    </tr>\n",
       "    <tr>\n",
       "      <th>1</th>\n",
       "      <td>99854.0</td>\n",
       "      <td>2021</td>\n",
       "    </tr>\n",
       "    <tr>\n",
       "      <th>2</th>\n",
       "      <td>95813.0</td>\n",
       "      <td>2020</td>\n",
       "    </tr>\n",
       "  </tbody>\n",
       "</table>\n",
       "</div>"
      ],
      "text/plain": [
       "     salary  year\n",
       "0  124522.0  2022\n",
       "1   99854.0  2021\n",
       "2   95813.0  2020"
      ]
     },
     "execution_count": 26,
     "metadata": {},
     "output_type": "execute_result"
    }
   ],
   "source": [
    "salary_year = query(\"\"\"SELECT ROUND(Avg(salary_in_usd)) AS salary,\n",
    "                              work_year                 AS year\n",
    "                       FROM   salaries\n",
    "                       GROUP  BY year \n",
    "                       ORDER  BY salary DESC\"\"\")\n",
    "salary_year"
   ]
  },
  {
   "cell_type": "code",
   "execution_count": 27,
   "id": "55a34902",
   "metadata": {
    "execution": {
     "iopub.execute_input": "2022-10-23T19:10:01.969901Z",
     "iopub.status.busy": "2022-10-23T19:10:01.969243Z",
     "iopub.status.idle": "2022-10-23T19:10:01.989253Z",
     "shell.execute_reply": "2022-10-23T19:10:01.988167Z"
    },
    "papermill": {
     "duration": 0.067037,
     "end_time": "2022-10-23T19:10:01.991479",
     "exception": false,
     "start_time": "2022-10-23T19:10:01.924442",
     "status": "completed"
    },
    "tags": []
   },
   "outputs": [
    {
     "data": {
      "application/vnd.plotly.v1+json": {
       "config": {
        "linkText": "Export to plot.ly",
        "plotlyServerURL": "https://plot.ly",
        "showLink": false
       },
       "data": [
        {
         "line": {
          "color": "#a05195",
          "width": 4
         },
         "marker": {
          "color": "#665191",
          "line": {
           "color": "white",
           "width": 1.5
          },
          "size": 12
         },
         "mode": "lines+markers",
         "type": "scatter",
         "x": [
          2022,
          2021,
          2020
         ],
         "y": [
          124522.0,
          99854.0,
          95813.0
         ]
        }
       ],
       "layout": {
        "height": 600,
        "paper_bgcolor": "#f1e7d2",
        "plot_bgcolor": "#f1e7d2",
        "template": {
         "data": {
          "pie": [
           {
            "automargin": true,
            "type": "pie"
           }
          ]
         },
         "layout": {
          "xaxis": {
           "showgrid": false,
           "title": {
            "standoff": 15
           }
          },
          "yaxis": {
           "title": {
            "standoff": 15
           }
          }
         }
        },
        "title": {
         "text": "<b>Data Science Salary Growth (2020 to 2022)</b>",
         "x": 0.5,
         "xanchor": "center"
        },
        "width": 950,
        "xaxis": {
         "tickvals": [
          "2020",
          "2021",
          "2022"
         ],
         "title": {
          "text": "<b>Year</b>"
         }
        },
        "yaxis": {
         "title": {
          "text": "<b>salary</b>"
         }
        }
       }
      },
      "text/html": [
       "<div>                            <div id=\"fab429dc-d5b9-4cff-a98c-0cffff7be1ee\" class=\"plotly-graph-div\" style=\"height:600px; width:950px;\"></div>            <script type=\"text/javascript\">                require([\"plotly\"], function(Plotly) {                    window.PLOTLYENV=window.PLOTLYENV || {};                                    if (document.getElementById(\"fab429dc-d5b9-4cff-a98c-0cffff7be1ee\")) {                    Plotly.newPlot(                        \"fab429dc-d5b9-4cff-a98c-0cffff7be1ee\",                        [{\"line\":{\"color\":\"#a05195\",\"width\":4},\"marker\":{\"color\":\"#665191\",\"line\":{\"color\":\"white\",\"width\":1.5},\"size\":12},\"mode\":\"lines+markers\",\"x\":[2022,2021,2020],\"y\":[124522.0,99854.0,95813.0],\"type\":\"scatter\"}],                        {\"height\":600,\"paper_bgcolor\":\"#f1e7d2\",\"plot_bgcolor\":\"#f1e7d2\",\"template\":{\"data\":{\"pie\":[{\"automargin\":true,\"type\":\"pie\"}]},\"layout\":{\"xaxis\":{\"showgrid\":false,\"title\":{\"standoff\":15}},\"yaxis\":{\"title\":{\"standoff\":15}}}},\"title\":{\"text\":\"<b>Data Science Salary Growth (2020 to 2022)</b>\",\"x\":0.5,\"xanchor\":\"center\"},\"width\":950,\"xaxis\":{\"tickvals\":[\"2020\",\"2021\",\"2022\"],\"title\":{\"text\":\"<b>Year</b>\"}},\"yaxis\":{\"title\":{\"text\":\"<b>salary</b>\"}}},                        {\"responsive\": true}                    ).then(function(){\n",
       "                            \n",
       "var gd = document.getElementById('fab429dc-d5b9-4cff-a98c-0cffff7be1ee');\n",
       "var x = new MutationObserver(function (mutations, observer) {{\n",
       "        var display = window.getComputedStyle(gd).display;\n",
       "        if (!display || display === 'none') {{\n",
       "            console.log([gd, 'removed!']);\n",
       "            Plotly.purge(gd);\n",
       "            observer.disconnect();\n",
       "        }}\n",
       "}});\n",
       "\n",
       "// Listen for the removal of the full notebook cells\n",
       "var notebookContainer = gd.closest('#notebook-container');\n",
       "if (notebookContainer) {{\n",
       "    x.observe(notebookContainer, {childList: true});\n",
       "}}\n",
       "\n",
       "// Listen for the clearing of the current output cell\n",
       "var outputEl = gd.closest('.output');\n",
       "if (outputEl) {{\n",
       "    x.observe(outputEl, {childList: true});\n",
       "}}\n",
       "\n",
       "                        })                };                });            </script>        </div>"
      ]
     },
     "metadata": {},
     "output_type": "display_data"
    }
   ],
   "source": [
    "data = go.Scatter(x=salary_year['year'], y=salary_year ['salary'],\n",
    "                  marker = dict(size = 12,line_width=1.5, line_color = 'white', color = colors[2]),\n",
    "                  line=dict(color=colors[3], width=4),mode='lines+markers')\n",
    "layout  =go.Layout(\n",
    "    title = {\n",
    "        'text': \"<b>Data Science Salary Growth (2020 to 2022)</b>\",\n",
    "        'x':0.5,\n",
    "        'xanchor': 'center'},\n",
    "    xaxis=dict(title = '<b>Year</b>'),\n",
    "    yaxis = dict(title = '<b>salary</b>'),\n",
    "    width = 950,\n",
    "    height = 600,\n",
    "    template = 'xgridoff',\n",
    "    paper_bgcolor='#f1e7d2',\n",
    "    plot_bgcolor = '#f1e7d2')\n",
    "fig = go .Figure(data= data, layout = layout)\n",
    "fig.update_xaxes(tickvals= ['2020', '2021', '2022'])\n",
    "iplot(fig)"
   ]
  },
  {
   "cell_type": "markdown",
   "id": "daa51356",
   "metadata": {
    "papermill": {
     "duration": 0.044077,
     "end_time": "2022-10-23T19:10:02.079661",
     "exception": false,
     "start_time": "2022-10-23T19:10:02.035584",
     "status": "completed"
    },
    "tags": []
   },
   "source": [
    "<a id=\"4.10\"></a>\n",
    "## <div style=\"text-align: left; background-color:#f1e7d2 ; font-family: Trebuchet MS; color: #7B3F00; padding: 15px; line-height:1;border-radius:1px; margin-bottom: 0em; text-align: center; font-size: 25px;border-style: solid;border-color: dark green;\">4.10 Salary on Experience Level</div> "
   ]
  },
  {
   "cell_type": "code",
   "execution_count": 28,
   "id": "8f9dfc56",
   "metadata": {
    "execution": {
     "iopub.execute_input": "2022-10-23T19:10:02.170731Z",
     "iopub.status.busy": "2022-10-23T19:10:02.170093Z",
     "iopub.status.idle": "2022-10-23T19:10:02.238774Z",
     "shell.execute_reply": "2022-10-23T19:10:02.237670Z"
    },
    "papermill": {
     "duration": 0.116764,
     "end_time": "2022-10-23T19:10:02.240980",
     "exception": false,
     "start_time": "2022-10-23T19:10:02.124216",
     "status": "completed"
    },
    "tags": []
   },
   "outputs": [
    {
     "data": {
      "text/html": [
       "<div>\n",
       "<style scoped>\n",
       "    .dataframe tbody tr th:only-of-type {\n",
       "        vertical-align: middle;\n",
       "    }\n",
       "\n",
       "    .dataframe tbody tr th {\n",
       "        vertical-align: top;\n",
       "    }\n",
       "\n",
       "    .dataframe thead th {\n",
       "        text-align: right;\n",
       "    }\n",
       "</style>\n",
       "<table border=\"1\" class=\"dataframe\">\n",
       "  <thead>\n",
       "    <tr style=\"text-align: right;\">\n",
       "      <th></th>\n",
       "      <th>Experience Level</th>\n",
       "      <th>Salary</th>\n",
       "    </tr>\n",
       "  </thead>\n",
       "  <tbody>\n",
       "    <tr>\n",
       "      <th>0</th>\n",
       "      <td>Mid level</td>\n",
       "      <td>79833</td>\n",
       "    </tr>\n",
       "    <tr>\n",
       "      <th>1</th>\n",
       "      <td>Senior Level</td>\n",
       "      <td>260000</td>\n",
       "    </tr>\n",
       "    <tr>\n",
       "      <th>2</th>\n",
       "      <td>Senior Level</td>\n",
       "      <td>109024</td>\n",
       "    </tr>\n",
       "    <tr>\n",
       "      <th>3</th>\n",
       "      <td>Mid level</td>\n",
       "      <td>20000</td>\n",
       "    </tr>\n",
       "    <tr>\n",
       "      <th>4</th>\n",
       "      <td>Senior Level</td>\n",
       "      <td>150000</td>\n",
       "    </tr>\n",
       "    <tr>\n",
       "      <th>...</th>\n",
       "      <td>...</td>\n",
       "      <td>...</td>\n",
       "    </tr>\n",
       "    <tr>\n",
       "      <th>602</th>\n",
       "      <td>Senior Level</td>\n",
       "      <td>154000</td>\n",
       "    </tr>\n",
       "    <tr>\n",
       "      <th>603</th>\n",
       "      <td>Senior Level</td>\n",
       "      <td>126000</td>\n",
       "    </tr>\n",
       "    <tr>\n",
       "      <th>604</th>\n",
       "      <td>Senior Level</td>\n",
       "      <td>129000</td>\n",
       "    </tr>\n",
       "    <tr>\n",
       "      <th>605</th>\n",
       "      <td>Senior Level</td>\n",
       "      <td>150000</td>\n",
       "    </tr>\n",
       "    <tr>\n",
       "      <th>606</th>\n",
       "      <td>Mid level</td>\n",
       "      <td>200000</td>\n",
       "    </tr>\n",
       "  </tbody>\n",
       "</table>\n",
       "<p>607 rows × 2 columns</p>\n",
       "</div>"
      ],
      "text/plain": [
       "    Experience Level  Salary\n",
       "0          Mid level   79833\n",
       "1       Senior Level  260000\n",
       "2       Senior Level  109024\n",
       "3          Mid level   20000\n",
       "4       Senior Level  150000\n",
       "..               ...     ...\n",
       "602     Senior Level  154000\n",
       "603     Senior Level  126000\n",
       "604     Senior Level  129000\n",
       "605     Senior Level  150000\n",
       "606        Mid level  200000\n",
       "\n",
       "[607 rows x 2 columns]"
      ]
     },
     "execution_count": 28,
     "metadata": {},
     "output_type": "execute_result"
    }
   ],
   "source": [
    "salary_exp = query(\"\"\"SELECT experience_level AS 'Experience Level', \n",
    "                      salary_in_usd           AS Salary \n",
    "                      FROM   salaries\"\"\")\n",
    "salary_exp"
   ]
  },
  {
   "cell_type": "code",
   "execution_count": 29,
   "id": "3d4178bd",
   "metadata": {
    "execution": {
     "iopub.execute_input": "2022-10-23T19:10:02.331852Z",
     "iopub.status.busy": "2022-10-23T19:10:02.331193Z",
     "iopub.status.idle": "2022-10-23T19:10:03.371901Z",
     "shell.execute_reply": "2022-10-23T19:10:03.370830Z"
    },
    "papermill": {
     "duration": 1.089235,
     "end_time": "2022-10-23T19:10:03.374633",
     "exception": false,
     "start_time": "2022-10-23T19:10:02.285398",
     "status": "completed"
    },
    "tags": []
   },
   "outputs": [
    {
     "data": {
      "application/vnd.plotly.v1+json": {
       "config": {
        "linkText": "Export to plot.ly",
        "plotlyServerURL": "https://plot.ly",
        "showLink": false
       },
       "data": [
        {
         "alignmentgroup": "True",
         "box": {
          "visible": true
         },
         "hovertemplate": "Experience Level=%{x}<br>Salary=%{y}<extra></extra>",
         "legendgroup": "Mid level",
         "marker": {
          "color": "#636efa"
         },
         "name": "Mid level",
         "offsetgroup": "Mid level",
         "orientation": "v",
         "scalegroup": "True",
         "showlegend": true,
         "type": "violin",
         "x": [
          "Mid level",
          "Mid level",
          "Mid level",
          "Mid level",
          "Mid level",
          "Mid level",
          "Mid level",
          "Mid level",
          "Mid level",
          "Mid level",
          "Mid level",
          "Mid level",
          "Mid level",
          "Mid level",
          "Mid level",
          "Mid level",
          "Mid level",
          "Mid level",
          "Mid level",
          "Mid level",
          "Mid level",
          "Mid level",
          "Mid level",
          "Mid level",
          "Mid level",
          "Mid level",
          "Mid level",
          "Mid level",
          "Mid level",
          "Mid level",
          "Mid level",
          "Mid level",
          "Mid level",
          "Mid level",
          "Mid level",
          "Mid level",
          "Mid level",
          "Mid level",
          "Mid level",
          "Mid level",
          "Mid level",
          "Mid level",
          "Mid level",
          "Mid level",
          "Mid level",
          "Mid level",
          "Mid level",
          "Mid level",
          "Mid level",
          "Mid level",
          "Mid level",
          "Mid level",
          "Mid level",
          "Mid level",
          "Mid level",
          "Mid level",
          "Mid level",
          "Mid level",
          "Mid level",
          "Mid level",
          "Mid level",
          "Mid level",
          "Mid level",
          "Mid level",
          "Mid level",
          "Mid level",
          "Mid level",
          "Mid level",
          "Mid level",
          "Mid level",
          "Mid level",
          "Mid level",
          "Mid level",
          "Mid level",
          "Mid level",
          "Mid level",
          "Mid level",
          "Mid level",
          "Mid level",
          "Mid level",
          "Mid level",
          "Mid level",
          "Mid level",
          "Mid level",
          "Mid level",
          "Mid level",
          "Mid level",
          "Mid level",
          "Mid level",
          "Mid level",
          "Mid level",
          "Mid level",
          "Mid level",
          "Mid level",
          "Mid level",
          "Mid level",
          "Mid level",
          "Mid level",
          "Mid level",
          "Mid level",
          "Mid level",
          "Mid level",
          "Mid level",
          "Mid level",
          "Mid level",
          "Mid level",
          "Mid level",
          "Mid level",
          "Mid level",
          "Mid level",
          "Mid level",
          "Mid level",
          "Mid level",
          "Mid level",
          "Mid level",
          "Mid level",
          "Mid level",
          "Mid level",
          "Mid level",
          "Mid level",
          "Mid level",
          "Mid level",
          "Mid level",
          "Mid level",
          "Mid level",
          "Mid level",
          "Mid level",
          "Mid level",
          "Mid level",
          "Mid level",
          "Mid level",
          "Mid level",
          "Mid level",
          "Mid level",
          "Mid level",
          "Mid level",
          "Mid level",
          "Mid level",
          "Mid level",
          "Mid level",
          "Mid level",
          "Mid level",
          "Mid level",
          "Mid level",
          "Mid level",
          "Mid level",
          "Mid level",
          "Mid level",
          "Mid level",
          "Mid level",
          "Mid level",
          "Mid level",
          "Mid level",
          "Mid level",
          "Mid level",
          "Mid level",
          "Mid level",
          "Mid level",
          "Mid level",
          "Mid level",
          "Mid level",
          "Mid level",
          "Mid level",
          "Mid level",
          "Mid level",
          "Mid level",
          "Mid level",
          "Mid level",
          "Mid level",
          "Mid level",
          "Mid level",
          "Mid level",
          "Mid level",
          "Mid level",
          "Mid level",
          "Mid level",
          "Mid level",
          "Mid level",
          "Mid level",
          "Mid level",
          "Mid level",
          "Mid level",
          "Mid level",
          "Mid level",
          "Mid level",
          "Mid level",
          "Mid level",
          "Mid level",
          "Mid level",
          "Mid level",
          "Mid level",
          "Mid level",
          "Mid level",
          "Mid level",
          "Mid level",
          "Mid level",
          "Mid level",
          "Mid level",
          "Mid level",
          "Mid level",
          "Mid level",
          "Mid level",
          "Mid level",
          "Mid level",
          "Mid level",
          "Mid level",
          "Mid level",
          "Mid level",
          "Mid level",
          "Mid level",
          "Mid level",
          "Mid level",
          "Mid level"
         ],
         "x0": " ",
         "xaxis": "x",
         "y": [
          79833,
          20000,
          35735,
          135000,
          40481,
          87000,
          85000,
          8000,
          56000,
          43331,
          6072,
          98000,
          115000,
          59303,
          450000,
          46759,
          74130,
          103000,
          45760,
          50180,
          106000,
          112872,
          76958,
          105000,
          70139,
          38776,
          118000,
          138350,
          110000,
          130800,
          62726,
          42197,
          100000,
          5409,
          270000,
          140000,
          54238,
          47282,
          28476,
          110000,
          19609,
          89294,
          450000,
          95746,
          75000,
          36259,
          62000,
          73000,
          51519,
          187442,
          45391,
          50000,
          40189,
          200000,
          60000,
          151000,
          9466,
          38400,
          90000,
          63711,
          77364,
          135000,
          82500,
          100000,
          62649,
          90000,
          150000,
          75774,
          119059,
          423000,
          28369,
          150000,
          170000,
          82528,
          2859,
          40038,
          5679,
          22611,
          90734,
          26005,
          12000,
          4000,
          74000,
          18000,
          147000,
          61467,
          37825,
          160000,
          12901,
          20000,
          24823,
          56738,
          66022,
          90734,
          88654,
          46597,
          116914,
          33808,
          56256,
          88654,
          180000,
          110000,
          63810,
          46809,
          80000,
          110000,
          72212,
          12103,
          115000,
          93000,
          200000,
          130000,
          16904,
          25532,
          93150,
          111775,
          28016,
          112000,
          69741,
          69999,
          109000,
          51064,
          130000,
          90000,
          170000,
          150000,
          106260,
          126500,
          65438,
          39263,
          78526,
          52351,
          115500,
          167000,
          58000,
          54957,
          54957,
          124333,
          98158,
          120000,
          87932,
          117789,
          98158,
          58000,
          52351,
          71982,
          45807,
          65949,
          49461,
          78526,
          58894,
          63900,
          160000,
          112300,
          241000,
          159000,
          82900,
          49461,
          39263,
          43966,
          32974,
          87932,
          76940,
          104702,
          91614,
          65949,
          87932,
          43966,
          32974,
          98158,
          78526,
          76940,
          78791,
          120000,
          37236,
          18442,
          31615,
          58255,
          54957,
          135000,
          50000,
          183228,
          91614,
          200000,
          120000,
          100000,
          75000,
          35590,
          153000,
          32974,
          87425,
          75000,
          64849,
          157000,
          70912,
          48000,
          68147,
          122346,
          69336,
          20000,
          135000,
          78000,
          85000,
          75000,
          141300,
          102100,
          206699,
          99100,
          65438,
          45807,
          160000,
          130000,
          200000
         ],
         "y0": " ",
         "yaxis": "y"
        },
        {
         "alignmentgroup": "True",
         "box": {
          "visible": true
         },
         "hovertemplate": "Experience Level=%{x}<br>Salary=%{y}<extra></extra>",
         "legendgroup": "Senior Level",
         "marker": {
          "color": "#EF553B"
         },
         "name": "Senior Level",
         "offsetgroup": "Senior Level",
         "orientation": "v",
         "scalegroup": "True",
         "showlegend": true,
         "type": "violin",
         "x": [
          "Senior Level",
          "Senior Level",
          "Senior Level",
          "Senior Level",
          "Senior Level",
          "Senior Level",
          "Senior Level",
          "Senior Level",
          "Senior Level",
          "Senior Level",
          "Senior Level",
          "Senior Level",
          "Senior Level",
          "Senior Level",
          "Senior Level",
          "Senior Level",
          "Senior Level",
          "Senior Level",
          "Senior Level",
          "Senior Level",
          "Senior Level",
          "Senior Level",
          "Senior Level",
          "Senior Level",
          "Senior Level",
          "Senior Level",
          "Senior Level",
          "Senior Level",
          "Senior Level",
          "Senior Level",
          "Senior Level",
          "Senior Level",
          "Senior Level",
          "Senior Level",
          "Senior Level",
          "Senior Level",
          "Senior Level",
          "Senior Level",
          "Senior Level",
          "Senior Level",
          "Senior Level",
          "Senior Level",
          "Senior Level",
          "Senior Level",
          "Senior Level",
          "Senior Level",
          "Senior Level",
          "Senior Level",
          "Senior Level",
          "Senior Level",
          "Senior Level",
          "Senior Level",
          "Senior Level",
          "Senior Level",
          "Senior Level",
          "Senior Level",
          "Senior Level",
          "Senior Level",
          "Senior Level",
          "Senior Level",
          "Senior Level",
          "Senior Level",
          "Senior Level",
          "Senior Level",
          "Senior Level",
          "Senior Level",
          "Senior Level",
          "Senior Level",
          "Senior Level",
          "Senior Level",
          "Senior Level",
          "Senior Level",
          "Senior Level",
          "Senior Level",
          "Senior Level",
          "Senior Level",
          "Senior Level",
          "Senior Level",
          "Senior Level",
          "Senior Level",
          "Senior Level",
          "Senior Level",
          "Senior Level",
          "Senior Level",
          "Senior Level",
          "Senior Level",
          "Senior Level",
          "Senior Level",
          "Senior Level",
          "Senior Level",
          "Senior Level",
          "Senior Level",
          "Senior Level",
          "Senior Level",
          "Senior Level",
          "Senior Level",
          "Senior Level",
          "Senior Level",
          "Senior Level",
          "Senior Level",
          "Senior Level",
          "Senior Level",
          "Senior Level",
          "Senior Level",
          "Senior Level",
          "Senior Level",
          "Senior Level",
          "Senior Level",
          "Senior Level",
          "Senior Level",
          "Senior Level",
          "Senior Level",
          "Senior Level",
          "Senior Level",
          "Senior Level",
          "Senior Level",
          "Senior Level",
          "Senior Level",
          "Senior Level",
          "Senior Level",
          "Senior Level",
          "Senior Level",
          "Senior Level",
          "Senior Level",
          "Senior Level",
          "Senior Level",
          "Senior Level",
          "Senior Level",
          "Senior Level",
          "Senior Level",
          "Senior Level",
          "Senior Level",
          "Senior Level",
          "Senior Level",
          "Senior Level",
          "Senior Level",
          "Senior Level",
          "Senior Level",
          "Senior Level",
          "Senior Level",
          "Senior Level",
          "Senior Level",
          "Senior Level",
          "Senior Level",
          "Senior Level",
          "Senior Level",
          "Senior Level",
          "Senior Level",
          "Senior Level",
          "Senior Level",
          "Senior Level",
          "Senior Level",
          "Senior Level",
          "Senior Level",
          "Senior Level",
          "Senior Level",
          "Senior Level",
          "Senior Level",
          "Senior Level",
          "Senior Level",
          "Senior Level",
          "Senior Level",
          "Senior Level",
          "Senior Level",
          "Senior Level",
          "Senior Level",
          "Senior Level",
          "Senior Level",
          "Senior Level",
          "Senior Level",
          "Senior Level",
          "Senior Level",
          "Senior Level",
          "Senior Level",
          "Senior Level",
          "Senior Level",
          "Senior Level",
          "Senior Level",
          "Senior Level",
          "Senior Level",
          "Senior Level",
          "Senior Level",
          "Senior Level",
          "Senior Level",
          "Senior Level",
          "Senior Level",
          "Senior Level",
          "Senior Level",
          "Senior Level",
          "Senior Level",
          "Senior Level",
          "Senior Level",
          "Senior Level",
          "Senior Level",
          "Senior Level",
          "Senior Level",
          "Senior Level",
          "Senior Level",
          "Senior Level",
          "Senior Level",
          "Senior Level",
          "Senior Level",
          "Senior Level",
          "Senior Level",
          "Senior Level",
          "Senior Level",
          "Senior Level",
          "Senior Level",
          "Senior Level",
          "Senior Level",
          "Senior Level",
          "Senior Level",
          "Senior Level",
          "Senior Level",
          "Senior Level",
          "Senior Level",
          "Senior Level",
          "Senior Level",
          "Senior Level",
          "Senior Level",
          "Senior Level",
          "Senior Level",
          "Senior Level",
          "Senior Level",
          "Senior Level",
          "Senior Level",
          "Senior Level",
          "Senior Level",
          "Senior Level",
          "Senior Level",
          "Senior Level",
          "Senior Level",
          "Senior Level",
          "Senior Level",
          "Senior Level",
          "Senior Level",
          "Senior Level",
          "Senior Level",
          "Senior Level",
          "Senior Level",
          "Senior Level",
          "Senior Level",
          "Senior Level",
          "Senior Level",
          "Senior Level",
          "Senior Level",
          "Senior Level",
          "Senior Level",
          "Senior Level",
          "Senior Level",
          "Senior Level",
          "Senior Level",
          "Senior Level",
          "Senior Level",
          "Senior Level",
          "Senior Level",
          "Senior Level",
          "Senior Level",
          "Senior Level",
          "Senior Level",
          "Senior Level",
          "Senior Level",
          "Senior Level",
          "Senior Level",
          "Senior Level",
          "Senior Level",
          "Senior Level",
          "Senior Level",
          "Senior Level",
          "Senior Level",
          "Senior Level",
          "Senior Level",
          "Senior Level",
          "Senior Level",
          "Senior Level",
          "Senior Level",
          "Senior Level",
          "Senior Level",
          "Senior Level",
          "Senior Level"
         ],
         "x0": " ",
         "xaxis": "x",
         "y": [
          260000,
          109024,
          150000,
          190000,
          125000,
          114047,
          47899,
          33511,
          117104,
          68428,
          188000,
          60000,
          148261,
          120000,
          412000,
          45618,
          190200,
          91237,
          53192,
          79197,
          170000,
          80000,
          88654,
          276000,
          150000,
          115000,
          150000,
          94564,
          113476,
          103160,
          200000,
          120000,
          40570,
          24000,
          220000,
          240000,
          150000,
          82744,
          153000,
          160000,
          168000,
          144000,
          127221,
          120000,
          165000,
          235000,
          60757,
          174000,
          61896,
          50000,
          76833,
          152000,
          174000,
          96113,
          24342,
          54094,
          195000,
          50000,
          200000,
          165000,
          120000,
          185000,
          140000,
          225000,
          87738,
          135000,
          71786,
          256000,
          200000,
          200000,
          103691,
          165000,
          96282,
          170000,
          99703,
          173762,
          185000,
          63831,
          66265,
          160000,
          18907,
          77684,
          55000,
          20171,
          105000,
          94665,
          102839,
          135000,
          155000,
          120600,
          102100,
          84900,
          136620,
          99360,
          117789,
          104702,
          146000,
          123000,
          99000,
          116000,
          165220,
          120160,
          90320,
          181940,
          132320,
          220110,
          160080,
          180000,
          120000,
          124190,
          170000,
          112900,
          90320,
          112900,
          90320,
          165400,
          132320,
          243900,
          136600,
          109280,
          128875,
          93700,
          156600,
          108800,
          95550,
          113000,
          135000,
          161342,
          137141,
          167000,
          123000,
          78526,
          65438,
          150000,
          211500,
          192400,
          90700,
          130000,
          61300,
          130000,
          61300,
          160000,
          138600,
          136000,
          170000,
          123000,
          189650,
          164996,
          132000,
          165400,
          208775,
          147800,
          136994,
          101570,
          128875,
          93700,
          132320,
          164000,
          155000,
          112900,
          90320,
          145000,
          105400,
          215300,
          158200,
          209100,
          154600,
          115934,
          81666,
          175000,
          183600,
          180000,
          260000,
          60000,
          180000,
          80000,
          100800,
          140400,
          189650,
          164996,
          215300,
          209100,
          154600,
          180000,
          80000,
          105000,
          87932,
          162674,
          144000,
          104890,
          100000,
          140000,
          220000,
          140000,
          185100,
          220000,
          120000,
          65000,
          210000,
          120000,
          230000,
          200000,
          78791,
          100000,
          165000,
          93427,
          62651,
          115000,
          71444,
          152500,
          380000,
          405000,
          177000,
          135000,
          100000,
          90320,
          214000,
          192600,
          266400,
          213120,
          112900,
          155000,
          115934,
          81666,
          130000,
          115000,
          110500,
          130000,
          99050,
          160000,
          205300,
          140400,
          176000,
          144000,
          200100,
          160000,
          145000,
          70500,
          205300,
          140400,
          205300,
          184700,
          175100,
          140250,
          116150,
          54000,
          170000,
          80000,
          140000,
          210000,
          140000,
          100000,
          69000,
          210000,
          140000,
          210000,
          150075,
          100000,
          25000,
          126500,
          106260,
          220110,
          160080,
          105000,
          110925,
          140000,
          99000,
          60000,
          192564,
          144854,
          230000,
          150000,
          150260,
          109280,
          210000,
          170000,
          154000,
          126000,
          129000,
          150000
         ],
         "y0": " ",
         "yaxis": "y"
        },
        {
         "alignmentgroup": "True",
         "box": {
          "visible": true
         },
         "hovertemplate": "Experience Level=%{x}<br>Salary=%{y}<extra></extra>",
         "legendgroup": "Entry Level",
         "marker": {
          "color": "#00cc96"
         },
         "name": "Entry Level",
         "offsetgroup": "Entry Level",
         "orientation": "v",
         "scalegroup": "True",
         "showlegend": true,
         "type": "violin",
         "x": [
          "Entry Level",
          "Entry Level",
          "Entry Level",
          "Entry Level",
          "Entry Level",
          "Entry Level",
          "Entry Level",
          "Entry Level",
          "Entry Level",
          "Entry Level",
          "Entry Level",
          "Entry Level",
          "Entry Level",
          "Entry Level",
          "Entry Level",
          "Entry Level",
          "Entry Level",
          "Entry Level",
          "Entry Level",
          "Entry Level",
          "Entry Level",
          "Entry Level",
          "Entry Level",
          "Entry Level",
          "Entry Level",
          "Entry Level",
          "Entry Level",
          "Entry Level",
          "Entry Level",
          "Entry Level",
          "Entry Level",
          "Entry Level",
          "Entry Level",
          "Entry Level",
          "Entry Level",
          "Entry Level",
          "Entry Level",
          "Entry Level",
          "Entry Level",
          "Entry Level",
          "Entry Level",
          "Entry Level",
          "Entry Level",
          "Entry Level",
          "Entry Level",
          "Entry Level",
          "Entry Level",
          "Entry Level",
          "Entry Level",
          "Entry Level",
          "Entry Level",
          "Entry Level",
          "Entry Level",
          "Entry Level",
          "Entry Level",
          "Entry Level",
          "Entry Level",
          "Entry Level",
          "Entry Level",
          "Entry Level",
          "Entry Level",
          "Entry Level",
          "Entry Level",
          "Entry Level",
          "Entry Level",
          "Entry Level",
          "Entry Level",
          "Entry Level",
          "Entry Level",
          "Entry Level",
          "Entry Level",
          "Entry Level",
          "Entry Level",
          "Entry Level",
          "Entry Level",
          "Entry Level",
          "Entry Level",
          "Entry Level",
          "Entry Level",
          "Entry Level",
          "Entry Level",
          "Entry Level",
          "Entry Level",
          "Entry Level",
          "Entry Level",
          "Entry Level",
          "Entry Level",
          "Entry Level"
         ],
         "x0": " ",
         "xaxis": "x",
         "y": [
          72000,
          51321,
          39916,
          41689,
          5707,
          42000,
          100000,
          70000,
          250000,
          10000,
          138000,
          15966,
          6072,
          91000,
          45896,
          54742,
          21669,
          62726,
          49268,
          105000,
          82528,
          80000,
          59102,
          76833,
          29751,
          12000,
          70000,
          30428,
          12000,
          225000,
          90000,
          50000,
          110037,
          10354,
          20000,
          100000,
          49646,
          100000,
          80000,
          13400,
          125000,
          63831,
          80000,
          55000,
          60000,
          81000,
          21844,
          9272,
          90000,
          5882,
          24823,
          28609,
          16228,
          4000,
          21637,
          18053,
          36643,
          90000,
          28399,
          65013,
          72500,
          76833,
          85000,
          100000,
          58000,
          59102,
          100000,
          52351,
          45807,
          37300,
          21983,
          125000,
          100000,
          18442,
          120000,
          100000,
          31875,
          58035,
          52396,
          40000,
          86703,
          120000,
          150000,
          65000,
          20000,
          10000,
          67000,
          52000
         ],
         "y0": " ",
         "yaxis": "y"
        },
        {
         "alignmentgroup": "True",
         "box": {
          "visible": true
         },
         "hovertemplate": "Experience Level=%{x}<br>Salary=%{y}<extra></extra>",
         "legendgroup": "Expert Level",
         "marker": {
          "color": "#ab63fa"
         },
         "name": "Expert Level",
         "offsetgroup": "Expert Level",
         "orientation": "v",
         "scalegroup": "True",
         "showlegend": true,
         "type": "violin",
         "x": [
          "Expert Level",
          "Expert Level",
          "Expert Level",
          "Expert Level",
          "Expert Level",
          "Expert Level",
          "Expert Level",
          "Expert Level",
          "Expert Level",
          "Expert Level",
          "Expert Level",
          "Expert Level",
          "Expert Level",
          "Expert Level",
          "Expert Level",
          "Expert Level",
          "Expert Level",
          "Expert Level",
          "Expert Level",
          "Expert Level",
          "Expert Level",
          "Expert Level",
          "Expert Level",
          "Expert Level",
          "Expert Level",
          "Expert Level"
         ],
         "x0": " ",
         "xaxis": "x",
         "y": [
          325000,
          79833,
          150000,
          235000,
          153667,
          230000,
          85000,
          130026,
          250000,
          69741,
          416000,
          600000,
          141846,
          242000,
          200000,
          130000,
          110000,
          224000,
          167875,
          175000,
          135000,
          118187,
          79039,
          196979,
          324000,
          216000
         ],
         "y0": " ",
         "yaxis": "y"
        }
       ],
       "layout": {
        "legend": {
         "title": {
          "text": "Experience Level"
         },
         "tracegroupgap": 0
        },
        "margin": {
         "t": 60
        },
        "paper_bgcolor": "#f1e7d2",
        "plot_bgcolor": "#f1e7d2",
        "showlegend": false,
        "template": {
         "data": {
          "bar": [
           {
            "error_x": {
             "color": "#2a3f5f"
            },
            "error_y": {
             "color": "#2a3f5f"
            },
            "marker": {
             "line": {
              "color": "#E5ECF6",
              "width": 0.5
             },
             "pattern": {
              "fillmode": "overlay",
              "size": 10,
              "solidity": 0.2
             }
            },
            "type": "bar"
           }
          ],
          "barpolar": [
           {
            "marker": {
             "line": {
              "color": "#E5ECF6",
              "width": 0.5
             },
             "pattern": {
              "fillmode": "overlay",
              "size": 10,
              "solidity": 0.2
             }
            },
            "type": "barpolar"
           }
          ],
          "carpet": [
           {
            "aaxis": {
             "endlinecolor": "#2a3f5f",
             "gridcolor": "white",
             "linecolor": "white",
             "minorgridcolor": "white",
             "startlinecolor": "#2a3f5f"
            },
            "baxis": {
             "endlinecolor": "#2a3f5f",
             "gridcolor": "white",
             "linecolor": "white",
             "minorgridcolor": "white",
             "startlinecolor": "#2a3f5f"
            },
            "type": "carpet"
           }
          ],
          "choropleth": [
           {
            "colorbar": {
             "outlinewidth": 0,
             "ticks": ""
            },
            "type": "choropleth"
           }
          ],
          "contour": [
           {
            "colorbar": {
             "outlinewidth": 0,
             "ticks": ""
            },
            "colorscale": [
             [
              0.0,
              "#0d0887"
             ],
             [
              0.1111111111111111,
              "#46039f"
             ],
             [
              0.2222222222222222,
              "#7201a8"
             ],
             [
              0.3333333333333333,
              "#9c179e"
             ],
             [
              0.4444444444444444,
              "#bd3786"
             ],
             [
              0.5555555555555556,
              "#d8576b"
             ],
             [
              0.6666666666666666,
              "#ed7953"
             ],
             [
              0.7777777777777778,
              "#fb9f3a"
             ],
             [
              0.8888888888888888,
              "#fdca26"
             ],
             [
              1.0,
              "#f0f921"
             ]
            ],
            "type": "contour"
           }
          ],
          "contourcarpet": [
           {
            "colorbar": {
             "outlinewidth": 0,
             "ticks": ""
            },
            "type": "contourcarpet"
           }
          ],
          "heatmap": [
           {
            "colorbar": {
             "outlinewidth": 0,
             "ticks": ""
            },
            "colorscale": [
             [
              0.0,
              "#0d0887"
             ],
             [
              0.1111111111111111,
              "#46039f"
             ],
             [
              0.2222222222222222,
              "#7201a8"
             ],
             [
              0.3333333333333333,
              "#9c179e"
             ],
             [
              0.4444444444444444,
              "#bd3786"
             ],
             [
              0.5555555555555556,
              "#d8576b"
             ],
             [
              0.6666666666666666,
              "#ed7953"
             ],
             [
              0.7777777777777778,
              "#fb9f3a"
             ],
             [
              0.8888888888888888,
              "#fdca26"
             ],
             [
              1.0,
              "#f0f921"
             ]
            ],
            "type": "heatmap"
           }
          ],
          "heatmapgl": [
           {
            "colorbar": {
             "outlinewidth": 0,
             "ticks": ""
            },
            "colorscale": [
             [
              0.0,
              "#0d0887"
             ],
             [
              0.1111111111111111,
              "#46039f"
             ],
             [
              0.2222222222222222,
              "#7201a8"
             ],
             [
              0.3333333333333333,
              "#9c179e"
             ],
             [
              0.4444444444444444,
              "#bd3786"
             ],
             [
              0.5555555555555556,
              "#d8576b"
             ],
             [
              0.6666666666666666,
              "#ed7953"
             ],
             [
              0.7777777777777778,
              "#fb9f3a"
             ],
             [
              0.8888888888888888,
              "#fdca26"
             ],
             [
              1.0,
              "#f0f921"
             ]
            ],
            "type": "heatmapgl"
           }
          ],
          "histogram": [
           {
            "marker": {
             "pattern": {
              "fillmode": "overlay",
              "size": 10,
              "solidity": 0.2
             }
            },
            "type": "histogram"
           }
          ],
          "histogram2d": [
           {
            "colorbar": {
             "outlinewidth": 0,
             "ticks": ""
            },
            "colorscale": [
             [
              0.0,
              "#0d0887"
             ],
             [
              0.1111111111111111,
              "#46039f"
             ],
             [
              0.2222222222222222,
              "#7201a8"
             ],
             [
              0.3333333333333333,
              "#9c179e"
             ],
             [
              0.4444444444444444,
              "#bd3786"
             ],
             [
              0.5555555555555556,
              "#d8576b"
             ],
             [
              0.6666666666666666,
              "#ed7953"
             ],
             [
              0.7777777777777778,
              "#fb9f3a"
             ],
             [
              0.8888888888888888,
              "#fdca26"
             ],
             [
              1.0,
              "#f0f921"
             ]
            ],
            "type": "histogram2d"
           }
          ],
          "histogram2dcontour": [
           {
            "colorbar": {
             "outlinewidth": 0,
             "ticks": ""
            },
            "colorscale": [
             [
              0.0,
              "#0d0887"
             ],
             [
              0.1111111111111111,
              "#46039f"
             ],
             [
              0.2222222222222222,
              "#7201a8"
             ],
             [
              0.3333333333333333,
              "#9c179e"
             ],
             [
              0.4444444444444444,
              "#bd3786"
             ],
             [
              0.5555555555555556,
              "#d8576b"
             ],
             [
              0.6666666666666666,
              "#ed7953"
             ],
             [
              0.7777777777777778,
              "#fb9f3a"
             ],
             [
              0.8888888888888888,
              "#fdca26"
             ],
             [
              1.0,
              "#f0f921"
             ]
            ],
            "type": "histogram2dcontour"
           }
          ],
          "mesh3d": [
           {
            "colorbar": {
             "outlinewidth": 0,
             "ticks": ""
            },
            "type": "mesh3d"
           }
          ],
          "parcoords": [
           {
            "line": {
             "colorbar": {
              "outlinewidth": 0,
              "ticks": ""
             }
            },
            "type": "parcoords"
           }
          ],
          "pie": [
           {
            "automargin": true,
            "type": "pie"
           }
          ],
          "scatter": [
           {
            "fillpattern": {
             "fillmode": "overlay",
             "size": 10,
             "solidity": 0.2
            },
            "type": "scatter"
           }
          ],
          "scatter3d": [
           {
            "line": {
             "colorbar": {
              "outlinewidth": 0,
              "ticks": ""
             }
            },
            "marker": {
             "colorbar": {
              "outlinewidth": 0,
              "ticks": ""
             }
            },
            "type": "scatter3d"
           }
          ],
          "scattercarpet": [
           {
            "marker": {
             "colorbar": {
              "outlinewidth": 0,
              "ticks": ""
             }
            },
            "type": "scattercarpet"
           }
          ],
          "scattergeo": [
           {
            "marker": {
             "colorbar": {
              "outlinewidth": 0,
              "ticks": ""
             }
            },
            "type": "scattergeo"
           }
          ],
          "scattergl": [
           {
            "marker": {
             "colorbar": {
              "outlinewidth": 0,
              "ticks": ""
             }
            },
            "type": "scattergl"
           }
          ],
          "scattermapbox": [
           {
            "marker": {
             "colorbar": {
              "outlinewidth": 0,
              "ticks": ""
             }
            },
            "type": "scattermapbox"
           }
          ],
          "scatterpolar": [
           {
            "marker": {
             "colorbar": {
              "outlinewidth": 0,
              "ticks": ""
             }
            },
            "type": "scatterpolar"
           }
          ],
          "scatterpolargl": [
           {
            "marker": {
             "colorbar": {
              "outlinewidth": 0,
              "ticks": ""
             }
            },
            "type": "scatterpolargl"
           }
          ],
          "scatterternary": [
           {
            "marker": {
             "colorbar": {
              "outlinewidth": 0,
              "ticks": ""
             }
            },
            "type": "scatterternary"
           }
          ],
          "surface": [
           {
            "colorbar": {
             "outlinewidth": 0,
             "ticks": ""
            },
            "colorscale": [
             [
              0.0,
              "#0d0887"
             ],
             [
              0.1111111111111111,
              "#46039f"
             ],
             [
              0.2222222222222222,
              "#7201a8"
             ],
             [
              0.3333333333333333,
              "#9c179e"
             ],
             [
              0.4444444444444444,
              "#bd3786"
             ],
             [
              0.5555555555555556,
              "#d8576b"
             ],
             [
              0.6666666666666666,
              "#ed7953"
             ],
             [
              0.7777777777777778,
              "#fb9f3a"
             ],
             [
              0.8888888888888888,
              "#fdca26"
             ],
             [
              1.0,
              "#f0f921"
             ]
            ],
            "type": "surface"
           }
          ],
          "table": [
           {
            "cells": {
             "fill": {
              "color": "#EBF0F8"
             },
             "line": {
              "color": "white"
             }
            },
            "header": {
             "fill": {
              "color": "#C8D4E3"
             },
             "line": {
              "color": "white"
             }
            },
            "type": "table"
           }
          ]
         },
         "layout": {
          "annotationdefaults": {
           "arrowcolor": "#2a3f5f",
           "arrowhead": 0,
           "arrowwidth": 1
          },
          "autotypenumbers": "strict",
          "coloraxis": {
           "colorbar": {
            "outlinewidth": 0,
            "ticks": ""
           }
          },
          "colorscale": {
           "diverging": [
            [
             0,
             "#8e0152"
            ],
            [
             0.1,
             "#c51b7d"
            ],
            [
             0.2,
             "#de77ae"
            ],
            [
             0.3,
             "#f1b6da"
            ],
            [
             0.4,
             "#fde0ef"
            ],
            [
             0.5,
             "#f7f7f7"
            ],
            [
             0.6,
             "#e6f5d0"
            ],
            [
             0.7,
             "#b8e186"
            ],
            [
             0.8,
             "#7fbc41"
            ],
            [
             0.9,
             "#4d9221"
            ],
            [
             1,
             "#276419"
            ]
           ],
           "sequential": [
            [
             0.0,
             "#0d0887"
            ],
            [
             0.1111111111111111,
             "#46039f"
            ],
            [
             0.2222222222222222,
             "#7201a8"
            ],
            [
             0.3333333333333333,
             "#9c179e"
            ],
            [
             0.4444444444444444,
             "#bd3786"
            ],
            [
             0.5555555555555556,
             "#d8576b"
            ],
            [
             0.6666666666666666,
             "#ed7953"
            ],
            [
             0.7777777777777778,
             "#fb9f3a"
            ],
            [
             0.8888888888888888,
             "#fdca26"
            ],
            [
             1.0,
             "#f0f921"
            ]
           ],
           "sequentialminus": [
            [
             0.0,
             "#0d0887"
            ],
            [
             0.1111111111111111,
             "#46039f"
            ],
            [
             0.2222222222222222,
             "#7201a8"
            ],
            [
             0.3333333333333333,
             "#9c179e"
            ],
            [
             0.4444444444444444,
             "#bd3786"
            ],
            [
             0.5555555555555556,
             "#d8576b"
            ],
            [
             0.6666666666666666,
             "#ed7953"
            ],
            [
             0.7777777777777778,
             "#fb9f3a"
            ],
            [
             0.8888888888888888,
             "#fdca26"
            ],
            [
             1.0,
             "#f0f921"
            ]
           ]
          },
          "colorway": [
           "#636efa",
           "#EF553B",
           "#00cc96",
           "#ab63fa",
           "#FFA15A",
           "#19d3f3",
           "#FF6692",
           "#B6E880",
           "#FF97FF",
           "#FECB52"
          ],
          "font": {
           "color": "#2a3f5f"
          },
          "geo": {
           "bgcolor": "white",
           "lakecolor": "white",
           "landcolor": "#E5ECF6",
           "showlakes": true,
           "showland": true,
           "subunitcolor": "white"
          },
          "hoverlabel": {
           "align": "left"
          },
          "hovermode": "closest",
          "mapbox": {
           "style": "light"
          },
          "paper_bgcolor": "white",
          "plot_bgcolor": "#E5ECF6",
          "polar": {
           "angularaxis": {
            "gridcolor": "white",
            "linecolor": "white",
            "ticks": ""
           },
           "bgcolor": "#E5ECF6",
           "radialaxis": {
            "gridcolor": "white",
            "linecolor": "white",
            "ticks": ""
           }
          },
          "scene": {
           "xaxis": {
            "backgroundcolor": "#E5ECF6",
            "gridcolor": "white",
            "gridwidth": 2,
            "linecolor": "white",
            "showbackground": true,
            "ticks": "",
            "zerolinecolor": "white"
           },
           "yaxis": {
            "backgroundcolor": "#E5ECF6",
            "gridcolor": "white",
            "gridwidth": 2,
            "linecolor": "white",
            "showbackground": true,
            "ticks": "",
            "zerolinecolor": "white"
           },
           "zaxis": {
            "backgroundcolor": "#E5ECF6",
            "gridcolor": "white",
            "gridwidth": 2,
            "linecolor": "white",
            "showbackground": true,
            "ticks": "",
            "zerolinecolor": "white"
           }
          },
          "shapedefaults": {
           "line": {
            "color": "#2a3f5f"
           }
          },
          "ternary": {
           "aaxis": {
            "gridcolor": "white",
            "linecolor": "white",
            "ticks": ""
           },
           "baxis": {
            "gridcolor": "white",
            "linecolor": "white",
            "ticks": ""
           },
           "bgcolor": "#E5ECF6",
           "caxis": {
            "gridcolor": "white",
            "linecolor": "white",
            "ticks": ""
           }
          },
          "title": {
           "x": 0.05
          },
          "xaxis": {
           "automargin": true,
           "gridcolor": "white",
           "linecolor": "white",
           "ticks": "",
           "title": {
            "standoff": 15
           },
           "zerolinecolor": "white",
           "zerolinewidth": 2
          },
          "yaxis": {
           "automargin": true,
           "gridcolor": "white",
           "linecolor": "white",
           "ticks": "",
           "title": {
            "standoff": 15
           },
           "zerolinecolor": "white",
           "zerolinewidth": 2
          }
         }
        },
        "violinmode": "overlay",
        "xaxis": {
         "anchor": "y",
         "categoryarray": [
          "Mid level",
          "Senior Level",
          "Entry Level",
          "Expert Level"
         ],
         "categoryorder": "array",
         "domain": [
          0.0,
          1.0
         ],
         "title": {
          "text": "Experience Level"
         }
        },
        "yaxis": {
         "anchor": "x",
         "domain": [
          0.0,
          1.0
         ],
         "title": {
          "text": "Salary"
         }
        }
       }
      },
      "text/html": [
       "<div>                            <div id=\"7d0a4b29-e87a-4f00-a97b-168a806f87e0\" class=\"plotly-graph-div\" style=\"height:525px; width:100%;\"></div>            <script type=\"text/javascript\">                require([\"plotly\"], function(Plotly) {                    window.PLOTLYENV=window.PLOTLYENV || {};                                    if (document.getElementById(\"7d0a4b29-e87a-4f00-a97b-168a806f87e0\")) {                    Plotly.newPlot(                        \"7d0a4b29-e87a-4f00-a97b-168a806f87e0\",                        [{\"alignmentgroup\":\"True\",\"box\":{\"visible\":true},\"hovertemplate\":\"Experience Level=%{x}<br>Salary=%{y}<extra></extra>\",\"legendgroup\":\"Mid level\",\"marker\":{\"color\":\"#636efa\"},\"name\":\"Mid level\",\"offsetgroup\":\"Mid level\",\"orientation\":\"v\",\"scalegroup\":\"True\",\"showlegend\":true,\"x\":[\"Mid level\",\"Mid level\",\"Mid level\",\"Mid level\",\"Mid level\",\"Mid level\",\"Mid level\",\"Mid level\",\"Mid level\",\"Mid level\",\"Mid level\",\"Mid level\",\"Mid level\",\"Mid level\",\"Mid level\",\"Mid level\",\"Mid level\",\"Mid level\",\"Mid level\",\"Mid level\",\"Mid level\",\"Mid level\",\"Mid level\",\"Mid level\",\"Mid level\",\"Mid level\",\"Mid level\",\"Mid level\",\"Mid level\",\"Mid level\",\"Mid level\",\"Mid level\",\"Mid level\",\"Mid level\",\"Mid level\",\"Mid level\",\"Mid level\",\"Mid level\",\"Mid level\",\"Mid level\",\"Mid level\",\"Mid level\",\"Mid level\",\"Mid level\",\"Mid level\",\"Mid level\",\"Mid level\",\"Mid level\",\"Mid level\",\"Mid level\",\"Mid level\",\"Mid level\",\"Mid level\",\"Mid level\",\"Mid level\",\"Mid level\",\"Mid level\",\"Mid level\",\"Mid level\",\"Mid level\",\"Mid level\",\"Mid level\",\"Mid level\",\"Mid level\",\"Mid level\",\"Mid level\",\"Mid level\",\"Mid level\",\"Mid level\",\"Mid level\",\"Mid level\",\"Mid level\",\"Mid level\",\"Mid level\",\"Mid level\",\"Mid level\",\"Mid level\",\"Mid level\",\"Mid level\",\"Mid level\",\"Mid level\",\"Mid level\",\"Mid level\",\"Mid level\",\"Mid level\",\"Mid level\",\"Mid level\",\"Mid level\",\"Mid level\",\"Mid level\",\"Mid level\",\"Mid level\",\"Mid level\",\"Mid level\",\"Mid level\",\"Mid level\",\"Mid level\",\"Mid level\",\"Mid level\",\"Mid level\",\"Mid level\",\"Mid level\",\"Mid level\",\"Mid level\",\"Mid level\",\"Mid level\",\"Mid level\",\"Mid level\",\"Mid level\",\"Mid level\",\"Mid level\",\"Mid level\",\"Mid level\",\"Mid level\",\"Mid level\",\"Mid level\",\"Mid level\",\"Mid level\",\"Mid level\",\"Mid level\",\"Mid level\",\"Mid level\",\"Mid level\",\"Mid level\",\"Mid level\",\"Mid level\",\"Mid level\",\"Mid level\",\"Mid level\",\"Mid level\",\"Mid level\",\"Mid level\",\"Mid level\",\"Mid level\",\"Mid level\",\"Mid level\",\"Mid level\",\"Mid level\",\"Mid level\",\"Mid level\",\"Mid level\",\"Mid level\",\"Mid level\",\"Mid level\",\"Mid level\",\"Mid level\",\"Mid level\",\"Mid level\",\"Mid level\",\"Mid level\",\"Mid level\",\"Mid level\",\"Mid level\",\"Mid level\",\"Mid level\",\"Mid level\",\"Mid level\",\"Mid level\",\"Mid level\",\"Mid level\",\"Mid level\",\"Mid level\",\"Mid level\",\"Mid level\",\"Mid level\",\"Mid level\",\"Mid level\",\"Mid level\",\"Mid level\",\"Mid level\",\"Mid level\",\"Mid level\",\"Mid level\",\"Mid level\",\"Mid level\",\"Mid level\",\"Mid level\",\"Mid level\",\"Mid level\",\"Mid level\",\"Mid level\",\"Mid level\",\"Mid level\",\"Mid level\",\"Mid level\",\"Mid level\",\"Mid level\",\"Mid level\",\"Mid level\",\"Mid level\",\"Mid level\",\"Mid level\",\"Mid level\",\"Mid level\",\"Mid level\",\"Mid level\",\"Mid level\",\"Mid level\",\"Mid level\",\"Mid level\",\"Mid level\",\"Mid level\",\"Mid level\",\"Mid level\",\"Mid level\",\"Mid level\",\"Mid level\",\"Mid level\",\"Mid level\",\"Mid level\",\"Mid level\",\"Mid level\",\"Mid level\"],\"x0\":\" \",\"xaxis\":\"x\",\"y\":[79833,20000,35735,135000,40481,87000,85000,8000,56000,43331,6072,98000,115000,59303,450000,46759,74130,103000,45760,50180,106000,112872,76958,105000,70139,38776,118000,138350,110000,130800,62726,42197,100000,5409,270000,140000,54238,47282,28476,110000,19609,89294,450000,95746,75000,36259,62000,73000,51519,187442,45391,50000,40189,200000,60000,151000,9466,38400,90000,63711,77364,135000,82500,100000,62649,90000,150000,75774,119059,423000,28369,150000,170000,82528,2859,40038,5679,22611,90734,26005,12000,4000,74000,18000,147000,61467,37825,160000,12901,20000,24823,56738,66022,90734,88654,46597,116914,33808,56256,88654,180000,110000,63810,46809,80000,110000,72212,12103,115000,93000,200000,130000,16904,25532,93150,111775,28016,112000,69741,69999,109000,51064,130000,90000,170000,150000,106260,126500,65438,39263,78526,52351,115500,167000,58000,54957,54957,124333,98158,120000,87932,117789,98158,58000,52351,71982,45807,65949,49461,78526,58894,63900,160000,112300,241000,159000,82900,49461,39263,43966,32974,87932,76940,104702,91614,65949,87932,43966,32974,98158,78526,76940,78791,120000,37236,18442,31615,58255,54957,135000,50000,183228,91614,200000,120000,100000,75000,35590,153000,32974,87425,75000,64849,157000,70912,48000,68147,122346,69336,20000,135000,78000,85000,75000,141300,102100,206699,99100,65438,45807,160000,130000,200000],\"y0\":\" \",\"yaxis\":\"y\",\"type\":\"violin\"},{\"alignmentgroup\":\"True\",\"box\":{\"visible\":true},\"hovertemplate\":\"Experience Level=%{x}<br>Salary=%{y}<extra></extra>\",\"legendgroup\":\"Senior Level\",\"marker\":{\"color\":\"#EF553B\"},\"name\":\"Senior Level\",\"offsetgroup\":\"Senior Level\",\"orientation\":\"v\",\"scalegroup\":\"True\",\"showlegend\":true,\"x\":[\"Senior Level\",\"Senior Level\",\"Senior Level\",\"Senior Level\",\"Senior Level\",\"Senior Level\",\"Senior Level\",\"Senior Level\",\"Senior Level\",\"Senior Level\",\"Senior Level\",\"Senior Level\",\"Senior Level\",\"Senior Level\",\"Senior Level\",\"Senior Level\",\"Senior Level\",\"Senior Level\",\"Senior Level\",\"Senior Level\",\"Senior Level\",\"Senior Level\",\"Senior Level\",\"Senior Level\",\"Senior Level\",\"Senior Level\",\"Senior Level\",\"Senior Level\",\"Senior Level\",\"Senior Level\",\"Senior Level\",\"Senior Level\",\"Senior Level\",\"Senior Level\",\"Senior Level\",\"Senior Level\",\"Senior Level\",\"Senior Level\",\"Senior Level\",\"Senior Level\",\"Senior Level\",\"Senior Level\",\"Senior Level\",\"Senior Level\",\"Senior Level\",\"Senior Level\",\"Senior Level\",\"Senior Level\",\"Senior Level\",\"Senior Level\",\"Senior Level\",\"Senior Level\",\"Senior Level\",\"Senior Level\",\"Senior Level\",\"Senior Level\",\"Senior Level\",\"Senior Level\",\"Senior Level\",\"Senior Level\",\"Senior Level\",\"Senior Level\",\"Senior Level\",\"Senior Level\",\"Senior Level\",\"Senior Level\",\"Senior Level\",\"Senior Level\",\"Senior Level\",\"Senior Level\",\"Senior Level\",\"Senior Level\",\"Senior Level\",\"Senior Level\",\"Senior Level\",\"Senior Level\",\"Senior Level\",\"Senior Level\",\"Senior Level\",\"Senior Level\",\"Senior Level\",\"Senior Level\",\"Senior Level\",\"Senior Level\",\"Senior Level\",\"Senior Level\",\"Senior Level\",\"Senior Level\",\"Senior Level\",\"Senior Level\",\"Senior Level\",\"Senior Level\",\"Senior Level\",\"Senior Level\",\"Senior Level\",\"Senior Level\",\"Senior Level\",\"Senior Level\",\"Senior Level\",\"Senior Level\",\"Senior Level\",\"Senior Level\",\"Senior Level\",\"Senior Level\",\"Senior Level\",\"Senior Level\",\"Senior Level\",\"Senior Level\",\"Senior Level\",\"Senior Level\",\"Senior Level\",\"Senior Level\",\"Senior Level\",\"Senior Level\",\"Senior Level\",\"Senior Level\",\"Senior Level\",\"Senior Level\",\"Senior Level\",\"Senior Level\",\"Senior Level\",\"Senior Level\",\"Senior Level\",\"Senior Level\",\"Senior Level\",\"Senior Level\",\"Senior Level\",\"Senior Level\",\"Senior Level\",\"Senior Level\",\"Senior Level\",\"Senior Level\",\"Senior Level\",\"Senior Level\",\"Senior Level\",\"Senior Level\",\"Senior Level\",\"Senior Level\",\"Senior Level\",\"Senior Level\",\"Senior Level\",\"Senior Level\",\"Senior Level\",\"Senior Level\",\"Senior Level\",\"Senior Level\",\"Senior Level\",\"Senior Level\",\"Senior Level\",\"Senior Level\",\"Senior Level\",\"Senior Level\",\"Senior Level\",\"Senior Level\",\"Senior Level\",\"Senior Level\",\"Senior Level\",\"Senior Level\",\"Senior Level\",\"Senior Level\",\"Senior Level\",\"Senior Level\",\"Senior Level\",\"Senior Level\",\"Senior Level\",\"Senior Level\",\"Senior Level\",\"Senior Level\",\"Senior Level\",\"Senior Level\",\"Senior Level\",\"Senior Level\",\"Senior Level\",\"Senior Level\",\"Senior Level\",\"Senior Level\",\"Senior Level\",\"Senior Level\",\"Senior Level\",\"Senior Level\",\"Senior Level\",\"Senior Level\",\"Senior Level\",\"Senior Level\",\"Senior Level\",\"Senior Level\",\"Senior Level\",\"Senior Level\",\"Senior Level\",\"Senior Level\",\"Senior Level\",\"Senior Level\",\"Senior Level\",\"Senior Level\",\"Senior Level\",\"Senior Level\",\"Senior Level\",\"Senior Level\",\"Senior Level\",\"Senior Level\",\"Senior Level\",\"Senior Level\",\"Senior Level\",\"Senior Level\",\"Senior Level\",\"Senior Level\",\"Senior Level\",\"Senior Level\",\"Senior Level\",\"Senior Level\",\"Senior Level\",\"Senior Level\",\"Senior Level\",\"Senior Level\",\"Senior Level\",\"Senior Level\",\"Senior Level\",\"Senior Level\",\"Senior Level\",\"Senior Level\",\"Senior Level\",\"Senior Level\",\"Senior Level\",\"Senior Level\",\"Senior Level\",\"Senior Level\",\"Senior Level\",\"Senior Level\",\"Senior Level\",\"Senior Level\",\"Senior Level\",\"Senior Level\",\"Senior Level\",\"Senior Level\",\"Senior Level\",\"Senior Level\",\"Senior Level\",\"Senior Level\",\"Senior Level\",\"Senior Level\",\"Senior Level\",\"Senior Level\",\"Senior Level\",\"Senior Level\",\"Senior Level\",\"Senior Level\",\"Senior Level\",\"Senior Level\",\"Senior Level\",\"Senior Level\",\"Senior Level\",\"Senior Level\",\"Senior Level\",\"Senior Level\",\"Senior Level\",\"Senior Level\",\"Senior Level\",\"Senior Level\",\"Senior Level\",\"Senior Level\",\"Senior Level\",\"Senior Level\",\"Senior Level\",\"Senior Level\",\"Senior Level\",\"Senior Level\",\"Senior Level\",\"Senior Level\",\"Senior Level\",\"Senior Level\",\"Senior Level\",\"Senior Level\",\"Senior Level\",\"Senior Level\",\"Senior Level\",\"Senior Level\",\"Senior Level\",\"Senior Level\",\"Senior Level\",\"Senior Level\"],\"x0\":\" \",\"xaxis\":\"x\",\"y\":[260000,109024,150000,190000,125000,114047,47899,33511,117104,68428,188000,60000,148261,120000,412000,45618,190200,91237,53192,79197,170000,80000,88654,276000,150000,115000,150000,94564,113476,103160,200000,120000,40570,24000,220000,240000,150000,82744,153000,160000,168000,144000,127221,120000,165000,235000,60757,174000,61896,50000,76833,152000,174000,96113,24342,54094,195000,50000,200000,165000,120000,185000,140000,225000,87738,135000,71786,256000,200000,200000,103691,165000,96282,170000,99703,173762,185000,63831,66265,160000,18907,77684,55000,20171,105000,94665,102839,135000,155000,120600,102100,84900,136620,99360,117789,104702,146000,123000,99000,116000,165220,120160,90320,181940,132320,220110,160080,180000,120000,124190,170000,112900,90320,112900,90320,165400,132320,243900,136600,109280,128875,93700,156600,108800,95550,113000,135000,161342,137141,167000,123000,78526,65438,150000,211500,192400,90700,130000,61300,130000,61300,160000,138600,136000,170000,123000,189650,164996,132000,165400,208775,147800,136994,101570,128875,93700,132320,164000,155000,112900,90320,145000,105400,215300,158200,209100,154600,115934,81666,175000,183600,180000,260000,60000,180000,80000,100800,140400,189650,164996,215300,209100,154600,180000,80000,105000,87932,162674,144000,104890,100000,140000,220000,140000,185100,220000,120000,65000,210000,120000,230000,200000,78791,100000,165000,93427,62651,115000,71444,152500,380000,405000,177000,135000,100000,90320,214000,192600,266400,213120,112900,155000,115934,81666,130000,115000,110500,130000,99050,160000,205300,140400,176000,144000,200100,160000,145000,70500,205300,140400,205300,184700,175100,140250,116150,54000,170000,80000,140000,210000,140000,100000,69000,210000,140000,210000,150075,100000,25000,126500,106260,220110,160080,105000,110925,140000,99000,60000,192564,144854,230000,150000,150260,109280,210000,170000,154000,126000,129000,150000],\"y0\":\" \",\"yaxis\":\"y\",\"type\":\"violin\"},{\"alignmentgroup\":\"True\",\"box\":{\"visible\":true},\"hovertemplate\":\"Experience Level=%{x}<br>Salary=%{y}<extra></extra>\",\"legendgroup\":\"Entry Level\",\"marker\":{\"color\":\"#00cc96\"},\"name\":\"Entry Level\",\"offsetgroup\":\"Entry Level\",\"orientation\":\"v\",\"scalegroup\":\"True\",\"showlegend\":true,\"x\":[\"Entry Level\",\"Entry Level\",\"Entry Level\",\"Entry Level\",\"Entry Level\",\"Entry Level\",\"Entry Level\",\"Entry Level\",\"Entry Level\",\"Entry Level\",\"Entry Level\",\"Entry Level\",\"Entry Level\",\"Entry Level\",\"Entry Level\",\"Entry Level\",\"Entry Level\",\"Entry Level\",\"Entry Level\",\"Entry Level\",\"Entry Level\",\"Entry Level\",\"Entry Level\",\"Entry Level\",\"Entry Level\",\"Entry Level\",\"Entry Level\",\"Entry Level\",\"Entry Level\",\"Entry Level\",\"Entry Level\",\"Entry Level\",\"Entry Level\",\"Entry Level\",\"Entry Level\",\"Entry Level\",\"Entry Level\",\"Entry Level\",\"Entry Level\",\"Entry Level\",\"Entry Level\",\"Entry Level\",\"Entry Level\",\"Entry Level\",\"Entry Level\",\"Entry Level\",\"Entry Level\",\"Entry Level\",\"Entry Level\",\"Entry Level\",\"Entry Level\",\"Entry Level\",\"Entry Level\",\"Entry Level\",\"Entry Level\",\"Entry Level\",\"Entry Level\",\"Entry Level\",\"Entry Level\",\"Entry Level\",\"Entry Level\",\"Entry Level\",\"Entry Level\",\"Entry Level\",\"Entry Level\",\"Entry Level\",\"Entry Level\",\"Entry Level\",\"Entry Level\",\"Entry Level\",\"Entry Level\",\"Entry Level\",\"Entry Level\",\"Entry Level\",\"Entry Level\",\"Entry Level\",\"Entry Level\",\"Entry Level\",\"Entry Level\",\"Entry Level\",\"Entry Level\",\"Entry Level\",\"Entry Level\",\"Entry Level\",\"Entry Level\",\"Entry Level\",\"Entry Level\",\"Entry Level\"],\"x0\":\" \",\"xaxis\":\"x\",\"y\":[72000,51321,39916,41689,5707,42000,100000,70000,250000,10000,138000,15966,6072,91000,45896,54742,21669,62726,49268,105000,82528,80000,59102,76833,29751,12000,70000,30428,12000,225000,90000,50000,110037,10354,20000,100000,49646,100000,80000,13400,125000,63831,80000,55000,60000,81000,21844,9272,90000,5882,24823,28609,16228,4000,21637,18053,36643,90000,28399,65013,72500,76833,85000,100000,58000,59102,100000,52351,45807,37300,21983,125000,100000,18442,120000,100000,31875,58035,52396,40000,86703,120000,150000,65000,20000,10000,67000,52000],\"y0\":\" \",\"yaxis\":\"y\",\"type\":\"violin\"},{\"alignmentgroup\":\"True\",\"box\":{\"visible\":true},\"hovertemplate\":\"Experience Level=%{x}<br>Salary=%{y}<extra></extra>\",\"legendgroup\":\"Expert Level\",\"marker\":{\"color\":\"#ab63fa\"},\"name\":\"Expert Level\",\"offsetgroup\":\"Expert Level\",\"orientation\":\"v\",\"scalegroup\":\"True\",\"showlegend\":true,\"x\":[\"Expert Level\",\"Expert Level\",\"Expert Level\",\"Expert Level\",\"Expert Level\",\"Expert Level\",\"Expert Level\",\"Expert Level\",\"Expert Level\",\"Expert Level\",\"Expert Level\",\"Expert Level\",\"Expert Level\",\"Expert Level\",\"Expert Level\",\"Expert Level\",\"Expert Level\",\"Expert Level\",\"Expert Level\",\"Expert Level\",\"Expert Level\",\"Expert Level\",\"Expert Level\",\"Expert Level\",\"Expert Level\",\"Expert Level\"],\"x0\":\" \",\"xaxis\":\"x\",\"y\":[325000,79833,150000,235000,153667,230000,85000,130026,250000,69741,416000,600000,141846,242000,200000,130000,110000,224000,167875,175000,135000,118187,79039,196979,324000,216000],\"y0\":\" \",\"yaxis\":\"y\",\"type\":\"violin\"}],                        {\"legend\":{\"title\":{\"text\":\"Experience Level\"},\"tracegroupgap\":0},\"margin\":{\"t\":60},\"paper_bgcolor\":\"#f1e7d2\",\"plot_bgcolor\":\"#f1e7d2\",\"showlegend\":false,\"template\":{\"data\":{\"barpolar\":[{\"marker\":{\"line\":{\"color\":\"#E5ECF6\",\"width\":0.5},\"pattern\":{\"fillmode\":\"overlay\",\"size\":10,\"solidity\":0.2}},\"type\":\"barpolar\"}],\"bar\":[{\"error_x\":{\"color\":\"#2a3f5f\"},\"error_y\":{\"color\":\"#2a3f5f\"},\"marker\":{\"line\":{\"color\":\"#E5ECF6\",\"width\":0.5},\"pattern\":{\"fillmode\":\"overlay\",\"size\":10,\"solidity\":0.2}},\"type\":\"bar\"}],\"carpet\":[{\"aaxis\":{\"endlinecolor\":\"#2a3f5f\",\"gridcolor\":\"white\",\"linecolor\":\"white\",\"minorgridcolor\":\"white\",\"startlinecolor\":\"#2a3f5f\"},\"baxis\":{\"endlinecolor\":\"#2a3f5f\",\"gridcolor\":\"white\",\"linecolor\":\"white\",\"minorgridcolor\":\"white\",\"startlinecolor\":\"#2a3f5f\"},\"type\":\"carpet\"}],\"choropleth\":[{\"colorbar\":{\"outlinewidth\":0,\"ticks\":\"\"},\"type\":\"choropleth\"}],\"contourcarpet\":[{\"colorbar\":{\"outlinewidth\":0,\"ticks\":\"\"},\"type\":\"contourcarpet\"}],\"contour\":[{\"colorbar\":{\"outlinewidth\":0,\"ticks\":\"\"},\"colorscale\":[[0.0,\"#0d0887\"],[0.1111111111111111,\"#46039f\"],[0.2222222222222222,\"#7201a8\"],[0.3333333333333333,\"#9c179e\"],[0.4444444444444444,\"#bd3786\"],[0.5555555555555556,\"#d8576b\"],[0.6666666666666666,\"#ed7953\"],[0.7777777777777778,\"#fb9f3a\"],[0.8888888888888888,\"#fdca26\"],[1.0,\"#f0f921\"]],\"type\":\"contour\"}],\"heatmapgl\":[{\"colorbar\":{\"outlinewidth\":0,\"ticks\":\"\"},\"colorscale\":[[0.0,\"#0d0887\"],[0.1111111111111111,\"#46039f\"],[0.2222222222222222,\"#7201a8\"],[0.3333333333333333,\"#9c179e\"],[0.4444444444444444,\"#bd3786\"],[0.5555555555555556,\"#d8576b\"],[0.6666666666666666,\"#ed7953\"],[0.7777777777777778,\"#fb9f3a\"],[0.8888888888888888,\"#fdca26\"],[1.0,\"#f0f921\"]],\"type\":\"heatmapgl\"}],\"heatmap\":[{\"colorbar\":{\"outlinewidth\":0,\"ticks\":\"\"},\"colorscale\":[[0.0,\"#0d0887\"],[0.1111111111111111,\"#46039f\"],[0.2222222222222222,\"#7201a8\"],[0.3333333333333333,\"#9c179e\"],[0.4444444444444444,\"#bd3786\"],[0.5555555555555556,\"#d8576b\"],[0.6666666666666666,\"#ed7953\"],[0.7777777777777778,\"#fb9f3a\"],[0.8888888888888888,\"#fdca26\"],[1.0,\"#f0f921\"]],\"type\":\"heatmap\"}],\"histogram2dcontour\":[{\"colorbar\":{\"outlinewidth\":0,\"ticks\":\"\"},\"colorscale\":[[0.0,\"#0d0887\"],[0.1111111111111111,\"#46039f\"],[0.2222222222222222,\"#7201a8\"],[0.3333333333333333,\"#9c179e\"],[0.4444444444444444,\"#bd3786\"],[0.5555555555555556,\"#d8576b\"],[0.6666666666666666,\"#ed7953\"],[0.7777777777777778,\"#fb9f3a\"],[0.8888888888888888,\"#fdca26\"],[1.0,\"#f0f921\"]],\"type\":\"histogram2dcontour\"}],\"histogram2d\":[{\"colorbar\":{\"outlinewidth\":0,\"ticks\":\"\"},\"colorscale\":[[0.0,\"#0d0887\"],[0.1111111111111111,\"#46039f\"],[0.2222222222222222,\"#7201a8\"],[0.3333333333333333,\"#9c179e\"],[0.4444444444444444,\"#bd3786\"],[0.5555555555555556,\"#d8576b\"],[0.6666666666666666,\"#ed7953\"],[0.7777777777777778,\"#fb9f3a\"],[0.8888888888888888,\"#fdca26\"],[1.0,\"#f0f921\"]],\"type\":\"histogram2d\"}],\"histogram\":[{\"marker\":{\"pattern\":{\"fillmode\":\"overlay\",\"size\":10,\"solidity\":0.2}},\"type\":\"histogram\"}],\"mesh3d\":[{\"colorbar\":{\"outlinewidth\":0,\"ticks\":\"\"},\"type\":\"mesh3d\"}],\"parcoords\":[{\"line\":{\"colorbar\":{\"outlinewidth\":0,\"ticks\":\"\"}},\"type\":\"parcoords\"}],\"pie\":[{\"automargin\":true,\"type\":\"pie\"}],\"scatter3d\":[{\"line\":{\"colorbar\":{\"outlinewidth\":0,\"ticks\":\"\"}},\"marker\":{\"colorbar\":{\"outlinewidth\":0,\"ticks\":\"\"}},\"type\":\"scatter3d\"}],\"scattercarpet\":[{\"marker\":{\"colorbar\":{\"outlinewidth\":0,\"ticks\":\"\"}},\"type\":\"scattercarpet\"}],\"scattergeo\":[{\"marker\":{\"colorbar\":{\"outlinewidth\":0,\"ticks\":\"\"}},\"type\":\"scattergeo\"}],\"scattergl\":[{\"marker\":{\"colorbar\":{\"outlinewidth\":0,\"ticks\":\"\"}},\"type\":\"scattergl\"}],\"scattermapbox\":[{\"marker\":{\"colorbar\":{\"outlinewidth\":0,\"ticks\":\"\"}},\"type\":\"scattermapbox\"}],\"scatterpolargl\":[{\"marker\":{\"colorbar\":{\"outlinewidth\":0,\"ticks\":\"\"}},\"type\":\"scatterpolargl\"}],\"scatterpolar\":[{\"marker\":{\"colorbar\":{\"outlinewidth\":0,\"ticks\":\"\"}},\"type\":\"scatterpolar\"}],\"scatter\":[{\"fillpattern\":{\"fillmode\":\"overlay\",\"size\":10,\"solidity\":0.2},\"type\":\"scatter\"}],\"scatterternary\":[{\"marker\":{\"colorbar\":{\"outlinewidth\":0,\"ticks\":\"\"}},\"type\":\"scatterternary\"}],\"surface\":[{\"colorbar\":{\"outlinewidth\":0,\"ticks\":\"\"},\"colorscale\":[[0.0,\"#0d0887\"],[0.1111111111111111,\"#46039f\"],[0.2222222222222222,\"#7201a8\"],[0.3333333333333333,\"#9c179e\"],[0.4444444444444444,\"#bd3786\"],[0.5555555555555556,\"#d8576b\"],[0.6666666666666666,\"#ed7953\"],[0.7777777777777778,\"#fb9f3a\"],[0.8888888888888888,\"#fdca26\"],[1.0,\"#f0f921\"]],\"type\":\"surface\"}],\"table\":[{\"cells\":{\"fill\":{\"color\":\"#EBF0F8\"},\"line\":{\"color\":\"white\"}},\"header\":{\"fill\":{\"color\":\"#C8D4E3\"},\"line\":{\"color\":\"white\"}},\"type\":\"table\"}]},\"layout\":{\"annotationdefaults\":{\"arrowcolor\":\"#2a3f5f\",\"arrowhead\":0,\"arrowwidth\":1},\"autotypenumbers\":\"strict\",\"coloraxis\":{\"colorbar\":{\"outlinewidth\":0,\"ticks\":\"\"}},\"colorscale\":{\"diverging\":[[0,\"#8e0152\"],[0.1,\"#c51b7d\"],[0.2,\"#de77ae\"],[0.3,\"#f1b6da\"],[0.4,\"#fde0ef\"],[0.5,\"#f7f7f7\"],[0.6,\"#e6f5d0\"],[0.7,\"#b8e186\"],[0.8,\"#7fbc41\"],[0.9,\"#4d9221\"],[1,\"#276419\"]],\"sequential\":[[0.0,\"#0d0887\"],[0.1111111111111111,\"#46039f\"],[0.2222222222222222,\"#7201a8\"],[0.3333333333333333,\"#9c179e\"],[0.4444444444444444,\"#bd3786\"],[0.5555555555555556,\"#d8576b\"],[0.6666666666666666,\"#ed7953\"],[0.7777777777777778,\"#fb9f3a\"],[0.8888888888888888,\"#fdca26\"],[1.0,\"#f0f921\"]],\"sequentialminus\":[[0.0,\"#0d0887\"],[0.1111111111111111,\"#46039f\"],[0.2222222222222222,\"#7201a8\"],[0.3333333333333333,\"#9c179e\"],[0.4444444444444444,\"#bd3786\"],[0.5555555555555556,\"#d8576b\"],[0.6666666666666666,\"#ed7953\"],[0.7777777777777778,\"#fb9f3a\"],[0.8888888888888888,\"#fdca26\"],[1.0,\"#f0f921\"]]},\"colorway\":[\"#636efa\",\"#EF553B\",\"#00cc96\",\"#ab63fa\",\"#FFA15A\",\"#19d3f3\",\"#FF6692\",\"#B6E880\",\"#FF97FF\",\"#FECB52\"],\"font\":{\"color\":\"#2a3f5f\"},\"geo\":{\"bgcolor\":\"white\",\"lakecolor\":\"white\",\"landcolor\":\"#E5ECF6\",\"showlakes\":true,\"showland\":true,\"subunitcolor\":\"white\"},\"hoverlabel\":{\"align\":\"left\"},\"hovermode\":\"closest\",\"mapbox\":{\"style\":\"light\"},\"paper_bgcolor\":\"white\",\"plot_bgcolor\":\"#E5ECF6\",\"polar\":{\"angularaxis\":{\"gridcolor\":\"white\",\"linecolor\":\"white\",\"ticks\":\"\"},\"bgcolor\":\"#E5ECF6\",\"radialaxis\":{\"gridcolor\":\"white\",\"linecolor\":\"white\",\"ticks\":\"\"}},\"scene\":{\"xaxis\":{\"backgroundcolor\":\"#E5ECF6\",\"gridcolor\":\"white\",\"gridwidth\":2,\"linecolor\":\"white\",\"showbackground\":true,\"ticks\":\"\",\"zerolinecolor\":\"white\"},\"yaxis\":{\"backgroundcolor\":\"#E5ECF6\",\"gridcolor\":\"white\",\"gridwidth\":2,\"linecolor\":\"white\",\"showbackground\":true,\"ticks\":\"\",\"zerolinecolor\":\"white\"},\"zaxis\":{\"backgroundcolor\":\"#E5ECF6\",\"gridcolor\":\"white\",\"gridwidth\":2,\"linecolor\":\"white\",\"showbackground\":true,\"ticks\":\"\",\"zerolinecolor\":\"white\"}},\"shapedefaults\":{\"line\":{\"color\":\"#2a3f5f\"}},\"ternary\":{\"aaxis\":{\"gridcolor\":\"white\",\"linecolor\":\"white\",\"ticks\":\"\"},\"baxis\":{\"gridcolor\":\"white\",\"linecolor\":\"white\",\"ticks\":\"\"},\"bgcolor\":\"#E5ECF6\",\"caxis\":{\"gridcolor\":\"white\",\"linecolor\":\"white\",\"ticks\":\"\"}},\"title\":{\"x\":0.05},\"xaxis\":{\"automargin\":true,\"gridcolor\":\"white\",\"linecolor\":\"white\",\"ticks\":\"\",\"title\":{\"standoff\":15},\"zerolinecolor\":\"white\",\"zerolinewidth\":2},\"yaxis\":{\"automargin\":true,\"gridcolor\":\"white\",\"linecolor\":\"white\",\"ticks\":\"\",\"title\":{\"standoff\":15},\"zerolinecolor\":\"white\",\"zerolinewidth\":2}}},\"violinmode\":\"overlay\",\"xaxis\":{\"anchor\":\"y\",\"categoryarray\":[\"Mid level\",\"Senior Level\",\"Entry Level\",\"Expert Level\"],\"categoryorder\":\"array\",\"domain\":[0.0,1.0],\"title\":{\"text\":\"Experience Level\"}},\"yaxis\":{\"anchor\":\"x\",\"domain\":[0.0,1.0],\"title\":{\"text\":\"Salary\"}}},                        {\"responsive\": true}                    ).then(function(){\n",
       "                            \n",
       "var gd = document.getElementById('7d0a4b29-e87a-4f00-a97b-168a806f87e0');\n",
       "var x = new MutationObserver(function (mutations, observer) {{\n",
       "        var display = window.getComputedStyle(gd).display;\n",
       "        if (!display || display === 'none') {{\n",
       "            console.log([gd, 'removed!']);\n",
       "            Plotly.purge(gd);\n",
       "            observer.disconnect();\n",
       "        }}\n",
       "}});\n",
       "\n",
       "// Listen for the removal of the full notebook cells\n",
       "var notebookContainer = gd.closest('#notebook-container');\n",
       "if (notebookContainer) {{\n",
       "    x.observe(notebookContainer, {childList: true});\n",
       "}}\n",
       "\n",
       "// Listen for the clearing of the current output cell\n",
       "var outputEl = gd.closest('.output');\n",
       "if (outputEl) {{\n",
       "    x.observe(outputEl, {childList: true});\n",
       "}}\n",
       "\n",
       "                        })                };                });            </script>        </div>"
      ]
     },
     "metadata": {},
     "output_type": "display_data"
    }
   ],
   "source": [
    "data=px.violin(salary_exp,x='Experience Level',y='Salary',color='Experience Level', box = True)\n",
    "layout  =go.Layout(\n",
    "    title = {\n",
    "        'text': \"<b>Salary on Experience Level</b>\",\n",
    "        'x':0.5,\n",
    "        'xanchor': 'center'},\n",
    "    xaxis=dict(title = '<b>Experience level</b>'),\n",
    "    yaxis = dict(title = '<b>salary</b>', ticktext = [-300000, 0, 100000, 200000, 300000, 400000, 500000, 600000, 700000]\n",
    "                ),\n",
    "    width = 950,\n",
    "    height = 600)\n",
    "fig = go.Figure(data =data, layout = layout)\n",
    "fig.update_layout(paper_bgcolor='#f1e7d2',plot_bgcolor = '#f1e7d2', showlegend = False)\n",
    "iplot(fig)"
   ]
  },
  {
   "cell_type": "markdown",
   "id": "86a2ec6d",
   "metadata": {
    "papermill": {
     "duration": 0.052694,
     "end_time": "2022-10-23T19:10:03.483665",
     "exception": false,
     "start_time": "2022-10-23T19:10:03.430971",
     "status": "completed"
    },
    "tags": []
   },
   "source": [
    "<a id=\"4.11\"></a>\n",
    "## <div style=\"text-align: left; background-color:#f1e7d2 ; font-family: Trebuchet MS; color: #7B3F00; padding: 15px; line-height:1;border-radius:1px; margin-bottom: 0em; text-align: center; font-size: 25px;border-style: solid;border-color: dark green;\">4.11 Salary on Employment Type </div> "
   ]
  },
  {
   "cell_type": "code",
   "execution_count": 30,
   "id": "5fafe198",
   "metadata": {
    "execution": {
     "iopub.execute_input": "2022-10-23T19:10:03.595361Z",
     "iopub.status.busy": "2022-10-23T19:10:03.594952Z",
     "iopub.status.idle": "2022-10-23T19:10:03.728707Z",
     "shell.execute_reply": "2022-10-23T19:10:03.727656Z"
    },
    "papermill": {
     "duration": 0.193406,
     "end_time": "2022-10-23T19:10:03.731045",
     "exception": false,
     "start_time": "2022-10-23T19:10:03.537639",
     "status": "completed"
    },
    "tags": []
   },
   "outputs": [
    {
     "data": {
      "text/html": [
       "<div>\n",
       "<style scoped>\n",
       "    .dataframe tbody tr th:only-of-type {\n",
       "        vertical-align: middle;\n",
       "    }\n",
       "\n",
       "    .dataframe tbody tr th {\n",
       "        vertical-align: top;\n",
       "    }\n",
       "\n",
       "    .dataframe thead th {\n",
       "        text-align: right;\n",
       "    }\n",
       "</style>\n",
       "<table border=\"1\" class=\"dataframe\">\n",
       "  <thead>\n",
       "    <tr style=\"text-align: right;\">\n",
       "      <th></th>\n",
       "      <th>Employment Type</th>\n",
       "      <th>Salary</th>\n",
       "    </tr>\n",
       "  </thead>\n",
       "  <tbody>\n",
       "    <tr>\n",
       "      <th>0</th>\n",
       "      <td>Full Time</td>\n",
       "      <td>79833</td>\n",
       "    </tr>\n",
       "    <tr>\n",
       "      <th>1</th>\n",
       "      <td>Full Time</td>\n",
       "      <td>260000</td>\n",
       "    </tr>\n",
       "    <tr>\n",
       "      <th>2</th>\n",
       "      <td>Full Time</td>\n",
       "      <td>109024</td>\n",
       "    </tr>\n",
       "    <tr>\n",
       "      <th>3</th>\n",
       "      <td>Full Time</td>\n",
       "      <td>20000</td>\n",
       "    </tr>\n",
       "    <tr>\n",
       "      <th>4</th>\n",
       "      <td>Full Time</td>\n",
       "      <td>150000</td>\n",
       "    </tr>\n",
       "    <tr>\n",
       "      <th>...</th>\n",
       "      <td>...</td>\n",
       "      <td>...</td>\n",
       "    </tr>\n",
       "    <tr>\n",
       "      <th>602</th>\n",
       "      <td>Full Time</td>\n",
       "      <td>154000</td>\n",
       "    </tr>\n",
       "    <tr>\n",
       "      <th>603</th>\n",
       "      <td>Full Time</td>\n",
       "      <td>126000</td>\n",
       "    </tr>\n",
       "    <tr>\n",
       "      <th>604</th>\n",
       "      <td>Full Time</td>\n",
       "      <td>129000</td>\n",
       "    </tr>\n",
       "    <tr>\n",
       "      <th>605</th>\n",
       "      <td>Full Time</td>\n",
       "      <td>150000</td>\n",
       "    </tr>\n",
       "    <tr>\n",
       "      <th>606</th>\n",
       "      <td>Full Time</td>\n",
       "      <td>200000</td>\n",
       "    </tr>\n",
       "  </tbody>\n",
       "</table>\n",
       "<p>607 rows × 2 columns</p>\n",
       "</div>"
      ],
      "text/plain": [
       "    Employment Type  Salary\n",
       "0         Full Time   79833\n",
       "1         Full Time  260000\n",
       "2         Full Time  109024\n",
       "3         Full Time   20000\n",
       "4         Full Time  150000\n",
       "..              ...     ...\n",
       "602       Full Time  154000\n",
       "603       Full Time  126000\n",
       "604       Full Time  129000\n",
       "605       Full Time  150000\n",
       "606       Full Time  200000\n",
       "\n",
       "[607 rows x 2 columns]"
      ]
     },
     "execution_count": 30,
     "metadata": {},
     "output_type": "execute_result"
    }
   ],
   "source": [
    "salary_emp = query(\"\"\"SELECT employment_type AS 'Employment Type', \n",
    "                      salary_in_usd          AS Salary \n",
    "                      FROM   salaries\"\"\")\n",
    "salary_emp"
   ]
  },
  {
   "cell_type": "code",
   "execution_count": 31,
   "id": "2e7553e3",
   "metadata": {
    "execution": {
     "iopub.execute_input": "2022-10-23T19:10:03.840981Z",
     "iopub.status.busy": "2022-10-23T19:10:03.840549Z",
     "iopub.status.idle": "2022-10-23T19:10:03.942853Z",
     "shell.execute_reply": "2022-10-23T19:10:03.941687Z"
    },
    "papermill": {
     "duration": 0.161242,
     "end_time": "2022-10-23T19:10:03.946139",
     "exception": false,
     "start_time": "2022-10-23T19:10:03.784897",
     "status": "completed"
    },
    "tags": []
   },
   "outputs": [
    {
     "data": {
      "application/vnd.plotly.v1+json": {
       "config": {
        "plotlyServerURL": "https://plot.ly"
       },
       "data": [
        {
         "alignmentgroup": "True",
         "hovertemplate": "Employment Type=%{x}<br>Salary=%{y}<extra></extra>",
         "legendgroup": "Full Time",
         "marker": {
          "color": "#636efa"
         },
         "name": "Full Time",
         "notched": false,
         "offsetgroup": "Full Time",
         "orientation": "v",
         "showlegend": true,
         "type": "box",
         "x": [
          "Full Time",
          "Full Time",
          "Full Time",
          "Full Time",
          "Full Time",
          "Full Time",
          "Full Time",
          "Full Time",
          "Full Time",
          "Full Time",
          "Full Time",
          "Full Time",
          "Full Time",
          "Full Time",
          "Full Time",
          "Full Time",
          "Full Time",
          "Full Time",
          "Full Time",
          "Full Time",
          "Full Time",
          "Full Time",
          "Full Time",
          "Full Time",
          "Full Time",
          "Full Time",
          "Full Time",
          "Full Time",
          "Full Time",
          "Full Time",
          "Full Time",
          "Full Time",
          "Full Time",
          "Full Time",
          "Full Time",
          "Full Time",
          "Full Time",
          "Full Time",
          "Full Time",
          "Full Time",
          "Full Time",
          "Full Time",
          "Full Time",
          "Full Time",
          "Full Time",
          "Full Time",
          "Full Time",
          "Full Time",
          "Full Time",
          "Full Time",
          "Full Time",
          "Full Time",
          "Full Time",
          "Full Time",
          "Full Time",
          "Full Time",
          "Full Time",
          "Full Time",
          "Full Time",
          "Full Time",
          "Full Time",
          "Full Time",
          "Full Time",
          "Full Time",
          "Full Time",
          "Full Time",
          "Full Time",
          "Full Time",
          "Full Time",
          "Full Time",
          "Full Time",
          "Full Time",
          "Full Time",
          "Full Time",
          "Full Time",
          "Full Time",
          "Full Time",
          "Full Time",
          "Full Time",
          "Full Time",
          "Full Time",
          "Full Time",
          "Full Time",
          "Full Time",
          "Full Time",
          "Full Time",
          "Full Time",
          "Full Time",
          "Full Time",
          "Full Time",
          "Full Time",
          "Full Time",
          "Full Time",
          "Full Time",
          "Full Time",
          "Full Time",
          "Full Time",
          "Full Time",
          "Full Time",
          "Full Time",
          "Full Time",
          "Full Time",
          "Full Time",
          "Full Time",
          "Full Time",
          "Full Time",
          "Full Time",
          "Full Time",
          "Full Time",
          "Full Time",
          "Full Time",
          "Full Time",
          "Full Time",
          "Full Time",
          "Full Time",
          "Full Time",
          "Full Time",
          "Full Time",
          "Full Time",
          "Full Time",
          "Full Time",
          "Full Time",
          "Full Time",
          "Full Time",
          "Full Time",
          "Full Time",
          "Full Time",
          "Full Time",
          "Full Time",
          "Full Time",
          "Full Time",
          "Full Time",
          "Full Time",
          "Full Time",
          "Full Time",
          "Full Time",
          "Full Time",
          "Full Time",
          "Full Time",
          "Full Time",
          "Full Time",
          "Full Time",
          "Full Time",
          "Full Time",
          "Full Time",
          "Full Time",
          "Full Time",
          "Full Time",
          "Full Time",
          "Full Time",
          "Full Time",
          "Full Time",
          "Full Time",
          "Full Time",
          "Full Time",
          "Full Time",
          "Full Time",
          "Full Time",
          "Full Time",
          "Full Time",
          "Full Time",
          "Full Time",
          "Full Time",
          "Full Time",
          "Full Time",
          "Full Time",
          "Full Time",
          "Full Time",
          "Full Time",
          "Full Time",
          "Full Time",
          "Full Time",
          "Full Time",
          "Full Time",
          "Full Time",
          "Full Time",
          "Full Time",
          "Full Time",
          "Full Time",
          "Full Time",
          "Full Time",
          "Full Time",
          "Full Time",
          "Full Time",
          "Full Time",
          "Full Time",
          "Full Time",
          "Full Time",
          "Full Time",
          "Full Time",
          "Full Time",
          "Full Time",
          "Full Time",
          "Full Time",
          "Full Time",
          "Full Time",
          "Full Time",
          "Full Time",
          "Full Time",
          "Full Time",
          "Full Time",
          "Full Time",
          "Full Time",
          "Full Time",
          "Full Time",
          "Full Time",
          "Full Time",
          "Full Time",
          "Full Time",
          "Full Time",
          "Full Time",
          "Full Time",
          "Full Time",
          "Full Time",
          "Full Time",
          "Full Time",
          "Full Time",
          "Full Time",
          "Full Time",
          "Full Time",
          "Full Time",
          "Full Time",
          "Full Time",
          "Full Time",
          "Full Time",
          "Full Time",
          "Full Time",
          "Full Time",
          "Full Time",
          "Full Time",
          "Full Time",
          "Full Time",
          "Full Time",
          "Full Time",
          "Full Time",
          "Full Time",
          "Full Time",
          "Full Time",
          "Full Time",
          "Full Time",
          "Full Time",
          "Full Time",
          "Full Time",
          "Full Time",
          "Full Time",
          "Full Time",
          "Full Time",
          "Full Time",
          "Full Time",
          "Full Time",
          "Full Time",
          "Full Time",
          "Full Time",
          "Full Time",
          "Full Time",
          "Full Time",
          "Full Time",
          "Full Time",
          "Full Time",
          "Full Time",
          "Full Time",
          "Full Time",
          "Full Time",
          "Full Time",
          "Full Time",
          "Full Time",
          "Full Time",
          "Full Time",
          "Full Time",
          "Full Time",
          "Full Time",
          "Full Time",
          "Full Time",
          "Full Time",
          "Full Time",
          "Full Time",
          "Full Time",
          "Full Time",
          "Full Time",
          "Full Time",
          "Full Time",
          "Full Time",
          "Full Time",
          "Full Time",
          "Full Time",
          "Full Time",
          "Full Time",
          "Full Time",
          "Full Time",
          "Full Time",
          "Full Time",
          "Full Time",
          "Full Time",
          "Full Time",
          "Full Time",
          "Full Time",
          "Full Time",
          "Full Time",
          "Full Time",
          "Full Time",
          "Full Time",
          "Full Time",
          "Full Time",
          "Full Time",
          "Full Time",
          "Full Time",
          "Full Time",
          "Full Time",
          "Full Time",
          "Full Time",
          "Full Time",
          "Full Time",
          "Full Time",
          "Full Time",
          "Full Time",
          "Full Time",
          "Full Time",
          "Full Time",
          "Full Time",
          "Full Time",
          "Full Time",
          "Full Time",
          "Full Time",
          "Full Time",
          "Full Time",
          "Full Time",
          "Full Time",
          "Full Time",
          "Full Time",
          "Full Time",
          "Full Time",
          "Full Time",
          "Full Time",
          "Full Time",
          "Full Time",
          "Full Time",
          "Full Time",
          "Full Time",
          "Full Time",
          "Full Time",
          "Full Time",
          "Full Time",
          "Full Time",
          "Full Time",
          "Full Time",
          "Full Time",
          "Full Time",
          "Full Time",
          "Full Time",
          "Full Time",
          "Full Time",
          "Full Time",
          "Full Time",
          "Full Time",
          "Full Time",
          "Full Time",
          "Full Time",
          "Full Time",
          "Full Time",
          "Full Time",
          "Full Time",
          "Full Time",
          "Full Time",
          "Full Time",
          "Full Time",
          "Full Time",
          "Full Time",
          "Full Time",
          "Full Time",
          "Full Time",
          "Full Time",
          "Full Time",
          "Full Time",
          "Full Time",
          "Full Time",
          "Full Time",
          "Full Time",
          "Full Time",
          "Full Time",
          "Full Time",
          "Full Time",
          "Full Time",
          "Full Time",
          "Full Time",
          "Full Time",
          "Full Time",
          "Full Time",
          "Full Time",
          "Full Time",
          "Full Time",
          "Full Time",
          "Full Time",
          "Full Time",
          "Full Time",
          "Full Time",
          "Full Time",
          "Full Time",
          "Full Time",
          "Full Time",
          "Full Time",
          "Full Time",
          "Full Time",
          "Full Time",
          "Full Time",
          "Full Time",
          "Full Time",
          "Full Time",
          "Full Time",
          "Full Time",
          "Full Time",
          "Full Time",
          "Full Time",
          "Full Time",
          "Full Time",
          "Full Time",
          "Full Time",
          "Full Time",
          "Full Time",
          "Full Time",
          "Full Time",
          "Full Time",
          "Full Time",
          "Full Time",
          "Full Time",
          "Full Time",
          "Full Time",
          "Full Time",
          "Full Time",
          "Full Time",
          "Full Time",
          "Full Time",
          "Full Time",
          "Full Time",
          "Full Time",
          "Full Time",
          "Full Time",
          "Full Time",
          "Full Time",
          "Full Time",
          "Full Time",
          "Full Time",
          "Full Time",
          "Full Time",
          "Full Time",
          "Full Time",
          "Full Time",
          "Full Time",
          "Full Time",
          "Full Time",
          "Full Time",
          "Full Time",
          "Full Time",
          "Full Time",
          "Full Time",
          "Full Time",
          "Full Time",
          "Full Time",
          "Full Time",
          "Full Time",
          "Full Time",
          "Full Time",
          "Full Time",
          "Full Time",
          "Full Time",
          "Full Time",
          "Full Time",
          "Full Time",
          "Full Time",
          "Full Time",
          "Full Time",
          "Full Time",
          "Full Time",
          "Full Time",
          "Full Time",
          "Full Time",
          "Full Time",
          "Full Time",
          "Full Time",
          "Full Time",
          "Full Time",
          "Full Time",
          "Full Time",
          "Full Time",
          "Full Time",
          "Full Time",
          "Full Time",
          "Full Time",
          "Full Time",
          "Full Time",
          "Full Time",
          "Full Time",
          "Full Time",
          "Full Time",
          "Full Time",
          "Full Time",
          "Full Time",
          "Full Time",
          "Full Time",
          "Full Time",
          "Full Time",
          "Full Time",
          "Full Time",
          "Full Time",
          "Full Time",
          "Full Time",
          "Full Time",
          "Full Time",
          "Full Time",
          "Full Time",
          "Full Time",
          "Full Time",
          "Full Time",
          "Full Time",
          "Full Time",
          "Full Time",
          "Full Time",
          "Full Time",
          "Full Time",
          "Full Time",
          "Full Time",
          "Full Time",
          "Full Time",
          "Full Time",
          "Full Time",
          "Full Time",
          "Full Time",
          "Full Time",
          "Full Time",
          "Full Time",
          "Full Time",
          "Full Time",
          "Full Time",
          "Full Time",
          "Full Time",
          "Full Time",
          "Full Time",
          "Full Time",
          "Full Time",
          "Full Time",
          "Full Time",
          "Full Time",
          "Full Time",
          "Full Time",
          "Full Time",
          "Full Time",
          "Full Time",
          "Full Time",
          "Full Time",
          "Full Time",
          "Full Time",
          "Full Time",
          "Full Time",
          "Full Time",
          "Full Time",
          "Full Time",
          "Full Time",
          "Full Time",
          "Full Time",
          "Full Time",
          "Full Time",
          "Full Time",
          "Full Time",
          "Full Time",
          "Full Time",
          "Full Time",
          "Full Time",
          "Full Time",
          "Full Time",
          "Full Time",
          "Full Time",
          "Full Time",
          "Full Time",
          "Full Time",
          "Full Time",
          "Full Time",
          "Full Time",
          "Full Time",
          "Full Time",
          "Full Time",
          "Full Time",
          "Full Time",
          "Full Time",
          "Full Time",
          "Full Time",
          "Full Time",
          "Full Time",
          "Full Time",
          "Full Time"
         ],
         "x0": " ",
         "xaxis": "x",
         "y": [
          79833,
          260000,
          109024,
          20000,
          150000,
          72000,
          190000,
          35735,
          135000,
          125000,
          51321,
          40481,
          39916,
          87000,
          85000,
          8000,
          41689,
          114047,
          5707,
          56000,
          43331,
          6072,
          47899,
          98000,
          115000,
          325000,
          42000,
          33511,
          117104,
          59303,
          70000,
          68428,
          450000,
          46759,
          74130,
          103000,
          250000,
          10000,
          138000,
          45760,
          79833,
          50180,
          106000,
          112872,
          76958,
          188000,
          105000,
          70139,
          6072,
          91000,
          45896,
          54742,
          148261,
          38776,
          118000,
          120000,
          138350,
          110000,
          130800,
          412000,
          45618,
          62726,
          49268,
          190200,
          105000,
          91237,
          62726,
          42197,
          82528,
          150000,
          235000,
          53192,
          100000,
          80000,
          79197,
          140000,
          54238,
          47282,
          153667,
          28476,
          59102,
          110000,
          170000,
          80000,
          88654,
          76833,
          19609,
          276000,
          29751,
          89294,
          450000,
          70000,
          95746,
          75000,
          150000,
          36259,
          62000,
          73000,
          51519,
          187442,
          115000,
          150000,
          30428,
          94564,
          113476,
          103160,
          45391,
          225000,
          50000,
          40189,
          90000,
          200000,
          60000,
          200000,
          50000,
          110037,
          151000,
          120000,
          9466,
          20000,
          40570,
          100000,
          49646,
          38400,
          24000,
          100000,
          90000,
          63711,
          77364,
          220000,
          80000,
          135000,
          240000,
          150000,
          82500,
          100000,
          82744,
          62649,
          90000,
          153000,
          160000,
          168000,
          150000,
          75774,
          13400,
          144000,
          127221,
          119059,
          423000,
          120000,
          125000,
          230000,
          85000,
          28369,
          63831,
          130026,
          165000,
          80000,
          250000,
          55000,
          150000,
          170000,
          82528,
          60000,
          235000,
          60757,
          174000,
          2859,
          40038,
          81000,
          5679,
          22611,
          90734,
          26005,
          61896,
          4000,
          50000,
          69741,
          76833,
          74000,
          152000,
          21844,
          18000,
          174000,
          96113,
          147000,
          9272,
          24342,
          54094,
          90000,
          61467,
          195000,
          37825,
          50000,
          160000,
          12901,
          200000,
          165000,
          120000,
          24823,
          56738,
          66022,
          5882,
          24823,
          185000,
          90734,
          88654,
          140000,
          46597,
          116914,
          33808,
          56256,
          225000,
          87738,
          88654,
          135000,
          71786,
          16228,
          256000,
          200000,
          200000,
          180000,
          110000,
          63810,
          46809,
          4000,
          21637,
          103691,
          80000,
          110000,
          165000,
          18053,
          72212,
          36643,
          12103,
          96282,
          170000,
          115000,
          90000,
          600000,
          28399,
          93000,
          99703,
          200000,
          173762,
          185000,
          141846,
          130000,
          63831,
          16904,
          66265,
          25532,
          160000,
          93150,
          111775,
          28016,
          65013,
          72500,
          18907,
          76833,
          85000,
          77684,
          100000,
          58000,
          55000,
          20171,
          59102,
          112000,
          100000,
          69999,
          94665,
          102839,
          109000,
          51064,
          135000,
          155000,
          120600,
          130000,
          90000,
          170000,
          150000,
          102100,
          84900,
          136620,
          99360,
          117789,
          104702,
          146000,
          123000,
          52351,
          99000,
          116000,
          106260,
          126500,
          242000,
          200000,
          65438,
          39263,
          78526,
          52351,
          165220,
          45807,
          120160,
          90320,
          181940,
          132320,
          220110,
          160080,
          180000,
          120000,
          124190,
          130000,
          110000,
          170000,
          115500,
          112900,
          90320,
          112900,
          90320,
          165400,
          132320,
          167000,
          243900,
          136600,
          109280,
          128875,
          93700,
          224000,
          167875,
          175000,
          156600,
          108800,
          95550,
          113000,
          135000,
          161342,
          137141,
          167000,
          123000,
          78526,
          65438,
          150000,
          211500,
          192400,
          90700,
          130000,
          61300,
          130000,
          61300,
          160000,
          138600,
          136000,
          58000,
          135000,
          170000,
          123000,
          189650,
          164996,
          54957,
          54957,
          118187,
          132000,
          165400,
          208775,
          147800,
          136994,
          101570,
          128875,
          93700,
          79039,
          132320,
          37300,
          164000,
          155000,
          124333,
          98158,
          120000,
          112900,
          90320,
          145000,
          105400,
          87932,
          117789,
          215300,
          158200,
          209100,
          154600,
          115934,
          81666,
          175000,
          98158,
          58000,
          183600,
          52351,
          180000,
          71982,
          45807,
          65949,
          49461,
          78526,
          58894,
          260000,
          60000,
          63900,
          160000,
          112300,
          241000,
          159000,
          180000,
          80000,
          82900,
          100800,
          49461,
          140400,
          39263,
          43966,
          32974,
          87932,
          76940,
          104702,
          91614,
          65949,
          87932,
          189650,
          164996,
          43966,
          32974,
          98158,
          78526,
          215300,
          76940,
          209100,
          154600,
          180000,
          21983,
          80000,
          78791,
          196979,
          120000,
          125000,
          37236,
          105000,
          87932,
          18442,
          31615,
          58255,
          100000,
          18442,
          162674,
          120000,
          144000,
          104890,
          100000,
          140000,
          135000,
          50000,
          220000,
          140000,
          183228,
          91614,
          185100,
          220000,
          200000,
          120000,
          120000,
          65000,
          324000,
          216000,
          210000,
          120000,
          230000,
          200000,
          75000,
          35590,
          78791,
          100000,
          153000,
          58035,
          165000,
          93427,
          52396,
          62651,
          32974,
          40000,
          87425,
          115000,
          86703,
          75000,
          64849,
          120000,
          157000,
          150000,
          70912,
          65000,
          71444,
          20000,
          48000,
          152500,
          68147,
          122346,
          380000,
          69336,
          10000,
          20000,
          405000,
          135000,
          177000,
          78000,
          135000,
          100000,
          90320,
          85000,
          75000,
          214000,
          192600,
          266400,
          213120,
          112900,
          155000,
          141300,
          102100,
          115934,
          81666,
          206699,
          99100,
          130000,
          115000,
          110500,
          130000,
          99050,
          160000,
          205300,
          140400,
          176000,
          144000,
          200100,
          160000,
          145000,
          70500,
          205300,
          140400,
          205300,
          184700,
          175100,
          140250,
          116150,
          54000,
          170000,
          65438,
          80000,
          140000,
          210000,
          140000,
          100000,
          69000,
          210000,
          140000,
          210000,
          150075,
          100000,
          25000,
          126500,
          106260,
          220110,
          160080,
          105000,
          110925,
          45807,
          140000,
          99000,
          60000,
          192564,
          144854,
          230000,
          150000,
          150260,
          109280,
          210000,
          170000,
          160000,
          130000,
          67000,
          52000,
          154000,
          126000,
          129000,
          150000,
          200000
         ],
         "y0": " ",
         "yaxis": "y"
        },
        {
         "alignmentgroup": "True",
         "hovertemplate": "Employment Type=%{x}<br>Salary=%{y}<extra></extra>",
         "legendgroup": "Contract",
         "marker": {
          "color": "#EF553B"
         },
         "name": "Contract",
         "notched": false,
         "offsetgroup": "Contract",
         "orientation": "v",
         "showlegend": true,
         "type": "box",
         "x": [
          "Contract",
          "Contract",
          "Contract",
          "Contract",
          "Contract"
         ],
         "x0": " ",
         "xaxis": "x",
         "y": [
          100000,
          270000,
          416000,
          105000,
          31875
         ],
         "y0": " ",
         "yaxis": "y"
        },
        {
         "alignmentgroup": "True",
         "hovertemplate": "Employment Type=%{x}<br>Salary=%{y}<extra></extra>",
         "legendgroup": "Part Time",
         "marker": {
          "color": "#00cc96"
         },
         "name": "Part Time",
         "notched": false,
         "offsetgroup": "Part Time",
         "orientation": "v",
         "showlegend": true,
         "type": "box",
         "x": [
          "Part Time",
          "Part Time",
          "Part Time",
          "Part Time",
          "Part Time",
          "Part Time",
          "Part Time",
          "Part Time",
          "Part Time",
          "Part Time"
         ],
         "x0": " ",
         "xaxis": "x",
         "y": [
          15966,
          21669,
          5409,
          12000,
          12000,
          10354,
          28609,
          69741,
          54957,
          100000
         ],
         "y0": " ",
         "yaxis": "y"
        },
        {
         "alignmentgroup": "True",
         "hovertemplate": "Employment Type=%{x}<br>Salary=%{y}<extra></extra>",
         "legendgroup": "Freelance",
         "marker": {
          "color": "#ab63fa"
         },
         "name": "Freelance",
         "notched": false,
         "offsetgroup": "Freelance",
         "orientation": "v",
         "showlegend": true,
         "type": "box",
         "x": [
          "Freelance",
          "Freelance",
          "Freelance",
          "Freelance"
         ],
         "x0": " ",
         "xaxis": "x",
         "y": [
          60000,
          12000,
          20000,
          100000
         ],
         "y0": " ",
         "yaxis": "y"
        }
       ],
       "layout": {
        "boxmode": "overlay",
        "height": 600,
        "legend": {
         "title": {
          "text": "Employment Type"
         },
         "tracegroupgap": 0
        },
        "margin": {
         "t": 60
        },
        "paper_bgcolor": "#f1e7d2",
        "plot_bgcolor": "#f1e7d2",
        "showlegend": false,
        "template": {
         "data": {
          "bar": [
           {
            "error_x": {
             "color": "#2a3f5f"
            },
            "error_y": {
             "color": "#2a3f5f"
            },
            "marker": {
             "line": {
              "color": "#E5ECF6",
              "width": 0.5
             },
             "pattern": {
              "fillmode": "overlay",
              "size": 10,
              "solidity": 0.2
             }
            },
            "type": "bar"
           }
          ],
          "barpolar": [
           {
            "marker": {
             "line": {
              "color": "#E5ECF6",
              "width": 0.5
             },
             "pattern": {
              "fillmode": "overlay",
              "size": 10,
              "solidity": 0.2
             }
            },
            "type": "barpolar"
           }
          ],
          "carpet": [
           {
            "aaxis": {
             "endlinecolor": "#2a3f5f",
             "gridcolor": "white",
             "linecolor": "white",
             "minorgridcolor": "white",
             "startlinecolor": "#2a3f5f"
            },
            "baxis": {
             "endlinecolor": "#2a3f5f",
             "gridcolor": "white",
             "linecolor": "white",
             "minorgridcolor": "white",
             "startlinecolor": "#2a3f5f"
            },
            "type": "carpet"
           }
          ],
          "choropleth": [
           {
            "colorbar": {
             "outlinewidth": 0,
             "ticks": ""
            },
            "type": "choropleth"
           }
          ],
          "contour": [
           {
            "colorbar": {
             "outlinewidth": 0,
             "ticks": ""
            },
            "colorscale": [
             [
              0.0,
              "#0d0887"
             ],
             [
              0.1111111111111111,
              "#46039f"
             ],
             [
              0.2222222222222222,
              "#7201a8"
             ],
             [
              0.3333333333333333,
              "#9c179e"
             ],
             [
              0.4444444444444444,
              "#bd3786"
             ],
             [
              0.5555555555555556,
              "#d8576b"
             ],
             [
              0.6666666666666666,
              "#ed7953"
             ],
             [
              0.7777777777777778,
              "#fb9f3a"
             ],
             [
              0.8888888888888888,
              "#fdca26"
             ],
             [
              1.0,
              "#f0f921"
             ]
            ],
            "type": "contour"
           }
          ],
          "contourcarpet": [
           {
            "colorbar": {
             "outlinewidth": 0,
             "ticks": ""
            },
            "type": "contourcarpet"
           }
          ],
          "heatmap": [
           {
            "colorbar": {
             "outlinewidth": 0,
             "ticks": ""
            },
            "colorscale": [
             [
              0.0,
              "#0d0887"
             ],
             [
              0.1111111111111111,
              "#46039f"
             ],
             [
              0.2222222222222222,
              "#7201a8"
             ],
             [
              0.3333333333333333,
              "#9c179e"
             ],
             [
              0.4444444444444444,
              "#bd3786"
             ],
             [
              0.5555555555555556,
              "#d8576b"
             ],
             [
              0.6666666666666666,
              "#ed7953"
             ],
             [
              0.7777777777777778,
              "#fb9f3a"
             ],
             [
              0.8888888888888888,
              "#fdca26"
             ],
             [
              1.0,
              "#f0f921"
             ]
            ],
            "type": "heatmap"
           }
          ],
          "heatmapgl": [
           {
            "colorbar": {
             "outlinewidth": 0,
             "ticks": ""
            },
            "colorscale": [
             [
              0.0,
              "#0d0887"
             ],
             [
              0.1111111111111111,
              "#46039f"
             ],
             [
              0.2222222222222222,
              "#7201a8"
             ],
             [
              0.3333333333333333,
              "#9c179e"
             ],
             [
              0.4444444444444444,
              "#bd3786"
             ],
             [
              0.5555555555555556,
              "#d8576b"
             ],
             [
              0.6666666666666666,
              "#ed7953"
             ],
             [
              0.7777777777777778,
              "#fb9f3a"
             ],
             [
              0.8888888888888888,
              "#fdca26"
             ],
             [
              1.0,
              "#f0f921"
             ]
            ],
            "type": "heatmapgl"
           }
          ],
          "histogram": [
           {
            "marker": {
             "pattern": {
              "fillmode": "overlay",
              "size": 10,
              "solidity": 0.2
             }
            },
            "type": "histogram"
           }
          ],
          "histogram2d": [
           {
            "colorbar": {
             "outlinewidth": 0,
             "ticks": ""
            },
            "colorscale": [
             [
              0.0,
              "#0d0887"
             ],
             [
              0.1111111111111111,
              "#46039f"
             ],
             [
              0.2222222222222222,
              "#7201a8"
             ],
             [
              0.3333333333333333,
              "#9c179e"
             ],
             [
              0.4444444444444444,
              "#bd3786"
             ],
             [
              0.5555555555555556,
              "#d8576b"
             ],
             [
              0.6666666666666666,
              "#ed7953"
             ],
             [
              0.7777777777777778,
              "#fb9f3a"
             ],
             [
              0.8888888888888888,
              "#fdca26"
             ],
             [
              1.0,
              "#f0f921"
             ]
            ],
            "type": "histogram2d"
           }
          ],
          "histogram2dcontour": [
           {
            "colorbar": {
             "outlinewidth": 0,
             "ticks": ""
            },
            "colorscale": [
             [
              0.0,
              "#0d0887"
             ],
             [
              0.1111111111111111,
              "#46039f"
             ],
             [
              0.2222222222222222,
              "#7201a8"
             ],
             [
              0.3333333333333333,
              "#9c179e"
             ],
             [
              0.4444444444444444,
              "#bd3786"
             ],
             [
              0.5555555555555556,
              "#d8576b"
             ],
             [
              0.6666666666666666,
              "#ed7953"
             ],
             [
              0.7777777777777778,
              "#fb9f3a"
             ],
             [
              0.8888888888888888,
              "#fdca26"
             ],
             [
              1.0,
              "#f0f921"
             ]
            ],
            "type": "histogram2dcontour"
           }
          ],
          "mesh3d": [
           {
            "colorbar": {
             "outlinewidth": 0,
             "ticks": ""
            },
            "type": "mesh3d"
           }
          ],
          "parcoords": [
           {
            "line": {
             "colorbar": {
              "outlinewidth": 0,
              "ticks": ""
             }
            },
            "type": "parcoords"
           }
          ],
          "pie": [
           {
            "automargin": true,
            "type": "pie"
           }
          ],
          "scatter": [
           {
            "fillpattern": {
             "fillmode": "overlay",
             "size": 10,
             "solidity": 0.2
            },
            "type": "scatter"
           }
          ],
          "scatter3d": [
           {
            "line": {
             "colorbar": {
              "outlinewidth": 0,
              "ticks": ""
             }
            },
            "marker": {
             "colorbar": {
              "outlinewidth": 0,
              "ticks": ""
             }
            },
            "type": "scatter3d"
           }
          ],
          "scattercarpet": [
           {
            "marker": {
             "colorbar": {
              "outlinewidth": 0,
              "ticks": ""
             }
            },
            "type": "scattercarpet"
           }
          ],
          "scattergeo": [
           {
            "marker": {
             "colorbar": {
              "outlinewidth": 0,
              "ticks": ""
             }
            },
            "type": "scattergeo"
           }
          ],
          "scattergl": [
           {
            "marker": {
             "colorbar": {
              "outlinewidth": 0,
              "ticks": ""
             }
            },
            "type": "scattergl"
           }
          ],
          "scattermapbox": [
           {
            "marker": {
             "colorbar": {
              "outlinewidth": 0,
              "ticks": ""
             }
            },
            "type": "scattermapbox"
           }
          ],
          "scatterpolar": [
           {
            "marker": {
             "colorbar": {
              "outlinewidth": 0,
              "ticks": ""
             }
            },
            "type": "scatterpolar"
           }
          ],
          "scatterpolargl": [
           {
            "marker": {
             "colorbar": {
              "outlinewidth": 0,
              "ticks": ""
             }
            },
            "type": "scatterpolargl"
           }
          ],
          "scatterternary": [
           {
            "marker": {
             "colorbar": {
              "outlinewidth": 0,
              "ticks": ""
             }
            },
            "type": "scatterternary"
           }
          ],
          "surface": [
           {
            "colorbar": {
             "outlinewidth": 0,
             "ticks": ""
            },
            "colorscale": [
             [
              0.0,
              "#0d0887"
             ],
             [
              0.1111111111111111,
              "#46039f"
             ],
             [
              0.2222222222222222,
              "#7201a8"
             ],
             [
              0.3333333333333333,
              "#9c179e"
             ],
             [
              0.4444444444444444,
              "#bd3786"
             ],
             [
              0.5555555555555556,
              "#d8576b"
             ],
             [
              0.6666666666666666,
              "#ed7953"
             ],
             [
              0.7777777777777778,
              "#fb9f3a"
             ],
             [
              0.8888888888888888,
              "#fdca26"
             ],
             [
              1.0,
              "#f0f921"
             ]
            ],
            "type": "surface"
           }
          ],
          "table": [
           {
            "cells": {
             "fill": {
              "color": "#EBF0F8"
             },
             "line": {
              "color": "white"
             }
            },
            "header": {
             "fill": {
              "color": "#C8D4E3"
             },
             "line": {
              "color": "white"
             }
            },
            "type": "table"
           }
          ]
         },
         "layout": {
          "annotationdefaults": {
           "arrowcolor": "#2a3f5f",
           "arrowhead": 0,
           "arrowwidth": 1
          },
          "autotypenumbers": "strict",
          "coloraxis": {
           "colorbar": {
            "outlinewidth": 0,
            "ticks": ""
           }
          },
          "colorscale": {
           "diverging": [
            [
             0,
             "#8e0152"
            ],
            [
             0.1,
             "#c51b7d"
            ],
            [
             0.2,
             "#de77ae"
            ],
            [
             0.3,
             "#f1b6da"
            ],
            [
             0.4,
             "#fde0ef"
            ],
            [
             0.5,
             "#f7f7f7"
            ],
            [
             0.6,
             "#e6f5d0"
            ],
            [
             0.7,
             "#b8e186"
            ],
            [
             0.8,
             "#7fbc41"
            ],
            [
             0.9,
             "#4d9221"
            ],
            [
             1,
             "#276419"
            ]
           ],
           "sequential": [
            [
             0.0,
             "#0d0887"
            ],
            [
             0.1111111111111111,
             "#46039f"
            ],
            [
             0.2222222222222222,
             "#7201a8"
            ],
            [
             0.3333333333333333,
             "#9c179e"
            ],
            [
             0.4444444444444444,
             "#bd3786"
            ],
            [
             0.5555555555555556,
             "#d8576b"
            ],
            [
             0.6666666666666666,
             "#ed7953"
            ],
            [
             0.7777777777777778,
             "#fb9f3a"
            ],
            [
             0.8888888888888888,
             "#fdca26"
            ],
            [
             1.0,
             "#f0f921"
            ]
           ],
           "sequentialminus": [
            [
             0.0,
             "#0d0887"
            ],
            [
             0.1111111111111111,
             "#46039f"
            ],
            [
             0.2222222222222222,
             "#7201a8"
            ],
            [
             0.3333333333333333,
             "#9c179e"
            ],
            [
             0.4444444444444444,
             "#bd3786"
            ],
            [
             0.5555555555555556,
             "#d8576b"
            ],
            [
             0.6666666666666666,
             "#ed7953"
            ],
            [
             0.7777777777777778,
             "#fb9f3a"
            ],
            [
             0.8888888888888888,
             "#fdca26"
            ],
            [
             1.0,
             "#f0f921"
            ]
           ]
          },
          "colorway": [
           "#636efa",
           "#EF553B",
           "#00cc96",
           "#ab63fa",
           "#FFA15A",
           "#19d3f3",
           "#FF6692",
           "#B6E880",
           "#FF97FF",
           "#FECB52"
          ],
          "font": {
           "color": "#2a3f5f"
          },
          "geo": {
           "bgcolor": "white",
           "lakecolor": "white",
           "landcolor": "#E5ECF6",
           "showlakes": true,
           "showland": true,
           "subunitcolor": "white"
          },
          "hoverlabel": {
           "align": "left"
          },
          "hovermode": "closest",
          "mapbox": {
           "style": "light"
          },
          "paper_bgcolor": "white",
          "plot_bgcolor": "#E5ECF6",
          "polar": {
           "angularaxis": {
            "gridcolor": "white",
            "linecolor": "white",
            "ticks": ""
           },
           "bgcolor": "#E5ECF6",
           "radialaxis": {
            "gridcolor": "white",
            "linecolor": "white",
            "ticks": ""
           }
          },
          "scene": {
           "xaxis": {
            "backgroundcolor": "#E5ECF6",
            "gridcolor": "white",
            "gridwidth": 2,
            "linecolor": "white",
            "showbackground": true,
            "ticks": "",
            "zerolinecolor": "white"
           },
           "yaxis": {
            "backgroundcolor": "#E5ECF6",
            "gridcolor": "white",
            "gridwidth": 2,
            "linecolor": "white",
            "showbackground": true,
            "ticks": "",
            "zerolinecolor": "white"
           },
           "zaxis": {
            "backgroundcolor": "#E5ECF6",
            "gridcolor": "white",
            "gridwidth": 2,
            "linecolor": "white",
            "showbackground": true,
            "ticks": "",
            "zerolinecolor": "white"
           }
          },
          "shapedefaults": {
           "line": {
            "color": "#2a3f5f"
           }
          },
          "ternary": {
           "aaxis": {
            "gridcolor": "white",
            "linecolor": "white",
            "ticks": ""
           },
           "baxis": {
            "gridcolor": "white",
            "linecolor": "white",
            "ticks": ""
           },
           "bgcolor": "#E5ECF6",
           "caxis": {
            "gridcolor": "white",
            "linecolor": "white",
            "ticks": ""
           }
          },
          "title": {
           "x": 0.05
          },
          "xaxis": {
           "automargin": true,
           "gridcolor": "white",
           "linecolor": "white",
           "ticks": "",
           "title": {
            "standoff": 15
           },
           "zerolinecolor": "white",
           "zerolinewidth": 2
          },
          "yaxis": {
           "automargin": true,
           "gridcolor": "white",
           "linecolor": "white",
           "ticks": "",
           "title": {
            "standoff": 15
           },
           "zerolinecolor": "white",
           "zerolinewidth": 2
          }
         }
        },
        "title": {
         "text": "<b><i>Salary by Employment Type</i></b>",
         "x": 0.5,
         "xanchor": "center"
        },
        "width": 900,
        "xaxis": {
         "anchor": "y",
         "categoryarray": [
          "Full Time",
          "Contract",
          "Part Time",
          "Freelance"
         ],
         "categoryorder": "array",
         "domain": [
          0.0,
          1.0
         ],
         "tickmode": "array",
         "title": {
          "text": "<b>Employment Type</b>"
         }
        },
        "yaxis": {
         "anchor": "x",
         "domain": [
          0.0,
          1.0
         ],
         "title": {
          "text": "<b> salary</b>"
         }
        }
       }
      },
      "text/html": [
       "<div>                            <div id=\"a48faaf9-43b9-4698-9bcc-1765d6675ca6\" class=\"plotly-graph-div\" style=\"height:600px; width:900px;\"></div>            <script type=\"text/javascript\">                require([\"plotly\"], function(Plotly) {                    window.PLOTLYENV=window.PLOTLYENV || {};                                    if (document.getElementById(\"a48faaf9-43b9-4698-9bcc-1765d6675ca6\")) {                    Plotly.newPlot(                        \"a48faaf9-43b9-4698-9bcc-1765d6675ca6\",                        [{\"alignmentgroup\":\"True\",\"hovertemplate\":\"Employment Type=%{x}<br>Salary=%{y}<extra></extra>\",\"legendgroup\":\"Full Time\",\"marker\":{\"color\":\"#636efa\"},\"name\":\"Full Time\",\"notched\":false,\"offsetgroup\":\"Full Time\",\"orientation\":\"v\",\"showlegend\":true,\"x\":[\"Full Time\",\"Full Time\",\"Full Time\",\"Full Time\",\"Full Time\",\"Full Time\",\"Full Time\",\"Full Time\",\"Full Time\",\"Full Time\",\"Full Time\",\"Full Time\",\"Full Time\",\"Full Time\",\"Full Time\",\"Full Time\",\"Full Time\",\"Full Time\",\"Full Time\",\"Full Time\",\"Full Time\",\"Full Time\",\"Full Time\",\"Full Time\",\"Full Time\",\"Full Time\",\"Full Time\",\"Full Time\",\"Full Time\",\"Full Time\",\"Full Time\",\"Full Time\",\"Full Time\",\"Full Time\",\"Full Time\",\"Full Time\",\"Full Time\",\"Full Time\",\"Full Time\",\"Full Time\",\"Full Time\",\"Full Time\",\"Full Time\",\"Full Time\",\"Full Time\",\"Full Time\",\"Full Time\",\"Full Time\",\"Full Time\",\"Full Time\",\"Full Time\",\"Full Time\",\"Full Time\",\"Full Time\",\"Full Time\",\"Full Time\",\"Full Time\",\"Full Time\",\"Full Time\",\"Full Time\",\"Full Time\",\"Full Time\",\"Full Time\",\"Full Time\",\"Full Time\",\"Full Time\",\"Full Time\",\"Full Time\",\"Full Time\",\"Full Time\",\"Full Time\",\"Full Time\",\"Full Time\",\"Full Time\",\"Full Time\",\"Full Time\",\"Full Time\",\"Full Time\",\"Full Time\",\"Full Time\",\"Full Time\",\"Full Time\",\"Full Time\",\"Full Time\",\"Full Time\",\"Full Time\",\"Full Time\",\"Full Time\",\"Full Time\",\"Full Time\",\"Full Time\",\"Full Time\",\"Full Time\",\"Full Time\",\"Full Time\",\"Full Time\",\"Full Time\",\"Full Time\",\"Full Time\",\"Full Time\",\"Full Time\",\"Full Time\",\"Full Time\",\"Full Time\",\"Full Time\",\"Full Time\",\"Full Time\",\"Full Time\",\"Full Time\",\"Full Time\",\"Full Time\",\"Full Time\",\"Full Time\",\"Full Time\",\"Full Time\",\"Full Time\",\"Full Time\",\"Full Time\",\"Full Time\",\"Full Time\",\"Full Time\",\"Full Time\",\"Full Time\",\"Full Time\",\"Full Time\",\"Full Time\",\"Full Time\",\"Full Time\",\"Full Time\",\"Full Time\",\"Full Time\",\"Full Time\",\"Full Time\",\"Full Time\",\"Full Time\",\"Full Time\",\"Full Time\",\"Full Time\",\"Full Time\",\"Full Time\",\"Full Time\",\"Full Time\",\"Full Time\",\"Full Time\",\"Full Time\",\"Full Time\",\"Full Time\",\"Full Time\",\"Full Time\",\"Full Time\",\"Full Time\",\"Full Time\",\"Full Time\",\"Full Time\",\"Full Time\",\"Full Time\",\"Full Time\",\"Full Time\",\"Full Time\",\"Full Time\",\"Full Time\",\"Full Time\",\"Full Time\",\"Full Time\",\"Full Time\",\"Full Time\",\"Full Time\",\"Full Time\",\"Full Time\",\"Full Time\",\"Full Time\",\"Full Time\",\"Full Time\",\"Full Time\",\"Full Time\",\"Full Time\",\"Full Time\",\"Full Time\",\"Full Time\",\"Full Time\",\"Full Time\",\"Full Time\",\"Full Time\",\"Full Time\",\"Full Time\",\"Full Time\",\"Full Time\",\"Full Time\",\"Full Time\",\"Full Time\",\"Full Time\",\"Full Time\",\"Full Time\",\"Full Time\",\"Full Time\",\"Full Time\",\"Full Time\",\"Full Time\",\"Full Time\",\"Full Time\",\"Full Time\",\"Full Time\",\"Full Time\",\"Full Time\",\"Full Time\",\"Full Time\",\"Full Time\",\"Full Time\",\"Full Time\",\"Full Time\",\"Full Time\",\"Full Time\",\"Full Time\",\"Full Time\",\"Full Time\",\"Full Time\",\"Full Time\",\"Full Time\",\"Full Time\",\"Full Time\",\"Full Time\",\"Full Time\",\"Full Time\",\"Full Time\",\"Full Time\",\"Full Time\",\"Full Time\",\"Full Time\",\"Full Time\",\"Full Time\",\"Full Time\",\"Full Time\",\"Full Time\",\"Full Time\",\"Full Time\",\"Full Time\",\"Full Time\",\"Full Time\",\"Full Time\",\"Full Time\",\"Full Time\",\"Full Time\",\"Full Time\",\"Full Time\",\"Full Time\",\"Full Time\",\"Full Time\",\"Full Time\",\"Full Time\",\"Full Time\",\"Full Time\",\"Full Time\",\"Full Time\",\"Full Time\",\"Full Time\",\"Full Time\",\"Full Time\",\"Full Time\",\"Full Time\",\"Full Time\",\"Full Time\",\"Full Time\",\"Full Time\",\"Full Time\",\"Full Time\",\"Full Time\",\"Full Time\",\"Full Time\",\"Full Time\",\"Full Time\",\"Full Time\",\"Full Time\",\"Full Time\",\"Full Time\",\"Full Time\",\"Full Time\",\"Full Time\",\"Full Time\",\"Full Time\",\"Full Time\",\"Full Time\",\"Full Time\",\"Full Time\",\"Full Time\",\"Full Time\",\"Full Time\",\"Full Time\",\"Full Time\",\"Full Time\",\"Full Time\",\"Full Time\",\"Full Time\",\"Full Time\",\"Full Time\",\"Full Time\",\"Full Time\",\"Full Time\",\"Full Time\",\"Full Time\",\"Full Time\",\"Full Time\",\"Full Time\",\"Full Time\",\"Full Time\",\"Full Time\",\"Full Time\",\"Full Time\",\"Full Time\",\"Full Time\",\"Full Time\",\"Full Time\",\"Full Time\",\"Full Time\",\"Full Time\",\"Full Time\",\"Full Time\",\"Full Time\",\"Full Time\",\"Full Time\",\"Full Time\",\"Full Time\",\"Full Time\",\"Full Time\",\"Full Time\",\"Full Time\",\"Full Time\",\"Full Time\",\"Full Time\",\"Full Time\",\"Full Time\",\"Full Time\",\"Full Time\",\"Full Time\",\"Full Time\",\"Full Time\",\"Full Time\",\"Full Time\",\"Full Time\",\"Full Time\",\"Full Time\",\"Full Time\",\"Full Time\",\"Full Time\",\"Full Time\",\"Full Time\",\"Full Time\",\"Full Time\",\"Full Time\",\"Full Time\",\"Full Time\",\"Full Time\",\"Full Time\",\"Full Time\",\"Full Time\",\"Full Time\",\"Full Time\",\"Full Time\",\"Full Time\",\"Full Time\",\"Full Time\",\"Full Time\",\"Full Time\",\"Full Time\",\"Full Time\",\"Full Time\",\"Full Time\",\"Full Time\",\"Full Time\",\"Full Time\",\"Full Time\",\"Full Time\",\"Full Time\",\"Full Time\",\"Full Time\",\"Full Time\",\"Full Time\",\"Full Time\",\"Full Time\",\"Full Time\",\"Full Time\",\"Full Time\",\"Full Time\",\"Full Time\",\"Full Time\",\"Full Time\",\"Full Time\",\"Full Time\",\"Full Time\",\"Full Time\",\"Full Time\",\"Full Time\",\"Full Time\",\"Full Time\",\"Full Time\",\"Full Time\",\"Full Time\",\"Full Time\",\"Full Time\",\"Full Time\",\"Full Time\",\"Full Time\",\"Full Time\",\"Full Time\",\"Full Time\",\"Full Time\",\"Full Time\",\"Full Time\",\"Full Time\",\"Full Time\",\"Full Time\",\"Full Time\",\"Full Time\",\"Full Time\",\"Full Time\",\"Full Time\",\"Full Time\",\"Full Time\",\"Full Time\",\"Full Time\",\"Full Time\",\"Full Time\",\"Full Time\",\"Full Time\",\"Full Time\",\"Full Time\",\"Full Time\",\"Full Time\",\"Full Time\",\"Full Time\",\"Full Time\",\"Full Time\",\"Full Time\",\"Full Time\",\"Full Time\",\"Full Time\",\"Full Time\",\"Full Time\",\"Full Time\",\"Full Time\",\"Full Time\",\"Full Time\",\"Full Time\",\"Full Time\",\"Full Time\",\"Full Time\",\"Full Time\",\"Full Time\",\"Full Time\",\"Full Time\",\"Full Time\",\"Full Time\",\"Full Time\",\"Full Time\",\"Full Time\",\"Full Time\",\"Full Time\",\"Full Time\",\"Full Time\",\"Full Time\",\"Full Time\",\"Full Time\",\"Full Time\",\"Full Time\",\"Full Time\",\"Full Time\",\"Full Time\",\"Full Time\",\"Full Time\",\"Full Time\",\"Full Time\",\"Full Time\",\"Full Time\",\"Full Time\",\"Full Time\",\"Full Time\",\"Full Time\",\"Full Time\",\"Full Time\",\"Full Time\",\"Full Time\",\"Full Time\",\"Full Time\",\"Full Time\",\"Full Time\",\"Full Time\",\"Full Time\",\"Full Time\",\"Full Time\",\"Full Time\",\"Full Time\",\"Full Time\",\"Full Time\",\"Full Time\",\"Full Time\",\"Full Time\",\"Full Time\",\"Full Time\",\"Full Time\",\"Full Time\",\"Full Time\",\"Full Time\",\"Full Time\",\"Full Time\",\"Full Time\",\"Full Time\",\"Full Time\",\"Full Time\",\"Full Time\",\"Full Time\",\"Full Time\",\"Full Time\",\"Full Time\",\"Full Time\",\"Full Time\",\"Full Time\",\"Full Time\",\"Full Time\",\"Full Time\",\"Full Time\",\"Full Time\",\"Full Time\",\"Full Time\",\"Full Time\",\"Full Time\",\"Full Time\",\"Full Time\",\"Full Time\",\"Full Time\",\"Full Time\",\"Full Time\",\"Full Time\",\"Full Time\",\"Full Time\",\"Full Time\",\"Full Time\",\"Full Time\",\"Full Time\",\"Full Time\",\"Full Time\",\"Full Time\",\"Full Time\",\"Full Time\",\"Full Time\",\"Full Time\",\"Full Time\",\"Full Time\",\"Full Time\",\"Full Time\",\"Full Time\",\"Full Time\",\"Full Time\",\"Full Time\",\"Full Time\",\"Full Time\",\"Full Time\",\"Full Time\",\"Full Time\",\"Full Time\",\"Full Time\",\"Full Time\",\"Full Time\",\"Full Time\",\"Full Time\",\"Full Time\",\"Full Time\",\"Full Time\",\"Full Time\",\"Full Time\",\"Full Time\",\"Full Time\",\"Full Time\",\"Full Time\",\"Full Time\",\"Full Time\",\"Full Time\",\"Full Time\",\"Full Time\",\"Full Time\",\"Full Time\",\"Full Time\",\"Full Time\",\"Full Time\",\"Full Time\",\"Full Time\",\"Full Time\",\"Full Time\",\"Full Time\",\"Full Time\"],\"x0\":\" \",\"xaxis\":\"x\",\"y\":[79833,260000,109024,20000,150000,72000,190000,35735,135000,125000,51321,40481,39916,87000,85000,8000,41689,114047,5707,56000,43331,6072,47899,98000,115000,325000,42000,33511,117104,59303,70000,68428,450000,46759,74130,103000,250000,10000,138000,45760,79833,50180,106000,112872,76958,188000,105000,70139,6072,91000,45896,54742,148261,38776,118000,120000,138350,110000,130800,412000,45618,62726,49268,190200,105000,91237,62726,42197,82528,150000,235000,53192,100000,80000,79197,140000,54238,47282,153667,28476,59102,110000,170000,80000,88654,76833,19609,276000,29751,89294,450000,70000,95746,75000,150000,36259,62000,73000,51519,187442,115000,150000,30428,94564,113476,103160,45391,225000,50000,40189,90000,200000,60000,200000,50000,110037,151000,120000,9466,20000,40570,100000,49646,38400,24000,100000,90000,63711,77364,220000,80000,135000,240000,150000,82500,100000,82744,62649,90000,153000,160000,168000,150000,75774,13400,144000,127221,119059,423000,120000,125000,230000,85000,28369,63831,130026,165000,80000,250000,55000,150000,170000,82528,60000,235000,60757,174000,2859,40038,81000,5679,22611,90734,26005,61896,4000,50000,69741,76833,74000,152000,21844,18000,174000,96113,147000,9272,24342,54094,90000,61467,195000,37825,50000,160000,12901,200000,165000,120000,24823,56738,66022,5882,24823,185000,90734,88654,140000,46597,116914,33808,56256,225000,87738,88654,135000,71786,16228,256000,200000,200000,180000,110000,63810,46809,4000,21637,103691,80000,110000,165000,18053,72212,36643,12103,96282,170000,115000,90000,600000,28399,93000,99703,200000,173762,185000,141846,130000,63831,16904,66265,25532,160000,93150,111775,28016,65013,72500,18907,76833,85000,77684,100000,58000,55000,20171,59102,112000,100000,69999,94665,102839,109000,51064,135000,155000,120600,130000,90000,170000,150000,102100,84900,136620,99360,117789,104702,146000,123000,52351,99000,116000,106260,126500,242000,200000,65438,39263,78526,52351,165220,45807,120160,90320,181940,132320,220110,160080,180000,120000,124190,130000,110000,170000,115500,112900,90320,112900,90320,165400,132320,167000,243900,136600,109280,128875,93700,224000,167875,175000,156600,108800,95550,113000,135000,161342,137141,167000,123000,78526,65438,150000,211500,192400,90700,130000,61300,130000,61300,160000,138600,136000,58000,135000,170000,123000,189650,164996,54957,54957,118187,132000,165400,208775,147800,136994,101570,128875,93700,79039,132320,37300,164000,155000,124333,98158,120000,112900,90320,145000,105400,87932,117789,215300,158200,209100,154600,115934,81666,175000,98158,58000,183600,52351,180000,71982,45807,65949,49461,78526,58894,260000,60000,63900,160000,112300,241000,159000,180000,80000,82900,100800,49461,140400,39263,43966,32974,87932,76940,104702,91614,65949,87932,189650,164996,43966,32974,98158,78526,215300,76940,209100,154600,180000,21983,80000,78791,196979,120000,125000,37236,105000,87932,18442,31615,58255,100000,18442,162674,120000,144000,104890,100000,140000,135000,50000,220000,140000,183228,91614,185100,220000,200000,120000,120000,65000,324000,216000,210000,120000,230000,200000,75000,35590,78791,100000,153000,58035,165000,93427,52396,62651,32974,40000,87425,115000,86703,75000,64849,120000,157000,150000,70912,65000,71444,20000,48000,152500,68147,122346,380000,69336,10000,20000,405000,135000,177000,78000,135000,100000,90320,85000,75000,214000,192600,266400,213120,112900,155000,141300,102100,115934,81666,206699,99100,130000,115000,110500,130000,99050,160000,205300,140400,176000,144000,200100,160000,145000,70500,205300,140400,205300,184700,175100,140250,116150,54000,170000,65438,80000,140000,210000,140000,100000,69000,210000,140000,210000,150075,100000,25000,126500,106260,220110,160080,105000,110925,45807,140000,99000,60000,192564,144854,230000,150000,150260,109280,210000,170000,160000,130000,67000,52000,154000,126000,129000,150000,200000],\"y0\":\" \",\"yaxis\":\"y\",\"type\":\"box\"},{\"alignmentgroup\":\"True\",\"hovertemplate\":\"Employment Type=%{x}<br>Salary=%{y}<extra></extra>\",\"legendgroup\":\"Contract\",\"marker\":{\"color\":\"#EF553B\"},\"name\":\"Contract\",\"notched\":false,\"offsetgroup\":\"Contract\",\"orientation\":\"v\",\"showlegend\":true,\"x\":[\"Contract\",\"Contract\",\"Contract\",\"Contract\",\"Contract\"],\"x0\":\" \",\"xaxis\":\"x\",\"y\":[100000,270000,416000,105000,31875],\"y0\":\" \",\"yaxis\":\"y\",\"type\":\"box\"},{\"alignmentgroup\":\"True\",\"hovertemplate\":\"Employment Type=%{x}<br>Salary=%{y}<extra></extra>\",\"legendgroup\":\"Part Time\",\"marker\":{\"color\":\"#00cc96\"},\"name\":\"Part Time\",\"notched\":false,\"offsetgroup\":\"Part Time\",\"orientation\":\"v\",\"showlegend\":true,\"x\":[\"Part Time\",\"Part Time\",\"Part Time\",\"Part Time\",\"Part Time\",\"Part Time\",\"Part Time\",\"Part Time\",\"Part Time\",\"Part Time\"],\"x0\":\" \",\"xaxis\":\"x\",\"y\":[15966,21669,5409,12000,12000,10354,28609,69741,54957,100000],\"y0\":\" \",\"yaxis\":\"y\",\"type\":\"box\"},{\"alignmentgroup\":\"True\",\"hovertemplate\":\"Employment Type=%{x}<br>Salary=%{y}<extra></extra>\",\"legendgroup\":\"Freelance\",\"marker\":{\"color\":\"#ab63fa\"},\"name\":\"Freelance\",\"notched\":false,\"offsetgroup\":\"Freelance\",\"orientation\":\"v\",\"showlegend\":true,\"x\":[\"Freelance\",\"Freelance\",\"Freelance\",\"Freelance\"],\"x0\":\" \",\"xaxis\":\"x\",\"y\":[60000,12000,20000,100000],\"y0\":\" \",\"yaxis\":\"y\",\"type\":\"box\"}],                        {\"template\":{\"data\":{\"histogram2dcontour\":[{\"type\":\"histogram2dcontour\",\"colorbar\":{\"outlinewidth\":0,\"ticks\":\"\"},\"colorscale\":[[0.0,\"#0d0887\"],[0.1111111111111111,\"#46039f\"],[0.2222222222222222,\"#7201a8\"],[0.3333333333333333,\"#9c179e\"],[0.4444444444444444,\"#bd3786\"],[0.5555555555555556,\"#d8576b\"],[0.6666666666666666,\"#ed7953\"],[0.7777777777777778,\"#fb9f3a\"],[0.8888888888888888,\"#fdca26\"],[1.0,\"#f0f921\"]]}],\"choropleth\":[{\"type\":\"choropleth\",\"colorbar\":{\"outlinewidth\":0,\"ticks\":\"\"}}],\"histogram2d\":[{\"type\":\"histogram2d\",\"colorbar\":{\"outlinewidth\":0,\"ticks\":\"\"},\"colorscale\":[[0.0,\"#0d0887\"],[0.1111111111111111,\"#46039f\"],[0.2222222222222222,\"#7201a8\"],[0.3333333333333333,\"#9c179e\"],[0.4444444444444444,\"#bd3786\"],[0.5555555555555556,\"#d8576b\"],[0.6666666666666666,\"#ed7953\"],[0.7777777777777778,\"#fb9f3a\"],[0.8888888888888888,\"#fdca26\"],[1.0,\"#f0f921\"]]}],\"heatmap\":[{\"type\":\"heatmap\",\"colorbar\":{\"outlinewidth\":0,\"ticks\":\"\"},\"colorscale\":[[0.0,\"#0d0887\"],[0.1111111111111111,\"#46039f\"],[0.2222222222222222,\"#7201a8\"],[0.3333333333333333,\"#9c179e\"],[0.4444444444444444,\"#bd3786\"],[0.5555555555555556,\"#d8576b\"],[0.6666666666666666,\"#ed7953\"],[0.7777777777777778,\"#fb9f3a\"],[0.8888888888888888,\"#fdca26\"],[1.0,\"#f0f921\"]]}],\"heatmapgl\":[{\"type\":\"heatmapgl\",\"colorbar\":{\"outlinewidth\":0,\"ticks\":\"\"},\"colorscale\":[[0.0,\"#0d0887\"],[0.1111111111111111,\"#46039f\"],[0.2222222222222222,\"#7201a8\"],[0.3333333333333333,\"#9c179e\"],[0.4444444444444444,\"#bd3786\"],[0.5555555555555556,\"#d8576b\"],[0.6666666666666666,\"#ed7953\"],[0.7777777777777778,\"#fb9f3a\"],[0.8888888888888888,\"#fdca26\"],[1.0,\"#f0f921\"]]}],\"contourcarpet\":[{\"type\":\"contourcarpet\",\"colorbar\":{\"outlinewidth\":0,\"ticks\":\"\"}}],\"contour\":[{\"type\":\"contour\",\"colorbar\":{\"outlinewidth\":0,\"ticks\":\"\"},\"colorscale\":[[0.0,\"#0d0887\"],[0.1111111111111111,\"#46039f\"],[0.2222222222222222,\"#7201a8\"],[0.3333333333333333,\"#9c179e\"],[0.4444444444444444,\"#bd3786\"],[0.5555555555555556,\"#d8576b\"],[0.6666666666666666,\"#ed7953\"],[0.7777777777777778,\"#fb9f3a\"],[0.8888888888888888,\"#fdca26\"],[1.0,\"#f0f921\"]]}],\"surface\":[{\"type\":\"surface\",\"colorbar\":{\"outlinewidth\":0,\"ticks\":\"\"},\"colorscale\":[[0.0,\"#0d0887\"],[0.1111111111111111,\"#46039f\"],[0.2222222222222222,\"#7201a8\"],[0.3333333333333333,\"#9c179e\"],[0.4444444444444444,\"#bd3786\"],[0.5555555555555556,\"#d8576b\"],[0.6666666666666666,\"#ed7953\"],[0.7777777777777778,\"#fb9f3a\"],[0.8888888888888888,\"#fdca26\"],[1.0,\"#f0f921\"]]}],\"mesh3d\":[{\"type\":\"mesh3d\",\"colorbar\":{\"outlinewidth\":0,\"ticks\":\"\"}}],\"scatter\":[{\"fillpattern\":{\"fillmode\":\"overlay\",\"size\":10,\"solidity\":0.2},\"type\":\"scatter\"}],\"parcoords\":[{\"type\":\"parcoords\",\"line\":{\"colorbar\":{\"outlinewidth\":0,\"ticks\":\"\"}}}],\"scatterpolargl\":[{\"type\":\"scatterpolargl\",\"marker\":{\"colorbar\":{\"outlinewidth\":0,\"ticks\":\"\"}}}],\"bar\":[{\"error_x\":{\"color\":\"#2a3f5f\"},\"error_y\":{\"color\":\"#2a3f5f\"},\"marker\":{\"line\":{\"color\":\"#E5ECF6\",\"width\":0.5},\"pattern\":{\"fillmode\":\"overlay\",\"size\":10,\"solidity\":0.2}},\"type\":\"bar\"}],\"scattergeo\":[{\"type\":\"scattergeo\",\"marker\":{\"colorbar\":{\"outlinewidth\":0,\"ticks\":\"\"}}}],\"scatterpolar\":[{\"type\":\"scatterpolar\",\"marker\":{\"colorbar\":{\"outlinewidth\":0,\"ticks\":\"\"}}}],\"histogram\":[{\"marker\":{\"pattern\":{\"fillmode\":\"overlay\",\"size\":10,\"solidity\":0.2}},\"type\":\"histogram\"}],\"scattergl\":[{\"type\":\"scattergl\",\"marker\":{\"colorbar\":{\"outlinewidth\":0,\"ticks\":\"\"}}}],\"scatter3d\":[{\"type\":\"scatter3d\",\"line\":{\"colorbar\":{\"outlinewidth\":0,\"ticks\":\"\"}},\"marker\":{\"colorbar\":{\"outlinewidth\":0,\"ticks\":\"\"}}}],\"scattermapbox\":[{\"type\":\"scattermapbox\",\"marker\":{\"colorbar\":{\"outlinewidth\":0,\"ticks\":\"\"}}}],\"scatterternary\":[{\"type\":\"scatterternary\",\"marker\":{\"colorbar\":{\"outlinewidth\":0,\"ticks\":\"\"}}}],\"scattercarpet\":[{\"type\":\"scattercarpet\",\"marker\":{\"colorbar\":{\"outlinewidth\":0,\"ticks\":\"\"}}}],\"carpet\":[{\"aaxis\":{\"endlinecolor\":\"#2a3f5f\",\"gridcolor\":\"white\",\"linecolor\":\"white\",\"minorgridcolor\":\"white\",\"startlinecolor\":\"#2a3f5f\"},\"baxis\":{\"endlinecolor\":\"#2a3f5f\",\"gridcolor\":\"white\",\"linecolor\":\"white\",\"minorgridcolor\":\"white\",\"startlinecolor\":\"#2a3f5f\"},\"type\":\"carpet\"}],\"table\":[{\"cells\":{\"fill\":{\"color\":\"#EBF0F8\"},\"line\":{\"color\":\"white\"}},\"header\":{\"fill\":{\"color\":\"#C8D4E3\"},\"line\":{\"color\":\"white\"}},\"type\":\"table\"}],\"barpolar\":[{\"marker\":{\"line\":{\"color\":\"#E5ECF6\",\"width\":0.5},\"pattern\":{\"fillmode\":\"overlay\",\"size\":10,\"solidity\":0.2}},\"type\":\"barpolar\"}],\"pie\":[{\"automargin\":true,\"type\":\"pie\"}]},\"layout\":{\"autotypenumbers\":\"strict\",\"colorway\":[\"#636efa\",\"#EF553B\",\"#00cc96\",\"#ab63fa\",\"#FFA15A\",\"#19d3f3\",\"#FF6692\",\"#B6E880\",\"#FF97FF\",\"#FECB52\"],\"font\":{\"color\":\"#2a3f5f\"},\"hovermode\":\"closest\",\"hoverlabel\":{\"align\":\"left\"},\"paper_bgcolor\":\"white\",\"plot_bgcolor\":\"#E5ECF6\",\"polar\":{\"bgcolor\":\"#E5ECF6\",\"angularaxis\":{\"gridcolor\":\"white\",\"linecolor\":\"white\",\"ticks\":\"\"},\"radialaxis\":{\"gridcolor\":\"white\",\"linecolor\":\"white\",\"ticks\":\"\"}},\"ternary\":{\"bgcolor\":\"#E5ECF6\",\"aaxis\":{\"gridcolor\":\"white\",\"linecolor\":\"white\",\"ticks\":\"\"},\"baxis\":{\"gridcolor\":\"white\",\"linecolor\":\"white\",\"ticks\":\"\"},\"caxis\":{\"gridcolor\":\"white\",\"linecolor\":\"white\",\"ticks\":\"\"}},\"coloraxis\":{\"colorbar\":{\"outlinewidth\":0,\"ticks\":\"\"}},\"colorscale\":{\"sequential\":[[0.0,\"#0d0887\"],[0.1111111111111111,\"#46039f\"],[0.2222222222222222,\"#7201a8\"],[0.3333333333333333,\"#9c179e\"],[0.4444444444444444,\"#bd3786\"],[0.5555555555555556,\"#d8576b\"],[0.6666666666666666,\"#ed7953\"],[0.7777777777777778,\"#fb9f3a\"],[0.8888888888888888,\"#fdca26\"],[1.0,\"#f0f921\"]],\"sequentialminus\":[[0.0,\"#0d0887\"],[0.1111111111111111,\"#46039f\"],[0.2222222222222222,\"#7201a8\"],[0.3333333333333333,\"#9c179e\"],[0.4444444444444444,\"#bd3786\"],[0.5555555555555556,\"#d8576b\"],[0.6666666666666666,\"#ed7953\"],[0.7777777777777778,\"#fb9f3a\"],[0.8888888888888888,\"#fdca26\"],[1.0,\"#f0f921\"]],\"diverging\":[[0,\"#8e0152\"],[0.1,\"#c51b7d\"],[0.2,\"#de77ae\"],[0.3,\"#f1b6da\"],[0.4,\"#fde0ef\"],[0.5,\"#f7f7f7\"],[0.6,\"#e6f5d0\"],[0.7,\"#b8e186\"],[0.8,\"#7fbc41\"],[0.9,\"#4d9221\"],[1,\"#276419\"]]},\"xaxis\":{\"gridcolor\":\"white\",\"linecolor\":\"white\",\"ticks\":\"\",\"title\":{\"standoff\":15},\"zerolinecolor\":\"white\",\"automargin\":true,\"zerolinewidth\":2},\"yaxis\":{\"gridcolor\":\"white\",\"linecolor\":\"white\",\"ticks\":\"\",\"title\":{\"standoff\":15},\"zerolinecolor\":\"white\",\"automargin\":true,\"zerolinewidth\":2},\"scene\":{\"xaxis\":{\"backgroundcolor\":\"#E5ECF6\",\"gridcolor\":\"white\",\"linecolor\":\"white\",\"showbackground\":true,\"ticks\":\"\",\"zerolinecolor\":\"white\",\"gridwidth\":2},\"yaxis\":{\"backgroundcolor\":\"#E5ECF6\",\"gridcolor\":\"white\",\"linecolor\":\"white\",\"showbackground\":true,\"ticks\":\"\",\"zerolinecolor\":\"white\",\"gridwidth\":2},\"zaxis\":{\"backgroundcolor\":\"#E5ECF6\",\"gridcolor\":\"white\",\"linecolor\":\"white\",\"showbackground\":true,\"ticks\":\"\",\"zerolinecolor\":\"white\",\"gridwidth\":2}},\"shapedefaults\":{\"line\":{\"color\":\"#2a3f5f\"}},\"annotationdefaults\":{\"arrowcolor\":\"#2a3f5f\",\"arrowhead\":0,\"arrowwidth\":1},\"geo\":{\"bgcolor\":\"white\",\"landcolor\":\"#E5ECF6\",\"subunitcolor\":\"white\",\"showland\":true,\"showlakes\":true,\"lakecolor\":\"white\"},\"title\":{\"x\":0.05},\"mapbox\":{\"style\":\"light\"}}},\"xaxis\":{\"anchor\":\"y\",\"domain\":[0.0,1.0],\"title\":{\"text\":\"<b>Employment Type</b>\"},\"categoryorder\":\"array\",\"categoryarray\":[\"Full Time\",\"Contract\",\"Part Time\",\"Freelance\"],\"tickmode\":\"array\"},\"yaxis\":{\"anchor\":\"x\",\"domain\":[0.0,1.0],\"title\":{\"text\":\"<b> salary</b>\"}},\"legend\":{\"title\":{\"text\":\"Employment Type\"},\"tracegroupgap\":0},\"margin\":{\"t\":60},\"boxmode\":\"overlay\",\"title\":{\"text\":\"<b><i>Salary by Employment Type</i></b>\",\"x\":0.5,\"xanchor\":\"center\"},\"plot_bgcolor\":\"#f1e7d2\",\"paper_bgcolor\":\"#f1e7d2\",\"width\":900,\"height\":600,\"showlegend\":false},                        {\"responsive\": true}                    ).then(function(){\n",
       "                            \n",
       "var gd = document.getElementById('a48faaf9-43b9-4698-9bcc-1765d6675ca6');\n",
       "var x = new MutationObserver(function (mutations, observer) {{\n",
       "        var display = window.getComputedStyle(gd).display;\n",
       "        if (!display || display === 'none') {{\n",
       "            console.log([gd, 'removed!']);\n",
       "            Plotly.purge(gd);\n",
       "            observer.disconnect();\n",
       "        }}\n",
       "}});\n",
       "\n",
       "// Listen for the removal of the full notebook cells\n",
       "var notebookContainer = gd.closest('#notebook-container');\n",
       "if (notebookContainer) {{\n",
       "    x.observe(notebookContainer, {childList: true});\n",
       "}}\n",
       "\n",
       "// Listen for the clearing of the current output cell\n",
       "var outputEl = gd.closest('.output');\n",
       "if (outputEl) {{\n",
       "    x.observe(outputEl, {childList: true});\n",
       "}}\n",
       "\n",
       "                        })                };                });            </script>        </div>"
      ]
     },
     "metadata": {},
     "output_type": "display_data"
    }
   ],
   "source": [
    "fig = px.box(salary_emp,x='Employment Type',y='Salary',\n",
    "       color = 'Employment Type')\n",
    "fig.update_layout(plot_bgcolor = '#f1e7d2', \n",
    "                  paper_bgcolor = '#f1e7d2',title = {'text': \"<b><i>Salary by Employment Type</i></b>\",\n",
    "                           'x':0.5,\n",
    "                           'xanchor': 'center'},\n",
    "                   xaxis = dict(title='<b>Employment Type</b>', tickmode = 'array'),\n",
    "                   yaxis =dict(title='<b> salary</b>'),\n",
    "                   width = 900,\n",
    "                   height = 600)\n",
    "fig.update_layout(showlegend=False )\n",
    "fig.show()"
   ]
  },
  {
   "cell_type": "markdown",
   "id": "3478762e",
   "metadata": {
    "papermill": {
     "duration": 0.061343,
     "end_time": "2022-10-23T19:10:04.070050",
     "exception": false,
     "start_time": "2022-10-23T19:10:04.008707",
     "status": "completed"
    },
    "tags": []
   },
   "source": [
    "<a id=\"4.12\"></a>\n",
    "## <div style=\"text-align: left; background-color:#f1e7d2 ; font-family: Trebuchet MS; color: #7B3F00; padding: 15px; line-height:1;border-radius:1px; margin-bottom: 0em; text-align: center; font-size: 25px;border-style: solid;border-color: dark green;\">4.12 Company Size Distribution</div> "
   ]
  },
  {
   "cell_type": "code",
   "execution_count": 32,
   "id": "d04857b5",
   "metadata": {
    "execution": {
     "iopub.execute_input": "2022-10-23T19:10:04.195854Z",
     "iopub.status.busy": "2022-10-23T19:10:04.195117Z",
     "iopub.status.idle": "2022-10-23T19:10:04.269923Z",
     "shell.execute_reply": "2022-10-23T19:10:04.268703Z"
    },
    "papermill": {
     "duration": 0.141097,
     "end_time": "2022-10-23T19:10:04.272836",
     "exception": false,
     "start_time": "2022-10-23T19:10:04.131739",
     "status": "completed"
    },
    "tags": []
   },
   "outputs": [
    {
     "data": {
      "text/html": [
       "<div>\n",
       "<style scoped>\n",
       "    .dataframe tbody tr th:only-of-type {\n",
       "        vertical-align: middle;\n",
       "    }\n",
       "\n",
       "    .dataframe tbody tr th {\n",
       "        vertical-align: top;\n",
       "    }\n",
       "\n",
       "    .dataframe thead th {\n",
       "        text-align: right;\n",
       "    }\n",
       "</style>\n",
       "<table border=\"1\" class=\"dataframe\">\n",
       "  <thead>\n",
       "    <tr style=\"text-align: right;\">\n",
       "      <th></th>\n",
       "      <th>company_size</th>\n",
       "      <th>count</th>\n",
       "    </tr>\n",
       "  </thead>\n",
       "  <tbody>\n",
       "    <tr>\n",
       "      <th>0</th>\n",
       "      <td>Large</td>\n",
       "      <td>198</td>\n",
       "    </tr>\n",
       "    <tr>\n",
       "      <th>1</th>\n",
       "      <td>Medium</td>\n",
       "      <td>326</td>\n",
       "    </tr>\n",
       "    <tr>\n",
       "      <th>2</th>\n",
       "      <td>Small</td>\n",
       "      <td>83</td>\n",
       "    </tr>\n",
       "  </tbody>\n",
       "</table>\n",
       "</div>"
      ],
      "text/plain": [
       "  company_size  count\n",
       "0        Large    198\n",
       "1       Medium    326\n",
       "2        Small     83"
      ]
     },
     "execution_count": 32,
     "metadata": {},
     "output_type": "execute_result"
    }
   ],
   "source": [
    "comp_size = query(\"\"\"SELECT company_size,\n",
    "                            COUNT(*) AS count\n",
    "                     FROM   salaries\n",
    "                     GROUP  BY company_size\"\"\")\n",
    "comp_size"
   ]
  },
  {
   "cell_type": "code",
   "execution_count": 33,
   "id": "27aa7448",
   "metadata": {
    "execution": {
     "iopub.execute_input": "2022-10-23T19:10:04.399349Z",
     "iopub.status.busy": "2022-10-23T19:10:04.398938Z",
     "iopub.status.idle": "2022-10-23T19:10:04.467253Z",
     "shell.execute_reply": "2022-10-23T19:10:04.466136Z"
    },
    "papermill": {
     "duration": 0.134086,
     "end_time": "2022-10-23T19:10:04.469670",
     "exception": false,
     "start_time": "2022-10-23T19:10:04.335584",
     "status": "completed"
    },
    "tags": []
   },
   "outputs": [
    {
     "data": {
      "application/vnd.plotly.v1+json": {
       "config": {
        "linkText": "Export to plot.ly",
        "plotlyServerURL": "https://plot.ly",
        "showLink": false
       },
       "data": [
        {
         "hole": 0.4,
         "hoverinfo": "label",
         "labels": [
          "Large",
          "Medium",
          "Small"
         ],
         "marker": {
          "colors": [
           "#a05195",
           "#d45087",
           "#f95d6a",
           "#ff7c43",
           "#ffa600"
          ],
          "line": {
           "color": "black",
           "width": 4
          }
         },
         "textfont": {
          "size": 18
         },
         "textposition": "auto",
         "type": "pie",
         "values": [
          198,
          326,
          83
         ]
        }
       ],
       "layout": {
        "height": 600,
        "legend": {
         "bgcolor": "#f1e7d2",
         "bordercolor": "black",
         "borderwidth": 2.5,
         "font": {
          "color": "black",
          "family": "arial",
          "size": 20
         },
         "title": {
          "font": {
           "family": "Times New Roman"
          }
         }
        },
        "paper_bgcolor": "#f1e7d2",
        "plot_bgcolor": "#f1e7d2",
        "template": {
         "data": {
          "pie": [
           {
            "automargin": true,
            "type": "pie"
           }
          ]
         },
         "layout": {
          "xaxis": {
           "showgrid": false,
           "title": {
            "standoff": 15
           }
          },
          "yaxis": {
           "title": {
            "standoff": 15
           }
          }
         }
        },
        "title": {
         "text": "<b>Company Size</b>",
         "x": 0.47
        },
        "width": 900
       }
      },
      "text/html": [
       "<div>                            <div id=\"9cba6476-a056-43ea-b136-5576da9fb786\" class=\"plotly-graph-div\" style=\"height:600px; width:900px;\"></div>            <script type=\"text/javascript\">                require([\"plotly\"], function(Plotly) {                    window.PLOTLYENV=window.PLOTLYENV || {};                                    if (document.getElementById(\"9cba6476-a056-43ea-b136-5576da9fb786\")) {                    Plotly.newPlot(                        \"9cba6476-a056-43ea-b136-5576da9fb786\",                        [{\"hole\":0.4,\"hoverinfo\":\"label\",\"labels\":[\"Large\",\"Medium\",\"Small\"],\"marker\":{\"colors\":[\"#a05195\",\"#d45087\",\"#f95d6a\",\"#ff7c43\",\"#ffa600\"],\"line\":{\"color\":\"black\",\"width\":4}},\"textfont\":{\"size\":18},\"textposition\":\"auto\",\"values\":[198,326,83],\"type\":\"pie\"}],                        {\"height\":600,\"legend\":{\"bgcolor\":\"#f1e7d2\",\"bordercolor\":\"black\",\"borderwidth\":2.5,\"font\":{\"color\":\"black\",\"family\":\"arial\",\"size\":20},\"title\":{\"font\":{\"family\":\"Times New Roman\"}}},\"paper_bgcolor\":\"#f1e7d2\",\"plot_bgcolor\":\"#f1e7d2\",\"template\":{\"data\":{\"pie\":[{\"automargin\":true,\"type\":\"pie\"}]},\"layout\":{\"xaxis\":{\"showgrid\":false,\"title\":{\"standoff\":15}},\"yaxis\":{\"title\":{\"standoff\":15}}}},\"title\":{\"text\":\"<b>Company Size</b>\",\"x\":0.47},\"width\":900},                        {\"responsive\": true}                    ).then(function(){\n",
       "                            \n",
       "var gd = document.getElementById('9cba6476-a056-43ea-b136-5576da9fb786');\n",
       "var x = new MutationObserver(function (mutations, observer) {{\n",
       "        var display = window.getComputedStyle(gd).display;\n",
       "        if (!display || display === 'none') {{\n",
       "            console.log([gd, 'removed!']);\n",
       "            Plotly.purge(gd);\n",
       "            observer.disconnect();\n",
       "        }}\n",
       "}});\n",
       "\n",
       "// Listen for the removal of the full notebook cells\n",
       "var notebookContainer = gd.closest('#notebook-container');\n",
       "if (notebookContainer) {{\n",
       "    x.observe(notebookContainer, {childList: true});\n",
       "}}\n",
       "\n",
       "// Listen for the clearing of the current output cell\n",
       "var outputEl = gd.closest('.output');\n",
       "if (outputEl) {{\n",
       "    x.observe(outputEl, {childList: true});\n",
       "}}\n",
       "\n",
       "                        })                };                });            </script>        </div>"
      ]
     },
     "metadata": {},
     "output_type": "display_data"
    }
   ],
   "source": [
    "data = go.Pie(labels = comp_size['company_size'], values = comp_size['count'].values, \n",
    "                  hoverinfo='label',\n",
    "                  hole = 0.4,\n",
    "                  textfont_size = 18,\n",
    "                  textposition ='auto',\n",
    "                  marker=dict(colors = colors[3:],\n",
    "                              line = dict(color = 'black',\n",
    "                                          width = 4)))\n",
    "fig = go.Figure(data =data)\n",
    "fig.update_layout(title ={'text' : '<b>Company Size</b>', \n",
    "                          'x' : 0.47},\n",
    "                          template = 'xgridoff',\n",
    "                          width = 900, height = 600,\n",
    "                     legend=dict(\n",
    "                        title_font_family=\"Times New Roman\",\n",
    "                        font=dict(\n",
    "                        family=\"arial\",\n",
    "                        size=20,\n",
    "                        color=\"black\" \n",
    "                        ),\n",
    "                        bgcolor=\"#f1e7d2\",\n",
    "                        bordercolor=\"black\",\n",
    "                        borderwidth=2.5),\n",
    "                        paper_bgcolor='#f1e7d2',\n",
    "                        plot_bgcolor = '#f1e7d2'\n",
    "                 )\n",
    "iplot(fig)"
   ]
  },
  {
   "cell_type": "markdown",
   "id": "3bfbe77f",
   "metadata": {
    "papermill": {
     "duration": 0.148495,
     "end_time": "2022-10-23T19:10:04.682584",
     "exception": false,
     "start_time": "2022-10-23T19:10:04.534089",
     "status": "completed"
    },
    "tags": []
   },
   "source": [
    "<a id=\"4.13\"></a>\n",
    "## <div style=\"text-align: left; background-color:#f1e7d2 ; font-family: Trebuchet MS; color: #7B3F00; padding: 15px; line-height:1;border-radius:1px; margin-bottom: 0em; text-align: center; font-size: 25px;border-style: solid;border-color: dark green;\">4.13 Salary on Company Size </div> "
   ]
  },
  {
   "cell_type": "code",
   "execution_count": 34,
   "id": "7273d3ab",
   "metadata": {
    "execution": {
     "iopub.execute_input": "2022-10-23T19:10:04.811933Z",
     "iopub.status.busy": "2022-10-23T19:10:04.811552Z",
     "iopub.status.idle": "2022-10-23T19:10:04.892329Z",
     "shell.execute_reply": "2022-10-23T19:10:04.891541Z"
    },
    "papermill": {
     "duration": 0.146638,
     "end_time": "2022-10-23T19:10:04.894709",
     "exception": false,
     "start_time": "2022-10-23T19:10:04.748071",
     "status": "completed"
    },
    "tags": []
   },
   "outputs": [
    {
     "data": {
      "text/html": [
       "<div>\n",
       "<style scoped>\n",
       "    .dataframe tbody tr th:only-of-type {\n",
       "        vertical-align: middle;\n",
       "    }\n",
       "\n",
       "    .dataframe tbody tr th {\n",
       "        vertical-align: top;\n",
       "    }\n",
       "\n",
       "    .dataframe thead th {\n",
       "        text-align: right;\n",
       "    }\n",
       "</style>\n",
       "<table border=\"1\" class=\"dataframe\">\n",
       "  <thead>\n",
       "    <tr style=\"text-align: right;\">\n",
       "      <th></th>\n",
       "      <th>Company size</th>\n",
       "      <th>Salary</th>\n",
       "    </tr>\n",
       "  </thead>\n",
       "  <tbody>\n",
       "    <tr>\n",
       "      <th>0</th>\n",
       "      <td>Large</td>\n",
       "      <td>79833</td>\n",
       "    </tr>\n",
       "    <tr>\n",
       "      <th>1</th>\n",
       "      <td>Small</td>\n",
       "      <td>260000</td>\n",
       "    </tr>\n",
       "    <tr>\n",
       "      <th>2</th>\n",
       "      <td>Medium</td>\n",
       "      <td>109024</td>\n",
       "    </tr>\n",
       "    <tr>\n",
       "      <th>3</th>\n",
       "      <td>Small</td>\n",
       "      <td>20000</td>\n",
       "    </tr>\n",
       "    <tr>\n",
       "      <th>4</th>\n",
       "      <td>Large</td>\n",
       "      <td>150000</td>\n",
       "    </tr>\n",
       "    <tr>\n",
       "      <th>...</th>\n",
       "      <td>...</td>\n",
       "      <td>...</td>\n",
       "    </tr>\n",
       "    <tr>\n",
       "      <th>602</th>\n",
       "      <td>Medium</td>\n",
       "      <td>154000</td>\n",
       "    </tr>\n",
       "    <tr>\n",
       "      <th>603</th>\n",
       "      <td>Medium</td>\n",
       "      <td>126000</td>\n",
       "    </tr>\n",
       "    <tr>\n",
       "      <th>604</th>\n",
       "      <td>Medium</td>\n",
       "      <td>129000</td>\n",
       "    </tr>\n",
       "    <tr>\n",
       "      <th>605</th>\n",
       "      <td>Medium</td>\n",
       "      <td>150000</td>\n",
       "    </tr>\n",
       "    <tr>\n",
       "      <th>606</th>\n",
       "      <td>Large</td>\n",
       "      <td>200000</td>\n",
       "    </tr>\n",
       "  </tbody>\n",
       "</table>\n",
       "<p>607 rows × 2 columns</p>\n",
       "</div>"
      ],
      "text/plain": [
       "    Company size  Salary\n",
       "0          Large   79833\n",
       "1          Small  260000\n",
       "2         Medium  109024\n",
       "3          Small   20000\n",
       "4          Large  150000\n",
       "..           ...     ...\n",
       "602       Medium  154000\n",
       "603       Medium  126000\n",
       "604       Medium  129000\n",
       "605       Medium  150000\n",
       "606        Large  200000\n",
       "\n",
       "[607 rows x 2 columns]"
      ]
     },
     "execution_count": 34,
     "metadata": {},
     "output_type": "execute_result"
    }
   ],
   "source": [
    "salary_size = query(\"\"\"SELECT company_size AS 'Company size', \n",
    "                       salary_in_usd       AS Salary \n",
    "                       FROM   salaries\"\"\")\n",
    "salary_size"
   ]
  },
  {
   "cell_type": "code",
   "execution_count": null,
   "id": "44a1f662",
   "metadata": {
    "papermill": {
     "duration": 0.062916,
     "end_time": "2022-10-23T19:10:05.020502",
     "exception": false,
     "start_time": "2022-10-23T19:10:04.957586",
     "status": "completed"
    },
    "tags": []
   },
   "outputs": [],
   "source": []
  },
  {
   "cell_type": "code",
   "execution_count": 35,
   "id": "cae3b9f9",
   "metadata": {
    "execution": {
     "iopub.execute_input": "2022-10-23T19:10:05.149796Z",
     "iopub.status.busy": "2022-10-23T19:10:05.148683Z",
     "iopub.status.idle": "2022-10-23T19:10:05.222985Z",
     "shell.execute_reply": "2022-10-23T19:10:05.221852Z"
    },
    "papermill": {
     "duration": 0.143416,
     "end_time": "2022-10-23T19:10:05.226751",
     "exception": false,
     "start_time": "2022-10-23T19:10:05.083335",
     "status": "completed"
    },
    "tags": []
   },
   "outputs": [
    {
     "data": {
      "application/vnd.plotly.v1+json": {
       "config": {
        "plotlyServerURL": "https://plot.ly"
       },
       "data": [
        {
         "alignmentgroup": "True",
         "hovertemplate": "Company size=%{x}<br>Salary=%{y}<extra></extra>",
         "legendgroup": "Large",
         "marker": {
          "color": "#636efa"
         },
         "name": "Large",
         "notched": false,
         "offsetgroup": "Large",
         "orientation": "v",
         "showlegend": true,
         "type": "box",
         "x": [
          "Large",
          "Large",
          "Large",
          "Large",
          "Large",
          "Large",
          "Large",
          "Large",
          "Large",
          "Large",
          "Large",
          "Large",
          "Large",
          "Large",
          "Large",
          "Large",
          "Large",
          "Large",
          "Large",
          "Large",
          "Large",
          "Large",
          "Large",
          "Large",
          "Large",
          "Large",
          "Large",
          "Large",
          "Large",
          "Large",
          "Large",
          "Large",
          "Large",
          "Large",
          "Large",
          "Large",
          "Large",
          "Large",
          "Large",
          "Large",
          "Large",
          "Large",
          "Large",
          "Large",
          "Large",
          "Large",
          "Large",
          "Large",
          "Large",
          "Large",
          "Large",
          "Large",
          "Large",
          "Large",
          "Large",
          "Large",
          "Large",
          "Large",
          "Large",
          "Large",
          "Large",
          "Large",
          "Large",
          "Large",
          "Large",
          "Large",
          "Large",
          "Large",
          "Large",
          "Large",
          "Large",
          "Large",
          "Large",
          "Large",
          "Large",
          "Large",
          "Large",
          "Large",
          "Large",
          "Large",
          "Large",
          "Large",
          "Large",
          "Large",
          "Large",
          "Large",
          "Large",
          "Large",
          "Large",
          "Large",
          "Large",
          "Large",
          "Large",
          "Large",
          "Large",
          "Large",
          "Large",
          "Large",
          "Large",
          "Large",
          "Large",
          "Large",
          "Large",
          "Large",
          "Large",
          "Large",
          "Large",
          "Large",
          "Large",
          "Large",
          "Large",
          "Large",
          "Large",
          "Large",
          "Large",
          "Large",
          "Large",
          "Large",
          "Large",
          "Large",
          "Large",
          "Large",
          "Large",
          "Large",
          "Large",
          "Large",
          "Large",
          "Large",
          "Large",
          "Large",
          "Large",
          "Large",
          "Large",
          "Large",
          "Large",
          "Large",
          "Large",
          "Large",
          "Large",
          "Large",
          "Large",
          "Large",
          "Large",
          "Large",
          "Large",
          "Large",
          "Large",
          "Large",
          "Large",
          "Large",
          "Large",
          "Large",
          "Large",
          "Large",
          "Large",
          "Large",
          "Large",
          "Large",
          "Large",
          "Large",
          "Large",
          "Large",
          "Large",
          "Large",
          "Large",
          "Large",
          "Large",
          "Large",
          "Large",
          "Large",
          "Large",
          "Large",
          "Large",
          "Large",
          "Large",
          "Large",
          "Large",
          "Large",
          "Large",
          "Large",
          "Large",
          "Large",
          "Large",
          "Large",
          "Large",
          "Large",
          "Large",
          "Large",
          "Large",
          "Large",
          "Large",
          "Large",
          "Large",
          "Large",
          "Large",
          "Large",
          "Large",
          "Large"
         ],
         "x0": " ",
         "xaxis": "x",
         "y": [
          79833,
          150000,
          72000,
          35735,
          135000,
          40481,
          87000,
          85000,
          8000,
          6072,
          47899,
          115000,
          325000,
          42000,
          100000,
          117104,
          70000,
          68428,
          46759,
          74130,
          103000,
          250000,
          79833,
          106000,
          112872,
          188000,
          105000,
          70139,
          91000,
          54742,
          120000,
          110000,
          412000,
          82528,
          150000,
          235000,
          53192,
          270000,
          79197,
          140000,
          54238,
          153667,
          28476,
          110000,
          170000,
          88654,
          19609,
          276000,
          29751,
          89294,
          450000,
          75000,
          150000,
          36259,
          62000,
          73000,
          51519,
          187442,
          30428,
          94564,
          45391,
          225000,
          50000,
          200000,
          110037,
          151000,
          40570,
          220000,
          135000,
          240000,
          150000,
          100000,
          90000,
          153000,
          75774,
          13400,
          144000,
          127221,
          423000,
          230000,
          28369,
          63831,
          165000,
          80000,
          250000,
          150000,
          170000,
          82528,
          235000,
          60757,
          174000,
          40038,
          22611,
          90734,
          26005,
          61896,
          152000,
          174000,
          96113,
          147000,
          24342,
          54094,
          37825,
          160000,
          200000,
          20000,
          120000,
          24823,
          5882,
          185000,
          90734,
          140000,
          46597,
          116914,
          56256,
          225000,
          88654,
          135000,
          16228,
          200000,
          200000,
          180000,
          103691,
          80000,
          110000,
          165000,
          72212,
          36643,
          96282,
          115000,
          600000,
          93000,
          200000,
          185000,
          141846,
          130000,
          63831,
          66265,
          72500,
          76833,
          58000,
          55000,
          20171,
          59102,
          112000,
          100000,
          69741,
          69999,
          94665,
          102839,
          109000,
          51064,
          180000,
          120000,
          113000,
          160000,
          79039,
          37300,
          215300,
          158200,
          209100,
          154600,
          183600,
          60000,
          160000,
          112300,
          100800,
          140400,
          215300,
          209100,
          154600,
          21983,
          196979,
          37236,
          31615,
          58255,
          100000,
          54957,
          144000,
          35590,
          93427,
          52396,
          62651,
          40000,
          87425,
          75000,
          64849,
          120000,
          157000,
          70912,
          122346,
          380000,
          405000,
          135000,
          177000,
          205300,
          140400,
          200000
         ],
         "y0": " ",
         "yaxis": "y"
        },
        {
         "alignmentgroup": "True",
         "hovertemplate": "Company size=%{x}<br>Salary=%{y}<extra></extra>",
         "legendgroup": "Small",
         "marker": {
          "color": "#EF553B"
         },
         "name": "Small",
         "notched": false,
         "offsetgroup": "Small",
         "orientation": "v",
         "showlegend": true,
         "type": "box",
         "x": [
          "Small",
          "Small",
          "Small",
          "Small",
          "Small",
          "Small",
          "Small",
          "Small",
          "Small",
          "Small",
          "Small",
          "Small",
          "Small",
          "Small",
          "Small",
          "Small",
          "Small",
          "Small",
          "Small",
          "Small",
          "Small",
          "Small",
          "Small",
          "Small",
          "Small",
          "Small",
          "Small",
          "Small",
          "Small",
          "Small",
          "Small",
          "Small",
          "Small",
          "Small",
          "Small",
          "Small",
          "Small",
          "Small",
          "Small",
          "Small",
          "Small",
          "Small",
          "Small",
          "Small",
          "Small",
          "Small",
          "Small",
          "Small",
          "Small",
          "Small",
          "Small",
          "Small",
          "Small",
          "Small",
          "Small",
          "Small",
          "Small",
          "Small",
          "Small",
          "Small",
          "Small",
          "Small",
          "Small",
          "Small",
          "Small",
          "Small",
          "Small",
          "Small",
          "Small",
          "Small",
          "Small",
          "Small",
          "Small",
          "Small",
          "Small",
          "Small",
          "Small",
          "Small",
          "Small",
          "Small",
          "Small",
          "Small",
          "Small"
         ],
         "x0": " ",
         "xaxis": "x",
         "y": [
          260000,
          20000,
          190000,
          125000,
          51321,
          41689,
          114047,
          33511,
          59303,
          10000,
          138000,
          45760,
          15966,
          76958,
          6072,
          45896,
          60000,
          21669,
          45618,
          62726,
          49268,
          105000,
          91237,
          62726,
          42197,
          47282,
          80000,
          76833,
          12000,
          95746,
          115000,
          103160,
          90000,
          120000,
          9466,
          20000,
          100000,
          100000,
          63711,
          77364,
          82500,
          160000,
          168000,
          125000,
          55000,
          60000,
          2859,
          81000,
          5679,
          69741,
          76833,
          74000,
          18000,
          9272,
          90000,
          50000,
          12901,
          56738,
          66022,
          28609,
          416000,
          87738,
          256000,
          110000,
          18053,
          90000,
          16904,
          25532,
          160000,
          85000,
          58000,
          118187,
          58000,
          120000,
          120000,
          65000,
          75000,
          32974,
          150000,
          65000,
          71444,
          48000,
          20000
         ],
         "y0": " ",
         "yaxis": "y"
        },
        {
         "alignmentgroup": "True",
         "hovertemplate": "Company size=%{x}<br>Salary=%{y}<extra></extra>",
         "legendgroup": "Medium",
         "marker": {
          "color": "#00cc96"
         },
         "name": "Medium",
         "notched": false,
         "offsetgroup": "Medium",
         "orientation": "v",
         "showlegend": true,
         "type": "box",
         "x": [
          "Medium",
          "Medium",
          "Medium",
          "Medium",
          "Medium",
          "Medium",
          "Medium",
          "Medium",
          "Medium",
          "Medium",
          "Medium",
          "Medium",
          "Medium",
          "Medium",
          "Medium",
          "Medium",
          "Medium",
          "Medium",
          "Medium",
          "Medium",
          "Medium",
          "Medium",
          "Medium",
          "Medium",
          "Medium",
          "Medium",
          "Medium",
          "Medium",
          "Medium",
          "Medium",
          "Medium",
          "Medium",
          "Medium",
          "Medium",
          "Medium",
          "Medium",
          "Medium",
          "Medium",
          "Medium",
          "Medium",
          "Medium",
          "Medium",
          "Medium",
          "Medium",
          "Medium",
          "Medium",
          "Medium",
          "Medium",
          "Medium",
          "Medium",
          "Medium",
          "Medium",
          "Medium",
          "Medium",
          "Medium",
          "Medium",
          "Medium",
          "Medium",
          "Medium",
          "Medium",
          "Medium",
          "Medium",
          "Medium",
          "Medium",
          "Medium",
          "Medium",
          "Medium",
          "Medium",
          "Medium",
          "Medium",
          "Medium",
          "Medium",
          "Medium",
          "Medium",
          "Medium",
          "Medium",
          "Medium",
          "Medium",
          "Medium",
          "Medium",
          "Medium",
          "Medium",
          "Medium",
          "Medium",
          "Medium",
          "Medium",
          "Medium",
          "Medium",
          "Medium",
          "Medium",
          "Medium",
          "Medium",
          "Medium",
          "Medium",
          "Medium",
          "Medium",
          "Medium",
          "Medium",
          "Medium",
          "Medium",
          "Medium",
          "Medium",
          "Medium",
          "Medium",
          "Medium",
          "Medium",
          "Medium",
          "Medium",
          "Medium",
          "Medium",
          "Medium",
          "Medium",
          "Medium",
          "Medium",
          "Medium",
          "Medium",
          "Medium",
          "Medium",
          "Medium",
          "Medium",
          "Medium",
          "Medium",
          "Medium",
          "Medium",
          "Medium",
          "Medium",
          "Medium",
          "Medium",
          "Medium",
          "Medium",
          "Medium",
          "Medium",
          "Medium",
          "Medium",
          "Medium",
          "Medium",
          "Medium",
          "Medium",
          "Medium",
          "Medium",
          "Medium",
          "Medium",
          "Medium",
          "Medium",
          "Medium",
          "Medium",
          "Medium",
          "Medium",
          "Medium",
          "Medium",
          "Medium",
          "Medium",
          "Medium",
          "Medium",
          "Medium",
          "Medium",
          "Medium",
          "Medium",
          "Medium",
          "Medium",
          "Medium",
          "Medium",
          "Medium",
          "Medium",
          "Medium",
          "Medium",
          "Medium",
          "Medium",
          "Medium",
          "Medium",
          "Medium",
          "Medium",
          "Medium",
          "Medium",
          "Medium",
          "Medium",
          "Medium",
          "Medium",
          "Medium",
          "Medium",
          "Medium",
          "Medium",
          "Medium",
          "Medium",
          "Medium",
          "Medium",
          "Medium",
          "Medium",
          "Medium",
          "Medium",
          "Medium",
          "Medium",
          "Medium",
          "Medium",
          "Medium",
          "Medium",
          "Medium",
          "Medium",
          "Medium",
          "Medium",
          "Medium",
          "Medium",
          "Medium",
          "Medium",
          "Medium",
          "Medium",
          "Medium",
          "Medium",
          "Medium",
          "Medium",
          "Medium",
          "Medium",
          "Medium",
          "Medium",
          "Medium",
          "Medium",
          "Medium",
          "Medium",
          "Medium",
          "Medium",
          "Medium",
          "Medium",
          "Medium",
          "Medium",
          "Medium",
          "Medium",
          "Medium",
          "Medium",
          "Medium",
          "Medium",
          "Medium",
          "Medium",
          "Medium",
          "Medium",
          "Medium",
          "Medium",
          "Medium",
          "Medium",
          "Medium",
          "Medium",
          "Medium",
          "Medium",
          "Medium",
          "Medium",
          "Medium",
          "Medium",
          "Medium",
          "Medium",
          "Medium",
          "Medium",
          "Medium",
          "Medium",
          "Medium",
          "Medium",
          "Medium",
          "Medium",
          "Medium",
          "Medium",
          "Medium",
          "Medium",
          "Medium",
          "Medium",
          "Medium",
          "Medium",
          "Medium",
          "Medium",
          "Medium",
          "Medium",
          "Medium",
          "Medium",
          "Medium",
          "Medium",
          "Medium",
          "Medium",
          "Medium",
          "Medium",
          "Medium",
          "Medium",
          "Medium",
          "Medium",
          "Medium",
          "Medium",
          "Medium",
          "Medium",
          "Medium",
          "Medium",
          "Medium",
          "Medium",
          "Medium",
          "Medium",
          "Medium",
          "Medium",
          "Medium",
          "Medium",
          "Medium",
          "Medium",
          "Medium",
          "Medium",
          "Medium",
          "Medium",
          "Medium",
          "Medium",
          "Medium",
          "Medium",
          "Medium",
          "Medium",
          "Medium",
          "Medium",
          "Medium",
          "Medium",
          "Medium",
          "Medium",
          "Medium",
          "Medium",
          "Medium",
          "Medium",
          "Medium",
          "Medium",
          "Medium",
          "Medium",
          "Medium",
          "Medium",
          "Medium",
          "Medium",
          "Medium",
          "Medium"
         ],
         "x0": " ",
         "xaxis": "x",
         "y": [
          109024,
          39916,
          5707,
          56000,
          43331,
          98000,
          450000,
          50180,
          148261,
          38776,
          118000,
          138350,
          130800,
          190200,
          100000,
          5409,
          80000,
          59102,
          70000,
          150000,
          113476,
          12000,
          40189,
          60000,
          200000,
          50000,
          10354,
          49646,
          38400,
          24000,
          90000,
          80000,
          82744,
          62649,
          150000,
          119059,
          120000,
          85000,
          130026,
          12000,
          4000,
          50000,
          21844,
          61467,
          195000,
          165000,
          24823,
          88654,
          33808,
          71786,
          63810,
          46809,
          4000,
          21637,
          12103,
          170000,
          28399,
          99703,
          173762,
          93150,
          111775,
          28016,
          65013,
          18907,
          77684,
          100000,
          105000,
          135000,
          155000,
          120600,
          130000,
          90000,
          170000,
          150000,
          102100,
          84900,
          136620,
          99360,
          117789,
          104702,
          146000,
          123000,
          52351,
          99000,
          116000,
          106260,
          126500,
          242000,
          200000,
          65438,
          39263,
          78526,
          52351,
          165220,
          45807,
          120160,
          90320,
          181940,
          132320,
          220110,
          160080,
          124190,
          130000,
          110000,
          170000,
          115500,
          112900,
          90320,
          112900,
          90320,
          165400,
          132320,
          167000,
          243900,
          136600,
          109280,
          128875,
          93700,
          224000,
          167875,
          175000,
          156600,
          108800,
          95550,
          135000,
          161342,
          137141,
          167000,
          123000,
          78526,
          65438,
          150000,
          211500,
          192400,
          90700,
          130000,
          61300,
          130000,
          61300,
          138600,
          136000,
          135000,
          170000,
          123000,
          189650,
          164996,
          54957,
          54957,
          132000,
          165400,
          208775,
          147800,
          136994,
          101570,
          128875,
          93700,
          132320,
          164000,
          155000,
          124333,
          98158,
          120000,
          112900,
          90320,
          145000,
          105400,
          87932,
          117789,
          115934,
          81666,
          175000,
          98158,
          52351,
          180000,
          71982,
          45807,
          65949,
          49461,
          78526,
          58894,
          260000,
          63900,
          241000,
          159000,
          180000,
          80000,
          82900,
          49461,
          39263,
          43966,
          32974,
          87932,
          76940,
          104702,
          91614,
          65949,
          87932,
          189650,
          164996,
          43966,
          32974,
          98158,
          78526,
          76940,
          180000,
          80000,
          78791,
          125000,
          105000,
          87932,
          18442,
          18442,
          162674,
          120000,
          104890,
          100000,
          140000,
          135000,
          50000,
          220000,
          140000,
          183228,
          91614,
          185100,
          220000,
          200000,
          120000,
          324000,
          216000,
          210000,
          120000,
          230000,
          100000,
          100000,
          31875,
          200000,
          78791,
          100000,
          153000,
          58035,
          165000,
          115000,
          86703,
          20000,
          152500,
          68147,
          69336,
          10000,
          78000,
          135000,
          100000,
          90320,
          85000,
          75000,
          214000,
          192600,
          266400,
          213120,
          112900,
          155000,
          141300,
          102100,
          115934,
          81666,
          206699,
          99100,
          130000,
          115000,
          110500,
          130000,
          99050,
          160000,
          176000,
          144000,
          200100,
          160000,
          145000,
          70500,
          205300,
          140400,
          205300,
          184700,
          175100,
          140250,
          116150,
          54000,
          170000,
          65438,
          80000,
          140000,
          210000,
          140000,
          100000,
          69000,
          210000,
          140000,
          210000,
          150075,
          100000,
          25000,
          126500,
          106260,
          220110,
          160080,
          105000,
          110925,
          45807,
          140000,
          99000,
          60000,
          192564,
          144854,
          230000,
          150000,
          150260,
          109280,
          210000,
          170000,
          160000,
          130000,
          67000,
          52000,
          154000,
          126000,
          129000,
          150000
         ],
         "y0": " ",
         "yaxis": "y"
        }
       ],
       "layout": {
        "boxmode": "overlay",
        "height": 600,
        "legend": {
         "title": {
          "text": "Company size"
         },
         "tracegroupgap": 0
        },
        "margin": {
         "t": 60
        },
        "paper_bgcolor": "#f1e7d2",
        "plot_bgcolor": "#f1e7d2",
        "showlegend": false,
        "template": {
         "data": {
          "bar": [
           {
            "error_x": {
             "color": "#2a3f5f"
            },
            "error_y": {
             "color": "#2a3f5f"
            },
            "marker": {
             "line": {
              "color": "#E5ECF6",
              "width": 0.5
             },
             "pattern": {
              "fillmode": "overlay",
              "size": 10,
              "solidity": 0.2
             }
            },
            "type": "bar"
           }
          ],
          "barpolar": [
           {
            "marker": {
             "line": {
              "color": "#E5ECF6",
              "width": 0.5
             },
             "pattern": {
              "fillmode": "overlay",
              "size": 10,
              "solidity": 0.2
             }
            },
            "type": "barpolar"
           }
          ],
          "carpet": [
           {
            "aaxis": {
             "endlinecolor": "#2a3f5f",
             "gridcolor": "white",
             "linecolor": "white",
             "minorgridcolor": "white",
             "startlinecolor": "#2a3f5f"
            },
            "baxis": {
             "endlinecolor": "#2a3f5f",
             "gridcolor": "white",
             "linecolor": "white",
             "minorgridcolor": "white",
             "startlinecolor": "#2a3f5f"
            },
            "type": "carpet"
           }
          ],
          "choropleth": [
           {
            "colorbar": {
             "outlinewidth": 0,
             "ticks": ""
            },
            "type": "choropleth"
           }
          ],
          "contour": [
           {
            "colorbar": {
             "outlinewidth": 0,
             "ticks": ""
            },
            "colorscale": [
             [
              0.0,
              "#0d0887"
             ],
             [
              0.1111111111111111,
              "#46039f"
             ],
             [
              0.2222222222222222,
              "#7201a8"
             ],
             [
              0.3333333333333333,
              "#9c179e"
             ],
             [
              0.4444444444444444,
              "#bd3786"
             ],
             [
              0.5555555555555556,
              "#d8576b"
             ],
             [
              0.6666666666666666,
              "#ed7953"
             ],
             [
              0.7777777777777778,
              "#fb9f3a"
             ],
             [
              0.8888888888888888,
              "#fdca26"
             ],
             [
              1.0,
              "#f0f921"
             ]
            ],
            "type": "contour"
           }
          ],
          "contourcarpet": [
           {
            "colorbar": {
             "outlinewidth": 0,
             "ticks": ""
            },
            "type": "contourcarpet"
           }
          ],
          "heatmap": [
           {
            "colorbar": {
             "outlinewidth": 0,
             "ticks": ""
            },
            "colorscale": [
             [
              0.0,
              "#0d0887"
             ],
             [
              0.1111111111111111,
              "#46039f"
             ],
             [
              0.2222222222222222,
              "#7201a8"
             ],
             [
              0.3333333333333333,
              "#9c179e"
             ],
             [
              0.4444444444444444,
              "#bd3786"
             ],
             [
              0.5555555555555556,
              "#d8576b"
             ],
             [
              0.6666666666666666,
              "#ed7953"
             ],
             [
              0.7777777777777778,
              "#fb9f3a"
             ],
             [
              0.8888888888888888,
              "#fdca26"
             ],
             [
              1.0,
              "#f0f921"
             ]
            ],
            "type": "heatmap"
           }
          ],
          "heatmapgl": [
           {
            "colorbar": {
             "outlinewidth": 0,
             "ticks": ""
            },
            "colorscale": [
             [
              0.0,
              "#0d0887"
             ],
             [
              0.1111111111111111,
              "#46039f"
             ],
             [
              0.2222222222222222,
              "#7201a8"
             ],
             [
              0.3333333333333333,
              "#9c179e"
             ],
             [
              0.4444444444444444,
              "#bd3786"
             ],
             [
              0.5555555555555556,
              "#d8576b"
             ],
             [
              0.6666666666666666,
              "#ed7953"
             ],
             [
              0.7777777777777778,
              "#fb9f3a"
             ],
             [
              0.8888888888888888,
              "#fdca26"
             ],
             [
              1.0,
              "#f0f921"
             ]
            ],
            "type": "heatmapgl"
           }
          ],
          "histogram": [
           {
            "marker": {
             "pattern": {
              "fillmode": "overlay",
              "size": 10,
              "solidity": 0.2
             }
            },
            "type": "histogram"
           }
          ],
          "histogram2d": [
           {
            "colorbar": {
             "outlinewidth": 0,
             "ticks": ""
            },
            "colorscale": [
             [
              0.0,
              "#0d0887"
             ],
             [
              0.1111111111111111,
              "#46039f"
             ],
             [
              0.2222222222222222,
              "#7201a8"
             ],
             [
              0.3333333333333333,
              "#9c179e"
             ],
             [
              0.4444444444444444,
              "#bd3786"
             ],
             [
              0.5555555555555556,
              "#d8576b"
             ],
             [
              0.6666666666666666,
              "#ed7953"
             ],
             [
              0.7777777777777778,
              "#fb9f3a"
             ],
             [
              0.8888888888888888,
              "#fdca26"
             ],
             [
              1.0,
              "#f0f921"
             ]
            ],
            "type": "histogram2d"
           }
          ],
          "histogram2dcontour": [
           {
            "colorbar": {
             "outlinewidth": 0,
             "ticks": ""
            },
            "colorscale": [
             [
              0.0,
              "#0d0887"
             ],
             [
              0.1111111111111111,
              "#46039f"
             ],
             [
              0.2222222222222222,
              "#7201a8"
             ],
             [
              0.3333333333333333,
              "#9c179e"
             ],
             [
              0.4444444444444444,
              "#bd3786"
             ],
             [
              0.5555555555555556,
              "#d8576b"
             ],
             [
              0.6666666666666666,
              "#ed7953"
             ],
             [
              0.7777777777777778,
              "#fb9f3a"
             ],
             [
              0.8888888888888888,
              "#fdca26"
             ],
             [
              1.0,
              "#f0f921"
             ]
            ],
            "type": "histogram2dcontour"
           }
          ],
          "mesh3d": [
           {
            "colorbar": {
             "outlinewidth": 0,
             "ticks": ""
            },
            "type": "mesh3d"
           }
          ],
          "parcoords": [
           {
            "line": {
             "colorbar": {
              "outlinewidth": 0,
              "ticks": ""
             }
            },
            "type": "parcoords"
           }
          ],
          "pie": [
           {
            "automargin": true,
            "type": "pie"
           }
          ],
          "scatter": [
           {
            "fillpattern": {
             "fillmode": "overlay",
             "size": 10,
             "solidity": 0.2
            },
            "type": "scatter"
           }
          ],
          "scatter3d": [
           {
            "line": {
             "colorbar": {
              "outlinewidth": 0,
              "ticks": ""
             }
            },
            "marker": {
             "colorbar": {
              "outlinewidth": 0,
              "ticks": ""
             }
            },
            "type": "scatter3d"
           }
          ],
          "scattercarpet": [
           {
            "marker": {
             "colorbar": {
              "outlinewidth": 0,
              "ticks": ""
             }
            },
            "type": "scattercarpet"
           }
          ],
          "scattergeo": [
           {
            "marker": {
             "colorbar": {
              "outlinewidth": 0,
              "ticks": ""
             }
            },
            "type": "scattergeo"
           }
          ],
          "scattergl": [
           {
            "marker": {
             "colorbar": {
              "outlinewidth": 0,
              "ticks": ""
             }
            },
            "type": "scattergl"
           }
          ],
          "scattermapbox": [
           {
            "marker": {
             "colorbar": {
              "outlinewidth": 0,
              "ticks": ""
             }
            },
            "type": "scattermapbox"
           }
          ],
          "scatterpolar": [
           {
            "marker": {
             "colorbar": {
              "outlinewidth": 0,
              "ticks": ""
             }
            },
            "type": "scatterpolar"
           }
          ],
          "scatterpolargl": [
           {
            "marker": {
             "colorbar": {
              "outlinewidth": 0,
              "ticks": ""
             }
            },
            "type": "scatterpolargl"
           }
          ],
          "scatterternary": [
           {
            "marker": {
             "colorbar": {
              "outlinewidth": 0,
              "ticks": ""
             }
            },
            "type": "scatterternary"
           }
          ],
          "surface": [
           {
            "colorbar": {
             "outlinewidth": 0,
             "ticks": ""
            },
            "colorscale": [
             [
              0.0,
              "#0d0887"
             ],
             [
              0.1111111111111111,
              "#46039f"
             ],
             [
              0.2222222222222222,
              "#7201a8"
             ],
             [
              0.3333333333333333,
              "#9c179e"
             ],
             [
              0.4444444444444444,
              "#bd3786"
             ],
             [
              0.5555555555555556,
              "#d8576b"
             ],
             [
              0.6666666666666666,
              "#ed7953"
             ],
             [
              0.7777777777777778,
              "#fb9f3a"
             ],
             [
              0.8888888888888888,
              "#fdca26"
             ],
             [
              1.0,
              "#f0f921"
             ]
            ],
            "type": "surface"
           }
          ],
          "table": [
           {
            "cells": {
             "fill": {
              "color": "#EBF0F8"
             },
             "line": {
              "color": "white"
             }
            },
            "header": {
             "fill": {
              "color": "#C8D4E3"
             },
             "line": {
              "color": "white"
             }
            },
            "type": "table"
           }
          ]
         },
         "layout": {
          "annotationdefaults": {
           "arrowcolor": "#2a3f5f",
           "arrowhead": 0,
           "arrowwidth": 1
          },
          "autotypenumbers": "strict",
          "coloraxis": {
           "colorbar": {
            "outlinewidth": 0,
            "ticks": ""
           }
          },
          "colorscale": {
           "diverging": [
            [
             0,
             "#8e0152"
            ],
            [
             0.1,
             "#c51b7d"
            ],
            [
             0.2,
             "#de77ae"
            ],
            [
             0.3,
             "#f1b6da"
            ],
            [
             0.4,
             "#fde0ef"
            ],
            [
             0.5,
             "#f7f7f7"
            ],
            [
             0.6,
             "#e6f5d0"
            ],
            [
             0.7,
             "#b8e186"
            ],
            [
             0.8,
             "#7fbc41"
            ],
            [
             0.9,
             "#4d9221"
            ],
            [
             1,
             "#276419"
            ]
           ],
           "sequential": [
            [
             0.0,
             "#0d0887"
            ],
            [
             0.1111111111111111,
             "#46039f"
            ],
            [
             0.2222222222222222,
             "#7201a8"
            ],
            [
             0.3333333333333333,
             "#9c179e"
            ],
            [
             0.4444444444444444,
             "#bd3786"
            ],
            [
             0.5555555555555556,
             "#d8576b"
            ],
            [
             0.6666666666666666,
             "#ed7953"
            ],
            [
             0.7777777777777778,
             "#fb9f3a"
            ],
            [
             0.8888888888888888,
             "#fdca26"
            ],
            [
             1.0,
             "#f0f921"
            ]
           ],
           "sequentialminus": [
            [
             0.0,
             "#0d0887"
            ],
            [
             0.1111111111111111,
             "#46039f"
            ],
            [
             0.2222222222222222,
             "#7201a8"
            ],
            [
             0.3333333333333333,
             "#9c179e"
            ],
            [
             0.4444444444444444,
             "#bd3786"
            ],
            [
             0.5555555555555556,
             "#d8576b"
            ],
            [
             0.6666666666666666,
             "#ed7953"
            ],
            [
             0.7777777777777778,
             "#fb9f3a"
            ],
            [
             0.8888888888888888,
             "#fdca26"
            ],
            [
             1.0,
             "#f0f921"
            ]
           ]
          },
          "colorway": [
           "#636efa",
           "#EF553B",
           "#00cc96",
           "#ab63fa",
           "#FFA15A",
           "#19d3f3",
           "#FF6692",
           "#B6E880",
           "#FF97FF",
           "#FECB52"
          ],
          "font": {
           "color": "#2a3f5f"
          },
          "geo": {
           "bgcolor": "white",
           "lakecolor": "white",
           "landcolor": "#E5ECF6",
           "showlakes": true,
           "showland": true,
           "subunitcolor": "white"
          },
          "hoverlabel": {
           "align": "left"
          },
          "hovermode": "closest",
          "mapbox": {
           "style": "light"
          },
          "paper_bgcolor": "white",
          "plot_bgcolor": "#E5ECF6",
          "polar": {
           "angularaxis": {
            "gridcolor": "white",
            "linecolor": "white",
            "ticks": ""
           },
           "bgcolor": "#E5ECF6",
           "radialaxis": {
            "gridcolor": "white",
            "linecolor": "white",
            "ticks": ""
           }
          },
          "scene": {
           "xaxis": {
            "backgroundcolor": "#E5ECF6",
            "gridcolor": "white",
            "gridwidth": 2,
            "linecolor": "white",
            "showbackground": true,
            "ticks": "",
            "zerolinecolor": "white"
           },
           "yaxis": {
            "backgroundcolor": "#E5ECF6",
            "gridcolor": "white",
            "gridwidth": 2,
            "linecolor": "white",
            "showbackground": true,
            "ticks": "",
            "zerolinecolor": "white"
           },
           "zaxis": {
            "backgroundcolor": "#E5ECF6",
            "gridcolor": "white",
            "gridwidth": 2,
            "linecolor": "white",
            "showbackground": true,
            "ticks": "",
            "zerolinecolor": "white"
           }
          },
          "shapedefaults": {
           "line": {
            "color": "#2a3f5f"
           }
          },
          "ternary": {
           "aaxis": {
            "gridcolor": "white",
            "linecolor": "white",
            "ticks": ""
           },
           "baxis": {
            "gridcolor": "white",
            "linecolor": "white",
            "ticks": ""
           },
           "bgcolor": "#E5ECF6",
           "caxis": {
            "gridcolor": "white",
            "linecolor": "white",
            "ticks": ""
           }
          },
          "title": {
           "x": 0.05
          },
          "xaxis": {
           "automargin": true,
           "gridcolor": "white",
           "linecolor": "white",
           "ticks": "",
           "title": {
            "standoff": 15
           },
           "zerolinecolor": "white",
           "zerolinewidth": 2
          },
          "yaxis": {
           "automargin": true,
           "gridcolor": "white",
           "linecolor": "white",
           "ticks": "",
           "title": {
            "standoff": 15
           },
           "zerolinecolor": "white",
           "zerolinewidth": 2
          }
         }
        },
        "title": {
         "text": "<b><i>Salary by Company size</i></b>",
         "x": 0.5,
         "xanchor": "center"
        },
        "width": 900,
        "xaxis": {
         "anchor": "y",
         "categoryarray": [
          "Large",
          "Small",
          "Medium"
         ],
         "categoryorder": "array",
         "domain": [
          0.0,
          1.0
         ],
         "tickmode": "array",
         "title": {
          "text": "<b>Company size</b>"
         }
        },
        "yaxis": {
         "anchor": "x",
         "domain": [
          0.0,
          1.0
         ],
         "title": {
          "text": "<b> salary</b>"
         }
        }
       }
      },
      "text/html": [
       "<div>                            <div id=\"7bc03321-f2d1-476c-8177-45256deaaf09\" class=\"plotly-graph-div\" style=\"height:600px; width:900px;\"></div>            <script type=\"text/javascript\">                require([\"plotly\"], function(Plotly) {                    window.PLOTLYENV=window.PLOTLYENV || {};                                    if (document.getElementById(\"7bc03321-f2d1-476c-8177-45256deaaf09\")) {                    Plotly.newPlot(                        \"7bc03321-f2d1-476c-8177-45256deaaf09\",                        [{\"alignmentgroup\":\"True\",\"hovertemplate\":\"Company size=%{x}<br>Salary=%{y}<extra></extra>\",\"legendgroup\":\"Large\",\"marker\":{\"color\":\"#636efa\"},\"name\":\"Large\",\"notched\":false,\"offsetgroup\":\"Large\",\"orientation\":\"v\",\"showlegend\":true,\"x\":[\"Large\",\"Large\",\"Large\",\"Large\",\"Large\",\"Large\",\"Large\",\"Large\",\"Large\",\"Large\",\"Large\",\"Large\",\"Large\",\"Large\",\"Large\",\"Large\",\"Large\",\"Large\",\"Large\",\"Large\",\"Large\",\"Large\",\"Large\",\"Large\",\"Large\",\"Large\",\"Large\",\"Large\",\"Large\",\"Large\",\"Large\",\"Large\",\"Large\",\"Large\",\"Large\",\"Large\",\"Large\",\"Large\",\"Large\",\"Large\",\"Large\",\"Large\",\"Large\",\"Large\",\"Large\",\"Large\",\"Large\",\"Large\",\"Large\",\"Large\",\"Large\",\"Large\",\"Large\",\"Large\",\"Large\",\"Large\",\"Large\",\"Large\",\"Large\",\"Large\",\"Large\",\"Large\",\"Large\",\"Large\",\"Large\",\"Large\",\"Large\",\"Large\",\"Large\",\"Large\",\"Large\",\"Large\",\"Large\",\"Large\",\"Large\",\"Large\",\"Large\",\"Large\",\"Large\",\"Large\",\"Large\",\"Large\",\"Large\",\"Large\",\"Large\",\"Large\",\"Large\",\"Large\",\"Large\",\"Large\",\"Large\",\"Large\",\"Large\",\"Large\",\"Large\",\"Large\",\"Large\",\"Large\",\"Large\",\"Large\",\"Large\",\"Large\",\"Large\",\"Large\",\"Large\",\"Large\",\"Large\",\"Large\",\"Large\",\"Large\",\"Large\",\"Large\",\"Large\",\"Large\",\"Large\",\"Large\",\"Large\",\"Large\",\"Large\",\"Large\",\"Large\",\"Large\",\"Large\",\"Large\",\"Large\",\"Large\",\"Large\",\"Large\",\"Large\",\"Large\",\"Large\",\"Large\",\"Large\",\"Large\",\"Large\",\"Large\",\"Large\",\"Large\",\"Large\",\"Large\",\"Large\",\"Large\",\"Large\",\"Large\",\"Large\",\"Large\",\"Large\",\"Large\",\"Large\",\"Large\",\"Large\",\"Large\",\"Large\",\"Large\",\"Large\",\"Large\",\"Large\",\"Large\",\"Large\",\"Large\",\"Large\",\"Large\",\"Large\",\"Large\",\"Large\",\"Large\",\"Large\",\"Large\",\"Large\",\"Large\",\"Large\",\"Large\",\"Large\",\"Large\",\"Large\",\"Large\",\"Large\",\"Large\",\"Large\",\"Large\",\"Large\",\"Large\",\"Large\",\"Large\",\"Large\",\"Large\",\"Large\",\"Large\",\"Large\",\"Large\",\"Large\",\"Large\",\"Large\",\"Large\",\"Large\",\"Large\",\"Large\",\"Large\"],\"x0\":\" \",\"xaxis\":\"x\",\"y\":[79833,150000,72000,35735,135000,40481,87000,85000,8000,6072,47899,115000,325000,42000,100000,117104,70000,68428,46759,74130,103000,250000,79833,106000,112872,188000,105000,70139,91000,54742,120000,110000,412000,82528,150000,235000,53192,270000,79197,140000,54238,153667,28476,110000,170000,88654,19609,276000,29751,89294,450000,75000,150000,36259,62000,73000,51519,187442,30428,94564,45391,225000,50000,200000,110037,151000,40570,220000,135000,240000,150000,100000,90000,153000,75774,13400,144000,127221,423000,230000,28369,63831,165000,80000,250000,150000,170000,82528,235000,60757,174000,40038,22611,90734,26005,61896,152000,174000,96113,147000,24342,54094,37825,160000,200000,20000,120000,24823,5882,185000,90734,140000,46597,116914,56256,225000,88654,135000,16228,200000,200000,180000,103691,80000,110000,165000,72212,36643,96282,115000,600000,93000,200000,185000,141846,130000,63831,66265,72500,76833,58000,55000,20171,59102,112000,100000,69741,69999,94665,102839,109000,51064,180000,120000,113000,160000,79039,37300,215300,158200,209100,154600,183600,60000,160000,112300,100800,140400,215300,209100,154600,21983,196979,37236,31615,58255,100000,54957,144000,35590,93427,52396,62651,40000,87425,75000,64849,120000,157000,70912,122346,380000,405000,135000,177000,205300,140400,200000],\"y0\":\" \",\"yaxis\":\"y\",\"type\":\"box\"},{\"alignmentgroup\":\"True\",\"hovertemplate\":\"Company size=%{x}<br>Salary=%{y}<extra></extra>\",\"legendgroup\":\"Small\",\"marker\":{\"color\":\"#EF553B\"},\"name\":\"Small\",\"notched\":false,\"offsetgroup\":\"Small\",\"orientation\":\"v\",\"showlegend\":true,\"x\":[\"Small\",\"Small\",\"Small\",\"Small\",\"Small\",\"Small\",\"Small\",\"Small\",\"Small\",\"Small\",\"Small\",\"Small\",\"Small\",\"Small\",\"Small\",\"Small\",\"Small\",\"Small\",\"Small\",\"Small\",\"Small\",\"Small\",\"Small\",\"Small\",\"Small\",\"Small\",\"Small\",\"Small\",\"Small\",\"Small\",\"Small\",\"Small\",\"Small\",\"Small\",\"Small\",\"Small\",\"Small\",\"Small\",\"Small\",\"Small\",\"Small\",\"Small\",\"Small\",\"Small\",\"Small\",\"Small\",\"Small\",\"Small\",\"Small\",\"Small\",\"Small\",\"Small\",\"Small\",\"Small\",\"Small\",\"Small\",\"Small\",\"Small\",\"Small\",\"Small\",\"Small\",\"Small\",\"Small\",\"Small\",\"Small\",\"Small\",\"Small\",\"Small\",\"Small\",\"Small\",\"Small\",\"Small\",\"Small\",\"Small\",\"Small\",\"Small\",\"Small\",\"Small\",\"Small\",\"Small\",\"Small\",\"Small\",\"Small\"],\"x0\":\" \",\"xaxis\":\"x\",\"y\":[260000,20000,190000,125000,51321,41689,114047,33511,59303,10000,138000,45760,15966,76958,6072,45896,60000,21669,45618,62726,49268,105000,91237,62726,42197,47282,80000,76833,12000,95746,115000,103160,90000,120000,9466,20000,100000,100000,63711,77364,82500,160000,168000,125000,55000,60000,2859,81000,5679,69741,76833,74000,18000,9272,90000,50000,12901,56738,66022,28609,416000,87738,256000,110000,18053,90000,16904,25532,160000,85000,58000,118187,58000,120000,120000,65000,75000,32974,150000,65000,71444,48000,20000],\"y0\":\" \",\"yaxis\":\"y\",\"type\":\"box\"},{\"alignmentgroup\":\"True\",\"hovertemplate\":\"Company size=%{x}<br>Salary=%{y}<extra></extra>\",\"legendgroup\":\"Medium\",\"marker\":{\"color\":\"#00cc96\"},\"name\":\"Medium\",\"notched\":false,\"offsetgroup\":\"Medium\",\"orientation\":\"v\",\"showlegend\":true,\"x\":[\"Medium\",\"Medium\",\"Medium\",\"Medium\",\"Medium\",\"Medium\",\"Medium\",\"Medium\",\"Medium\",\"Medium\",\"Medium\",\"Medium\",\"Medium\",\"Medium\",\"Medium\",\"Medium\",\"Medium\",\"Medium\",\"Medium\",\"Medium\",\"Medium\",\"Medium\",\"Medium\",\"Medium\",\"Medium\",\"Medium\",\"Medium\",\"Medium\",\"Medium\",\"Medium\",\"Medium\",\"Medium\",\"Medium\",\"Medium\",\"Medium\",\"Medium\",\"Medium\",\"Medium\",\"Medium\",\"Medium\",\"Medium\",\"Medium\",\"Medium\",\"Medium\",\"Medium\",\"Medium\",\"Medium\",\"Medium\",\"Medium\",\"Medium\",\"Medium\",\"Medium\",\"Medium\",\"Medium\",\"Medium\",\"Medium\",\"Medium\",\"Medium\",\"Medium\",\"Medium\",\"Medium\",\"Medium\",\"Medium\",\"Medium\",\"Medium\",\"Medium\",\"Medium\",\"Medium\",\"Medium\",\"Medium\",\"Medium\",\"Medium\",\"Medium\",\"Medium\",\"Medium\",\"Medium\",\"Medium\",\"Medium\",\"Medium\",\"Medium\",\"Medium\",\"Medium\",\"Medium\",\"Medium\",\"Medium\",\"Medium\",\"Medium\",\"Medium\",\"Medium\",\"Medium\",\"Medium\",\"Medium\",\"Medium\",\"Medium\",\"Medium\",\"Medium\",\"Medium\",\"Medium\",\"Medium\",\"Medium\",\"Medium\",\"Medium\",\"Medium\",\"Medium\",\"Medium\",\"Medium\",\"Medium\",\"Medium\",\"Medium\",\"Medium\",\"Medium\",\"Medium\",\"Medium\",\"Medium\",\"Medium\",\"Medium\",\"Medium\",\"Medium\",\"Medium\",\"Medium\",\"Medium\",\"Medium\",\"Medium\",\"Medium\",\"Medium\",\"Medium\",\"Medium\",\"Medium\",\"Medium\",\"Medium\",\"Medium\",\"Medium\",\"Medium\",\"Medium\",\"Medium\",\"Medium\",\"Medium\",\"Medium\",\"Medium\",\"Medium\",\"Medium\",\"Medium\",\"Medium\",\"Medium\",\"Medium\",\"Medium\",\"Medium\",\"Medium\",\"Medium\",\"Medium\",\"Medium\",\"Medium\",\"Medium\",\"Medium\",\"Medium\",\"Medium\",\"Medium\",\"Medium\",\"Medium\",\"Medium\",\"Medium\",\"Medium\",\"Medium\",\"Medium\",\"Medium\",\"Medium\",\"Medium\",\"Medium\",\"Medium\",\"Medium\",\"Medium\",\"Medium\",\"Medium\",\"Medium\",\"Medium\",\"Medium\",\"Medium\",\"Medium\",\"Medium\",\"Medium\",\"Medium\",\"Medium\",\"Medium\",\"Medium\",\"Medium\",\"Medium\",\"Medium\",\"Medium\",\"Medium\",\"Medium\",\"Medium\",\"Medium\",\"Medium\",\"Medium\",\"Medium\",\"Medium\",\"Medium\",\"Medium\",\"Medium\",\"Medium\",\"Medium\",\"Medium\",\"Medium\",\"Medium\",\"Medium\",\"Medium\",\"Medium\",\"Medium\",\"Medium\",\"Medium\",\"Medium\",\"Medium\",\"Medium\",\"Medium\",\"Medium\",\"Medium\",\"Medium\",\"Medium\",\"Medium\",\"Medium\",\"Medium\",\"Medium\",\"Medium\",\"Medium\",\"Medium\",\"Medium\",\"Medium\",\"Medium\",\"Medium\",\"Medium\",\"Medium\",\"Medium\",\"Medium\",\"Medium\",\"Medium\",\"Medium\",\"Medium\",\"Medium\",\"Medium\",\"Medium\",\"Medium\",\"Medium\",\"Medium\",\"Medium\",\"Medium\",\"Medium\",\"Medium\",\"Medium\",\"Medium\",\"Medium\",\"Medium\",\"Medium\",\"Medium\",\"Medium\",\"Medium\",\"Medium\",\"Medium\",\"Medium\",\"Medium\",\"Medium\",\"Medium\",\"Medium\",\"Medium\",\"Medium\",\"Medium\",\"Medium\",\"Medium\",\"Medium\",\"Medium\",\"Medium\",\"Medium\",\"Medium\",\"Medium\",\"Medium\",\"Medium\",\"Medium\",\"Medium\",\"Medium\",\"Medium\",\"Medium\",\"Medium\",\"Medium\",\"Medium\",\"Medium\",\"Medium\",\"Medium\",\"Medium\",\"Medium\",\"Medium\",\"Medium\",\"Medium\",\"Medium\",\"Medium\",\"Medium\",\"Medium\",\"Medium\",\"Medium\",\"Medium\",\"Medium\",\"Medium\",\"Medium\",\"Medium\",\"Medium\",\"Medium\",\"Medium\",\"Medium\",\"Medium\",\"Medium\",\"Medium\",\"Medium\",\"Medium\",\"Medium\",\"Medium\",\"Medium\",\"Medium\",\"Medium\",\"Medium\",\"Medium\",\"Medium\",\"Medium\",\"Medium\",\"Medium\",\"Medium\",\"Medium\",\"Medium\",\"Medium\"],\"x0\":\" \",\"xaxis\":\"x\",\"y\":[109024,39916,5707,56000,43331,98000,450000,50180,148261,38776,118000,138350,130800,190200,100000,5409,80000,59102,70000,150000,113476,12000,40189,60000,200000,50000,10354,49646,38400,24000,90000,80000,82744,62649,150000,119059,120000,85000,130026,12000,4000,50000,21844,61467,195000,165000,24823,88654,33808,71786,63810,46809,4000,21637,12103,170000,28399,99703,173762,93150,111775,28016,65013,18907,77684,100000,105000,135000,155000,120600,130000,90000,170000,150000,102100,84900,136620,99360,117789,104702,146000,123000,52351,99000,116000,106260,126500,242000,200000,65438,39263,78526,52351,165220,45807,120160,90320,181940,132320,220110,160080,124190,130000,110000,170000,115500,112900,90320,112900,90320,165400,132320,167000,243900,136600,109280,128875,93700,224000,167875,175000,156600,108800,95550,135000,161342,137141,167000,123000,78526,65438,150000,211500,192400,90700,130000,61300,130000,61300,138600,136000,135000,170000,123000,189650,164996,54957,54957,132000,165400,208775,147800,136994,101570,128875,93700,132320,164000,155000,124333,98158,120000,112900,90320,145000,105400,87932,117789,115934,81666,175000,98158,52351,180000,71982,45807,65949,49461,78526,58894,260000,63900,241000,159000,180000,80000,82900,49461,39263,43966,32974,87932,76940,104702,91614,65949,87932,189650,164996,43966,32974,98158,78526,76940,180000,80000,78791,125000,105000,87932,18442,18442,162674,120000,104890,100000,140000,135000,50000,220000,140000,183228,91614,185100,220000,200000,120000,324000,216000,210000,120000,230000,100000,100000,31875,200000,78791,100000,153000,58035,165000,115000,86703,20000,152500,68147,69336,10000,78000,135000,100000,90320,85000,75000,214000,192600,266400,213120,112900,155000,141300,102100,115934,81666,206699,99100,130000,115000,110500,130000,99050,160000,176000,144000,200100,160000,145000,70500,205300,140400,205300,184700,175100,140250,116150,54000,170000,65438,80000,140000,210000,140000,100000,69000,210000,140000,210000,150075,100000,25000,126500,106260,220110,160080,105000,110925,45807,140000,99000,60000,192564,144854,230000,150000,150260,109280,210000,170000,160000,130000,67000,52000,154000,126000,129000,150000],\"y0\":\" \",\"yaxis\":\"y\",\"type\":\"box\"}],                        {\"template\":{\"data\":{\"histogram2dcontour\":[{\"type\":\"histogram2dcontour\",\"colorbar\":{\"outlinewidth\":0,\"ticks\":\"\"},\"colorscale\":[[0.0,\"#0d0887\"],[0.1111111111111111,\"#46039f\"],[0.2222222222222222,\"#7201a8\"],[0.3333333333333333,\"#9c179e\"],[0.4444444444444444,\"#bd3786\"],[0.5555555555555556,\"#d8576b\"],[0.6666666666666666,\"#ed7953\"],[0.7777777777777778,\"#fb9f3a\"],[0.8888888888888888,\"#fdca26\"],[1.0,\"#f0f921\"]]}],\"choropleth\":[{\"type\":\"choropleth\",\"colorbar\":{\"outlinewidth\":0,\"ticks\":\"\"}}],\"histogram2d\":[{\"type\":\"histogram2d\",\"colorbar\":{\"outlinewidth\":0,\"ticks\":\"\"},\"colorscale\":[[0.0,\"#0d0887\"],[0.1111111111111111,\"#46039f\"],[0.2222222222222222,\"#7201a8\"],[0.3333333333333333,\"#9c179e\"],[0.4444444444444444,\"#bd3786\"],[0.5555555555555556,\"#d8576b\"],[0.6666666666666666,\"#ed7953\"],[0.7777777777777778,\"#fb9f3a\"],[0.8888888888888888,\"#fdca26\"],[1.0,\"#f0f921\"]]}],\"heatmap\":[{\"type\":\"heatmap\",\"colorbar\":{\"outlinewidth\":0,\"ticks\":\"\"},\"colorscale\":[[0.0,\"#0d0887\"],[0.1111111111111111,\"#46039f\"],[0.2222222222222222,\"#7201a8\"],[0.3333333333333333,\"#9c179e\"],[0.4444444444444444,\"#bd3786\"],[0.5555555555555556,\"#d8576b\"],[0.6666666666666666,\"#ed7953\"],[0.7777777777777778,\"#fb9f3a\"],[0.8888888888888888,\"#fdca26\"],[1.0,\"#f0f921\"]]}],\"heatmapgl\":[{\"type\":\"heatmapgl\",\"colorbar\":{\"outlinewidth\":0,\"ticks\":\"\"},\"colorscale\":[[0.0,\"#0d0887\"],[0.1111111111111111,\"#46039f\"],[0.2222222222222222,\"#7201a8\"],[0.3333333333333333,\"#9c179e\"],[0.4444444444444444,\"#bd3786\"],[0.5555555555555556,\"#d8576b\"],[0.6666666666666666,\"#ed7953\"],[0.7777777777777778,\"#fb9f3a\"],[0.8888888888888888,\"#fdca26\"],[1.0,\"#f0f921\"]]}],\"contourcarpet\":[{\"type\":\"contourcarpet\",\"colorbar\":{\"outlinewidth\":0,\"ticks\":\"\"}}],\"contour\":[{\"type\":\"contour\",\"colorbar\":{\"outlinewidth\":0,\"ticks\":\"\"},\"colorscale\":[[0.0,\"#0d0887\"],[0.1111111111111111,\"#46039f\"],[0.2222222222222222,\"#7201a8\"],[0.3333333333333333,\"#9c179e\"],[0.4444444444444444,\"#bd3786\"],[0.5555555555555556,\"#d8576b\"],[0.6666666666666666,\"#ed7953\"],[0.7777777777777778,\"#fb9f3a\"],[0.8888888888888888,\"#fdca26\"],[1.0,\"#f0f921\"]]}],\"surface\":[{\"type\":\"surface\",\"colorbar\":{\"outlinewidth\":0,\"ticks\":\"\"},\"colorscale\":[[0.0,\"#0d0887\"],[0.1111111111111111,\"#46039f\"],[0.2222222222222222,\"#7201a8\"],[0.3333333333333333,\"#9c179e\"],[0.4444444444444444,\"#bd3786\"],[0.5555555555555556,\"#d8576b\"],[0.6666666666666666,\"#ed7953\"],[0.7777777777777778,\"#fb9f3a\"],[0.8888888888888888,\"#fdca26\"],[1.0,\"#f0f921\"]]}],\"mesh3d\":[{\"type\":\"mesh3d\",\"colorbar\":{\"outlinewidth\":0,\"ticks\":\"\"}}],\"scatter\":[{\"fillpattern\":{\"fillmode\":\"overlay\",\"size\":10,\"solidity\":0.2},\"type\":\"scatter\"}],\"parcoords\":[{\"type\":\"parcoords\",\"line\":{\"colorbar\":{\"outlinewidth\":0,\"ticks\":\"\"}}}],\"scatterpolargl\":[{\"type\":\"scatterpolargl\",\"marker\":{\"colorbar\":{\"outlinewidth\":0,\"ticks\":\"\"}}}],\"bar\":[{\"error_x\":{\"color\":\"#2a3f5f\"},\"error_y\":{\"color\":\"#2a3f5f\"},\"marker\":{\"line\":{\"color\":\"#E5ECF6\",\"width\":0.5},\"pattern\":{\"fillmode\":\"overlay\",\"size\":10,\"solidity\":0.2}},\"type\":\"bar\"}],\"scattergeo\":[{\"type\":\"scattergeo\",\"marker\":{\"colorbar\":{\"outlinewidth\":0,\"ticks\":\"\"}}}],\"scatterpolar\":[{\"type\":\"scatterpolar\",\"marker\":{\"colorbar\":{\"outlinewidth\":0,\"ticks\":\"\"}}}],\"histogram\":[{\"marker\":{\"pattern\":{\"fillmode\":\"overlay\",\"size\":10,\"solidity\":0.2}},\"type\":\"histogram\"}],\"scattergl\":[{\"type\":\"scattergl\",\"marker\":{\"colorbar\":{\"outlinewidth\":0,\"ticks\":\"\"}}}],\"scatter3d\":[{\"type\":\"scatter3d\",\"line\":{\"colorbar\":{\"outlinewidth\":0,\"ticks\":\"\"}},\"marker\":{\"colorbar\":{\"outlinewidth\":0,\"ticks\":\"\"}}}],\"scattermapbox\":[{\"type\":\"scattermapbox\",\"marker\":{\"colorbar\":{\"outlinewidth\":0,\"ticks\":\"\"}}}],\"scatterternary\":[{\"type\":\"scatterternary\",\"marker\":{\"colorbar\":{\"outlinewidth\":0,\"ticks\":\"\"}}}],\"scattercarpet\":[{\"type\":\"scattercarpet\",\"marker\":{\"colorbar\":{\"outlinewidth\":0,\"ticks\":\"\"}}}],\"carpet\":[{\"aaxis\":{\"endlinecolor\":\"#2a3f5f\",\"gridcolor\":\"white\",\"linecolor\":\"white\",\"minorgridcolor\":\"white\",\"startlinecolor\":\"#2a3f5f\"},\"baxis\":{\"endlinecolor\":\"#2a3f5f\",\"gridcolor\":\"white\",\"linecolor\":\"white\",\"minorgridcolor\":\"white\",\"startlinecolor\":\"#2a3f5f\"},\"type\":\"carpet\"}],\"table\":[{\"cells\":{\"fill\":{\"color\":\"#EBF0F8\"},\"line\":{\"color\":\"white\"}},\"header\":{\"fill\":{\"color\":\"#C8D4E3\"},\"line\":{\"color\":\"white\"}},\"type\":\"table\"}],\"barpolar\":[{\"marker\":{\"line\":{\"color\":\"#E5ECF6\",\"width\":0.5},\"pattern\":{\"fillmode\":\"overlay\",\"size\":10,\"solidity\":0.2}},\"type\":\"barpolar\"}],\"pie\":[{\"automargin\":true,\"type\":\"pie\"}]},\"layout\":{\"autotypenumbers\":\"strict\",\"colorway\":[\"#636efa\",\"#EF553B\",\"#00cc96\",\"#ab63fa\",\"#FFA15A\",\"#19d3f3\",\"#FF6692\",\"#B6E880\",\"#FF97FF\",\"#FECB52\"],\"font\":{\"color\":\"#2a3f5f\"},\"hovermode\":\"closest\",\"hoverlabel\":{\"align\":\"left\"},\"paper_bgcolor\":\"white\",\"plot_bgcolor\":\"#E5ECF6\",\"polar\":{\"bgcolor\":\"#E5ECF6\",\"angularaxis\":{\"gridcolor\":\"white\",\"linecolor\":\"white\",\"ticks\":\"\"},\"radialaxis\":{\"gridcolor\":\"white\",\"linecolor\":\"white\",\"ticks\":\"\"}},\"ternary\":{\"bgcolor\":\"#E5ECF6\",\"aaxis\":{\"gridcolor\":\"white\",\"linecolor\":\"white\",\"ticks\":\"\"},\"baxis\":{\"gridcolor\":\"white\",\"linecolor\":\"white\",\"ticks\":\"\"},\"caxis\":{\"gridcolor\":\"white\",\"linecolor\":\"white\",\"ticks\":\"\"}},\"coloraxis\":{\"colorbar\":{\"outlinewidth\":0,\"ticks\":\"\"}},\"colorscale\":{\"sequential\":[[0.0,\"#0d0887\"],[0.1111111111111111,\"#46039f\"],[0.2222222222222222,\"#7201a8\"],[0.3333333333333333,\"#9c179e\"],[0.4444444444444444,\"#bd3786\"],[0.5555555555555556,\"#d8576b\"],[0.6666666666666666,\"#ed7953\"],[0.7777777777777778,\"#fb9f3a\"],[0.8888888888888888,\"#fdca26\"],[1.0,\"#f0f921\"]],\"sequentialminus\":[[0.0,\"#0d0887\"],[0.1111111111111111,\"#46039f\"],[0.2222222222222222,\"#7201a8\"],[0.3333333333333333,\"#9c179e\"],[0.4444444444444444,\"#bd3786\"],[0.5555555555555556,\"#d8576b\"],[0.6666666666666666,\"#ed7953\"],[0.7777777777777778,\"#fb9f3a\"],[0.8888888888888888,\"#fdca26\"],[1.0,\"#f0f921\"]],\"diverging\":[[0,\"#8e0152\"],[0.1,\"#c51b7d\"],[0.2,\"#de77ae\"],[0.3,\"#f1b6da\"],[0.4,\"#fde0ef\"],[0.5,\"#f7f7f7\"],[0.6,\"#e6f5d0\"],[0.7,\"#b8e186\"],[0.8,\"#7fbc41\"],[0.9,\"#4d9221\"],[1,\"#276419\"]]},\"xaxis\":{\"gridcolor\":\"white\",\"linecolor\":\"white\",\"ticks\":\"\",\"title\":{\"standoff\":15},\"zerolinecolor\":\"white\",\"automargin\":true,\"zerolinewidth\":2},\"yaxis\":{\"gridcolor\":\"white\",\"linecolor\":\"white\",\"ticks\":\"\",\"title\":{\"standoff\":15},\"zerolinecolor\":\"white\",\"automargin\":true,\"zerolinewidth\":2},\"scene\":{\"xaxis\":{\"backgroundcolor\":\"#E5ECF6\",\"gridcolor\":\"white\",\"linecolor\":\"white\",\"showbackground\":true,\"ticks\":\"\",\"zerolinecolor\":\"white\",\"gridwidth\":2},\"yaxis\":{\"backgroundcolor\":\"#E5ECF6\",\"gridcolor\":\"white\",\"linecolor\":\"white\",\"showbackground\":true,\"ticks\":\"\",\"zerolinecolor\":\"white\",\"gridwidth\":2},\"zaxis\":{\"backgroundcolor\":\"#E5ECF6\",\"gridcolor\":\"white\",\"linecolor\":\"white\",\"showbackground\":true,\"ticks\":\"\",\"zerolinecolor\":\"white\",\"gridwidth\":2}},\"shapedefaults\":{\"line\":{\"color\":\"#2a3f5f\"}},\"annotationdefaults\":{\"arrowcolor\":\"#2a3f5f\",\"arrowhead\":0,\"arrowwidth\":1},\"geo\":{\"bgcolor\":\"white\",\"landcolor\":\"#E5ECF6\",\"subunitcolor\":\"white\",\"showland\":true,\"showlakes\":true,\"lakecolor\":\"white\"},\"title\":{\"x\":0.05},\"mapbox\":{\"style\":\"light\"}}},\"xaxis\":{\"anchor\":\"y\",\"domain\":[0.0,1.0],\"title\":{\"text\":\"<b>Company size</b>\"},\"categoryorder\":\"array\",\"categoryarray\":[\"Large\",\"Small\",\"Medium\"],\"tickmode\":\"array\"},\"yaxis\":{\"anchor\":\"x\",\"domain\":[0.0,1.0],\"title\":{\"text\":\"<b> salary</b>\"}},\"legend\":{\"title\":{\"text\":\"Company size\"},\"tracegroupgap\":0},\"margin\":{\"t\":60},\"boxmode\":\"overlay\",\"title\":{\"text\":\"<b><i>Salary by Company size</i></b>\",\"x\":0.5,\"xanchor\":\"center\"},\"plot_bgcolor\":\"#f1e7d2\",\"paper_bgcolor\":\"#f1e7d2\",\"width\":900,\"height\":600,\"showlegend\":false},                        {\"responsive\": true}                    ).then(function(){\n",
       "                            \n",
       "var gd = document.getElementById('7bc03321-f2d1-476c-8177-45256deaaf09');\n",
       "var x = new MutationObserver(function (mutations, observer) {{\n",
       "        var display = window.getComputedStyle(gd).display;\n",
       "        if (!display || display === 'none') {{\n",
       "            console.log([gd, 'removed!']);\n",
       "            Plotly.purge(gd);\n",
       "            observer.disconnect();\n",
       "        }}\n",
       "}});\n",
       "\n",
       "// Listen for the removal of the full notebook cells\n",
       "var notebookContainer = gd.closest('#notebook-container');\n",
       "if (notebookContainer) {{\n",
       "    x.observe(notebookContainer, {childList: true});\n",
       "}}\n",
       "\n",
       "// Listen for the clearing of the current output cell\n",
       "var outputEl = gd.closest('.output');\n",
       "if (outputEl) {{\n",
       "    x.observe(outputEl, {childList: true});\n",
       "}}\n",
       "\n",
       "                        })                };                });            </script>        </div>"
      ]
     },
     "metadata": {},
     "output_type": "display_data"
    }
   ],
   "source": [
    "fig = px.box(salary_size,x='Company size',y='Salary',\n",
    "       color = 'Company size')\n",
    "fig.update_layout(plot_bgcolor = '#f1e7d2', \n",
    "                  paper_bgcolor = '#f1e7d2',title = {'text': \"<b><i>Salary by Company size</i></b>\",\n",
    "                           'x':0.5,\n",
    "                           'xanchor': 'center'},\n",
    "                   xaxis = dict(title='<b>Company size</b>', tickmode = 'array'),\n",
    "                   yaxis =dict(title='<b> salary</b>'),\n",
    "                   width = 900,\n",
    "                   height = 600)\n",
    "fig.update_layout(showlegend=False )\n",
    "fig.show()"
   ]
  },
  {
   "cell_type": "markdown",
   "id": "78150180",
   "metadata": {
    "papermill": {
     "duration": 0.07069,
     "end_time": "2022-10-23T19:10:05.369128",
     "exception": false,
     "start_time": "2022-10-23T19:10:05.298438",
     "status": "completed"
    },
    "tags": []
   },
   "source": [
    "<a id=\"4.14\"></a>\n",
    "## <div style=\"text-align: left; background-color:#f1e7d2 ; font-family: Trebuchet MS; color: #7B3F00; padding: 15px; line-height:1;border-radius:1px; margin-bottom: 0em; text-align: center; font-size: 25px;border-style: solid;border-color: dark green;\">4.14 Remote Type </div> "
   ]
  },
  {
   "cell_type": "code",
   "execution_count": 36,
   "id": "2cfa98ef",
   "metadata": {
    "execution": {
     "iopub.execute_input": "2022-10-23T19:10:05.516409Z",
     "iopub.status.busy": "2022-10-23T19:10:05.515381Z",
     "iopub.status.idle": "2022-10-23T19:10:05.589069Z",
     "shell.execute_reply": "2022-10-23T19:10:05.587677Z"
    },
    "papermill": {
     "duration": 0.14961,
     "end_time": "2022-10-23T19:10:05.591671",
     "exception": false,
     "start_time": "2022-10-23T19:10:05.442061",
     "status": "completed"
    },
    "tags": []
   },
   "outputs": [
    {
     "data": {
      "text/html": [
       "<div>\n",
       "<style scoped>\n",
       "    .dataframe tbody tr th:only-of-type {\n",
       "        vertical-align: middle;\n",
       "    }\n",
       "\n",
       "    .dataframe tbody tr th {\n",
       "        vertical-align: top;\n",
       "    }\n",
       "\n",
       "    .dataframe thead th {\n",
       "        text-align: right;\n",
       "    }\n",
       "</style>\n",
       "<table border=\"1\" class=\"dataframe\">\n",
       "  <thead>\n",
       "    <tr style=\"text-align: right;\">\n",
       "      <th></th>\n",
       "      <th>remote_ratio</th>\n",
       "      <th>total</th>\n",
       "    </tr>\n",
       "  </thead>\n",
       "  <tbody>\n",
       "    <tr>\n",
       "      <th>0</th>\n",
       "      <td>Fully Remote</td>\n",
       "      <td>381</td>\n",
       "    </tr>\n",
       "    <tr>\n",
       "      <th>1</th>\n",
       "      <td>Non Remote Work</td>\n",
       "      <td>127</td>\n",
       "    </tr>\n",
       "    <tr>\n",
       "      <th>2</th>\n",
       "      <td>Partially Remote</td>\n",
       "      <td>99</td>\n",
       "    </tr>\n",
       "  </tbody>\n",
       "</table>\n",
       "</div>"
      ],
      "text/plain": [
       "       remote_ratio  total\n",
       "0      Fully Remote    381\n",
       "1   Non Remote Work    127\n",
       "2  Partially Remote     99"
      ]
     },
     "execution_count": 36,
     "metadata": {},
     "output_type": "execute_result"
    }
   ],
   "source": [
    "rem_type = query(\"\"\"SELECT remote_ratio,\n",
    "                    COUNT(*)  AS total\n",
    "                    FROM   salaries\n",
    "                    GROUP  BY remote_ratio\"\"\")\n",
    "rem_type"
   ]
  },
  {
   "cell_type": "code",
   "execution_count": 37,
   "id": "5825d9ef",
   "metadata": {
    "execution": {
     "iopub.execute_input": "2022-10-23T19:10:05.736755Z",
     "iopub.status.busy": "2022-10-23T19:10:05.736349Z",
     "iopub.status.idle": "2022-10-23T19:10:05.764975Z",
     "shell.execute_reply": "2022-10-23T19:10:05.763890Z"
    },
    "papermill": {
     "duration": 0.10322,
     "end_time": "2022-10-23T19:10:05.767510",
     "exception": false,
     "start_time": "2022-10-23T19:10:05.664290",
     "status": "completed"
    },
    "tags": []
   },
   "outputs": [
    {
     "data": {
      "application/vnd.plotly.v1+json": {
       "config": {
        "linkText": "Export to plot.ly",
        "plotlyServerURL": "https://plot.ly",
        "showLink": false
       },
       "data": [
        {
         "hole": 0.4,
         "hoverinfo": "label",
         "labels": [
          "Fully Remote",
          "Non Remote Work",
          "Partially Remote"
         ],
         "marker": {
          "colors": [
           "#003f5c",
           "#2f4b7c",
           "#665191",
           "#a05195",
           "#d45087",
           "#f95d6a",
           "#ff7c43",
           "#ffa600"
          ],
          "line": {
           "color": "black",
           "width": 4
          }
         },
         "textfont": {
          "size": 18
         },
         "textposition": "auto",
         "type": "pie",
         "values": [
          381,
          127,
          99
         ]
        }
       ],
       "layout": {
        "height": 600,
        "legend": {
         "bgcolor": "#f1e7d2",
         "bordercolor": "black",
         "borderwidth": 2.5,
         "font": {
          "color": "black",
          "family": "arial",
          "size": 20
         },
         "title": {
          "font": {
           "family": "Times New Roman"
          }
         }
        },
        "paper_bgcolor": "#f1e7d2",
        "plot_bgcolor": "#f1e7d2",
        "template": {
         "data": {
          "pie": [
           {
            "automargin": true,
            "type": "pie"
           }
          ]
         },
         "layout": {
          "xaxis": {
           "showgrid": false,
           "title": {
            "standoff": 15
           }
          },
          "yaxis": {
           "title": {
            "standoff": 15
           }
          }
         }
        },
        "title": {
         "text": "<b>Remote Ratio</b>",
         "x": 0.41
        },
        "width": 900
       }
      },
      "text/html": [
       "<div>                            <div id=\"cce430b7-ff3e-479c-b846-dbcbbbc6cf03\" class=\"plotly-graph-div\" style=\"height:600px; width:900px;\"></div>            <script type=\"text/javascript\">                require([\"plotly\"], function(Plotly) {                    window.PLOTLYENV=window.PLOTLYENV || {};                                    if (document.getElementById(\"cce430b7-ff3e-479c-b846-dbcbbbc6cf03\")) {                    Plotly.newPlot(                        \"cce430b7-ff3e-479c-b846-dbcbbbc6cf03\",                        [{\"hole\":0.4,\"hoverinfo\":\"label\",\"labels\":[\"Fully Remote\",\"Non Remote Work\",\"Partially Remote\"],\"marker\":{\"colors\":[\"#003f5c\",\"#2f4b7c\",\"#665191\",\"#a05195\",\"#d45087\",\"#f95d6a\",\"#ff7c43\",\"#ffa600\"],\"line\":{\"color\":\"black\",\"width\":4}},\"textfont\":{\"size\":18},\"textposition\":\"auto\",\"values\":[381,127,99],\"type\":\"pie\"}],                        {\"height\":600,\"legend\":{\"bgcolor\":\"#f1e7d2\",\"bordercolor\":\"black\",\"borderwidth\":2.5,\"font\":{\"color\":\"black\",\"family\":\"arial\",\"size\":20},\"title\":{\"font\":{\"family\":\"Times New Roman\"}}},\"paper_bgcolor\":\"#f1e7d2\",\"plot_bgcolor\":\"#f1e7d2\",\"template\":{\"data\":{\"pie\":[{\"automargin\":true,\"type\":\"pie\"}]},\"layout\":{\"xaxis\":{\"showgrid\":false,\"title\":{\"standoff\":15}},\"yaxis\":{\"title\":{\"standoff\":15}}}},\"title\":{\"text\":\"<b>Remote Ratio</b>\",\"x\":0.41},\"width\":900},                        {\"responsive\": true}                    ).then(function(){\n",
       "                            \n",
       "var gd = document.getElementById('cce430b7-ff3e-479c-b846-dbcbbbc6cf03');\n",
       "var x = new MutationObserver(function (mutations, observer) {{\n",
       "        var display = window.getComputedStyle(gd).display;\n",
       "        if (!display || display === 'none') {{\n",
       "            console.log([gd, 'removed!']);\n",
       "            Plotly.purge(gd);\n",
       "            observer.disconnect();\n",
       "        }}\n",
       "}});\n",
       "\n",
       "// Listen for the removal of the full notebook cells\n",
       "var notebookContainer = gd.closest('#notebook-container');\n",
       "if (notebookContainer) {{\n",
       "    x.observe(notebookContainer, {childList: true});\n",
       "}}\n",
       "\n",
       "// Listen for the clearing of the current output cell\n",
       "var outputEl = gd.closest('.output');\n",
       "if (outputEl) {{\n",
       "    x.observe(outputEl, {childList: true});\n",
       "}}\n",
       "\n",
       "                        })                };                });            </script>        </div>"
      ]
     },
     "metadata": {},
     "output_type": "display_data"
    }
   ],
   "source": [
    "data = go.Pie(labels = rem_type['remote_ratio'], values = rem_type['total'].values, \n",
    "                  hoverinfo='label',\n",
    "                  hole = 0.4,\n",
    "                  textfont_size = 18,\n",
    "                  textposition ='auto',\n",
    "                  marker=dict(colors = colors[0:],\n",
    "                              line = dict(color = 'black',\n",
    "                                          width = 4)))\n",
    "fig = go.Figure(data =data)\n",
    "fig.update_layout(title ={'text' : '<b>Remote Ratio</b>', \n",
    "                          'x' : 0.41},\n",
    "                          template = 'xgridoff',\n",
    "                          width = 900, height = 600,\n",
    "                     legend=dict(\n",
    "                        title_font_family=\"Times New Roman\",\n",
    "                        font=dict(\n",
    "                        family=\"arial\",\n",
    "                        size=20,\n",
    "                        color=\"black\" \n",
    "                        ),\n",
    "                        bgcolor=\"#f1e7d2\",\n",
    "                        bordercolor=\"black\",\n",
    "                        borderwidth=2.5),\n",
    "                        paper_bgcolor='#f1e7d2',\n",
    "                        plot_bgcolor = '#f1e7d2'\n",
    "                 )\n",
    "iplot(fig)"
   ]
  },
  {
   "cell_type": "markdown",
   "id": "455a902a",
   "metadata": {
    "papermill": {
     "duration": 0.071545,
     "end_time": "2022-10-23T19:10:05.910942",
     "exception": false,
     "start_time": "2022-10-23T19:10:05.839397",
     "status": "completed"
    },
    "tags": []
   },
   "source": [
    "<a id=\"4.15\"></a>\n",
    "## <div style=\"text-align: left; background-color:#f1e7d2 ; font-family: Trebuchet MS; color: #7B3F00; padding: 15px; line-height:1;border-radius:1px; margin-bottom: 0em; text-align: center; font-size: 25px;border-style: solid;border-color: dark green;\">4.15 Salary on Remote Type </div> \n"
   ]
  },
  {
   "cell_type": "code",
   "execution_count": 38,
   "id": "528a97c4",
   "metadata": {
    "execution": {
     "iopub.execute_input": "2022-10-23T19:10:06.058801Z",
     "iopub.status.busy": "2022-10-23T19:10:06.058396Z",
     "iopub.status.idle": "2022-10-23T19:10:06.136723Z",
     "shell.execute_reply": "2022-10-23T19:10:06.135580Z"
    },
    "papermill": {
     "duration": 0.154925,
     "end_time": "2022-10-23T19:10:06.139134",
     "exception": false,
     "start_time": "2022-10-23T19:10:05.984209",
     "status": "completed"
    },
    "tags": []
   },
   "outputs": [
    {
     "data": {
      "text/html": [
       "<div>\n",
       "<style scoped>\n",
       "    .dataframe tbody tr th:only-of-type {\n",
       "        vertical-align: middle;\n",
       "    }\n",
       "\n",
       "    .dataframe tbody tr th {\n",
       "        vertical-align: top;\n",
       "    }\n",
       "\n",
       "    .dataframe thead th {\n",
       "        text-align: right;\n",
       "    }\n",
       "</style>\n",
       "<table border=\"1\" class=\"dataframe\">\n",
       "  <thead>\n",
       "    <tr style=\"text-align: right;\">\n",
       "      <th></th>\n",
       "      <th>Remote type</th>\n",
       "      <th>Salary</th>\n",
       "    </tr>\n",
       "  </thead>\n",
       "  <tbody>\n",
       "    <tr>\n",
       "      <th>0</th>\n",
       "      <td>Non Remote Work</td>\n",
       "      <td>79833</td>\n",
       "    </tr>\n",
       "    <tr>\n",
       "      <th>1</th>\n",
       "      <td>Non Remote Work</td>\n",
       "      <td>260000</td>\n",
       "    </tr>\n",
       "    <tr>\n",
       "      <th>2</th>\n",
       "      <td>Partially Remote</td>\n",
       "      <td>109024</td>\n",
       "    </tr>\n",
       "    <tr>\n",
       "      <th>3</th>\n",
       "      <td>Non Remote Work</td>\n",
       "      <td>20000</td>\n",
       "    </tr>\n",
       "    <tr>\n",
       "      <th>4</th>\n",
       "      <td>Partially Remote</td>\n",
       "      <td>150000</td>\n",
       "    </tr>\n",
       "    <tr>\n",
       "      <th>...</th>\n",
       "      <td>...</td>\n",
       "      <td>...</td>\n",
       "    </tr>\n",
       "    <tr>\n",
       "      <th>602</th>\n",
       "      <td>Fully Remote</td>\n",
       "      <td>154000</td>\n",
       "    </tr>\n",
       "    <tr>\n",
       "      <th>603</th>\n",
       "      <td>Fully Remote</td>\n",
       "      <td>126000</td>\n",
       "    </tr>\n",
       "    <tr>\n",
       "      <th>604</th>\n",
       "      <td>Non Remote Work</td>\n",
       "      <td>129000</td>\n",
       "    </tr>\n",
       "    <tr>\n",
       "      <th>605</th>\n",
       "      <td>Fully Remote</td>\n",
       "      <td>150000</td>\n",
       "    </tr>\n",
       "    <tr>\n",
       "      <th>606</th>\n",
       "      <td>Fully Remote</td>\n",
       "      <td>200000</td>\n",
       "    </tr>\n",
       "  </tbody>\n",
       "</table>\n",
       "<p>607 rows × 2 columns</p>\n",
       "</div>"
      ],
      "text/plain": [
       "          Remote type  Salary\n",
       "0     Non Remote Work   79833\n",
       "1     Non Remote Work  260000\n",
       "2    Partially Remote  109024\n",
       "3     Non Remote Work   20000\n",
       "4    Partially Remote  150000\n",
       "..                ...     ...\n",
       "602      Fully Remote  154000\n",
       "603      Fully Remote  126000\n",
       "604   Non Remote Work  129000\n",
       "605      Fully Remote  150000\n",
       "606      Fully Remote  200000\n",
       "\n",
       "[607 rows x 2 columns]"
      ]
     },
     "execution_count": 38,
     "metadata": {},
     "output_type": "execute_result"
    }
   ],
   "source": [
    "salary_remote = query(\"\"\"SELECT remote_ratio AS 'Remote type', \n",
    "                         salary_in_usd       AS Salary \n",
    "                         FROM     salaries\"\"\")\n",
    "salary_remote"
   ]
  },
  {
   "cell_type": "code",
   "execution_count": 39,
   "id": "de6bdc61",
   "metadata": {
    "execution": {
     "iopub.execute_input": "2022-10-23T19:10:06.288134Z",
     "iopub.status.busy": "2022-10-23T19:10:06.287427Z",
     "iopub.status.idle": "2022-10-23T19:10:06.364958Z",
     "shell.execute_reply": "2022-10-23T19:10:06.363856Z"
    },
    "papermill": {
     "duration": 0.154733,
     "end_time": "2022-10-23T19:10:06.368438",
     "exception": false,
     "start_time": "2022-10-23T19:10:06.213705",
     "status": "completed"
    },
    "tags": []
   },
   "outputs": [
    {
     "data": {
      "application/vnd.plotly.v1+json": {
       "config": {
        "plotlyServerURL": "https://plot.ly"
       },
       "data": [
        {
         "alignmentgroup": "True",
         "hovertemplate": "Remote type=%{x}<br>Salary=%{y}<extra></extra>",
         "legendgroup": "Non Remote Work",
         "marker": {
          "color": "#636efa"
         },
         "name": "Non Remote Work",
         "notched": false,
         "offsetgroup": "Non Remote Work",
         "orientation": "v",
         "showlegend": true,
         "type": "box",
         "x": [
          "Non Remote Work",
          "Non Remote Work",
          "Non Remote Work",
          "Non Remote Work",
          "Non Remote Work",
          "Non Remote Work",
          "Non Remote Work",
          "Non Remote Work",
          "Non Remote Work",
          "Non Remote Work",
          "Non Remote Work",
          "Non Remote Work",
          "Non Remote Work",
          "Non Remote Work",
          "Non Remote Work",
          "Non Remote Work",
          "Non Remote Work",
          "Non Remote Work",
          "Non Remote Work",
          "Non Remote Work",
          "Non Remote Work",
          "Non Remote Work",
          "Non Remote Work",
          "Non Remote Work",
          "Non Remote Work",
          "Non Remote Work",
          "Non Remote Work",
          "Non Remote Work",
          "Non Remote Work",
          "Non Remote Work",
          "Non Remote Work",
          "Non Remote Work",
          "Non Remote Work",
          "Non Remote Work",
          "Non Remote Work",
          "Non Remote Work",
          "Non Remote Work",
          "Non Remote Work",
          "Non Remote Work",
          "Non Remote Work",
          "Non Remote Work",
          "Non Remote Work",
          "Non Remote Work",
          "Non Remote Work",
          "Non Remote Work",
          "Non Remote Work",
          "Non Remote Work",
          "Non Remote Work",
          "Non Remote Work",
          "Non Remote Work",
          "Non Remote Work",
          "Non Remote Work",
          "Non Remote Work",
          "Non Remote Work",
          "Non Remote Work",
          "Non Remote Work",
          "Non Remote Work",
          "Non Remote Work",
          "Non Remote Work",
          "Non Remote Work",
          "Non Remote Work",
          "Non Remote Work",
          "Non Remote Work",
          "Non Remote Work",
          "Non Remote Work",
          "Non Remote Work",
          "Non Remote Work",
          "Non Remote Work",
          "Non Remote Work",
          "Non Remote Work",
          "Non Remote Work",
          "Non Remote Work",
          "Non Remote Work",
          "Non Remote Work",
          "Non Remote Work",
          "Non Remote Work",
          "Non Remote Work",
          "Non Remote Work",
          "Non Remote Work",
          "Non Remote Work",
          "Non Remote Work",
          "Non Remote Work",
          "Non Remote Work",
          "Non Remote Work",
          "Non Remote Work",
          "Non Remote Work",
          "Non Remote Work",
          "Non Remote Work",
          "Non Remote Work",
          "Non Remote Work",
          "Non Remote Work",
          "Non Remote Work",
          "Non Remote Work",
          "Non Remote Work",
          "Non Remote Work",
          "Non Remote Work",
          "Non Remote Work",
          "Non Remote Work",
          "Non Remote Work",
          "Non Remote Work",
          "Non Remote Work",
          "Non Remote Work",
          "Non Remote Work",
          "Non Remote Work",
          "Non Remote Work",
          "Non Remote Work",
          "Non Remote Work",
          "Non Remote Work",
          "Non Remote Work",
          "Non Remote Work",
          "Non Remote Work",
          "Non Remote Work",
          "Non Remote Work",
          "Non Remote Work",
          "Non Remote Work",
          "Non Remote Work",
          "Non Remote Work",
          "Non Remote Work",
          "Non Remote Work",
          "Non Remote Work",
          "Non Remote Work",
          "Non Remote Work",
          "Non Remote Work",
          "Non Remote Work",
          "Non Remote Work",
          "Non Remote Work",
          "Non Remote Work"
         ],
         "x0": " ",
         "xaxis": "x",
         "y": [
          79833,
          260000,
          20000,
          51321,
          40481,
          39916,
          43331,
          98000,
          115000,
          33511,
          450000,
          50180,
          6072,
          49268,
          91237,
          276000,
          75000,
          62000,
          73000,
          110037,
          9466,
          100000,
          220000,
          240000,
          150000,
          168000,
          85000,
          250000,
          2859,
          22611,
          26005,
          18000,
          12901,
          165000,
          20000,
          120000,
          5882,
          33808,
          135000,
          110000,
          4000,
          12103,
          141846,
          66265,
          93150,
          111775,
          18907,
          76833,
          100000,
          130000,
          90000,
          117789,
          104702,
          99000,
          116000,
          106260,
          126500,
          65438,
          39263,
          78526,
          52351,
          181940,
          132320,
          220110,
          160080,
          180000,
          120000,
          108800,
          95550,
          113000,
          78526,
          65438,
          150000,
          160000,
          136000,
          58000,
          189650,
          164996,
          54957,
          54957,
          132000,
          164000,
          124333,
          98158,
          120000,
          117789,
          115934,
          81666,
          98158,
          58000,
          71982,
          45807,
          63900,
          180000,
          80000,
          82900,
          140400,
          189650,
          164996,
          215300,
          125000,
          87932,
          183228,
          91614,
          64849,
          20000,
          122346,
          85000,
          75000,
          141300,
          102100,
          206699,
          99100,
          205300,
          140400,
          70500,
          205300,
          140400,
          205300,
          184700,
          54000,
          65438,
          45807,
          99000,
          67000,
          52000,
          129000
         ],
         "y0": " ",
         "yaxis": "y"
        },
        {
         "alignmentgroup": "True",
         "hovertemplate": "Remote type=%{x}<br>Salary=%{y}<extra></extra>",
         "legendgroup": "Partially Remote",
         "marker": {
          "color": "#EF553B"
         },
         "name": "Partially Remote",
         "notched": false,
         "offsetgroup": "Partially Remote",
         "orientation": "v",
         "showlegend": true,
         "type": "box",
         "x": [
          "Partially Remote",
          "Partially Remote",
          "Partially Remote",
          "Partially Remote",
          "Partially Remote",
          "Partially Remote",
          "Partially Remote",
          "Partially Remote",
          "Partially Remote",
          "Partially Remote",
          "Partially Remote",
          "Partially Remote",
          "Partially Remote",
          "Partially Remote",
          "Partially Remote",
          "Partially Remote",
          "Partially Remote",
          "Partially Remote",
          "Partially Remote",
          "Partially Remote",
          "Partially Remote",
          "Partially Remote",
          "Partially Remote",
          "Partially Remote",
          "Partially Remote",
          "Partially Remote",
          "Partially Remote",
          "Partially Remote",
          "Partially Remote",
          "Partially Remote",
          "Partially Remote",
          "Partially Remote",
          "Partially Remote",
          "Partially Remote",
          "Partially Remote",
          "Partially Remote",
          "Partially Remote",
          "Partially Remote",
          "Partially Remote",
          "Partially Remote",
          "Partially Remote",
          "Partially Remote",
          "Partially Remote",
          "Partially Remote",
          "Partially Remote",
          "Partially Remote",
          "Partially Remote",
          "Partially Remote",
          "Partially Remote",
          "Partially Remote",
          "Partially Remote",
          "Partially Remote",
          "Partially Remote",
          "Partially Remote",
          "Partially Remote",
          "Partially Remote",
          "Partially Remote",
          "Partially Remote",
          "Partially Remote",
          "Partially Remote",
          "Partially Remote",
          "Partially Remote",
          "Partially Remote",
          "Partially Remote",
          "Partially Remote",
          "Partially Remote",
          "Partially Remote",
          "Partially Remote",
          "Partially Remote",
          "Partially Remote",
          "Partially Remote",
          "Partially Remote",
          "Partially Remote",
          "Partially Remote",
          "Partially Remote",
          "Partially Remote",
          "Partially Remote",
          "Partially Remote",
          "Partially Remote",
          "Partially Remote",
          "Partially Remote",
          "Partially Remote",
          "Partially Remote",
          "Partially Remote",
          "Partially Remote",
          "Partially Remote",
          "Partially Remote",
          "Partially Remote",
          "Partially Remote",
          "Partially Remote",
          "Partially Remote",
          "Partially Remote",
          "Partially Remote",
          "Partially Remote",
          "Partially Remote",
          "Partially Remote",
          "Partially Remote",
          "Partially Remote",
          "Partially Remote"
         ],
         "x0": " ",
         "xaxis": "x",
         "y": [
          109024,
          150000,
          35735,
          125000,
          8000,
          5707,
          47899,
          42000,
          117104,
          46759,
          74130,
          250000,
          79833,
          112872,
          70139,
          45896,
          120000,
          21669,
          62726,
          62726,
          42197,
          82528,
          53192,
          5409,
          54238,
          59102,
          29751,
          89294,
          36259,
          51519,
          94564,
          60000,
          10354,
          120000,
          40570,
          100000,
          49646,
          63711,
          77364,
          82744,
          62649,
          127221,
          423000,
          230000,
          28369,
          63831,
          130026,
          55000,
          60757,
          81000,
          90734,
          61896,
          12000,
          76833,
          74000,
          21844,
          96113,
          147000,
          54094,
          61467,
          24823,
          56738,
          66022,
          24823,
          28609,
          90734,
          116914,
          56256,
          88654,
          21637,
          72212,
          36643,
          96282,
          115000,
          99703,
          185000,
          130000,
          63831,
          160000,
          65013,
          77684,
          58000,
          20171,
          69999,
          94665,
          109000,
          51064,
          79039,
          196979,
          37236,
          58255,
          100000,
          54957,
          144000,
          100000,
          153000,
          93427,
          86703,
          70912
         ],
         "y0": " ",
         "yaxis": "y"
        },
        {
         "alignmentgroup": "True",
         "hovertemplate": "Remote type=%{x}<br>Salary=%{y}<extra></extra>",
         "legendgroup": "Fully Remote",
         "marker": {
          "color": "#00cc96"
         },
         "name": "Fully Remote",
         "notched": false,
         "offsetgroup": "Fully Remote",
         "orientation": "v",
         "showlegend": true,
         "type": "box",
         "x": [
          "Fully Remote",
          "Fully Remote",
          "Fully Remote",
          "Fully Remote",
          "Fully Remote",
          "Fully Remote",
          "Fully Remote",
          "Fully Remote",
          "Fully Remote",
          "Fully Remote",
          "Fully Remote",
          "Fully Remote",
          "Fully Remote",
          "Fully Remote",
          "Fully Remote",
          "Fully Remote",
          "Fully Remote",
          "Fully Remote",
          "Fully Remote",
          "Fully Remote",
          "Fully Remote",
          "Fully Remote",
          "Fully Remote",
          "Fully Remote",
          "Fully Remote",
          "Fully Remote",
          "Fully Remote",
          "Fully Remote",
          "Fully Remote",
          "Fully Remote",
          "Fully Remote",
          "Fully Remote",
          "Fully Remote",
          "Fully Remote",
          "Fully Remote",
          "Fully Remote",
          "Fully Remote",
          "Fully Remote",
          "Fully Remote",
          "Fully Remote",
          "Fully Remote",
          "Fully Remote",
          "Fully Remote",
          "Fully Remote",
          "Fully Remote",
          "Fully Remote",
          "Fully Remote",
          "Fully Remote",
          "Fully Remote",
          "Fully Remote",
          "Fully Remote",
          "Fully Remote",
          "Fully Remote",
          "Fully Remote",
          "Fully Remote",
          "Fully Remote",
          "Fully Remote",
          "Fully Remote",
          "Fully Remote",
          "Fully Remote",
          "Fully Remote",
          "Fully Remote",
          "Fully Remote",
          "Fully Remote",
          "Fully Remote",
          "Fully Remote",
          "Fully Remote",
          "Fully Remote",
          "Fully Remote",
          "Fully Remote",
          "Fully Remote",
          "Fully Remote",
          "Fully Remote",
          "Fully Remote",
          "Fully Remote",
          "Fully Remote",
          "Fully Remote",
          "Fully Remote",
          "Fully Remote",
          "Fully Remote",
          "Fully Remote",
          "Fully Remote",
          "Fully Remote",
          "Fully Remote",
          "Fully Remote",
          "Fully Remote",
          "Fully Remote",
          "Fully Remote",
          "Fully Remote",
          "Fully Remote",
          "Fully Remote",
          "Fully Remote",
          "Fully Remote",
          "Fully Remote",
          "Fully Remote",
          "Fully Remote",
          "Fully Remote",
          "Fully Remote",
          "Fully Remote",
          "Fully Remote",
          "Fully Remote",
          "Fully Remote",
          "Fully Remote",
          "Fully Remote",
          "Fully Remote",
          "Fully Remote",
          "Fully Remote",
          "Fully Remote",
          "Fully Remote",
          "Fully Remote",
          "Fully Remote",
          "Fully Remote",
          "Fully Remote",
          "Fully Remote",
          "Fully Remote",
          "Fully Remote",
          "Fully Remote",
          "Fully Remote",
          "Fully Remote",
          "Fully Remote",
          "Fully Remote",
          "Fully Remote",
          "Fully Remote",
          "Fully Remote",
          "Fully Remote",
          "Fully Remote",
          "Fully Remote",
          "Fully Remote",
          "Fully Remote",
          "Fully Remote",
          "Fully Remote",
          "Fully Remote",
          "Fully Remote",
          "Fully Remote",
          "Fully Remote",
          "Fully Remote",
          "Fully Remote",
          "Fully Remote",
          "Fully Remote",
          "Fully Remote",
          "Fully Remote",
          "Fully Remote",
          "Fully Remote",
          "Fully Remote",
          "Fully Remote",
          "Fully Remote",
          "Fully Remote",
          "Fully Remote",
          "Fully Remote",
          "Fully Remote",
          "Fully Remote",
          "Fully Remote",
          "Fully Remote",
          "Fully Remote",
          "Fully Remote",
          "Fully Remote",
          "Fully Remote",
          "Fully Remote",
          "Fully Remote",
          "Fully Remote",
          "Fully Remote",
          "Fully Remote",
          "Fully Remote",
          "Fully Remote",
          "Fully Remote",
          "Fully Remote",
          "Fully Remote",
          "Fully Remote",
          "Fully Remote",
          "Fully Remote",
          "Fully Remote",
          "Fully Remote",
          "Fully Remote",
          "Fully Remote",
          "Fully Remote",
          "Fully Remote",
          "Fully Remote",
          "Fully Remote",
          "Fully Remote",
          "Fully Remote",
          "Fully Remote",
          "Fully Remote",
          "Fully Remote",
          "Fully Remote",
          "Fully Remote",
          "Fully Remote",
          "Fully Remote",
          "Fully Remote",
          "Fully Remote",
          "Fully Remote",
          "Fully Remote",
          "Fully Remote",
          "Fully Remote",
          "Fully Remote",
          "Fully Remote",
          "Fully Remote",
          "Fully Remote",
          "Fully Remote",
          "Fully Remote",
          "Fully Remote",
          "Fully Remote",
          "Fully Remote",
          "Fully Remote",
          "Fully Remote",
          "Fully Remote",
          "Fully Remote",
          "Fully Remote",
          "Fully Remote",
          "Fully Remote",
          "Fully Remote",
          "Fully Remote",
          "Fully Remote",
          "Fully Remote",
          "Fully Remote",
          "Fully Remote",
          "Fully Remote",
          "Fully Remote",
          "Fully Remote",
          "Fully Remote",
          "Fully Remote",
          "Fully Remote",
          "Fully Remote",
          "Fully Remote",
          "Fully Remote",
          "Fully Remote",
          "Fully Remote",
          "Fully Remote",
          "Fully Remote",
          "Fully Remote",
          "Fully Remote",
          "Fully Remote",
          "Fully Remote",
          "Fully Remote",
          "Fully Remote",
          "Fully Remote",
          "Fully Remote",
          "Fully Remote",
          "Fully Remote",
          "Fully Remote",
          "Fully Remote",
          "Fully Remote",
          "Fully Remote",
          "Fully Remote",
          "Fully Remote",
          "Fully Remote",
          "Fully Remote",
          "Fully Remote",
          "Fully Remote",
          "Fully Remote",
          "Fully Remote",
          "Fully Remote",
          "Fully Remote",
          "Fully Remote",
          "Fully Remote",
          "Fully Remote",
          "Fully Remote",
          "Fully Remote",
          "Fully Remote",
          "Fully Remote",
          "Fully Remote",
          "Fully Remote",
          "Fully Remote",
          "Fully Remote",
          "Fully Remote",
          "Fully Remote",
          "Fully Remote",
          "Fully Remote",
          "Fully Remote",
          "Fully Remote",
          "Fully Remote",
          "Fully Remote",
          "Fully Remote",
          "Fully Remote",
          "Fully Remote",
          "Fully Remote",
          "Fully Remote",
          "Fully Remote",
          "Fully Remote",
          "Fully Remote",
          "Fully Remote",
          "Fully Remote",
          "Fully Remote",
          "Fully Remote",
          "Fully Remote",
          "Fully Remote",
          "Fully Remote",
          "Fully Remote",
          "Fully Remote",
          "Fully Remote",
          "Fully Remote",
          "Fully Remote",
          "Fully Remote",
          "Fully Remote",
          "Fully Remote",
          "Fully Remote",
          "Fully Remote",
          "Fully Remote",
          "Fully Remote",
          "Fully Remote",
          "Fully Remote",
          "Fully Remote",
          "Fully Remote",
          "Fully Remote",
          "Fully Remote",
          "Fully Remote",
          "Fully Remote",
          "Fully Remote",
          "Fully Remote",
          "Fully Remote",
          "Fully Remote",
          "Fully Remote",
          "Fully Remote",
          "Fully Remote",
          "Fully Remote",
          "Fully Remote",
          "Fully Remote",
          "Fully Remote",
          "Fully Remote",
          "Fully Remote",
          "Fully Remote",
          "Fully Remote",
          "Fully Remote",
          "Fully Remote",
          "Fully Remote",
          "Fully Remote",
          "Fully Remote",
          "Fully Remote",
          "Fully Remote",
          "Fully Remote",
          "Fully Remote",
          "Fully Remote",
          "Fully Remote",
          "Fully Remote",
          "Fully Remote",
          "Fully Remote",
          "Fully Remote",
          "Fully Remote",
          "Fully Remote",
          "Fully Remote",
          "Fully Remote",
          "Fully Remote",
          "Fully Remote",
          "Fully Remote",
          "Fully Remote",
          "Fully Remote",
          "Fully Remote",
          "Fully Remote",
          "Fully Remote",
          "Fully Remote",
          "Fully Remote",
          "Fully Remote",
          "Fully Remote",
          "Fully Remote",
          "Fully Remote",
          "Fully Remote",
          "Fully Remote",
          "Fully Remote",
          "Fully Remote",
          "Fully Remote",
          "Fully Remote",
          "Fully Remote",
          "Fully Remote",
          "Fully Remote",
          "Fully Remote",
          "Fully Remote",
          "Fully Remote",
          "Fully Remote",
          "Fully Remote",
          "Fully Remote",
          "Fully Remote",
          "Fully Remote",
          "Fully Remote",
          "Fully Remote",
          "Fully Remote",
          "Fully Remote",
          "Fully Remote",
          "Fully Remote",
          "Fully Remote",
          "Fully Remote",
          "Fully Remote",
          "Fully Remote"
         ],
         "x0": " ",
         "xaxis": "x",
         "y": [
          72000,
          190000,
          135000,
          87000,
          85000,
          41689,
          114047,
          56000,
          6072,
          325000,
          100000,
          59303,
          70000,
          68428,
          103000,
          10000,
          138000,
          45760,
          106000,
          15966,
          76958,
          188000,
          105000,
          91000,
          54742,
          60000,
          148261,
          38776,
          118000,
          138350,
          110000,
          130800,
          412000,
          45618,
          190200,
          105000,
          150000,
          235000,
          100000,
          270000,
          80000,
          79197,
          140000,
          47282,
          153667,
          28476,
          110000,
          170000,
          80000,
          88654,
          76833,
          19609,
          12000,
          450000,
          70000,
          95746,
          150000,
          187442,
          115000,
          150000,
          30428,
          113476,
          103160,
          12000,
          45391,
          225000,
          50000,
          40189,
          90000,
          200000,
          200000,
          50000,
          151000,
          20000,
          38400,
          24000,
          90000,
          80000,
          135000,
          82500,
          100000,
          90000,
          153000,
          160000,
          150000,
          75774,
          13400,
          144000,
          119059,
          120000,
          125000,
          165000,
          80000,
          150000,
          170000,
          82528,
          60000,
          235000,
          174000,
          40038,
          5679,
          4000,
          50000,
          69741,
          152000,
          174000,
          9272,
          24342,
          90000,
          195000,
          37825,
          50000,
          160000,
          200000,
          185000,
          88654,
          140000,
          46597,
          225000,
          416000,
          87738,
          71786,
          16228,
          256000,
          200000,
          200000,
          180000,
          63810,
          46809,
          103691,
          80000,
          110000,
          165000,
          18053,
          170000,
          90000,
          600000,
          28399,
          93000,
          200000,
          173762,
          16904,
          25532,
          28016,
          72500,
          85000,
          100000,
          55000,
          59102,
          112000,
          69741,
          105000,
          102839,
          135000,
          155000,
          120600,
          170000,
          150000,
          102100,
          84900,
          136620,
          99360,
          146000,
          123000,
          52351,
          242000,
          200000,
          165220,
          45807,
          120160,
          90320,
          124190,
          130000,
          110000,
          170000,
          115500,
          112900,
          90320,
          112900,
          90320,
          165400,
          132320,
          167000,
          243900,
          136600,
          109280,
          128875,
          93700,
          224000,
          167875,
          175000,
          156600,
          135000,
          161342,
          137141,
          167000,
          123000,
          211500,
          192400,
          90700,
          130000,
          61300,
          130000,
          61300,
          138600,
          135000,
          170000,
          123000,
          118187,
          165400,
          208775,
          147800,
          136994,
          101570,
          128875,
          93700,
          132320,
          37300,
          155000,
          112900,
          90320,
          145000,
          105400,
          87932,
          215300,
          158200,
          209100,
          154600,
          175000,
          183600,
          52351,
          180000,
          65949,
          49461,
          78526,
          58894,
          260000,
          60000,
          160000,
          112300,
          241000,
          159000,
          100800,
          49461,
          39263,
          43966,
          32974,
          87932,
          76940,
          104702,
          91614,
          65949,
          87932,
          43966,
          32974,
          98158,
          78526,
          76940,
          209100,
          154600,
          180000,
          21983,
          80000,
          78791,
          120000,
          105000,
          18442,
          31615,
          18442,
          162674,
          120000,
          104890,
          100000,
          140000,
          135000,
          50000,
          220000,
          140000,
          185100,
          220000,
          200000,
          120000,
          120000,
          65000,
          324000,
          216000,
          210000,
          120000,
          230000,
          100000,
          31875,
          200000,
          75000,
          35590,
          78791,
          100000,
          58035,
          165000,
          52396,
          62651,
          32974,
          40000,
          87425,
          115000,
          75000,
          120000,
          157000,
          150000,
          65000,
          71444,
          48000,
          152500,
          68147,
          380000,
          69336,
          10000,
          20000,
          405000,
          135000,
          177000,
          78000,
          135000,
          100000,
          90320,
          214000,
          192600,
          266400,
          213120,
          112900,
          155000,
          115934,
          81666,
          130000,
          115000,
          110500,
          130000,
          99050,
          160000,
          176000,
          144000,
          200100,
          160000,
          145000,
          175100,
          140250,
          116150,
          170000,
          80000,
          140000,
          210000,
          140000,
          100000,
          69000,
          210000,
          140000,
          210000,
          150075,
          100000,
          25000,
          126500,
          106260,
          220110,
          160080,
          105000,
          110925,
          140000,
          60000,
          192564,
          144854,
          230000,
          150000,
          150260,
          109280,
          210000,
          170000,
          160000,
          130000,
          154000,
          126000,
          150000,
          200000
         ],
         "y0": " ",
         "yaxis": "y"
        }
       ],
       "layout": {
        "boxmode": "overlay",
        "height": 600,
        "legend": {
         "title": {
          "text": "Remote type"
         },
         "tracegroupgap": 0
        },
        "margin": {
         "t": 60
        },
        "paper_bgcolor": "#f1e7d2",
        "plot_bgcolor": "#f1e7d2",
        "showlegend": false,
        "template": {
         "data": {
          "bar": [
           {
            "error_x": {
             "color": "#2a3f5f"
            },
            "error_y": {
             "color": "#2a3f5f"
            },
            "marker": {
             "line": {
              "color": "#E5ECF6",
              "width": 0.5
             },
             "pattern": {
              "fillmode": "overlay",
              "size": 10,
              "solidity": 0.2
             }
            },
            "type": "bar"
           }
          ],
          "barpolar": [
           {
            "marker": {
             "line": {
              "color": "#E5ECF6",
              "width": 0.5
             },
             "pattern": {
              "fillmode": "overlay",
              "size": 10,
              "solidity": 0.2
             }
            },
            "type": "barpolar"
           }
          ],
          "carpet": [
           {
            "aaxis": {
             "endlinecolor": "#2a3f5f",
             "gridcolor": "white",
             "linecolor": "white",
             "minorgridcolor": "white",
             "startlinecolor": "#2a3f5f"
            },
            "baxis": {
             "endlinecolor": "#2a3f5f",
             "gridcolor": "white",
             "linecolor": "white",
             "minorgridcolor": "white",
             "startlinecolor": "#2a3f5f"
            },
            "type": "carpet"
           }
          ],
          "choropleth": [
           {
            "colorbar": {
             "outlinewidth": 0,
             "ticks": ""
            },
            "type": "choropleth"
           }
          ],
          "contour": [
           {
            "colorbar": {
             "outlinewidth": 0,
             "ticks": ""
            },
            "colorscale": [
             [
              0.0,
              "#0d0887"
             ],
             [
              0.1111111111111111,
              "#46039f"
             ],
             [
              0.2222222222222222,
              "#7201a8"
             ],
             [
              0.3333333333333333,
              "#9c179e"
             ],
             [
              0.4444444444444444,
              "#bd3786"
             ],
             [
              0.5555555555555556,
              "#d8576b"
             ],
             [
              0.6666666666666666,
              "#ed7953"
             ],
             [
              0.7777777777777778,
              "#fb9f3a"
             ],
             [
              0.8888888888888888,
              "#fdca26"
             ],
             [
              1.0,
              "#f0f921"
             ]
            ],
            "type": "contour"
           }
          ],
          "contourcarpet": [
           {
            "colorbar": {
             "outlinewidth": 0,
             "ticks": ""
            },
            "type": "contourcarpet"
           }
          ],
          "heatmap": [
           {
            "colorbar": {
             "outlinewidth": 0,
             "ticks": ""
            },
            "colorscale": [
             [
              0.0,
              "#0d0887"
             ],
             [
              0.1111111111111111,
              "#46039f"
             ],
             [
              0.2222222222222222,
              "#7201a8"
             ],
             [
              0.3333333333333333,
              "#9c179e"
             ],
             [
              0.4444444444444444,
              "#bd3786"
             ],
             [
              0.5555555555555556,
              "#d8576b"
             ],
             [
              0.6666666666666666,
              "#ed7953"
             ],
             [
              0.7777777777777778,
              "#fb9f3a"
             ],
             [
              0.8888888888888888,
              "#fdca26"
             ],
             [
              1.0,
              "#f0f921"
             ]
            ],
            "type": "heatmap"
           }
          ],
          "heatmapgl": [
           {
            "colorbar": {
             "outlinewidth": 0,
             "ticks": ""
            },
            "colorscale": [
             [
              0.0,
              "#0d0887"
             ],
             [
              0.1111111111111111,
              "#46039f"
             ],
             [
              0.2222222222222222,
              "#7201a8"
             ],
             [
              0.3333333333333333,
              "#9c179e"
             ],
             [
              0.4444444444444444,
              "#bd3786"
             ],
             [
              0.5555555555555556,
              "#d8576b"
             ],
             [
              0.6666666666666666,
              "#ed7953"
             ],
             [
              0.7777777777777778,
              "#fb9f3a"
             ],
             [
              0.8888888888888888,
              "#fdca26"
             ],
             [
              1.0,
              "#f0f921"
             ]
            ],
            "type": "heatmapgl"
           }
          ],
          "histogram": [
           {
            "marker": {
             "pattern": {
              "fillmode": "overlay",
              "size": 10,
              "solidity": 0.2
             }
            },
            "type": "histogram"
           }
          ],
          "histogram2d": [
           {
            "colorbar": {
             "outlinewidth": 0,
             "ticks": ""
            },
            "colorscale": [
             [
              0.0,
              "#0d0887"
             ],
             [
              0.1111111111111111,
              "#46039f"
             ],
             [
              0.2222222222222222,
              "#7201a8"
             ],
             [
              0.3333333333333333,
              "#9c179e"
             ],
             [
              0.4444444444444444,
              "#bd3786"
             ],
             [
              0.5555555555555556,
              "#d8576b"
             ],
             [
              0.6666666666666666,
              "#ed7953"
             ],
             [
              0.7777777777777778,
              "#fb9f3a"
             ],
             [
              0.8888888888888888,
              "#fdca26"
             ],
             [
              1.0,
              "#f0f921"
             ]
            ],
            "type": "histogram2d"
           }
          ],
          "histogram2dcontour": [
           {
            "colorbar": {
             "outlinewidth": 0,
             "ticks": ""
            },
            "colorscale": [
             [
              0.0,
              "#0d0887"
             ],
             [
              0.1111111111111111,
              "#46039f"
             ],
             [
              0.2222222222222222,
              "#7201a8"
             ],
             [
              0.3333333333333333,
              "#9c179e"
             ],
             [
              0.4444444444444444,
              "#bd3786"
             ],
             [
              0.5555555555555556,
              "#d8576b"
             ],
             [
              0.6666666666666666,
              "#ed7953"
             ],
             [
              0.7777777777777778,
              "#fb9f3a"
             ],
             [
              0.8888888888888888,
              "#fdca26"
             ],
             [
              1.0,
              "#f0f921"
             ]
            ],
            "type": "histogram2dcontour"
           }
          ],
          "mesh3d": [
           {
            "colorbar": {
             "outlinewidth": 0,
             "ticks": ""
            },
            "type": "mesh3d"
           }
          ],
          "parcoords": [
           {
            "line": {
             "colorbar": {
              "outlinewidth": 0,
              "ticks": ""
             }
            },
            "type": "parcoords"
           }
          ],
          "pie": [
           {
            "automargin": true,
            "type": "pie"
           }
          ],
          "scatter": [
           {
            "fillpattern": {
             "fillmode": "overlay",
             "size": 10,
             "solidity": 0.2
            },
            "type": "scatter"
           }
          ],
          "scatter3d": [
           {
            "line": {
             "colorbar": {
              "outlinewidth": 0,
              "ticks": ""
             }
            },
            "marker": {
             "colorbar": {
              "outlinewidth": 0,
              "ticks": ""
             }
            },
            "type": "scatter3d"
           }
          ],
          "scattercarpet": [
           {
            "marker": {
             "colorbar": {
              "outlinewidth": 0,
              "ticks": ""
             }
            },
            "type": "scattercarpet"
           }
          ],
          "scattergeo": [
           {
            "marker": {
             "colorbar": {
              "outlinewidth": 0,
              "ticks": ""
             }
            },
            "type": "scattergeo"
           }
          ],
          "scattergl": [
           {
            "marker": {
             "colorbar": {
              "outlinewidth": 0,
              "ticks": ""
             }
            },
            "type": "scattergl"
           }
          ],
          "scattermapbox": [
           {
            "marker": {
             "colorbar": {
              "outlinewidth": 0,
              "ticks": ""
             }
            },
            "type": "scattermapbox"
           }
          ],
          "scatterpolar": [
           {
            "marker": {
             "colorbar": {
              "outlinewidth": 0,
              "ticks": ""
             }
            },
            "type": "scatterpolar"
           }
          ],
          "scatterpolargl": [
           {
            "marker": {
             "colorbar": {
              "outlinewidth": 0,
              "ticks": ""
             }
            },
            "type": "scatterpolargl"
           }
          ],
          "scatterternary": [
           {
            "marker": {
             "colorbar": {
              "outlinewidth": 0,
              "ticks": ""
             }
            },
            "type": "scatterternary"
           }
          ],
          "surface": [
           {
            "colorbar": {
             "outlinewidth": 0,
             "ticks": ""
            },
            "colorscale": [
             [
              0.0,
              "#0d0887"
             ],
             [
              0.1111111111111111,
              "#46039f"
             ],
             [
              0.2222222222222222,
              "#7201a8"
             ],
             [
              0.3333333333333333,
              "#9c179e"
             ],
             [
              0.4444444444444444,
              "#bd3786"
             ],
             [
              0.5555555555555556,
              "#d8576b"
             ],
             [
              0.6666666666666666,
              "#ed7953"
             ],
             [
              0.7777777777777778,
              "#fb9f3a"
             ],
             [
              0.8888888888888888,
              "#fdca26"
             ],
             [
              1.0,
              "#f0f921"
             ]
            ],
            "type": "surface"
           }
          ],
          "table": [
           {
            "cells": {
             "fill": {
              "color": "#EBF0F8"
             },
             "line": {
              "color": "white"
             }
            },
            "header": {
             "fill": {
              "color": "#C8D4E3"
             },
             "line": {
              "color": "white"
             }
            },
            "type": "table"
           }
          ]
         },
         "layout": {
          "annotationdefaults": {
           "arrowcolor": "#2a3f5f",
           "arrowhead": 0,
           "arrowwidth": 1
          },
          "autotypenumbers": "strict",
          "coloraxis": {
           "colorbar": {
            "outlinewidth": 0,
            "ticks": ""
           }
          },
          "colorscale": {
           "diverging": [
            [
             0,
             "#8e0152"
            ],
            [
             0.1,
             "#c51b7d"
            ],
            [
             0.2,
             "#de77ae"
            ],
            [
             0.3,
             "#f1b6da"
            ],
            [
             0.4,
             "#fde0ef"
            ],
            [
             0.5,
             "#f7f7f7"
            ],
            [
             0.6,
             "#e6f5d0"
            ],
            [
             0.7,
             "#b8e186"
            ],
            [
             0.8,
             "#7fbc41"
            ],
            [
             0.9,
             "#4d9221"
            ],
            [
             1,
             "#276419"
            ]
           ],
           "sequential": [
            [
             0.0,
             "#0d0887"
            ],
            [
             0.1111111111111111,
             "#46039f"
            ],
            [
             0.2222222222222222,
             "#7201a8"
            ],
            [
             0.3333333333333333,
             "#9c179e"
            ],
            [
             0.4444444444444444,
             "#bd3786"
            ],
            [
             0.5555555555555556,
             "#d8576b"
            ],
            [
             0.6666666666666666,
             "#ed7953"
            ],
            [
             0.7777777777777778,
             "#fb9f3a"
            ],
            [
             0.8888888888888888,
             "#fdca26"
            ],
            [
             1.0,
             "#f0f921"
            ]
           ],
           "sequentialminus": [
            [
             0.0,
             "#0d0887"
            ],
            [
             0.1111111111111111,
             "#46039f"
            ],
            [
             0.2222222222222222,
             "#7201a8"
            ],
            [
             0.3333333333333333,
             "#9c179e"
            ],
            [
             0.4444444444444444,
             "#bd3786"
            ],
            [
             0.5555555555555556,
             "#d8576b"
            ],
            [
             0.6666666666666666,
             "#ed7953"
            ],
            [
             0.7777777777777778,
             "#fb9f3a"
            ],
            [
             0.8888888888888888,
             "#fdca26"
            ],
            [
             1.0,
             "#f0f921"
            ]
           ]
          },
          "colorway": [
           "#636efa",
           "#EF553B",
           "#00cc96",
           "#ab63fa",
           "#FFA15A",
           "#19d3f3",
           "#FF6692",
           "#B6E880",
           "#FF97FF",
           "#FECB52"
          ],
          "font": {
           "color": "#2a3f5f"
          },
          "geo": {
           "bgcolor": "white",
           "lakecolor": "white",
           "landcolor": "#E5ECF6",
           "showlakes": true,
           "showland": true,
           "subunitcolor": "white"
          },
          "hoverlabel": {
           "align": "left"
          },
          "hovermode": "closest",
          "mapbox": {
           "style": "light"
          },
          "paper_bgcolor": "white",
          "plot_bgcolor": "#E5ECF6",
          "polar": {
           "angularaxis": {
            "gridcolor": "white",
            "linecolor": "white",
            "ticks": ""
           },
           "bgcolor": "#E5ECF6",
           "radialaxis": {
            "gridcolor": "white",
            "linecolor": "white",
            "ticks": ""
           }
          },
          "scene": {
           "xaxis": {
            "backgroundcolor": "#E5ECF6",
            "gridcolor": "white",
            "gridwidth": 2,
            "linecolor": "white",
            "showbackground": true,
            "ticks": "",
            "zerolinecolor": "white"
           },
           "yaxis": {
            "backgroundcolor": "#E5ECF6",
            "gridcolor": "white",
            "gridwidth": 2,
            "linecolor": "white",
            "showbackground": true,
            "ticks": "",
            "zerolinecolor": "white"
           },
           "zaxis": {
            "backgroundcolor": "#E5ECF6",
            "gridcolor": "white",
            "gridwidth": 2,
            "linecolor": "white",
            "showbackground": true,
            "ticks": "",
            "zerolinecolor": "white"
           }
          },
          "shapedefaults": {
           "line": {
            "color": "#2a3f5f"
           }
          },
          "ternary": {
           "aaxis": {
            "gridcolor": "white",
            "linecolor": "white",
            "ticks": ""
           },
           "baxis": {
            "gridcolor": "white",
            "linecolor": "white",
            "ticks": ""
           },
           "bgcolor": "#E5ECF6",
           "caxis": {
            "gridcolor": "white",
            "linecolor": "white",
            "ticks": ""
           }
          },
          "title": {
           "x": 0.05
          },
          "xaxis": {
           "automargin": true,
           "gridcolor": "white",
           "linecolor": "white",
           "ticks": "",
           "title": {
            "standoff": 15
           },
           "zerolinecolor": "white",
           "zerolinewidth": 2
          },
          "yaxis": {
           "automargin": true,
           "gridcolor": "white",
           "linecolor": "white",
           "ticks": "",
           "title": {
            "standoff": 15
           },
           "zerolinecolor": "white",
           "zerolinewidth": 2
          }
         }
        },
        "title": {
         "text": "<b><i>Salary by Remote Type</i></b>",
         "x": 0.5,
         "xanchor": "center"
        },
        "width": 900,
        "xaxis": {
         "anchor": "y",
         "categoryarray": [
          "Non Remote Work",
          "Partially Remote",
          "Fully Remote"
         ],
         "categoryorder": "array",
         "domain": [
          0.0,
          1.0
         ],
         "tickmode": "array",
         "title": {
          "text": "<b>Remote type</b>"
         }
        },
        "yaxis": {
         "anchor": "x",
         "domain": [
          0.0,
          1.0
         ],
         "title": {
          "text": "<b> salary</b>"
         }
        }
       }
      },
      "text/html": [
       "<div>                            <div id=\"dd9f70b9-d73f-4332-b680-a027f49b15a0\" class=\"plotly-graph-div\" style=\"height:600px; width:900px;\"></div>            <script type=\"text/javascript\">                require([\"plotly\"], function(Plotly) {                    window.PLOTLYENV=window.PLOTLYENV || {};                                    if (document.getElementById(\"dd9f70b9-d73f-4332-b680-a027f49b15a0\")) {                    Plotly.newPlot(                        \"dd9f70b9-d73f-4332-b680-a027f49b15a0\",                        [{\"alignmentgroup\":\"True\",\"hovertemplate\":\"Remote type=%{x}<br>Salary=%{y}<extra></extra>\",\"legendgroup\":\"Non Remote Work\",\"marker\":{\"color\":\"#636efa\"},\"name\":\"Non Remote Work\",\"notched\":false,\"offsetgroup\":\"Non Remote Work\",\"orientation\":\"v\",\"showlegend\":true,\"x\":[\"Non Remote Work\",\"Non Remote Work\",\"Non Remote Work\",\"Non Remote Work\",\"Non Remote Work\",\"Non Remote Work\",\"Non Remote Work\",\"Non Remote Work\",\"Non Remote Work\",\"Non Remote Work\",\"Non Remote Work\",\"Non Remote Work\",\"Non Remote Work\",\"Non Remote Work\",\"Non Remote Work\",\"Non Remote Work\",\"Non Remote Work\",\"Non Remote Work\",\"Non Remote Work\",\"Non Remote Work\",\"Non Remote Work\",\"Non Remote Work\",\"Non Remote Work\",\"Non Remote Work\",\"Non Remote Work\",\"Non Remote Work\",\"Non Remote Work\",\"Non Remote Work\",\"Non Remote Work\",\"Non Remote Work\",\"Non Remote Work\",\"Non Remote Work\",\"Non Remote Work\",\"Non Remote Work\",\"Non Remote Work\",\"Non Remote Work\",\"Non Remote Work\",\"Non Remote Work\",\"Non Remote Work\",\"Non Remote Work\",\"Non Remote Work\",\"Non Remote Work\",\"Non Remote Work\",\"Non Remote Work\",\"Non Remote Work\",\"Non Remote Work\",\"Non Remote Work\",\"Non Remote Work\",\"Non Remote Work\",\"Non Remote Work\",\"Non Remote Work\",\"Non Remote Work\",\"Non Remote Work\",\"Non Remote Work\",\"Non Remote Work\",\"Non Remote Work\",\"Non Remote Work\",\"Non Remote Work\",\"Non Remote Work\",\"Non Remote Work\",\"Non Remote Work\",\"Non Remote Work\",\"Non Remote Work\",\"Non Remote Work\",\"Non Remote Work\",\"Non Remote Work\",\"Non Remote Work\",\"Non Remote Work\",\"Non Remote Work\",\"Non Remote Work\",\"Non Remote Work\",\"Non Remote Work\",\"Non Remote Work\",\"Non Remote Work\",\"Non Remote Work\",\"Non Remote Work\",\"Non Remote Work\",\"Non Remote Work\",\"Non Remote Work\",\"Non Remote Work\",\"Non Remote Work\",\"Non Remote Work\",\"Non Remote Work\",\"Non Remote Work\",\"Non Remote Work\",\"Non Remote Work\",\"Non Remote Work\",\"Non Remote Work\",\"Non Remote Work\",\"Non Remote Work\",\"Non Remote Work\",\"Non Remote Work\",\"Non Remote Work\",\"Non Remote Work\",\"Non Remote Work\",\"Non Remote Work\",\"Non Remote Work\",\"Non Remote Work\",\"Non Remote Work\",\"Non Remote Work\",\"Non Remote Work\",\"Non Remote Work\",\"Non Remote Work\",\"Non Remote Work\",\"Non Remote Work\",\"Non Remote Work\",\"Non Remote Work\",\"Non Remote Work\",\"Non Remote Work\",\"Non Remote Work\",\"Non Remote Work\",\"Non Remote Work\",\"Non Remote Work\",\"Non Remote Work\",\"Non Remote Work\",\"Non Remote Work\",\"Non Remote Work\",\"Non Remote Work\",\"Non Remote Work\",\"Non Remote Work\",\"Non Remote Work\",\"Non Remote Work\",\"Non Remote Work\",\"Non Remote Work\",\"Non Remote Work\",\"Non Remote Work\",\"Non Remote Work\"],\"x0\":\" \",\"xaxis\":\"x\",\"y\":[79833,260000,20000,51321,40481,39916,43331,98000,115000,33511,450000,50180,6072,49268,91237,276000,75000,62000,73000,110037,9466,100000,220000,240000,150000,168000,85000,250000,2859,22611,26005,18000,12901,165000,20000,120000,5882,33808,135000,110000,4000,12103,141846,66265,93150,111775,18907,76833,100000,130000,90000,117789,104702,99000,116000,106260,126500,65438,39263,78526,52351,181940,132320,220110,160080,180000,120000,108800,95550,113000,78526,65438,150000,160000,136000,58000,189650,164996,54957,54957,132000,164000,124333,98158,120000,117789,115934,81666,98158,58000,71982,45807,63900,180000,80000,82900,140400,189650,164996,215300,125000,87932,183228,91614,64849,20000,122346,85000,75000,141300,102100,206699,99100,205300,140400,70500,205300,140400,205300,184700,54000,65438,45807,99000,67000,52000,129000],\"y0\":\" \",\"yaxis\":\"y\",\"type\":\"box\"},{\"alignmentgroup\":\"True\",\"hovertemplate\":\"Remote type=%{x}<br>Salary=%{y}<extra></extra>\",\"legendgroup\":\"Partially Remote\",\"marker\":{\"color\":\"#EF553B\"},\"name\":\"Partially Remote\",\"notched\":false,\"offsetgroup\":\"Partially Remote\",\"orientation\":\"v\",\"showlegend\":true,\"x\":[\"Partially Remote\",\"Partially Remote\",\"Partially Remote\",\"Partially Remote\",\"Partially Remote\",\"Partially Remote\",\"Partially Remote\",\"Partially Remote\",\"Partially Remote\",\"Partially Remote\",\"Partially Remote\",\"Partially Remote\",\"Partially Remote\",\"Partially Remote\",\"Partially Remote\",\"Partially Remote\",\"Partially Remote\",\"Partially Remote\",\"Partially Remote\",\"Partially Remote\",\"Partially Remote\",\"Partially Remote\",\"Partially Remote\",\"Partially Remote\",\"Partially Remote\",\"Partially Remote\",\"Partially Remote\",\"Partially Remote\",\"Partially Remote\",\"Partially Remote\",\"Partially Remote\",\"Partially Remote\",\"Partially Remote\",\"Partially Remote\",\"Partially Remote\",\"Partially Remote\",\"Partially Remote\",\"Partially Remote\",\"Partially Remote\",\"Partially Remote\",\"Partially Remote\",\"Partially Remote\",\"Partially Remote\",\"Partially Remote\",\"Partially Remote\",\"Partially Remote\",\"Partially Remote\",\"Partially Remote\",\"Partially Remote\",\"Partially Remote\",\"Partially Remote\",\"Partially Remote\",\"Partially Remote\",\"Partially Remote\",\"Partially Remote\",\"Partially Remote\",\"Partially Remote\",\"Partially Remote\",\"Partially Remote\",\"Partially Remote\",\"Partially Remote\",\"Partially Remote\",\"Partially Remote\",\"Partially Remote\",\"Partially Remote\",\"Partially Remote\",\"Partially Remote\",\"Partially Remote\",\"Partially Remote\",\"Partially Remote\",\"Partially Remote\",\"Partially Remote\",\"Partially Remote\",\"Partially Remote\",\"Partially Remote\",\"Partially Remote\",\"Partially Remote\",\"Partially Remote\",\"Partially Remote\",\"Partially Remote\",\"Partially Remote\",\"Partially Remote\",\"Partially Remote\",\"Partially Remote\",\"Partially Remote\",\"Partially Remote\",\"Partially Remote\",\"Partially Remote\",\"Partially Remote\",\"Partially Remote\",\"Partially Remote\",\"Partially Remote\",\"Partially Remote\",\"Partially Remote\",\"Partially Remote\",\"Partially Remote\",\"Partially Remote\",\"Partially Remote\",\"Partially Remote\"],\"x0\":\" \",\"xaxis\":\"x\",\"y\":[109024,150000,35735,125000,8000,5707,47899,42000,117104,46759,74130,250000,79833,112872,70139,45896,120000,21669,62726,62726,42197,82528,53192,5409,54238,59102,29751,89294,36259,51519,94564,60000,10354,120000,40570,100000,49646,63711,77364,82744,62649,127221,423000,230000,28369,63831,130026,55000,60757,81000,90734,61896,12000,76833,74000,21844,96113,147000,54094,61467,24823,56738,66022,24823,28609,90734,116914,56256,88654,21637,72212,36643,96282,115000,99703,185000,130000,63831,160000,65013,77684,58000,20171,69999,94665,109000,51064,79039,196979,37236,58255,100000,54957,144000,100000,153000,93427,86703,70912],\"y0\":\" \",\"yaxis\":\"y\",\"type\":\"box\"},{\"alignmentgroup\":\"True\",\"hovertemplate\":\"Remote type=%{x}<br>Salary=%{y}<extra></extra>\",\"legendgroup\":\"Fully Remote\",\"marker\":{\"color\":\"#00cc96\"},\"name\":\"Fully Remote\",\"notched\":false,\"offsetgroup\":\"Fully Remote\",\"orientation\":\"v\",\"showlegend\":true,\"x\":[\"Fully Remote\",\"Fully Remote\",\"Fully Remote\",\"Fully Remote\",\"Fully Remote\",\"Fully Remote\",\"Fully Remote\",\"Fully Remote\",\"Fully Remote\",\"Fully Remote\",\"Fully Remote\",\"Fully Remote\",\"Fully Remote\",\"Fully Remote\",\"Fully Remote\",\"Fully Remote\",\"Fully Remote\",\"Fully Remote\",\"Fully Remote\",\"Fully Remote\",\"Fully Remote\",\"Fully Remote\",\"Fully Remote\",\"Fully Remote\",\"Fully Remote\",\"Fully Remote\",\"Fully Remote\",\"Fully Remote\",\"Fully Remote\",\"Fully Remote\",\"Fully Remote\",\"Fully Remote\",\"Fully Remote\",\"Fully Remote\",\"Fully Remote\",\"Fully Remote\",\"Fully Remote\",\"Fully Remote\",\"Fully Remote\",\"Fully Remote\",\"Fully Remote\",\"Fully Remote\",\"Fully Remote\",\"Fully Remote\",\"Fully Remote\",\"Fully Remote\",\"Fully Remote\",\"Fully Remote\",\"Fully Remote\",\"Fully Remote\",\"Fully Remote\",\"Fully Remote\",\"Fully Remote\",\"Fully Remote\",\"Fully Remote\",\"Fully Remote\",\"Fully Remote\",\"Fully Remote\",\"Fully Remote\",\"Fully Remote\",\"Fully Remote\",\"Fully Remote\",\"Fully Remote\",\"Fully Remote\",\"Fully Remote\",\"Fully Remote\",\"Fully Remote\",\"Fully Remote\",\"Fully Remote\",\"Fully Remote\",\"Fully Remote\",\"Fully Remote\",\"Fully Remote\",\"Fully Remote\",\"Fully Remote\",\"Fully Remote\",\"Fully Remote\",\"Fully Remote\",\"Fully Remote\",\"Fully Remote\",\"Fully Remote\",\"Fully Remote\",\"Fully Remote\",\"Fully Remote\",\"Fully Remote\",\"Fully Remote\",\"Fully Remote\",\"Fully Remote\",\"Fully Remote\",\"Fully Remote\",\"Fully Remote\",\"Fully Remote\",\"Fully Remote\",\"Fully Remote\",\"Fully Remote\",\"Fully Remote\",\"Fully Remote\",\"Fully Remote\",\"Fully Remote\",\"Fully Remote\",\"Fully Remote\",\"Fully Remote\",\"Fully Remote\",\"Fully Remote\",\"Fully Remote\",\"Fully Remote\",\"Fully Remote\",\"Fully Remote\",\"Fully Remote\",\"Fully Remote\",\"Fully Remote\",\"Fully Remote\",\"Fully Remote\",\"Fully Remote\",\"Fully Remote\",\"Fully Remote\",\"Fully Remote\",\"Fully Remote\",\"Fully Remote\",\"Fully Remote\",\"Fully Remote\",\"Fully Remote\",\"Fully Remote\",\"Fully Remote\",\"Fully Remote\",\"Fully Remote\",\"Fully Remote\",\"Fully Remote\",\"Fully Remote\",\"Fully Remote\",\"Fully Remote\",\"Fully Remote\",\"Fully Remote\",\"Fully Remote\",\"Fully Remote\",\"Fully Remote\",\"Fully Remote\",\"Fully Remote\",\"Fully Remote\",\"Fully Remote\",\"Fully Remote\",\"Fully Remote\",\"Fully Remote\",\"Fully Remote\",\"Fully Remote\",\"Fully Remote\",\"Fully Remote\",\"Fully Remote\",\"Fully Remote\",\"Fully Remote\",\"Fully Remote\",\"Fully Remote\",\"Fully Remote\",\"Fully Remote\",\"Fully Remote\",\"Fully Remote\",\"Fully Remote\",\"Fully Remote\",\"Fully Remote\",\"Fully Remote\",\"Fully Remote\",\"Fully Remote\",\"Fully Remote\",\"Fully Remote\",\"Fully Remote\",\"Fully Remote\",\"Fully Remote\",\"Fully Remote\",\"Fully Remote\",\"Fully Remote\",\"Fully Remote\",\"Fully Remote\",\"Fully Remote\",\"Fully Remote\",\"Fully Remote\",\"Fully Remote\",\"Fully Remote\",\"Fully Remote\",\"Fully Remote\",\"Fully Remote\",\"Fully Remote\",\"Fully Remote\",\"Fully Remote\",\"Fully Remote\",\"Fully Remote\",\"Fully Remote\",\"Fully Remote\",\"Fully Remote\",\"Fully Remote\",\"Fully Remote\",\"Fully Remote\",\"Fully Remote\",\"Fully Remote\",\"Fully Remote\",\"Fully Remote\",\"Fully Remote\",\"Fully Remote\",\"Fully Remote\",\"Fully Remote\",\"Fully Remote\",\"Fully Remote\",\"Fully Remote\",\"Fully Remote\",\"Fully Remote\",\"Fully Remote\",\"Fully Remote\",\"Fully Remote\",\"Fully Remote\",\"Fully Remote\",\"Fully Remote\",\"Fully Remote\",\"Fully Remote\",\"Fully Remote\",\"Fully Remote\",\"Fully Remote\",\"Fully Remote\",\"Fully Remote\",\"Fully Remote\",\"Fully Remote\",\"Fully Remote\",\"Fully Remote\",\"Fully Remote\",\"Fully Remote\",\"Fully Remote\",\"Fully Remote\",\"Fully Remote\",\"Fully Remote\",\"Fully Remote\",\"Fully Remote\",\"Fully Remote\",\"Fully Remote\",\"Fully Remote\",\"Fully Remote\",\"Fully Remote\",\"Fully Remote\",\"Fully Remote\",\"Fully Remote\",\"Fully Remote\",\"Fully Remote\",\"Fully Remote\",\"Fully Remote\",\"Fully Remote\",\"Fully Remote\",\"Fully Remote\",\"Fully Remote\",\"Fully Remote\",\"Fully Remote\",\"Fully Remote\",\"Fully Remote\",\"Fully Remote\",\"Fully Remote\",\"Fully Remote\",\"Fully Remote\",\"Fully Remote\",\"Fully Remote\",\"Fully Remote\",\"Fully Remote\",\"Fully Remote\",\"Fully Remote\",\"Fully Remote\",\"Fully Remote\",\"Fully Remote\",\"Fully Remote\",\"Fully Remote\",\"Fully Remote\",\"Fully Remote\",\"Fully Remote\",\"Fully Remote\",\"Fully Remote\",\"Fully Remote\",\"Fully Remote\",\"Fully Remote\",\"Fully Remote\",\"Fully Remote\",\"Fully Remote\",\"Fully Remote\",\"Fully Remote\",\"Fully Remote\",\"Fully Remote\",\"Fully Remote\",\"Fully Remote\",\"Fully Remote\",\"Fully Remote\",\"Fully Remote\",\"Fully Remote\",\"Fully Remote\",\"Fully Remote\",\"Fully Remote\",\"Fully Remote\",\"Fully Remote\",\"Fully Remote\",\"Fully Remote\",\"Fully Remote\",\"Fully Remote\",\"Fully Remote\",\"Fully Remote\",\"Fully Remote\",\"Fully Remote\",\"Fully Remote\",\"Fully Remote\",\"Fully Remote\",\"Fully Remote\",\"Fully Remote\",\"Fully Remote\",\"Fully Remote\",\"Fully Remote\",\"Fully Remote\",\"Fully Remote\",\"Fully Remote\",\"Fully Remote\",\"Fully Remote\",\"Fully Remote\",\"Fully Remote\",\"Fully Remote\",\"Fully Remote\",\"Fully Remote\",\"Fully Remote\",\"Fully Remote\",\"Fully Remote\",\"Fully Remote\",\"Fully Remote\",\"Fully Remote\",\"Fully Remote\",\"Fully Remote\",\"Fully Remote\",\"Fully Remote\",\"Fully Remote\",\"Fully Remote\",\"Fully Remote\",\"Fully Remote\",\"Fully Remote\",\"Fully Remote\",\"Fully Remote\",\"Fully Remote\",\"Fully Remote\",\"Fully Remote\",\"Fully Remote\",\"Fully Remote\",\"Fully Remote\",\"Fully Remote\",\"Fully Remote\",\"Fully Remote\",\"Fully Remote\",\"Fully Remote\",\"Fully Remote\",\"Fully Remote\",\"Fully Remote\",\"Fully Remote\",\"Fully Remote\",\"Fully Remote\",\"Fully Remote\",\"Fully Remote\",\"Fully Remote\",\"Fully Remote\",\"Fully Remote\",\"Fully Remote\",\"Fully Remote\",\"Fully Remote\",\"Fully Remote\",\"Fully Remote\",\"Fully Remote\",\"Fully Remote\",\"Fully Remote\",\"Fully Remote\",\"Fully Remote\",\"Fully Remote\",\"Fully Remote\",\"Fully Remote\",\"Fully Remote\",\"Fully Remote\",\"Fully Remote\",\"Fully Remote\",\"Fully Remote\",\"Fully Remote\",\"Fully Remote\",\"Fully Remote\",\"Fully Remote\",\"Fully Remote\",\"Fully Remote\",\"Fully Remote\",\"Fully Remote\"],\"x0\":\" \",\"xaxis\":\"x\",\"y\":[72000,190000,135000,87000,85000,41689,114047,56000,6072,325000,100000,59303,70000,68428,103000,10000,138000,45760,106000,15966,76958,188000,105000,91000,54742,60000,148261,38776,118000,138350,110000,130800,412000,45618,190200,105000,150000,235000,100000,270000,80000,79197,140000,47282,153667,28476,110000,170000,80000,88654,76833,19609,12000,450000,70000,95746,150000,187442,115000,150000,30428,113476,103160,12000,45391,225000,50000,40189,90000,200000,200000,50000,151000,20000,38400,24000,90000,80000,135000,82500,100000,90000,153000,160000,150000,75774,13400,144000,119059,120000,125000,165000,80000,150000,170000,82528,60000,235000,174000,40038,5679,4000,50000,69741,152000,174000,9272,24342,90000,195000,37825,50000,160000,200000,185000,88654,140000,46597,225000,416000,87738,71786,16228,256000,200000,200000,180000,63810,46809,103691,80000,110000,165000,18053,170000,90000,600000,28399,93000,200000,173762,16904,25532,28016,72500,85000,100000,55000,59102,112000,69741,105000,102839,135000,155000,120600,170000,150000,102100,84900,136620,99360,146000,123000,52351,242000,200000,165220,45807,120160,90320,124190,130000,110000,170000,115500,112900,90320,112900,90320,165400,132320,167000,243900,136600,109280,128875,93700,224000,167875,175000,156600,135000,161342,137141,167000,123000,211500,192400,90700,130000,61300,130000,61300,138600,135000,170000,123000,118187,165400,208775,147800,136994,101570,128875,93700,132320,37300,155000,112900,90320,145000,105400,87932,215300,158200,209100,154600,175000,183600,52351,180000,65949,49461,78526,58894,260000,60000,160000,112300,241000,159000,100800,49461,39263,43966,32974,87932,76940,104702,91614,65949,87932,43966,32974,98158,78526,76940,209100,154600,180000,21983,80000,78791,120000,105000,18442,31615,18442,162674,120000,104890,100000,140000,135000,50000,220000,140000,185100,220000,200000,120000,120000,65000,324000,216000,210000,120000,230000,100000,31875,200000,75000,35590,78791,100000,58035,165000,52396,62651,32974,40000,87425,115000,75000,120000,157000,150000,65000,71444,48000,152500,68147,380000,69336,10000,20000,405000,135000,177000,78000,135000,100000,90320,214000,192600,266400,213120,112900,155000,115934,81666,130000,115000,110500,130000,99050,160000,176000,144000,200100,160000,145000,175100,140250,116150,170000,80000,140000,210000,140000,100000,69000,210000,140000,210000,150075,100000,25000,126500,106260,220110,160080,105000,110925,140000,60000,192564,144854,230000,150000,150260,109280,210000,170000,160000,130000,154000,126000,150000,200000],\"y0\":\" \",\"yaxis\":\"y\",\"type\":\"box\"}],                        {\"template\":{\"data\":{\"histogram2dcontour\":[{\"type\":\"histogram2dcontour\",\"colorbar\":{\"outlinewidth\":0,\"ticks\":\"\"},\"colorscale\":[[0.0,\"#0d0887\"],[0.1111111111111111,\"#46039f\"],[0.2222222222222222,\"#7201a8\"],[0.3333333333333333,\"#9c179e\"],[0.4444444444444444,\"#bd3786\"],[0.5555555555555556,\"#d8576b\"],[0.6666666666666666,\"#ed7953\"],[0.7777777777777778,\"#fb9f3a\"],[0.8888888888888888,\"#fdca26\"],[1.0,\"#f0f921\"]]}],\"choropleth\":[{\"type\":\"choropleth\",\"colorbar\":{\"outlinewidth\":0,\"ticks\":\"\"}}],\"histogram2d\":[{\"type\":\"histogram2d\",\"colorbar\":{\"outlinewidth\":0,\"ticks\":\"\"},\"colorscale\":[[0.0,\"#0d0887\"],[0.1111111111111111,\"#46039f\"],[0.2222222222222222,\"#7201a8\"],[0.3333333333333333,\"#9c179e\"],[0.4444444444444444,\"#bd3786\"],[0.5555555555555556,\"#d8576b\"],[0.6666666666666666,\"#ed7953\"],[0.7777777777777778,\"#fb9f3a\"],[0.8888888888888888,\"#fdca26\"],[1.0,\"#f0f921\"]]}],\"heatmap\":[{\"type\":\"heatmap\",\"colorbar\":{\"outlinewidth\":0,\"ticks\":\"\"},\"colorscale\":[[0.0,\"#0d0887\"],[0.1111111111111111,\"#46039f\"],[0.2222222222222222,\"#7201a8\"],[0.3333333333333333,\"#9c179e\"],[0.4444444444444444,\"#bd3786\"],[0.5555555555555556,\"#d8576b\"],[0.6666666666666666,\"#ed7953\"],[0.7777777777777778,\"#fb9f3a\"],[0.8888888888888888,\"#fdca26\"],[1.0,\"#f0f921\"]]}],\"heatmapgl\":[{\"type\":\"heatmapgl\",\"colorbar\":{\"outlinewidth\":0,\"ticks\":\"\"},\"colorscale\":[[0.0,\"#0d0887\"],[0.1111111111111111,\"#46039f\"],[0.2222222222222222,\"#7201a8\"],[0.3333333333333333,\"#9c179e\"],[0.4444444444444444,\"#bd3786\"],[0.5555555555555556,\"#d8576b\"],[0.6666666666666666,\"#ed7953\"],[0.7777777777777778,\"#fb9f3a\"],[0.8888888888888888,\"#fdca26\"],[1.0,\"#f0f921\"]]}],\"contourcarpet\":[{\"type\":\"contourcarpet\",\"colorbar\":{\"outlinewidth\":0,\"ticks\":\"\"}}],\"contour\":[{\"type\":\"contour\",\"colorbar\":{\"outlinewidth\":0,\"ticks\":\"\"},\"colorscale\":[[0.0,\"#0d0887\"],[0.1111111111111111,\"#46039f\"],[0.2222222222222222,\"#7201a8\"],[0.3333333333333333,\"#9c179e\"],[0.4444444444444444,\"#bd3786\"],[0.5555555555555556,\"#d8576b\"],[0.6666666666666666,\"#ed7953\"],[0.7777777777777778,\"#fb9f3a\"],[0.8888888888888888,\"#fdca26\"],[1.0,\"#f0f921\"]]}],\"surface\":[{\"type\":\"surface\",\"colorbar\":{\"outlinewidth\":0,\"ticks\":\"\"},\"colorscale\":[[0.0,\"#0d0887\"],[0.1111111111111111,\"#46039f\"],[0.2222222222222222,\"#7201a8\"],[0.3333333333333333,\"#9c179e\"],[0.4444444444444444,\"#bd3786\"],[0.5555555555555556,\"#d8576b\"],[0.6666666666666666,\"#ed7953\"],[0.7777777777777778,\"#fb9f3a\"],[0.8888888888888888,\"#fdca26\"],[1.0,\"#f0f921\"]]}],\"mesh3d\":[{\"type\":\"mesh3d\",\"colorbar\":{\"outlinewidth\":0,\"ticks\":\"\"}}],\"scatter\":[{\"fillpattern\":{\"fillmode\":\"overlay\",\"size\":10,\"solidity\":0.2},\"type\":\"scatter\"}],\"parcoords\":[{\"type\":\"parcoords\",\"line\":{\"colorbar\":{\"outlinewidth\":0,\"ticks\":\"\"}}}],\"scatterpolargl\":[{\"type\":\"scatterpolargl\",\"marker\":{\"colorbar\":{\"outlinewidth\":0,\"ticks\":\"\"}}}],\"bar\":[{\"error_x\":{\"color\":\"#2a3f5f\"},\"error_y\":{\"color\":\"#2a3f5f\"},\"marker\":{\"line\":{\"color\":\"#E5ECF6\",\"width\":0.5},\"pattern\":{\"fillmode\":\"overlay\",\"size\":10,\"solidity\":0.2}},\"type\":\"bar\"}],\"scattergeo\":[{\"type\":\"scattergeo\",\"marker\":{\"colorbar\":{\"outlinewidth\":0,\"ticks\":\"\"}}}],\"scatterpolar\":[{\"type\":\"scatterpolar\",\"marker\":{\"colorbar\":{\"outlinewidth\":0,\"ticks\":\"\"}}}],\"histogram\":[{\"marker\":{\"pattern\":{\"fillmode\":\"overlay\",\"size\":10,\"solidity\":0.2}},\"type\":\"histogram\"}],\"scattergl\":[{\"type\":\"scattergl\",\"marker\":{\"colorbar\":{\"outlinewidth\":0,\"ticks\":\"\"}}}],\"scatter3d\":[{\"type\":\"scatter3d\",\"line\":{\"colorbar\":{\"outlinewidth\":0,\"ticks\":\"\"}},\"marker\":{\"colorbar\":{\"outlinewidth\":0,\"ticks\":\"\"}}}],\"scattermapbox\":[{\"type\":\"scattermapbox\",\"marker\":{\"colorbar\":{\"outlinewidth\":0,\"ticks\":\"\"}}}],\"scatterternary\":[{\"type\":\"scatterternary\",\"marker\":{\"colorbar\":{\"outlinewidth\":0,\"ticks\":\"\"}}}],\"scattercarpet\":[{\"type\":\"scattercarpet\",\"marker\":{\"colorbar\":{\"outlinewidth\":0,\"ticks\":\"\"}}}],\"carpet\":[{\"aaxis\":{\"endlinecolor\":\"#2a3f5f\",\"gridcolor\":\"white\",\"linecolor\":\"white\",\"minorgridcolor\":\"white\",\"startlinecolor\":\"#2a3f5f\"},\"baxis\":{\"endlinecolor\":\"#2a3f5f\",\"gridcolor\":\"white\",\"linecolor\":\"white\",\"minorgridcolor\":\"white\",\"startlinecolor\":\"#2a3f5f\"},\"type\":\"carpet\"}],\"table\":[{\"cells\":{\"fill\":{\"color\":\"#EBF0F8\"},\"line\":{\"color\":\"white\"}},\"header\":{\"fill\":{\"color\":\"#C8D4E3\"},\"line\":{\"color\":\"white\"}},\"type\":\"table\"}],\"barpolar\":[{\"marker\":{\"line\":{\"color\":\"#E5ECF6\",\"width\":0.5},\"pattern\":{\"fillmode\":\"overlay\",\"size\":10,\"solidity\":0.2}},\"type\":\"barpolar\"}],\"pie\":[{\"automargin\":true,\"type\":\"pie\"}]},\"layout\":{\"autotypenumbers\":\"strict\",\"colorway\":[\"#636efa\",\"#EF553B\",\"#00cc96\",\"#ab63fa\",\"#FFA15A\",\"#19d3f3\",\"#FF6692\",\"#B6E880\",\"#FF97FF\",\"#FECB52\"],\"font\":{\"color\":\"#2a3f5f\"},\"hovermode\":\"closest\",\"hoverlabel\":{\"align\":\"left\"},\"paper_bgcolor\":\"white\",\"plot_bgcolor\":\"#E5ECF6\",\"polar\":{\"bgcolor\":\"#E5ECF6\",\"angularaxis\":{\"gridcolor\":\"white\",\"linecolor\":\"white\",\"ticks\":\"\"},\"radialaxis\":{\"gridcolor\":\"white\",\"linecolor\":\"white\",\"ticks\":\"\"}},\"ternary\":{\"bgcolor\":\"#E5ECF6\",\"aaxis\":{\"gridcolor\":\"white\",\"linecolor\":\"white\",\"ticks\":\"\"},\"baxis\":{\"gridcolor\":\"white\",\"linecolor\":\"white\",\"ticks\":\"\"},\"caxis\":{\"gridcolor\":\"white\",\"linecolor\":\"white\",\"ticks\":\"\"}},\"coloraxis\":{\"colorbar\":{\"outlinewidth\":0,\"ticks\":\"\"}},\"colorscale\":{\"sequential\":[[0.0,\"#0d0887\"],[0.1111111111111111,\"#46039f\"],[0.2222222222222222,\"#7201a8\"],[0.3333333333333333,\"#9c179e\"],[0.4444444444444444,\"#bd3786\"],[0.5555555555555556,\"#d8576b\"],[0.6666666666666666,\"#ed7953\"],[0.7777777777777778,\"#fb9f3a\"],[0.8888888888888888,\"#fdca26\"],[1.0,\"#f0f921\"]],\"sequentialminus\":[[0.0,\"#0d0887\"],[0.1111111111111111,\"#46039f\"],[0.2222222222222222,\"#7201a8\"],[0.3333333333333333,\"#9c179e\"],[0.4444444444444444,\"#bd3786\"],[0.5555555555555556,\"#d8576b\"],[0.6666666666666666,\"#ed7953\"],[0.7777777777777778,\"#fb9f3a\"],[0.8888888888888888,\"#fdca26\"],[1.0,\"#f0f921\"]],\"diverging\":[[0,\"#8e0152\"],[0.1,\"#c51b7d\"],[0.2,\"#de77ae\"],[0.3,\"#f1b6da\"],[0.4,\"#fde0ef\"],[0.5,\"#f7f7f7\"],[0.6,\"#e6f5d0\"],[0.7,\"#b8e186\"],[0.8,\"#7fbc41\"],[0.9,\"#4d9221\"],[1,\"#276419\"]]},\"xaxis\":{\"gridcolor\":\"white\",\"linecolor\":\"white\",\"ticks\":\"\",\"title\":{\"standoff\":15},\"zerolinecolor\":\"white\",\"automargin\":true,\"zerolinewidth\":2},\"yaxis\":{\"gridcolor\":\"white\",\"linecolor\":\"white\",\"ticks\":\"\",\"title\":{\"standoff\":15},\"zerolinecolor\":\"white\",\"automargin\":true,\"zerolinewidth\":2},\"scene\":{\"xaxis\":{\"backgroundcolor\":\"#E5ECF6\",\"gridcolor\":\"white\",\"linecolor\":\"white\",\"showbackground\":true,\"ticks\":\"\",\"zerolinecolor\":\"white\",\"gridwidth\":2},\"yaxis\":{\"backgroundcolor\":\"#E5ECF6\",\"gridcolor\":\"white\",\"linecolor\":\"white\",\"showbackground\":true,\"ticks\":\"\",\"zerolinecolor\":\"white\",\"gridwidth\":2},\"zaxis\":{\"backgroundcolor\":\"#E5ECF6\",\"gridcolor\":\"white\",\"linecolor\":\"white\",\"showbackground\":true,\"ticks\":\"\",\"zerolinecolor\":\"white\",\"gridwidth\":2}},\"shapedefaults\":{\"line\":{\"color\":\"#2a3f5f\"}},\"annotationdefaults\":{\"arrowcolor\":\"#2a3f5f\",\"arrowhead\":0,\"arrowwidth\":1},\"geo\":{\"bgcolor\":\"white\",\"landcolor\":\"#E5ECF6\",\"subunitcolor\":\"white\",\"showland\":true,\"showlakes\":true,\"lakecolor\":\"white\"},\"title\":{\"x\":0.05},\"mapbox\":{\"style\":\"light\"}}},\"xaxis\":{\"anchor\":\"y\",\"domain\":[0.0,1.0],\"title\":{\"text\":\"<b>Remote type</b>\"},\"categoryorder\":\"array\",\"categoryarray\":[\"Non Remote Work\",\"Partially Remote\",\"Fully Remote\"],\"tickmode\":\"array\"},\"yaxis\":{\"anchor\":\"x\",\"domain\":[0.0,1.0],\"title\":{\"text\":\"<b> salary</b>\"}},\"legend\":{\"title\":{\"text\":\"Remote type\"},\"tracegroupgap\":0},\"margin\":{\"t\":60},\"boxmode\":\"overlay\",\"title\":{\"text\":\"<b><i>Salary by Remote Type</i></b>\",\"x\":0.5,\"xanchor\":\"center\"},\"plot_bgcolor\":\"#f1e7d2\",\"paper_bgcolor\":\"#f1e7d2\",\"width\":900,\"height\":600,\"showlegend\":false},                        {\"responsive\": true}                    ).then(function(){\n",
       "                            \n",
       "var gd = document.getElementById('dd9f70b9-d73f-4332-b680-a027f49b15a0');\n",
       "var x = new MutationObserver(function (mutations, observer) {{\n",
       "        var display = window.getComputedStyle(gd).display;\n",
       "        if (!display || display === 'none') {{\n",
       "            console.log([gd, 'removed!']);\n",
       "            Plotly.purge(gd);\n",
       "            observer.disconnect();\n",
       "        }}\n",
       "}});\n",
       "\n",
       "// Listen for the removal of the full notebook cells\n",
       "var notebookContainer = gd.closest('#notebook-container');\n",
       "if (notebookContainer) {{\n",
       "    x.observe(notebookContainer, {childList: true});\n",
       "}}\n",
       "\n",
       "// Listen for the clearing of the current output cell\n",
       "var outputEl = gd.closest('.output');\n",
       "if (outputEl) {{\n",
       "    x.observe(outputEl, {childList: true});\n",
       "}}\n",
       "\n",
       "                        })                };                });            </script>        </div>"
      ]
     },
     "metadata": {},
     "output_type": "display_data"
    }
   ],
   "source": [
    "fig = px.box(salary_remote,x='Remote type',y='Salary',\n",
    "       color = 'Remote type')\n",
    "fig.update_layout(plot_bgcolor = '#f1e7d2', \n",
    "                  paper_bgcolor = '#f1e7d2',title = {'text': \"<b><i>Salary by Remote Type</i></b>\",\n",
    "                           'x':0.5,\n",
    "                           'xanchor': 'center'},\n",
    "                   xaxis = dict(title='<b>Remote type</b>', tickmode = 'array'),\n",
    "                   yaxis =dict(title='<b> salary</b>'),\n",
    "                   width = 900,\n",
    "                   height = 600)\n",
    "fig.update_layout(showlegend=False )\n",
    "fig.show()"
   ]
  },
  {
   "cell_type": "markdown",
   "id": "011ba827",
   "metadata": {
    "papermill": {
     "duration": 0.081385,
     "end_time": "2022-10-23T19:10:06.532403",
     "exception": false,
     "start_time": "2022-10-23T19:10:06.451018",
     "status": "completed"
    },
    "tags": []
   },
   "source": [
    "<a id = \"6\"></a>\n",
    "<h1 style=\"padding:10px;background-color:#2f4b7c;opacity: 0.8;margin:0;color:white;font-family:newtimeroman;font-size:200%;text-align:center;border-radius: 15px 50px;overflow:hidden;font-weight:500\"> Conclusions</h1>"
   ]
  },
  {
   "cell_type": "markdown",
   "id": "5263cada",
   "metadata": {
    "papermill": {
     "duration": 0.080971,
     "end_time": "2022-10-23T19:10:06.694445",
     "exception": false,
     "start_time": "2022-10-23T19:10:06.613474",
     "status": "completed"
    },
    "tags": []
   },
   "source": [
    "<div class=\"alert alert-block alert-info\">\n",
    "        <ul>\n",
    "        <li><b>Top3</b> most jobs in Data Science is <b>Data Scientist</b>, <b>Data Engineer</b> and <b>Data Analyst</b>.</li>\n",
    "        <li><b>United States</b> is the Origin with the most Data Science Companies.</li> \n",
    "        <li>In Data Science most of are <b>Senior Level</b> and there are less with <b>Expert level</b>.</li>\n",
    "        <li>Most of the Data Science employee are works <b>Full Time</b> and few are works on <b>contract</b> base and <b>freelance</b>.</li>\n",
    "        <li><b>Principal Data Engineer</b> is the Highest paid Data Science job.</li>\n",
    "        <li><b>Data Analytics Lead</b> is the Highest Average paid Data Science Job.</li>\n",
    "        <li>The minimum salary of Data science with <b>Entry Level Experience</b> is <b>4000</b> USD and the maximum salary of Data Science with <b>Expert Level</b> Experience is <b>600k</b> USD.</li>\n",
    "        <li><b>53.7 %</b> are companies with <b>medium size</b>, <b>32.6 % </b>are with <b>large size</b> and <b>13.7 %</b> are with <b>small size</b> data science companies.\n",
    "        <li>Salary also depends on Company size,company with <b>large size</b> paying higher salaries than <b>medium</b> and <b>small</b>.</li>    \n",
    "        <li><b>62.8 %</b> of Data science are works <b>fully remote</b>, <b>20.9</b> % are doing <b>non remote</b> and <b>16.3 %</b> are working  <b>partially remote</b> work.</li>\n",
    "        <li>Data Science <b>jobs</b> and data science <b>salaries</b> are <b>growing</b> by time </li>    \n",
    "</ul>\n",
    "</div>"
   ]
  },
  {
   "cell_type": "markdown",
   "id": "163f1a06",
   "metadata": {
    "papermill": {
     "duration": 0.080456,
     "end_time": "2022-10-23T19:10:06.855374",
     "exception": false,
     "start_time": "2022-10-23T19:10:06.774918",
     "status": "completed"
    },
    "tags": []
   },
   "source": [
    "\n",
    "<h1 style=\"padding:10px;background-color:#2f4b7c\n",
    "           ;opacity: 0.8;margin:0;color:white;font-family:newtimeroman;font-size:200%;text-align:center;border-radius: 15px 50px;overflow:hidden;font-weight:500\"> Thank You 😊</h1>"
   ]
  },
  {
   "cell_type": "markdown",
   "id": "7f713a76",
   "metadata": {
    "papermill": {
     "duration": 0.080294,
     "end_time": "2022-10-23T19:10:07.017558",
     "exception": false,
     "start_time": "2022-10-23T19:10:06.937264",
     "status": "completed"
    },
    "tags": []
   },
   "source": [
    "<div style='background:#003f5c; border:2; border-radius: 10px;letter-spacing:0.5px; font-size:110%; opacity:0.8; font-family:Verdana'>\n",
    "    <p style=\"padding: 15px;\n",
    "              color:white;\">\n",
    "        Please <b>Upvote</b> if you like work, it will boost me to work hard  and feel free to give your feedback and suggestion through comment to improve my work.. Thanks for watching 😊  </p> </div>"
   ]
  }
 ],
 "metadata": {
  "kernelspec": {
   "display_name": "Python 3",
   "language": "python",
   "name": "python3"
  },
  "language_info": {
   "codemirror_mode": {
    "name": "ipython",
    "version": 3
   },
   "file_extension": ".py",
   "mimetype": "text/x-python",
   "name": "python",
   "nbconvert_exporter": "python",
   "pygments_lexer": "ipython3",
   "version": "3.7.12"
  },
  "papermill": {
   "default_parameters": {},
   "duration": 37.75376,
   "end_time": "2022-10-23T19:10:08.020513",
   "environment_variables": {},
   "exception": null,
   "input_path": "__notebook__.ipynb",
   "output_path": "__notebook__.ipynb",
   "parameters": {},
   "start_time": "2022-10-23T19:09:30.266753",
   "version": "2.3.4"
  }
 },
 "nbformat": 4,
 "nbformat_minor": 5
}
