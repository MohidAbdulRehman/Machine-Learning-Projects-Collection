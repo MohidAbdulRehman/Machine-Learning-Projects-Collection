{
 "cells": [
  {
   "cell_type": "markdown",
   "id": "72fc41ed",
   "metadata": {
    "papermill": {
     "duration": 0.028225,
     "end_time": "2022-08-30T15:51:51.854678",
     "exception": false,
     "start_time": "2022-08-30T15:51:51.826453",
     "status": "completed"
    },
    "tags": []
   },
   "source": [
    "# <h1 style='background:#AC7E7E; border:2; border-radius: 10px; font-size:250%; font-weight: bold; color:white'><center>Laptop price prediction </center></h1> \n",
    " \n",
    "\n",
    "![](https://media.istockphoto.com/vectors/elearning-and-education-vector-id520409700?k=20&m=520409700&s=612x612&w=0&h=ZU7TaNryp01YTgUmvKSNZXDu1-KSTcYSoK-mHTmVX_I=)"
   ]
  },
  {
   "cell_type": "markdown",
   "id": "9c8e38b6",
   "metadata": {
    "papermill": {
     "duration": 0.026181,
     "end_time": "2022-08-30T15:51:51.906819",
     "exception": false,
     "start_time": "2022-08-30T15:51:51.880638",
     "status": "completed"
    },
    "tags": []
   },
   "source": [
    "Hi Everyone, this notebook is about the Price Prediction of a dataset contaning data about laptops. We'll use pandas, numpy and re packages for data manipulation, matplotlib and seaborn for data visualization & Randomforest Regression for this model."
   ]
  },
  {
   "cell_type": "markdown",
   "id": "b5fe3830",
   "metadata": {
    "papermill": {
     "duration": 0.025378,
     "end_time": "2022-08-30T15:51:51.958176",
     "exception": false,
     "start_time": "2022-08-30T15:51:51.932798",
     "status": "completed"
    },
    "tags": []
   },
   "source": [
    "## <h1 style='background:#AC7E7E; border:2; border-radius: 20px; font-size:250%; font-weight: bold; color:white'><center>Importing Libraries</center></h1>"
   ]
  },
  {
   "cell_type": "code",
   "execution_count": 1,
   "id": "eb5a0557",
   "metadata": {
    "execution": {
     "iopub.execute_input": "2022-08-30T15:51:52.013513Z",
     "iopub.status.busy": "2022-08-30T15:51:52.012731Z",
     "iopub.status.idle": "2022-08-30T15:51:53.581768Z",
     "shell.execute_reply": "2022-08-30T15:51:53.580546Z"
    },
    "papermill": {
     "duration": 1.600381,
     "end_time": "2022-08-30T15:51:53.584794",
     "exception": false,
     "start_time": "2022-08-30T15:51:51.984413",
     "status": "completed"
    },
    "tags": []
   },
   "outputs": [],
   "source": [
    "# Data wrangling\n",
    "import pandas as pd\n",
    "import numpy as np\n",
    "\n",
    "# for Visulization\n",
    "import matplotlib.pyplot as plt\n",
    "%matplotlib inline\n",
    "import seaborn as sns\n",
    "sns.set_style(\"darkgrid\")\n",
    "\n",
    "# data preprocessing\n",
    "from sklearn.model_selection import train_test_split\n",
    "from sklearn.compose import ColumnTransformer\n",
    "from sklearn.pipeline import Pipeline\n",
    "from sklearn.preprocessing import OneHotEncoder\n",
    "from sklearn.metrics import r2_score,mean_absolute_error\n",
    "\n",
    "# Model\n",
    "from sklearn.ensemble import RandomForestRegressor"
   ]
  },
  {
   "cell_type": "markdown",
   "id": "6a7640ea",
   "metadata": {
    "papermill": {
     "duration": 0.025444,
     "end_time": "2022-08-30T15:51:53.637193",
     "exception": false,
     "start_time": "2022-08-30T15:51:53.611749",
     "status": "completed"
    },
    "tags": []
   },
   "source": [
    "## <h1 style='background:#AC7E7E; border:2; border-radius: 20px; font-size:250%; font-weight: bold; color:white'><center>Understanding the data</center></h1>"
   ]
  },
  {
   "cell_type": "code",
   "execution_count": 2,
   "id": "d2281bcc",
   "metadata": {
    "execution": {
     "iopub.execute_input": "2022-08-30T15:51:53.690212Z",
     "iopub.status.busy": "2022-08-30T15:51:53.689813Z",
     "iopub.status.idle": "2022-08-30T15:51:53.712443Z",
     "shell.execute_reply": "2022-08-30T15:51:53.711481Z"
    },
    "papermill": {
     "duration": 0.051985,
     "end_time": "2022-08-30T15:51:53.714885",
     "exception": false,
     "start_time": "2022-08-30T15:51:53.662900",
     "status": "completed"
    },
    "tags": []
   },
   "outputs": [],
   "source": [
    "# Loading the Dataset\n",
    "df = pd.read_csv('../input/laptop-price-dataset/laptop_data.csv')"
   ]
  },
  {
   "cell_type": "code",
   "execution_count": 3,
   "id": "eb15d950",
   "metadata": {
    "execution": {
     "iopub.execute_input": "2022-08-30T15:51:53.768481Z",
     "iopub.status.busy": "2022-08-30T15:51:53.768046Z",
     "iopub.status.idle": "2022-08-30T15:51:53.794722Z",
     "shell.execute_reply": "2022-08-30T15:51:53.793836Z"
    },
    "papermill": {
     "duration": 0.056265,
     "end_time": "2022-08-30T15:51:53.797103",
     "exception": false,
     "start_time": "2022-08-30T15:51:53.740838",
     "status": "completed"
    },
    "tags": []
   },
   "outputs": [
    {
     "data": {
      "text/html": [
       "<div>\n",
       "<style scoped>\n",
       "    .dataframe tbody tr th:only-of-type {\n",
       "        vertical-align: middle;\n",
       "    }\n",
       "\n",
       "    .dataframe tbody tr th {\n",
       "        vertical-align: top;\n",
       "    }\n",
       "\n",
       "    .dataframe thead th {\n",
       "        text-align: right;\n",
       "    }\n",
       "</style>\n",
       "<table border=\"1\" class=\"dataframe\">\n",
       "  <thead>\n",
       "    <tr style=\"text-align: right;\">\n",
       "      <th></th>\n",
       "      <th>Unnamed: 0</th>\n",
       "      <th>Company</th>\n",
       "      <th>TypeName</th>\n",
       "      <th>Inches</th>\n",
       "      <th>ScreenResolution</th>\n",
       "      <th>Cpu</th>\n",
       "      <th>Ram</th>\n",
       "      <th>Memory</th>\n",
       "      <th>Gpu</th>\n",
       "      <th>OpSys</th>\n",
       "      <th>Weight</th>\n",
       "      <th>Price</th>\n",
       "    </tr>\n",
       "  </thead>\n",
       "  <tbody>\n",
       "    <tr>\n",
       "      <th>0</th>\n",
       "      <td>0</td>\n",
       "      <td>Apple</td>\n",
       "      <td>Ultrabook</td>\n",
       "      <td>13.3</td>\n",
       "      <td>IPS Panel Retina Display 2560x1600</td>\n",
       "      <td>Intel Core i5 2.3GHz</td>\n",
       "      <td>8GB</td>\n",
       "      <td>128GB SSD</td>\n",
       "      <td>Intel Iris Plus Graphics 640</td>\n",
       "      <td>macOS</td>\n",
       "      <td>1.37kg</td>\n",
       "      <td>71378.6832</td>\n",
       "    </tr>\n",
       "    <tr>\n",
       "      <th>1</th>\n",
       "      <td>1</td>\n",
       "      <td>Apple</td>\n",
       "      <td>Ultrabook</td>\n",
       "      <td>13.3</td>\n",
       "      <td>1440x900</td>\n",
       "      <td>Intel Core i5 1.8GHz</td>\n",
       "      <td>8GB</td>\n",
       "      <td>128GB Flash Storage</td>\n",
       "      <td>Intel HD Graphics 6000</td>\n",
       "      <td>macOS</td>\n",
       "      <td>1.34kg</td>\n",
       "      <td>47895.5232</td>\n",
       "    </tr>\n",
       "    <tr>\n",
       "      <th>2</th>\n",
       "      <td>2</td>\n",
       "      <td>HP</td>\n",
       "      <td>Notebook</td>\n",
       "      <td>15.6</td>\n",
       "      <td>Full HD 1920x1080</td>\n",
       "      <td>Intel Core i5 7200U 2.5GHz</td>\n",
       "      <td>8GB</td>\n",
       "      <td>256GB SSD</td>\n",
       "      <td>Intel HD Graphics 620</td>\n",
       "      <td>No OS</td>\n",
       "      <td>1.86kg</td>\n",
       "      <td>30636.0000</td>\n",
       "    </tr>\n",
       "    <tr>\n",
       "      <th>3</th>\n",
       "      <td>3</td>\n",
       "      <td>Apple</td>\n",
       "      <td>Ultrabook</td>\n",
       "      <td>15.4</td>\n",
       "      <td>IPS Panel Retina Display 2880x1800</td>\n",
       "      <td>Intel Core i7 2.7GHz</td>\n",
       "      <td>16GB</td>\n",
       "      <td>512GB SSD</td>\n",
       "      <td>AMD Radeon Pro 455</td>\n",
       "      <td>macOS</td>\n",
       "      <td>1.83kg</td>\n",
       "      <td>135195.3360</td>\n",
       "    </tr>\n",
       "    <tr>\n",
       "      <th>4</th>\n",
       "      <td>4</td>\n",
       "      <td>Apple</td>\n",
       "      <td>Ultrabook</td>\n",
       "      <td>13.3</td>\n",
       "      <td>IPS Panel Retina Display 2560x1600</td>\n",
       "      <td>Intel Core i5 3.1GHz</td>\n",
       "      <td>8GB</td>\n",
       "      <td>256GB SSD</td>\n",
       "      <td>Intel Iris Plus Graphics 650</td>\n",
       "      <td>macOS</td>\n",
       "      <td>1.37kg</td>\n",
       "      <td>96095.8080</td>\n",
       "    </tr>\n",
       "  </tbody>\n",
       "</table>\n",
       "</div>"
      ],
      "text/plain": [
       "   Unnamed: 0 Company   TypeName  Inches                    ScreenResolution  \\\n",
       "0           0   Apple  Ultrabook    13.3  IPS Panel Retina Display 2560x1600   \n",
       "1           1   Apple  Ultrabook    13.3                            1440x900   \n",
       "2           2      HP   Notebook    15.6                   Full HD 1920x1080   \n",
       "3           3   Apple  Ultrabook    15.4  IPS Panel Retina Display 2880x1800   \n",
       "4           4   Apple  Ultrabook    13.3  IPS Panel Retina Display 2560x1600   \n",
       "\n",
       "                          Cpu   Ram               Memory  \\\n",
       "0        Intel Core i5 2.3GHz   8GB            128GB SSD   \n",
       "1        Intel Core i5 1.8GHz   8GB  128GB Flash Storage   \n",
       "2  Intel Core i5 7200U 2.5GHz   8GB            256GB SSD   \n",
       "3        Intel Core i7 2.7GHz  16GB            512GB SSD   \n",
       "4        Intel Core i5 3.1GHz   8GB            256GB SSD   \n",
       "\n",
       "                            Gpu  OpSys  Weight        Price  \n",
       "0  Intel Iris Plus Graphics 640  macOS  1.37kg   71378.6832  \n",
       "1        Intel HD Graphics 6000  macOS  1.34kg   47895.5232  \n",
       "2         Intel HD Graphics 620  No OS  1.86kg   30636.0000  \n",
       "3            AMD Radeon Pro 455  macOS  1.83kg  135195.3360  \n",
       "4  Intel Iris Plus Graphics 650  macOS  1.37kg   96095.8080  "
      ]
     },
     "execution_count": 3,
     "metadata": {},
     "output_type": "execute_result"
    }
   ],
   "source": [
    "# Looking the first 5 rows \n",
    "df.head()"
   ]
  },
  {
   "cell_type": "code",
   "execution_count": 4,
   "id": "52c0ffea",
   "metadata": {
    "execution": {
     "iopub.execute_input": "2022-08-30T15:51:53.850948Z",
     "iopub.status.busy": "2022-08-30T15:51:53.850546Z",
     "iopub.status.idle": "2022-08-30T15:51:53.856351Z",
     "shell.execute_reply": "2022-08-30T15:51:53.855491Z"
    },
    "papermill": {
     "duration": 0.036185,
     "end_time": "2022-08-30T15:51:53.859190",
     "exception": false,
     "start_time": "2022-08-30T15:51:53.823005",
     "status": "completed"
    },
    "tags": []
   },
   "outputs": [
    {
     "name": "stdout",
     "output_type": "stream",
     "text": [
      "The DataSet Contains 1303 rows & 12 columns.\n"
     ]
    }
   ],
   "source": [
    "print(f'The DataSet Contains {df.shape[0]} rows & {df.shape[1]} columns.')"
   ]
  },
  {
   "cell_type": "code",
   "execution_count": 5,
   "id": "b3897413",
   "metadata": {
    "execution": {
     "iopub.execute_input": "2022-08-30T15:51:53.913907Z",
     "iopub.status.busy": "2022-08-30T15:51:53.913486Z",
     "iopub.status.idle": "2022-08-30T15:51:53.939931Z",
     "shell.execute_reply": "2022-08-30T15:51:53.938077Z"
    },
    "papermill": {
     "duration": 0.057262,
     "end_time": "2022-08-30T15:51:53.942530",
     "exception": false,
     "start_time": "2022-08-30T15:51:53.885268",
     "status": "completed"
    },
    "tags": []
   },
   "outputs": [
    {
     "name": "stdout",
     "output_type": "stream",
     "text": [
      "<class 'pandas.core.frame.DataFrame'>\n",
      "RangeIndex: 1303 entries, 0 to 1302\n",
      "Data columns (total 12 columns):\n",
      " #   Column            Non-Null Count  Dtype  \n",
      "---  ------            --------------  -----  \n",
      " 0   Unnamed: 0        1303 non-null   int64  \n",
      " 1   Company           1303 non-null   object \n",
      " 2   TypeName          1303 non-null   object \n",
      " 3   Inches            1303 non-null   float64\n",
      " 4   ScreenResolution  1303 non-null   object \n",
      " 5   Cpu               1303 non-null   object \n",
      " 6   Ram               1303 non-null   object \n",
      " 7   Memory            1303 non-null   object \n",
      " 8   Gpu               1303 non-null   object \n",
      " 9   OpSys             1303 non-null   object \n",
      " 10  Weight            1303 non-null   object \n",
      " 11  Price             1303 non-null   float64\n",
      "dtypes: float64(2), int64(1), object(9)\n",
      "memory usage: 122.3+ KB\n"
     ]
    }
   ],
   "source": [
    "df.info()"
   ]
  },
  {
   "cell_type": "markdown",
   "id": "27f88839",
   "metadata": {
    "papermill": {
     "duration": 0.026478,
     "end_time": "2022-08-30T15:51:53.995510",
     "exception": false,
     "start_time": "2022-08-30T15:51:53.969032",
     "status": "completed"
    },
    "tags": []
   },
   "source": [
    "* here, we can see that the Columns - Ram, Memory & Weight have data type of Object we will convert to numeric data type in cleaning process."
   ]
  },
  {
   "cell_type": "code",
   "execution_count": 6,
   "id": "5d36410b",
   "metadata": {
    "execution": {
     "iopub.execute_input": "2022-08-30T15:51:54.051138Z",
     "iopub.status.busy": "2022-08-30T15:51:54.050356Z",
     "iopub.status.idle": "2022-08-30T15:51:54.061635Z",
     "shell.execute_reply": "2022-08-30T15:51:54.060701Z"
    },
    "papermill": {
     "duration": 0.042136,
     "end_time": "2022-08-30T15:51:54.063828",
     "exception": false,
     "start_time": "2022-08-30T15:51:54.021692",
     "status": "completed"
    },
    "tags": []
   },
   "outputs": [
    {
     "data": {
      "text/plain": [
       "0"
      ]
     },
     "execution_count": 6,
     "metadata": {},
     "output_type": "execute_result"
    }
   ],
   "source": [
    "# Chcecking for duplicates \n",
    "df.duplicated().sum()"
   ]
  },
  {
   "cell_type": "markdown",
   "id": "5c2ff3f0",
   "metadata": {
    "papermill": {
     "duration": 0.025856,
     "end_time": "2022-08-30T15:51:54.116418",
     "exception": false,
     "start_time": "2022-08-30T15:51:54.090562",
     "status": "completed"
    },
    "tags": []
   },
   "source": [
    "* there is no duplicates values in dataset."
   ]
  },
  {
   "cell_type": "code",
   "execution_count": 7,
   "id": "934d5698",
   "metadata": {
    "execution": {
     "iopub.execute_input": "2022-08-30T15:51:54.173335Z",
     "iopub.status.busy": "2022-08-30T15:51:54.172606Z",
     "iopub.status.idle": "2022-08-30T15:51:54.181687Z",
     "shell.execute_reply": "2022-08-30T15:51:54.180734Z"
    },
    "papermill": {
     "duration": 0.040151,
     "end_time": "2022-08-30T15:51:54.184260",
     "exception": false,
     "start_time": "2022-08-30T15:51:54.144109",
     "status": "completed"
    },
    "tags": []
   },
   "outputs": [
    {
     "data": {
      "text/plain": [
       "Unnamed: 0          0\n",
       "Company             0\n",
       "TypeName            0\n",
       "Inches              0\n",
       "ScreenResolution    0\n",
       "Cpu                 0\n",
       "Ram                 0\n",
       "Memory              0\n",
       "Gpu                 0\n",
       "OpSys               0\n",
       "Weight              0\n",
       "Price               0\n",
       "dtype: int64"
      ]
     },
     "execution_count": 7,
     "metadata": {},
     "output_type": "execute_result"
    }
   ],
   "source": [
    "# Checking if there any null values in our dataset\n",
    "df.isnull().sum()"
   ]
  },
  {
   "cell_type": "markdown",
   "id": "f1cb0a6b",
   "metadata": {
    "papermill": {
     "duration": 0.028871,
     "end_time": "2022-08-30T15:51:54.240235",
     "exception": false,
     "start_time": "2022-08-30T15:51:54.211364",
     "status": "completed"
    },
    "tags": []
   },
   "source": [
    "* So, there is no null values in data set & that's cool."
   ]
  },
  {
   "cell_type": "markdown",
   "id": "5a961f9f",
   "metadata": {
    "papermill": {
     "duration": 0.026387,
     "end_time": "2022-08-30T15:51:54.293211",
     "exception": false,
     "start_time": "2022-08-30T15:51:54.266824",
     "status": "completed"
    },
    "tags": []
   },
   "source": [
    "## <h1 style='background:#AC7E7E; border:2; border-radius: 20px; font-size:250%; font-weight: bold; color:white'><center>Cleaning and Preprcessing </center></h1>"
   ]
  },
  {
   "cell_type": "code",
   "execution_count": 8,
   "id": "13abd109",
   "metadata": {
    "execution": {
     "iopub.execute_input": "2022-08-30T15:51:54.348634Z",
     "iopub.status.busy": "2022-08-30T15:51:54.347905Z",
     "iopub.status.idle": "2022-08-30T15:51:54.355001Z",
     "shell.execute_reply": "2022-08-30T15:51:54.354101Z"
    },
    "papermill": {
     "duration": 0.03719,
     "end_time": "2022-08-30T15:51:54.357386",
     "exception": false,
     "start_time": "2022-08-30T15:51:54.320196",
     "status": "completed"
    },
    "tags": []
   },
   "outputs": [],
   "source": [
    "# Droping the unnamed column s\n",
    "df.drop(columns = ['Unnamed: 0'],inplace = True)"
   ]
  },
  {
   "cell_type": "code",
   "execution_count": 9,
   "id": "ff71d14e",
   "metadata": {
    "execution": {
     "iopub.execute_input": "2022-08-30T15:51:54.413575Z",
     "iopub.status.busy": "2022-08-30T15:51:54.412784Z",
     "iopub.status.idle": "2022-08-30T15:51:54.431699Z",
     "shell.execute_reply": "2022-08-30T15:51:54.430454Z"
    },
    "papermill": {
     "duration": 0.049835,
     "end_time": "2022-08-30T15:51:54.434108",
     "exception": false,
     "start_time": "2022-08-30T15:51:54.384273",
     "status": "completed"
    },
    "tags": []
   },
   "outputs": [
    {
     "data": {
      "text/html": [
       "<div>\n",
       "<style scoped>\n",
       "    .dataframe tbody tr th:only-of-type {\n",
       "        vertical-align: middle;\n",
       "    }\n",
       "\n",
       "    .dataframe tbody tr th {\n",
       "        vertical-align: top;\n",
       "    }\n",
       "\n",
       "    .dataframe thead th {\n",
       "        text-align: right;\n",
       "    }\n",
       "</style>\n",
       "<table border=\"1\" class=\"dataframe\">\n",
       "  <thead>\n",
       "    <tr style=\"text-align: right;\">\n",
       "      <th></th>\n",
       "      <th>Company</th>\n",
       "      <th>TypeName</th>\n",
       "      <th>Inches</th>\n",
       "      <th>ScreenResolution</th>\n",
       "      <th>Cpu</th>\n",
       "      <th>Ram</th>\n",
       "      <th>Memory</th>\n",
       "      <th>Gpu</th>\n",
       "      <th>OpSys</th>\n",
       "      <th>Weight</th>\n",
       "      <th>Price</th>\n",
       "    </tr>\n",
       "  </thead>\n",
       "  <tbody>\n",
       "    <tr>\n",
       "      <th>0</th>\n",
       "      <td>Apple</td>\n",
       "      <td>Ultrabook</td>\n",
       "      <td>13.3</td>\n",
       "      <td>IPS Panel Retina Display 2560x1600</td>\n",
       "      <td>Intel Core i5 2.3GHz</td>\n",
       "      <td>8GB</td>\n",
       "      <td>128GB SSD</td>\n",
       "      <td>Intel Iris Plus Graphics 640</td>\n",
       "      <td>macOS</td>\n",
       "      <td>1.37kg</td>\n",
       "      <td>71378.6832</td>\n",
       "    </tr>\n",
       "    <tr>\n",
       "      <th>1</th>\n",
       "      <td>Apple</td>\n",
       "      <td>Ultrabook</td>\n",
       "      <td>13.3</td>\n",
       "      <td>1440x900</td>\n",
       "      <td>Intel Core i5 1.8GHz</td>\n",
       "      <td>8GB</td>\n",
       "      <td>128GB Flash Storage</td>\n",
       "      <td>Intel HD Graphics 6000</td>\n",
       "      <td>macOS</td>\n",
       "      <td>1.34kg</td>\n",
       "      <td>47895.5232</td>\n",
       "    </tr>\n",
       "    <tr>\n",
       "      <th>2</th>\n",
       "      <td>HP</td>\n",
       "      <td>Notebook</td>\n",
       "      <td>15.6</td>\n",
       "      <td>Full HD 1920x1080</td>\n",
       "      <td>Intel Core i5 7200U 2.5GHz</td>\n",
       "      <td>8GB</td>\n",
       "      <td>256GB SSD</td>\n",
       "      <td>Intel HD Graphics 620</td>\n",
       "      <td>No OS</td>\n",
       "      <td>1.86kg</td>\n",
       "      <td>30636.0000</td>\n",
       "    </tr>\n",
       "  </tbody>\n",
       "</table>\n",
       "</div>"
      ],
      "text/plain": [
       "  Company   TypeName  Inches                    ScreenResolution  \\\n",
       "0   Apple  Ultrabook    13.3  IPS Panel Retina Display 2560x1600   \n",
       "1   Apple  Ultrabook    13.3                            1440x900   \n",
       "2      HP   Notebook    15.6                   Full HD 1920x1080   \n",
       "\n",
       "                          Cpu  Ram               Memory  \\\n",
       "0        Intel Core i5 2.3GHz  8GB            128GB SSD   \n",
       "1        Intel Core i5 1.8GHz  8GB  128GB Flash Storage   \n",
       "2  Intel Core i5 7200U 2.5GHz  8GB            256GB SSD   \n",
       "\n",
       "                            Gpu  OpSys  Weight       Price  \n",
       "0  Intel Iris Plus Graphics 640  macOS  1.37kg  71378.6832  \n",
       "1        Intel HD Graphics 6000  macOS  1.34kg  47895.5232  \n",
       "2         Intel HD Graphics 620  No OS  1.86kg  30636.0000  "
      ]
     },
     "execution_count": 9,
     "metadata": {},
     "output_type": "execute_result"
    }
   ],
   "source": [
    "df.head(3)"
   ]
  },
  {
   "cell_type": "code",
   "execution_count": 10,
   "id": "2bd0ee3a",
   "metadata": {
    "execution": {
     "iopub.execute_input": "2022-08-30T15:51:54.489777Z",
     "iopub.status.busy": "2022-08-30T15:51:54.488944Z",
     "iopub.status.idle": "2022-08-30T15:51:54.496815Z",
     "shell.execute_reply": "2022-08-30T15:51:54.495734Z"
    },
    "papermill": {
     "duration": 0.038567,
     "end_time": "2022-08-30T15:51:54.499335",
     "exception": false,
     "start_time": "2022-08-30T15:51:54.460768",
     "status": "completed"
    },
    "tags": []
   },
   "outputs": [],
   "source": [
    "# Removing the GB string form Ram column\n",
    "df['Ram'] = df['Ram'].str.replace('GB', '')"
   ]
  },
  {
   "cell_type": "code",
   "execution_count": 11,
   "id": "f40c314a",
   "metadata": {
    "execution": {
     "iopub.execute_input": "2022-08-30T15:51:54.555511Z",
     "iopub.status.busy": "2022-08-30T15:51:54.554724Z",
     "iopub.status.idle": "2022-08-30T15:51:54.562142Z",
     "shell.execute_reply": "2022-08-30T15:51:54.561198Z"
    },
    "papermill": {
     "duration": 0.038501,
     "end_time": "2022-08-30T15:51:54.564555",
     "exception": false,
     "start_time": "2022-08-30T15:51:54.526054",
     "status": "completed"
    },
    "tags": []
   },
   "outputs": [],
   "source": [
    "## Removing the KG string form weight column\n",
    "df['Weight'] = df['Weight'].str.replace('kg', '')"
   ]
  },
  {
   "cell_type": "code",
   "execution_count": 12,
   "id": "e34f76f8",
   "metadata": {
    "execution": {
     "iopub.execute_input": "2022-08-30T15:51:54.619731Z",
     "iopub.status.busy": "2022-08-30T15:51:54.619009Z",
     "iopub.status.idle": "2022-08-30T15:51:54.626235Z",
     "shell.execute_reply": "2022-08-30T15:51:54.625429Z"
    },
    "papermill": {
     "duration": 0.037545,
     "end_time": "2022-08-30T15:51:54.628605",
     "exception": false,
     "start_time": "2022-08-30T15:51:54.591060",
     "status": "completed"
    },
    "tags": []
   },
   "outputs": [],
   "source": [
    "# Changing the dtype of column - Ram and Weight Column\n",
    "df['Ram'] = df['Ram'].astype('int32')\n",
    "df['Weight'] = df['Weight'].astype('float32')"
   ]
  },
  {
   "cell_type": "code",
   "execution_count": 13,
   "id": "de2283ad",
   "metadata": {
    "execution": {
     "iopub.execute_input": "2022-08-30T15:51:54.683907Z",
     "iopub.status.busy": "2022-08-30T15:51:54.683123Z",
     "iopub.status.idle": "2022-08-30T15:51:54.698616Z",
     "shell.execute_reply": "2022-08-30T15:51:54.697187Z"
    },
    "papermill": {
     "duration": 0.046095,
     "end_time": "2022-08-30T15:51:54.701085",
     "exception": false,
     "start_time": "2022-08-30T15:51:54.654990",
     "status": "completed"
    },
    "tags": []
   },
   "outputs": [
    {
     "name": "stdout",
     "output_type": "stream",
     "text": [
      "<class 'pandas.core.frame.DataFrame'>\n",
      "RangeIndex: 1303 entries, 0 to 1302\n",
      "Data columns (total 11 columns):\n",
      " #   Column            Non-Null Count  Dtype  \n",
      "---  ------            --------------  -----  \n",
      " 0   Company           1303 non-null   object \n",
      " 1   TypeName          1303 non-null   object \n",
      " 2   Inches            1303 non-null   float64\n",
      " 3   ScreenResolution  1303 non-null   object \n",
      " 4   Cpu               1303 non-null   object \n",
      " 5   Ram               1303 non-null   int32  \n",
      " 6   Memory            1303 non-null   object \n",
      " 7   Gpu               1303 non-null   object \n",
      " 8   OpSys             1303 non-null   object \n",
      " 9   Weight            1303 non-null   float32\n",
      " 10  Price             1303 non-null   float64\n",
      "dtypes: float32(1), float64(2), int32(1), object(7)\n",
      "memory usage: 101.9+ KB\n"
     ]
    }
   ],
   "source": [
    "df.info()"
   ]
  },
  {
   "cell_type": "markdown",
   "id": "ebaa8b72",
   "metadata": {
    "papermill": {
     "duration": 0.02642,
     "end_time": "2022-08-30T15:51:54.754054",
     "exception": false,
     "start_time": "2022-08-30T15:51:54.727634",
     "status": "completed"
    },
    "tags": []
   },
   "source": [
    "## <h1 style='background:#AC7E7E; border:2; border-radius: 20px; font-size:250%; font-weight: bold; color:white'><center>Feature Analysis</center></h1>"
   ]
  },
  {
   "cell_type": "markdown",
   "id": "fec5d25e",
   "metadata": {
    "papermill": {
     "duration": 0.02808,
     "end_time": "2022-08-30T15:51:54.808836",
     "exception": false,
     "start_time": "2022-08-30T15:51:54.780756",
     "status": "completed"
    },
    "tags": []
   },
   "source": [
    "#### 4.1 Price"
   ]
  },
  {
   "cell_type": "code",
   "execution_count": 14,
   "id": "f1718767",
   "metadata": {
    "execution": {
     "iopub.execute_input": "2022-08-30T15:51:54.864469Z",
     "iopub.status.busy": "2022-08-30T15:51:54.863655Z",
     "iopub.status.idle": "2022-08-30T15:51:55.262328Z",
     "shell.execute_reply": "2022-08-30T15:51:55.261160Z"
    },
    "papermill": {
     "duration": 0.429224,
     "end_time": "2022-08-30T15:51:55.264791",
     "exception": false,
     "start_time": "2022-08-30T15:51:54.835567",
     "status": "completed"
    },
    "tags": []
   },
   "outputs": [
    {
     "name": "stderr",
     "output_type": "stream",
     "text": [
      "/opt/conda/lib/python3.7/site-packages/seaborn/distributions.py:2619: FutureWarning: `distplot` is a deprecated function and will be removed in a future version. Please adapt your code to use either `displot` (a figure-level function with similar flexibility) or `histplot` (an axes-level function for histograms).\n",
      "  warnings.warn(msg, FutureWarning)\n"
     ]
    },
    {
     "data": {
      "text/plain": [
       "<AxesSubplot:xlabel='Price', ylabel='Density'>"
      ]
     },
     "execution_count": 14,
     "metadata": {},
     "output_type": "execute_result"
    },
    {
     "data": {
      "image/png": "[encoded data removed]",
      "text/plain": [
       "<Figure size 432x288 with 1 Axes>"
      ]
     },
     "metadata": {},
     "output_type": "display_data"
    }
   ],
   "source": [
    "# Price Distribution.\n",
    "sns.distplot(df['Price'])"
   ]
  },
  {
   "cell_type": "code",
   "execution_count": 15,
   "id": "31708503",
   "metadata": {
    "execution": {
     "iopub.execute_input": "2022-08-30T15:51:55.321855Z",
     "iopub.status.busy": "2022-08-30T15:51:55.320652Z",
     "iopub.status.idle": "2022-08-30T15:51:55.328178Z",
     "shell.execute_reply": "2022-08-30T15:51:55.327243Z"
    },
    "papermill": {
     "duration": 0.038319,
     "end_time": "2022-08-30T15:51:55.330551",
     "exception": false,
     "start_time": "2022-08-30T15:51:55.292232",
     "status": "completed"
    },
    "tags": []
   },
   "outputs": [],
   "source": [
    "# Making function for count plot\n",
    "font = {'fontname':'Arial', 'size':'16', 'color':'black', 'weight':'normal',\n",
    "                  'verticalalignment':'bottom'}\n",
    "\n",
    "def countplot(column, xlabel, ylabel, title):\n",
    "    plt.figure(figsize = (18,7))\n",
    "    plot = sns.countplot(x= column, data = df)\n",
    "    plt.setp(plot.get_xticklabels(), rotation=0)\n",
    "    plt.xlabel(xlabel)\n",
    "    plt.ylabel(ylabel, **font)\n",
    "    plt.title(title, **font)\n",
    "    plt.show()"
   ]
  },
  {
   "cell_type": "markdown",
   "id": "d315f61b",
   "metadata": {
    "papermill": {
     "duration": 0.028303,
     "end_time": "2022-08-30T15:51:55.386240",
     "exception": false,
     "start_time": "2022-08-30T15:51:55.357937",
     "status": "completed"
    },
    "tags": []
   },
   "source": [
    "#### 4.2 Company"
   ]
  },
  {
   "cell_type": "code",
   "execution_count": 16,
   "id": "01fa03f8",
   "metadata": {
    "execution": {
     "iopub.execute_input": "2022-08-30T15:51:55.443435Z",
     "iopub.status.busy": "2022-08-30T15:51:55.443025Z",
     "iopub.status.idle": "2022-08-30T15:51:55.758014Z",
     "shell.execute_reply": "2022-08-30T15:51:55.756846Z"
    },
    "papermill": {
     "duration": 0.34697,
     "end_time": "2022-08-30T15:51:55.760690",
     "exception": false,
     "start_time": "2022-08-30T15:51:55.413720",
     "status": "completed"
    },
    "tags": []
   },
   "outputs": [
    {
     "data": {
      "image/png": "[encoded data removed]",
      "text/plain": [
       "<Figure size 1296x504 with 1 Axes>"
      ]
     },
     "metadata": {},
     "output_type": "display_data"
    }
   ],
   "source": [
    "countplot('Company', 'Company', 'Number of occurresnces', 'Count plot showing the number of Comapnies')"
   ]
  },
  {
   "cell_type": "markdown",
   "id": "6252e801",
   "metadata": {
    "papermill": {
     "duration": 0.027705,
     "end_time": "2022-08-30T15:51:55.816188",
     "exception": false,
     "start_time": "2022-08-30T15:51:55.788483",
     "status": "completed"
    },
    "tags": []
   },
   "source": [
    "* Most of the laptop brands are Dell, lenovo and Hp."
   ]
  },
  {
   "cell_type": "code",
   "execution_count": 17,
   "id": "70e8d0ba",
   "metadata": {
    "execution": {
     "iopub.execute_input": "2022-08-30T15:51:55.875414Z",
     "iopub.status.busy": "2022-08-30T15:51:55.874613Z",
     "iopub.status.idle": "2022-08-30T15:51:56.632467Z",
     "shell.execute_reply": "2022-08-30T15:51:56.631429Z"
    },
    "papermill": {
     "duration": 0.789863,
     "end_time": "2022-08-30T15:51:56.635064",
     "exception": false,
     "start_time": "2022-08-30T15:51:55.845201",
     "status": "completed"
    },
    "tags": []
   },
   "outputs": [
    {
     "data": {
      "image/png": "[encoded data removed]",
      "text/plain": [
       "<Figure size 1080x432 with 1 Axes>"
      ]
     },
     "metadata": {},
     "output_type": "display_data"
    }
   ],
   "source": [
    "plt.figure(figsize = (15,6))\n",
    "plot = sns.barplot(x = df['Company'], y= df['Price'])\n",
    "plt.xticks(rotation = 'vertical')\n",
    "plt.setp(plot.get_xticklabels(), rotation=0)\n",
    "plt.xlabel('Company',  **font)\n",
    "plt.ylabel('Price', **font)\n",
    "plt.title('Company VS Price', **font)\n",
    "plt.show()\n",
    "plt.show()"
   ]
  },
  {
   "cell_type": "markdown",
   "id": "f3c3608a",
   "metadata": {
    "papermill": {
     "duration": 0.027606,
     "end_time": "2022-08-30T15:51:56.691251",
     "exception": false,
     "start_time": "2022-08-30T15:51:56.663645",
     "status": "completed"
    },
    "tags": []
   },
   "source": [
    "* Here, we can see that laptop Razer brands are expensive than other."
   ]
  },
  {
   "cell_type": "markdown",
   "id": "39049bd1",
   "metadata": {
    "papermill": {
     "duration": 0.027944,
     "end_time": "2022-08-30T15:51:56.747287",
     "exception": false,
     "start_time": "2022-08-30T15:51:56.719343",
     "status": "completed"
    },
    "tags": []
   },
   "source": [
    "#### 4.3 TypeName"
   ]
  },
  {
   "cell_type": "code",
   "execution_count": 18,
   "id": "bd63499f",
   "metadata": {
    "execution": {
     "iopub.execute_input": "2022-08-30T15:51:56.805331Z",
     "iopub.status.busy": "2022-08-30T15:51:56.804566Z",
     "iopub.status.idle": "2022-08-30T15:51:57.057299Z",
     "shell.execute_reply": "2022-08-30T15:51:57.056414Z"
    },
    "papermill": {
     "duration": 0.284755,
     "end_time": "2022-08-30T15:51:57.059845",
     "exception": false,
     "start_time": "2022-08-30T15:51:56.775090",
     "status": "completed"
    },
    "tags": []
   },
   "outputs": [
    {
     "data": {
      "image/png": "[encoded data removed]",
      "text/plain": [
       "<Figure size 1296x504 with 1 Axes>"
      ]
     },
     "metadata": {},
     "output_type": "display_data"
    }
   ],
   "source": [
    "countplot('TypeName', 'Type Name', 'Number of occurrences', 'Graph shows numbers of Laptop Type')"
   ]
  },
  {
   "cell_type": "markdown",
   "id": "6c2e6f88",
   "metadata": {
    "papermill": {
     "duration": 0.034832,
     "end_time": "2022-08-30T15:51:57.123787",
     "exception": false,
     "start_time": "2022-08-30T15:51:57.088955",
     "status": "completed"
    },
    "tags": []
   },
   "source": [
    "* Laptop type Notebook are the most in the data set"
   ]
  },
  {
   "cell_type": "code",
   "execution_count": 19,
   "id": "b5517310",
   "metadata": {
    "execution": {
     "iopub.execute_input": "2022-08-30T15:51:57.187475Z",
     "iopub.status.busy": "2022-08-30T15:51:57.186768Z",
     "iopub.status.idle": "2022-08-30T15:51:57.579222Z",
     "shell.execute_reply": "2022-08-30T15:51:57.577843Z"
    },
    "papermill": {
     "duration": 0.428557,
     "end_time": "2022-08-30T15:51:57.581998",
     "exception": false,
     "start_time": "2022-08-30T15:51:57.153441",
     "status": "completed"
    },
    "tags": []
   },
   "outputs": [
    {
     "data": {
      "image/png": "[encoded data removed]",
      "text/plain": [
       "<Figure size 792x432 with 1 Axes>"
      ]
     },
     "metadata": {},
     "output_type": "display_data"
    }
   ],
   "source": [
    "plt.figure(figsize = (11,6))\n",
    "sns.barplot(x = df['TypeName'], y= df['Price'])\n",
    "plt.xticks(rotation = 'vertical')\n",
    "plt.title('TypeName Vs Price')\n",
    "plt.show()"
   ]
  },
  {
   "cell_type": "markdown",
   "id": "9a850a23",
   "metadata": {
    "papermill": {
     "duration": 0.030556,
     "end_time": "2022-08-30T15:51:57.641991",
     "exception": false,
     "start_time": "2022-08-30T15:51:57.611435",
     "status": "completed"
    },
    "tags": []
   },
   "source": [
    "* Workstation are the most costly than others."
   ]
  },
  {
   "cell_type": "markdown",
   "id": "b6038195",
   "metadata": {
    "papermill": {
     "duration": 0.03129,
     "end_time": "2022-08-30T15:51:57.703346",
     "exception": false,
     "start_time": "2022-08-30T15:51:57.672056",
     "status": "completed"
    },
    "tags": []
   },
   "source": [
    "#### 4.4 Size(inch)"
   ]
  },
  {
   "cell_type": "code",
   "execution_count": 20,
   "id": "47ecd639",
   "metadata": {
    "execution": {
     "iopub.execute_input": "2022-08-30T15:51:57.765070Z",
     "iopub.status.busy": "2022-08-30T15:51:57.764679Z",
     "iopub.status.idle": "2022-08-30T15:51:58.071953Z",
     "shell.execute_reply": "2022-08-30T15:51:58.070646Z"
    },
    "papermill": {
     "duration": 0.341769,
     "end_time": "2022-08-30T15:51:58.075331",
     "exception": false,
     "start_time": "2022-08-30T15:51:57.733562",
     "status": "completed"
    },
    "tags": []
   },
   "outputs": [
    {
     "name": "stderr",
     "output_type": "stream",
     "text": [
      "/opt/conda/lib/python3.7/site-packages/seaborn/distributions.py:2619: FutureWarning: `distplot` is a deprecated function and will be removed in a future version. Please adapt your code to use either `displot` (a figure-level function with similar flexibility) or `histplot` (an axes-level function for histograms).\n",
      "  warnings.warn(msg, FutureWarning)\n"
     ]
    },
    {
     "data": {
      "text/plain": [
       "<AxesSubplot:xlabel='Inches', ylabel='Density'>"
      ]
     },
     "execution_count": 20,
     "metadata": {},
     "output_type": "execute_result"
    },
    {
     "data": {
      "image/png": "[encoded data removed]",
      "text/plain": [
       "<Figure size 432x288 with 1 Axes>"
      ]
     },
     "metadata": {},
     "output_type": "display_data"
    }
   ],
   "source": [
    "sns.distplot(df['Inches'])"
   ]
  },
  {
   "cell_type": "code",
   "execution_count": 21,
   "id": "bd5d5ce0",
   "metadata": {
    "execution": {
     "iopub.execute_input": "2022-08-30T15:51:58.141964Z",
     "iopub.status.busy": "2022-08-30T15:51:58.141288Z",
     "iopub.status.idle": "2022-08-30T15:51:58.448453Z",
     "shell.execute_reply": "2022-08-30T15:51:58.447498Z"
    },
    "papermill": {
     "duration": 0.344045,
     "end_time": "2022-08-30T15:51:58.450773",
     "exception": false,
     "start_time": "2022-08-30T15:51:58.106728",
     "status": "completed"
    },
    "tags": []
   },
   "outputs": [
    {
     "data": {
      "text/plain": [
       "<AxesSubplot:xlabel='Inches', ylabel='Price'>"
      ]
     },
     "execution_count": 21,
     "metadata": {},
     "output_type": "execute_result"
    },
    {
     "data": {
      "image/png": "[encoded data removed]",
      "text/plain": [
       "<Figure size 720x432 with 1 Axes>"
      ]
     },
     "metadata": {},
     "output_type": "display_data"
    }
   ],
   "source": [
    "plt.figure(figsize = (10,6))\n",
    "sns.scatterplot(x = df['Inches'], y = df['Price'])"
   ]
  },
  {
   "cell_type": "markdown",
   "id": "941ca0e6",
   "metadata": {
    "papermill": {
     "duration": 0.031546,
     "end_time": "2022-08-30T15:51:58.512794",
     "exception": false,
     "start_time": "2022-08-30T15:51:58.481248",
     "status": "completed"
    },
    "tags": []
   },
   "source": [
    "* from above graph we can see that the higher the size of laptop screeen the higher the price of laptop.\n",
    "* inshort Size does matter :)"
   ]
  },
  {
   "cell_type": "markdown",
   "id": "80012fd6",
   "metadata": {
    "papermill": {
     "duration": 0.029884,
     "end_time": "2022-08-30T15:51:58.575021",
     "exception": false,
     "start_time": "2022-08-30T15:51:58.545137",
     "status": "completed"
    },
    "tags": []
   },
   "source": [
    "## <h1 style='background:#AC7E7E; border:2; border-radius: 20px; font-size:250%; font-weight: bold; color:white'><center>Feature Engineering</center></h1>"
   ]
  },
  {
   "cell_type": "code",
   "execution_count": 22,
   "id": "9c780a90",
   "metadata": {
    "execution": {
     "iopub.execute_input": "2022-08-30T15:51:58.638110Z",
     "iopub.status.busy": "2022-08-30T15:51:58.637071Z",
     "iopub.status.idle": "2022-08-30T15:51:58.646118Z",
     "shell.execute_reply": "2022-08-30T15:51:58.645192Z"
    },
    "papermill": {
     "duration": 0.043163,
     "end_time": "2022-08-30T15:51:58.648458",
     "exception": false,
     "start_time": "2022-08-30T15:51:58.605295",
     "status": "completed"
    },
    "tags": []
   },
   "outputs": [
    {
     "data": {
      "text/plain": [
       "Full HD 1920x1080                                507\n",
       "1366x768                                         281\n",
       "IPS Panel Full HD 1920x1080                      230\n",
       "IPS Panel Full HD / Touchscreen 1920x1080         53\n",
       "Full HD / Touchscreen 1920x1080                   47\n",
       "1600x900                                          23\n",
       "Touchscreen 1366x768                              16\n",
       "Quad HD+ / Touchscreen 3200x1800                  15\n",
       "IPS Panel 4K Ultra HD 3840x2160                   12\n",
       "IPS Panel 4K Ultra HD / Touchscreen 3840x2160     11\n",
       "4K Ultra HD / Touchscreen 3840x2160               10\n",
       "4K Ultra HD 3840x2160                              7\n",
       "Touchscreen 2560x1440                              7\n",
       "IPS Panel 1366x768                                 7\n",
       "IPS Panel Quad HD+ / Touchscreen 3200x1800         6\n",
       "IPS Panel Retina Display 2560x1600                 6\n",
       "IPS Panel Retina Display 2304x1440                 6\n",
       "Touchscreen 2256x1504                              6\n",
       "IPS Panel Touchscreen 2560x1440                    5\n",
       "IPS Panel Retina Display 2880x1800                 4\n",
       "IPS Panel Touchscreen 1920x1200                    4\n",
       "1440x900                                           4\n",
       "IPS Panel 2560x1440                                4\n",
       "IPS Panel Quad HD+ 2560x1440                       3\n",
       "Quad HD+ 3200x1800                                 3\n",
       "1920x1080                                          3\n",
       "Touchscreen 2400x1600                              3\n",
       "2560x1440                                          3\n",
       "IPS Panel Touchscreen 1366x768                     3\n",
       "IPS Panel Touchscreen / 4K Ultra HD 3840x2160      2\n",
       "IPS Panel Full HD 2160x1440                        2\n",
       "IPS Panel Quad HD+ 3200x1800                       2\n",
       "IPS Panel Retina Display 2736x1824                 1\n",
       "IPS Panel Full HD 1920x1200                        1\n",
       "IPS Panel Full HD 2560x1440                        1\n",
       "IPS Panel Full HD 1366x768                         1\n",
       "Touchscreen / Full HD 1920x1080                    1\n",
       "Touchscreen / Quad HD+ 3200x1800                   1\n",
       "Touchscreen / 4K Ultra HD 3840x2160                1\n",
       "IPS Panel Touchscreen 2400x1600                    1\n",
       "Name: ScreenResolution, dtype: int64"
      ]
     },
     "execution_count": 22,
     "metadata": {},
     "output_type": "execute_result"
    }
   ],
   "source": [
    "df['ScreenResolution'].value_counts()"
   ]
  },
  {
   "cell_type": "code",
   "execution_count": 23,
   "id": "e4530c8a",
   "metadata": {
    "execution": {
     "iopub.execute_input": "2022-08-30T15:51:58.712626Z",
     "iopub.status.busy": "2022-08-30T15:51:58.712200Z",
     "iopub.status.idle": "2022-08-30T15:51:58.719482Z",
     "shell.execute_reply": "2022-08-30T15:51:58.718331Z"
    },
    "papermill": {
     "duration": 0.042422,
     "end_time": "2022-08-30T15:51:58.722155",
     "exception": false,
     "start_time": "2022-08-30T15:51:58.679733",
     "status": "completed"
    },
    "scrolled": true,
    "tags": []
   },
   "outputs": [],
   "source": [
    "# Fetching touchscreen data from screenresolution column\n",
    "df['touchscreen'] = df['ScreenResolution'].apply(lambda x:1 if \"Touchscreen\" in x else 0)"
   ]
  },
  {
   "cell_type": "code",
   "execution_count": 24,
   "id": "4ff493d1",
   "metadata": {
    "execution": {
     "iopub.execute_input": "2022-08-30T15:51:58.786334Z",
     "iopub.status.busy": "2022-08-30T15:51:58.785899Z",
     "iopub.status.idle": "2022-08-30T15:51:58.808902Z",
     "shell.execute_reply": "2022-08-30T15:51:58.807631Z"
    },
    "papermill": {
     "duration": 0.058557,
     "end_time": "2022-08-30T15:51:58.811142",
     "exception": false,
     "start_time": "2022-08-30T15:51:58.752585",
     "status": "completed"
    },
    "tags": []
   },
   "outputs": [
    {
     "data": {
      "text/html": [
       "<div>\n",
       "<style scoped>\n",
       "    .dataframe tbody tr th:only-of-type {\n",
       "        vertical-align: middle;\n",
       "    }\n",
       "\n",
       "    .dataframe tbody tr th {\n",
       "        vertical-align: top;\n",
       "    }\n",
       "\n",
       "    .dataframe thead th {\n",
       "        text-align: right;\n",
       "    }\n",
       "</style>\n",
       "<table border=\"1\" class=\"dataframe\">\n",
       "  <thead>\n",
       "    <tr style=\"text-align: right;\">\n",
       "      <th></th>\n",
       "      <th>Company</th>\n",
       "      <th>TypeName</th>\n",
       "      <th>Inches</th>\n",
       "      <th>ScreenResolution</th>\n",
       "      <th>Cpu</th>\n",
       "      <th>Ram</th>\n",
       "      <th>Memory</th>\n",
       "      <th>Gpu</th>\n",
       "      <th>OpSys</th>\n",
       "      <th>Weight</th>\n",
       "      <th>Price</th>\n",
       "      <th>touchscreen</th>\n",
       "    </tr>\n",
       "  </thead>\n",
       "  <tbody>\n",
       "    <tr>\n",
       "      <th>942</th>\n",
       "      <td>Acer</td>\n",
       "      <td>Notebook</td>\n",
       "      <td>15.6</td>\n",
       "      <td>1366x768</td>\n",
       "      <td>Intel Core i5 7200U 2.5GHz</td>\n",
       "      <td>4</td>\n",
       "      <td>500GB HDD</td>\n",
       "      <td>Intel HD Graphics 620</td>\n",
       "      <td>Windows 10</td>\n",
       "      <td>2.23</td>\n",
       "      <td>32980.32</td>\n",
       "      <td>0</td>\n",
       "    </tr>\n",
       "    <tr>\n",
       "      <th>65</th>\n",
       "      <td>Asus</td>\n",
       "      <td>Ultrabook</td>\n",
       "      <td>15.6</td>\n",
       "      <td>Full HD 1920x1080</td>\n",
       "      <td>Intel Core i7 7700HQ 2.8GHz</td>\n",
       "      <td>16</td>\n",
       "      <td>512GB SSD</td>\n",
       "      <td>Nvidia GeForce GTX 1050 Ti</td>\n",
       "      <td>Windows 10</td>\n",
       "      <td>1.80</td>\n",
       "      <td>105654.24</td>\n",
       "      <td>0</td>\n",
       "    </tr>\n",
       "    <tr>\n",
       "      <th>1191</th>\n",
       "      <td>Samsung</td>\n",
       "      <td>2 in 1 Convertible</td>\n",
       "      <td>12.3</td>\n",
       "      <td>IPS Panel Touchscreen 2400x1600</td>\n",
       "      <td>Samsung Cortex A72&amp;A53 2.0GHz</td>\n",
       "      <td>4</td>\n",
       "      <td>32GB Flash Storage</td>\n",
       "      <td>ARM Mali T860 MP4</td>\n",
       "      <td>Chrome OS</td>\n",
       "      <td>1.15</td>\n",
       "      <td>35111.52</td>\n",
       "      <td>1</td>\n",
       "    </tr>\n",
       "  </tbody>\n",
       "</table>\n",
       "</div>"
      ],
      "text/plain": [
       "      Company            TypeName  Inches                 ScreenResolution  \\\n",
       "942      Acer            Notebook    15.6                         1366x768   \n",
       "65       Asus           Ultrabook    15.6                Full HD 1920x1080   \n",
       "1191  Samsung  2 in 1 Convertible    12.3  IPS Panel Touchscreen 2400x1600   \n",
       "\n",
       "                                Cpu  Ram              Memory  \\\n",
       "942      Intel Core i5 7200U 2.5GHz    4           500GB HDD   \n",
       "65      Intel Core i7 7700HQ 2.8GHz   16           512GB SSD   \n",
       "1191  Samsung Cortex A72&A53 2.0GHz    4  32GB Flash Storage   \n",
       "\n",
       "                             Gpu       OpSys  Weight      Price  touchscreen  \n",
       "942        Intel HD Graphics 620  Windows 10    2.23   32980.32            0  \n",
       "65    Nvidia GeForce GTX 1050 Ti  Windows 10    1.80  105654.24            0  \n",
       "1191           ARM Mali T860 MP4   Chrome OS    1.15   35111.52            1  "
      ]
     },
     "execution_count": 24,
     "metadata": {},
     "output_type": "execute_result"
    }
   ],
   "source": [
    "df.sample(3)"
   ]
  },
  {
   "cell_type": "markdown",
   "id": "aac67ef2",
   "metadata": {
    "papermill": {
     "duration": 0.031046,
     "end_time": "2022-08-30T15:51:58.874334",
     "exception": false,
     "start_time": "2022-08-30T15:51:58.843288",
     "status": "completed"
    },
    "tags": []
   },
   "source": [
    "#### 4.5 Screenresolution"
   ]
  },
  {
   "cell_type": "code",
   "execution_count": 25,
   "id": "f68d8639",
   "metadata": {
    "execution": {
     "iopub.execute_input": "2022-08-30T15:51:58.939234Z",
     "iopub.status.busy": "2022-08-30T15:51:58.938483Z",
     "iopub.status.idle": "2022-08-30T15:51:59.105311Z",
     "shell.execute_reply": "2022-08-30T15:51:59.103773Z"
    },
    "papermill": {
     "duration": 0.203708,
     "end_time": "2022-08-30T15:51:59.108671",
     "exception": false,
     "start_time": "2022-08-30T15:51:58.904963",
     "status": "completed"
    },
    "tags": []
   },
   "outputs": [
    {
     "data": {
      "image/png": "[encoded data removed]",
      "text/plain": [
       "<Figure size 1296x504 with 1 Axes>"
      ]
     },
     "metadata": {},
     "output_type": "display_data"
    }
   ],
   "source": [
    "countplot('touchscreen','Touchscreen', 'Numbers of occurrences', 'Graph show the Touchscreen laptops numbers')"
   ]
  },
  {
   "cell_type": "code",
   "execution_count": 26,
   "id": "0d7680b6",
   "metadata": {
    "execution": {
     "iopub.execute_input": "2022-08-30T15:51:59.175049Z",
     "iopub.status.busy": "2022-08-30T15:51:59.174324Z",
     "iopub.status.idle": "2022-08-30T15:51:59.435811Z",
     "shell.execute_reply": "2022-08-30T15:51:59.434252Z"
    },
    "papermill": {
     "duration": 0.297321,
     "end_time": "2022-08-30T15:51:59.438762",
     "exception": false,
     "start_time": "2022-08-30T15:51:59.141441",
     "status": "completed"
    },
    "tags": []
   },
   "outputs": [
    {
     "data": {
      "image/png": "[encoded data removed]",
      "text/plain": [
       "<Figure size 720x432 with 1 Axes>"
      ]
     },
     "metadata": {},
     "output_type": "display_data"
    }
   ],
   "source": [
    "plt.figure(figsize = (10,6))\n",
    "sns.barplot(x = df['touchscreen'], y = df['Price'])\n",
    "plt.title('Touch Screen VS Price', ** font)\n",
    "plt.xlabel('Touchscreen', **font)\n",
    "plt.ylabel('Price', **font)\n",
    "plt.show()"
   ]
  },
  {
   "cell_type": "code",
   "execution_count": 27,
   "id": "e88adbbe",
   "metadata": {
    "execution": {
     "iopub.execute_input": "2022-08-30T15:51:59.503867Z",
     "iopub.status.busy": "2022-08-30T15:51:59.503105Z",
     "iopub.status.idle": "2022-08-30T15:51:59.510121Z",
     "shell.execute_reply": "2022-08-30T15:51:59.509168Z"
    },
    "papermill": {
     "duration": 0.042124,
     "end_time": "2022-08-30T15:51:59.512476",
     "exception": false,
     "start_time": "2022-08-30T15:51:59.470352",
     "status": "completed"
    },
    "tags": []
   },
   "outputs": [],
   "source": [
    "# Fetching if Ips pannel is present in Screenresolution and storing it in new column\n",
    "df['Ips'] = df['ScreenResolution'].apply(lambda x:1 if 'IPS' in x else 0)"
   ]
  },
  {
   "cell_type": "code",
   "execution_count": 28,
   "id": "6ef20ee5",
   "metadata": {
    "execution": {
     "iopub.execute_input": "2022-08-30T15:51:59.581680Z",
     "iopub.status.busy": "2022-08-30T15:51:59.580800Z",
     "iopub.status.idle": "2022-08-30T15:51:59.599848Z",
     "shell.execute_reply": "2022-08-30T15:51:59.598609Z"
    },
    "papermill": {
     "duration": 0.057142,
     "end_time": "2022-08-30T15:51:59.602505",
     "exception": false,
     "start_time": "2022-08-30T15:51:59.545363",
     "status": "completed"
    },
    "tags": []
   },
   "outputs": [
    {
     "data": {
      "text/html": [
       "<div>\n",
       "<style scoped>\n",
       "    .dataframe tbody tr th:only-of-type {\n",
       "        vertical-align: middle;\n",
       "    }\n",
       "\n",
       "    .dataframe tbody tr th {\n",
       "        vertical-align: top;\n",
       "    }\n",
       "\n",
       "    .dataframe thead th {\n",
       "        text-align: right;\n",
       "    }\n",
       "</style>\n",
       "<table border=\"1\" class=\"dataframe\">\n",
       "  <thead>\n",
       "    <tr style=\"text-align: right;\">\n",
       "      <th></th>\n",
       "      <th>Company</th>\n",
       "      <th>TypeName</th>\n",
       "      <th>Inches</th>\n",
       "      <th>ScreenResolution</th>\n",
       "      <th>Cpu</th>\n",
       "      <th>Ram</th>\n",
       "      <th>Memory</th>\n",
       "      <th>Gpu</th>\n",
       "      <th>OpSys</th>\n",
       "      <th>Weight</th>\n",
       "      <th>Price</th>\n",
       "      <th>touchscreen</th>\n",
       "      <th>Ips</th>\n",
       "    </tr>\n",
       "  </thead>\n",
       "  <tbody>\n",
       "    <tr>\n",
       "      <th>688</th>\n",
       "      <td>HP</td>\n",
       "      <td>Notebook</td>\n",
       "      <td>17.3</td>\n",
       "      <td>IPS Panel Full HD 1920x1080</td>\n",
       "      <td>AMD A10-Series 9600P 2.4GHz</td>\n",
       "      <td>6</td>\n",
       "      <td>2TB HDD</td>\n",
       "      <td>AMD Radeon R7 M440</td>\n",
       "      <td>Windows 10</td>\n",
       "      <td>2.65</td>\n",
       "      <td>30316.3200</td>\n",
       "      <td>0</td>\n",
       "      <td>1</td>\n",
       "    </tr>\n",
       "    <tr>\n",
       "      <th>850</th>\n",
       "      <td>HP</td>\n",
       "      <td>Notebook</td>\n",
       "      <td>15.6</td>\n",
       "      <td>1366x768</td>\n",
       "      <td>Intel Celeron Dual Core N3060 1.6GHz</td>\n",
       "      <td>4</td>\n",
       "      <td>128GB SSD</td>\n",
       "      <td>Intel HD Graphics 400</td>\n",
       "      <td>No OS</td>\n",
       "      <td>1.86</td>\n",
       "      <td>15930.7200</td>\n",
       "      <td>0</td>\n",
       "      <td>0</td>\n",
       "    </tr>\n",
       "    <tr>\n",
       "      <th>30</th>\n",
       "      <td>Chuwi</td>\n",
       "      <td>Notebook</td>\n",
       "      <td>15.6</td>\n",
       "      <td>Full HD 1920x1080</td>\n",
       "      <td>Intel Atom x5-Z8300 1.44GHz</td>\n",
       "      <td>4</td>\n",
       "      <td>64GB Flash Storage</td>\n",
       "      <td>Intel HD Graphics</td>\n",
       "      <td>Windows 10</td>\n",
       "      <td>1.89</td>\n",
       "      <td>13053.0672</td>\n",
       "      <td>0</td>\n",
       "      <td>0</td>\n",
       "    </tr>\n",
       "  </tbody>\n",
       "</table>\n",
       "</div>"
      ],
      "text/plain": [
       "    Company  TypeName  Inches             ScreenResolution  \\\n",
       "688      HP  Notebook    17.3  IPS Panel Full HD 1920x1080   \n",
       "850      HP  Notebook    15.6                     1366x768   \n",
       "30    Chuwi  Notebook    15.6            Full HD 1920x1080   \n",
       "\n",
       "                                      Cpu  Ram              Memory  \\\n",
       "688           AMD A10-Series 9600P 2.4GHz    6             2TB HDD   \n",
       "850  Intel Celeron Dual Core N3060 1.6GHz    4           128GB SSD   \n",
       "30            Intel Atom x5-Z8300 1.44GHz    4  64GB Flash Storage   \n",
       "\n",
       "                       Gpu       OpSys  Weight       Price  touchscreen  Ips  \n",
       "688     AMD Radeon R7 M440  Windows 10    2.65  30316.3200            0    1  \n",
       "850  Intel HD Graphics 400       No OS    1.86  15930.7200            0    0  \n",
       "30       Intel HD Graphics  Windows 10    1.89  13053.0672            0    0  "
      ]
     },
     "execution_count": 28,
     "metadata": {},
     "output_type": "execute_result"
    }
   ],
   "source": [
    "df.sample(3)"
   ]
  },
  {
   "cell_type": "code",
   "execution_count": 29,
   "id": "921b6128",
   "metadata": {
    "execution": {
     "iopub.execute_input": "2022-08-30T15:51:59.670347Z",
     "iopub.status.busy": "2022-08-30T15:51:59.669580Z",
     "iopub.status.idle": "2022-08-30T15:51:59.849059Z",
     "shell.execute_reply": "2022-08-30T15:51:59.847785Z"
    },
    "papermill": {
     "duration": 0.217098,
     "end_time": "2022-08-30T15:51:59.852014",
     "exception": false,
     "start_time": "2022-08-30T15:51:59.634916",
     "status": "completed"
    },
    "tags": []
   },
   "outputs": [
    {
     "name": "stderr",
     "output_type": "stream",
     "text": [
      "/opt/conda/lib/python3.7/site-packages/seaborn/_decorators.py:43: FutureWarning: Pass the following variable as a keyword arg: x. From version 0.12, the only valid positional argument will be `data`, and passing other arguments without an explicit keyword will result in an error or misinterpretation.\n",
      "  FutureWarning\n"
     ]
    },
    {
     "data": {
      "image/png": "[encoded data removed]",
      "text/plain": [
       "<Figure size 720x432 with 1 Axes>"
      ]
     },
     "metadata": {},
     "output_type": "display_data"
    }
   ],
   "source": [
    "plt.figure(figsize = (10,6))\n",
    "sns.countplot(df['Ips'])\n",
    "plt.title('numbers of IPS present', ** font)\n",
    "plt.xlabel('IPS', **font)\n",
    "plt.ylabel('Numbers', **font)\n",
    "plt.show()"
   ]
  },
  {
   "cell_type": "markdown",
   "id": "e2d14496",
   "metadata": {
    "papermill": {
     "duration": 0.032515,
     "end_time": "2022-08-30T15:51:59.917047",
     "exception": false,
     "start_time": "2022-08-30T15:51:59.884532",
     "status": "completed"
    },
    "tags": []
   },
   "source": [
    "* Non IPs panel laptops are most in dataset"
   ]
  },
  {
   "cell_type": "code",
   "execution_count": 30,
   "id": "2440fe2d",
   "metadata": {
    "execution": {
     "iopub.execute_input": "2022-08-30T15:51:59.987033Z",
     "iopub.status.busy": "2022-08-30T15:51:59.985718Z",
     "iopub.status.idle": "2022-08-30T15:52:00.245933Z",
     "shell.execute_reply": "2022-08-30T15:52:00.244894Z"
    },
    "papermill": {
     "duration": 0.298143,
     "end_time": "2022-08-30T15:52:00.248658",
     "exception": false,
     "start_time": "2022-08-30T15:51:59.950515",
     "status": "completed"
    },
    "tags": []
   },
   "outputs": [
    {
     "data": {
      "image/png": "[encoded data removed]",
      "text/plain": [
       "<Figure size 720x432 with 1 Axes>"
      ]
     },
     "metadata": {},
     "output_type": "display_data"
    }
   ],
   "source": [
    "plt.figure(figsize = (10,6))\n",
    "sns.barplot(x = df['Ips'], y = df['Price'])\n",
    "plt.title('IPS VS Price', ** font)\n",
    "plt.xlabel('IPS', **font)\n",
    "plt.ylabel('Price', **font)\n",
    "plt.show()"
   ]
  },
  {
   "cell_type": "markdown",
   "id": "f5117f8a",
   "metadata": {
    "papermill": {
     "duration": 0.032716,
     "end_time": "2022-08-30T15:52:00.315132",
     "exception": false,
     "start_time": "2022-08-30T15:52:00.282416",
     "status": "completed"
    },
    "tags": []
   },
   "source": [
    "* we can see that the price of laptops also depend on ips panel "
   ]
  },
  {
   "cell_type": "markdown",
   "id": "419e1ddf",
   "metadata": {
    "papermill": {
     "duration": 0.035374,
     "end_time": "2022-08-30T15:52:00.385198",
     "exception": false,
     "start_time": "2022-08-30T15:52:00.349824",
     "status": "completed"
    },
    "tags": []
   },
   "source": [
    "#### fetching x resolution & y resolution from the screen resolution column"
   ]
  },
  {
   "cell_type": "code",
   "execution_count": 31,
   "id": "e0a4b80a",
   "metadata": {
    "execution": {
     "iopub.execute_input": "2022-08-30T15:52:00.457180Z",
     "iopub.status.busy": "2022-08-30T15:52:00.456788Z",
     "iopub.status.idle": "2022-08-30T15:52:00.467844Z",
     "shell.execute_reply": "2022-08-30T15:52:00.466827Z"
    },
    "papermill": {
     "duration": 0.050657,
     "end_time": "2022-08-30T15:52:00.470365",
     "exception": false,
     "start_time": "2022-08-30T15:52:00.419708",
     "status": "completed"
    },
    "tags": []
   },
   "outputs": [],
   "source": [
    "res = df['ScreenResolution'].str.split('x', n =1, expand = True)"
   ]
  },
  {
   "cell_type": "code",
   "execution_count": 32,
   "id": "ede42c20",
   "metadata": {
    "execution": {
     "iopub.execute_input": "2022-08-30T15:52:00.540887Z",
     "iopub.status.busy": "2022-08-30T15:52:00.540026Z",
     "iopub.status.idle": "2022-08-30T15:52:00.548125Z",
     "shell.execute_reply": "2022-08-30T15:52:00.546620Z"
    },
    "papermill": {
     "duration": 0.046683,
     "end_time": "2022-08-30T15:52:00.550904",
     "exception": false,
     "start_time": "2022-08-30T15:52:00.504221",
     "status": "completed"
    },
    "tags": []
   },
   "outputs": [],
   "source": [
    "df['X_res'] = res[0]\n",
    "df['Y_res'] = res[1]"
   ]
  },
  {
   "cell_type": "code",
   "execution_count": 33,
   "id": "de2f8506",
   "metadata": {
    "execution": {
     "iopub.execute_input": "2022-08-30T15:52:00.619095Z",
     "iopub.status.busy": "2022-08-30T15:52:00.618654Z",
     "iopub.status.idle": "2022-08-30T15:52:00.640460Z",
     "shell.execute_reply": "2022-08-30T15:52:00.639277Z"
    },
    "papermill": {
     "duration": 0.058889,
     "end_time": "2022-08-30T15:52:00.642952",
     "exception": false,
     "start_time": "2022-08-30T15:52:00.584063",
     "status": "completed"
    },
    "tags": []
   },
   "outputs": [
    {
     "data": {
      "text/html": [
       "<div>\n",
       "<style scoped>\n",
       "    .dataframe tbody tr th:only-of-type {\n",
       "        vertical-align: middle;\n",
       "    }\n",
       "\n",
       "    .dataframe tbody tr th {\n",
       "        vertical-align: top;\n",
       "    }\n",
       "\n",
       "    .dataframe thead th {\n",
       "        text-align: right;\n",
       "    }\n",
       "</style>\n",
       "<table border=\"1\" class=\"dataframe\">\n",
       "  <thead>\n",
       "    <tr style=\"text-align: right;\">\n",
       "      <th></th>\n",
       "      <th>Company</th>\n",
       "      <th>TypeName</th>\n",
       "      <th>Inches</th>\n",
       "      <th>ScreenResolution</th>\n",
       "      <th>Cpu</th>\n",
       "      <th>Ram</th>\n",
       "      <th>Memory</th>\n",
       "      <th>Gpu</th>\n",
       "      <th>OpSys</th>\n",
       "      <th>Weight</th>\n",
       "      <th>Price</th>\n",
       "      <th>touchscreen</th>\n",
       "      <th>Ips</th>\n",
       "      <th>X_res</th>\n",
       "      <th>Y_res</th>\n",
       "    </tr>\n",
       "  </thead>\n",
       "  <tbody>\n",
       "    <tr>\n",
       "      <th>0</th>\n",
       "      <td>Apple</td>\n",
       "      <td>Ultrabook</td>\n",
       "      <td>13.3</td>\n",
       "      <td>IPS Panel Retina Display 2560x1600</td>\n",
       "      <td>Intel Core i5 2.3GHz</td>\n",
       "      <td>8</td>\n",
       "      <td>128GB SSD</td>\n",
       "      <td>Intel Iris Plus Graphics 640</td>\n",
       "      <td>macOS</td>\n",
       "      <td>1.37</td>\n",
       "      <td>71378.6832</td>\n",
       "      <td>0</td>\n",
       "      <td>1</td>\n",
       "      <td>IPS Panel Retina Display 2560</td>\n",
       "      <td>1600</td>\n",
       "    </tr>\n",
       "    <tr>\n",
       "      <th>1</th>\n",
       "      <td>Apple</td>\n",
       "      <td>Ultrabook</td>\n",
       "      <td>13.3</td>\n",
       "      <td>1440x900</td>\n",
       "      <td>Intel Core i5 1.8GHz</td>\n",
       "      <td>8</td>\n",
       "      <td>128GB Flash Storage</td>\n",
       "      <td>Intel HD Graphics 6000</td>\n",
       "      <td>macOS</td>\n",
       "      <td>1.34</td>\n",
       "      <td>47895.5232</td>\n",
       "      <td>0</td>\n",
       "      <td>0</td>\n",
       "      <td>1440</td>\n",
       "      <td>900</td>\n",
       "    </tr>\n",
       "    <tr>\n",
       "      <th>2</th>\n",
       "      <td>HP</td>\n",
       "      <td>Notebook</td>\n",
       "      <td>15.6</td>\n",
       "      <td>Full HD 1920x1080</td>\n",
       "      <td>Intel Core i5 7200U 2.5GHz</td>\n",
       "      <td>8</td>\n",
       "      <td>256GB SSD</td>\n",
       "      <td>Intel HD Graphics 620</td>\n",
       "      <td>No OS</td>\n",
       "      <td>1.86</td>\n",
       "      <td>30636.0000</td>\n",
       "      <td>0</td>\n",
       "      <td>0</td>\n",
       "      <td>Full HD 1920</td>\n",
       "      <td>1080</td>\n",
       "    </tr>\n",
       "    <tr>\n",
       "      <th>3</th>\n",
       "      <td>Apple</td>\n",
       "      <td>Ultrabook</td>\n",
       "      <td>15.4</td>\n",
       "      <td>IPS Panel Retina Display 2880x1800</td>\n",
       "      <td>Intel Core i7 2.7GHz</td>\n",
       "      <td>16</td>\n",
       "      <td>512GB SSD</td>\n",
       "      <td>AMD Radeon Pro 455</td>\n",
       "      <td>macOS</td>\n",
       "      <td>1.83</td>\n",
       "      <td>135195.3360</td>\n",
       "      <td>0</td>\n",
       "      <td>1</td>\n",
       "      <td>IPS Panel Retina Display 2880</td>\n",
       "      <td>1800</td>\n",
       "    </tr>\n",
       "    <tr>\n",
       "      <th>4</th>\n",
       "      <td>Apple</td>\n",
       "      <td>Ultrabook</td>\n",
       "      <td>13.3</td>\n",
       "      <td>IPS Panel Retina Display 2560x1600</td>\n",
       "      <td>Intel Core i5 3.1GHz</td>\n",
       "      <td>8</td>\n",
       "      <td>256GB SSD</td>\n",
       "      <td>Intel Iris Plus Graphics 650</td>\n",
       "      <td>macOS</td>\n",
       "      <td>1.37</td>\n",
       "      <td>96095.8080</td>\n",
       "      <td>0</td>\n",
       "      <td>1</td>\n",
       "      <td>IPS Panel Retina Display 2560</td>\n",
       "      <td>1600</td>\n",
       "    </tr>\n",
       "  </tbody>\n",
       "</table>\n",
       "</div>"
      ],
      "text/plain": [
       "  Company   TypeName  Inches                    ScreenResolution  \\\n",
       "0   Apple  Ultrabook    13.3  IPS Panel Retina Display 2560x1600   \n",
       "1   Apple  Ultrabook    13.3                            1440x900   \n",
       "2      HP   Notebook    15.6                   Full HD 1920x1080   \n",
       "3   Apple  Ultrabook    15.4  IPS Panel Retina Display 2880x1800   \n",
       "4   Apple  Ultrabook    13.3  IPS Panel Retina Display 2560x1600   \n",
       "\n",
       "                          Cpu  Ram               Memory  \\\n",
       "0        Intel Core i5 2.3GHz    8            128GB SSD   \n",
       "1        Intel Core i5 1.8GHz    8  128GB Flash Storage   \n",
       "2  Intel Core i5 7200U 2.5GHz    8            256GB SSD   \n",
       "3        Intel Core i7 2.7GHz   16            512GB SSD   \n",
       "4        Intel Core i5 3.1GHz    8            256GB SSD   \n",
       "\n",
       "                            Gpu  OpSys  Weight        Price  touchscreen  Ips  \\\n",
       "0  Intel Iris Plus Graphics 640  macOS    1.37   71378.6832            0    1   \n",
       "1        Intel HD Graphics 6000  macOS    1.34   47895.5232            0    0   \n",
       "2         Intel HD Graphics 620  No OS    1.86   30636.0000            0    0   \n",
       "3            AMD Radeon Pro 455  macOS    1.83  135195.3360            0    1   \n",
       "4  Intel Iris Plus Graphics 650  macOS    1.37   96095.8080            0    1   \n",
       "\n",
       "                           X_res Y_res  \n",
       "0  IPS Panel Retina Display 2560  1600  \n",
       "1                           1440   900  \n",
       "2                   Full HD 1920  1080  \n",
       "3  IPS Panel Retina Display 2880  1800  \n",
       "4  IPS Panel Retina Display 2560  1600  "
      ]
     },
     "execution_count": 33,
     "metadata": {},
     "output_type": "execute_result"
    }
   ],
   "source": [
    "df.head(5)"
   ]
  },
  {
   "cell_type": "code",
   "execution_count": 34,
   "id": "8d21db32",
   "metadata": {
    "execution": {
     "iopub.execute_input": "2022-08-30T15:52:00.711862Z",
     "iopub.status.busy": "2022-08-30T15:52:00.711312Z",
     "iopub.status.idle": "2022-08-30T15:52:00.721701Z",
     "shell.execute_reply": "2022-08-30T15:52:00.720717Z"
    },
    "papermill": {
     "duration": 0.048361,
     "end_time": "2022-08-30T15:52:00.724072",
     "exception": false,
     "start_time": "2022-08-30T15:52:00.675711",
     "status": "completed"
    },
    "tags": []
   },
   "outputs": [],
   "source": [
    "df['X_res'] = df['X_res'].str.replace(',','').str.findall(r'(\\d+\\.?\\d+)').apply(lambda x:x[0])"
   ]
  },
  {
   "cell_type": "code",
   "execution_count": 35,
   "id": "c999e05b",
   "metadata": {
    "execution": {
     "iopub.execute_input": "2022-08-30T15:52:00.793371Z",
     "iopub.status.busy": "2022-08-30T15:52:00.792709Z",
     "iopub.status.idle": "2022-08-30T15:52:00.807051Z",
     "shell.execute_reply": "2022-08-30T15:52:00.805780Z"
    },
    "papermill": {
     "duration": 0.053056,
     "end_time": "2022-08-30T15:52:00.810262",
     "exception": false,
     "start_time": "2022-08-30T15:52:00.757206",
     "status": "completed"
    },
    "tags": []
   },
   "outputs": [
    {
     "name": "stdout",
     "output_type": "stream",
     "text": [
      "<class 'pandas.core.frame.DataFrame'>\n",
      "RangeIndex: 1303 entries, 0 to 1302\n",
      "Data columns (total 15 columns):\n",
      " #   Column            Non-Null Count  Dtype  \n",
      "---  ------            --------------  -----  \n",
      " 0   Company           1303 non-null   object \n",
      " 1   TypeName          1303 non-null   object \n",
      " 2   Inches            1303 non-null   float64\n",
      " 3   ScreenResolution  1303 non-null   object \n",
      " 4   Cpu               1303 non-null   object \n",
      " 5   Ram               1303 non-null   int32  \n",
      " 6   Memory            1303 non-null   object \n",
      " 7   Gpu               1303 non-null   object \n",
      " 8   OpSys             1303 non-null   object \n",
      " 9   Weight            1303 non-null   float32\n",
      " 10  Price             1303 non-null   float64\n",
      " 11  touchscreen       1303 non-null   int64  \n",
      " 12  Ips               1303 non-null   int64  \n",
      " 13  X_res             1303 non-null   object \n",
      " 14  Y_res             1303 non-null   object \n",
      "dtypes: float32(1), float64(2), int32(1), int64(2), object(9)\n",
      "memory usage: 142.6+ KB\n"
     ]
    }
   ],
   "source": [
    "df.info()"
   ]
  },
  {
   "cell_type": "code",
   "execution_count": 36,
   "id": "3b3e6b9c",
   "metadata": {
    "execution": {
     "iopub.execute_input": "2022-08-30T15:52:00.878637Z",
     "iopub.status.busy": "2022-08-30T15:52:00.878011Z",
     "iopub.status.idle": "2022-08-30T15:52:00.884752Z",
     "shell.execute_reply": "2022-08-30T15:52:00.883818Z"
    },
    "papermill": {
     "duration": 0.042918,
     "end_time": "2022-08-30T15:52:00.887028",
     "exception": false,
     "start_time": "2022-08-30T15:52:00.844110",
     "status": "completed"
    },
    "tags": []
   },
   "outputs": [],
   "source": [
    "df['X_res'] = df['X_res'].astype('int')\n",
    "df['Y_res'] = df['Y_res'].astype('int')"
   ]
  },
  {
   "cell_type": "code",
   "execution_count": 37,
   "id": "1cdd9c22",
   "metadata": {
    "execution": {
     "iopub.execute_input": "2022-08-30T15:52:00.957701Z",
     "iopub.status.busy": "2022-08-30T15:52:00.957124Z",
     "iopub.status.idle": "2022-08-30T15:52:00.972393Z",
     "shell.execute_reply": "2022-08-30T15:52:00.970599Z"
    },
    "papermill": {
     "duration": 0.054605,
     "end_time": "2022-08-30T15:52:00.976468",
     "exception": false,
     "start_time": "2022-08-30T15:52:00.921863",
     "status": "completed"
    },
    "tags": []
   },
   "outputs": [
    {
     "name": "stdout",
     "output_type": "stream",
     "text": [
      "<class 'pandas.core.frame.DataFrame'>\n",
      "RangeIndex: 1303 entries, 0 to 1302\n",
      "Data columns (total 15 columns):\n",
      " #   Column            Non-Null Count  Dtype  \n",
      "---  ------            --------------  -----  \n",
      " 0   Company           1303 non-null   object \n",
      " 1   TypeName          1303 non-null   object \n",
      " 2   Inches            1303 non-null   float64\n",
      " 3   ScreenResolution  1303 non-null   object \n",
      " 4   Cpu               1303 non-null   object \n",
      " 5   Ram               1303 non-null   int32  \n",
      " 6   Memory            1303 non-null   object \n",
      " 7   Gpu               1303 non-null   object \n",
      " 8   OpSys             1303 non-null   object \n",
      " 9   Weight            1303 non-null   float32\n",
      " 10  Price             1303 non-null   float64\n",
      " 11  touchscreen       1303 non-null   int64  \n",
      " 12  Ips               1303 non-null   int64  \n",
      " 13  X_res             1303 non-null   int64  \n",
      " 14  Y_res             1303 non-null   int64  \n",
      "dtypes: float32(1), float64(2), int32(1), int64(4), object(7)\n",
      "memory usage: 142.6+ KB\n"
     ]
    }
   ],
   "source": [
    "df.info()"
   ]
  },
  {
   "cell_type": "code",
   "execution_count": 38,
   "id": "44f80ac1",
   "metadata": {
    "execution": {
     "iopub.execute_input": "2022-08-30T15:52:01.047153Z",
     "iopub.status.busy": "2022-08-30T15:52:01.046537Z",
     "iopub.status.idle": "2022-08-30T15:52:01.052900Z",
     "shell.execute_reply": "2022-08-30T15:52:01.052043Z"
    },
    "papermill": {
     "duration": 0.043187,
     "end_time": "2022-08-30T15:52:01.055273",
     "exception": false,
     "start_time": "2022-08-30T15:52:01.012086",
     "status": "completed"
    },
    "tags": []
   },
   "outputs": [],
   "source": [
    "df['ppi'] = (((df['X_res'] **2) + (df['Y_res'] **2)) **0.5) / df['Inches'].astype('float')"
   ]
  },
  {
   "cell_type": "code",
   "execution_count": 39,
   "id": "9558c0d5",
   "metadata": {
    "execution": {
     "iopub.execute_input": "2022-08-30T15:52:01.125284Z",
     "iopub.status.busy": "2022-08-30T15:52:01.124641Z",
     "iopub.status.idle": "2022-08-30T15:52:01.143559Z",
     "shell.execute_reply": "2022-08-30T15:52:01.142584Z"
    },
    "papermill": {
     "duration": 0.057019,
     "end_time": "2022-08-30T15:52:01.145931",
     "exception": false,
     "start_time": "2022-08-30T15:52:01.088912",
     "status": "completed"
    },
    "tags": []
   },
   "outputs": [
    {
     "data": {
      "text/html": [
       "<div>\n",
       "<style scoped>\n",
       "    .dataframe tbody tr th:only-of-type {\n",
       "        vertical-align: middle;\n",
       "    }\n",
       "\n",
       "    .dataframe tbody tr th {\n",
       "        vertical-align: top;\n",
       "    }\n",
       "\n",
       "    .dataframe thead th {\n",
       "        text-align: right;\n",
       "    }\n",
       "</style>\n",
       "<table border=\"1\" class=\"dataframe\">\n",
       "  <thead>\n",
       "    <tr style=\"text-align: right;\">\n",
       "      <th></th>\n",
       "      <th>Company</th>\n",
       "      <th>TypeName</th>\n",
       "      <th>Inches</th>\n",
       "      <th>ScreenResolution</th>\n",
       "      <th>Cpu</th>\n",
       "      <th>Ram</th>\n",
       "      <th>Memory</th>\n",
       "      <th>Gpu</th>\n",
       "      <th>OpSys</th>\n",
       "      <th>Weight</th>\n",
       "      <th>Price</th>\n",
       "      <th>touchscreen</th>\n",
       "      <th>Ips</th>\n",
       "      <th>X_res</th>\n",
       "      <th>Y_res</th>\n",
       "      <th>ppi</th>\n",
       "    </tr>\n",
       "  </thead>\n",
       "  <tbody>\n",
       "    <tr>\n",
       "      <th>0</th>\n",
       "      <td>Apple</td>\n",
       "      <td>Ultrabook</td>\n",
       "      <td>13.3</td>\n",
       "      <td>IPS Panel Retina Display 2560x1600</td>\n",
       "      <td>Intel Core i5 2.3GHz</td>\n",
       "      <td>8</td>\n",
       "      <td>128GB SSD</td>\n",
       "      <td>Intel Iris Plus Graphics 640</td>\n",
       "      <td>macOS</td>\n",
       "      <td>1.37</td>\n",
       "      <td>71378.6832</td>\n",
       "      <td>0</td>\n",
       "      <td>1</td>\n",
       "      <td>2560</td>\n",
       "      <td>1600</td>\n",
       "      <td>226.983005</td>\n",
       "    </tr>\n",
       "    <tr>\n",
       "      <th>1</th>\n",
       "      <td>Apple</td>\n",
       "      <td>Ultrabook</td>\n",
       "      <td>13.3</td>\n",
       "      <td>1440x900</td>\n",
       "      <td>Intel Core i5 1.8GHz</td>\n",
       "      <td>8</td>\n",
       "      <td>128GB Flash Storage</td>\n",
       "      <td>Intel HD Graphics 6000</td>\n",
       "      <td>macOS</td>\n",
       "      <td>1.34</td>\n",
       "      <td>47895.5232</td>\n",
       "      <td>0</td>\n",
       "      <td>0</td>\n",
       "      <td>1440</td>\n",
       "      <td>900</td>\n",
       "      <td>127.677940</td>\n",
       "    </tr>\n",
       "    <tr>\n",
       "      <th>2</th>\n",
       "      <td>HP</td>\n",
       "      <td>Notebook</td>\n",
       "      <td>15.6</td>\n",
       "      <td>Full HD 1920x1080</td>\n",
       "      <td>Intel Core i5 7200U 2.5GHz</td>\n",
       "      <td>8</td>\n",
       "      <td>256GB SSD</td>\n",
       "      <td>Intel HD Graphics 620</td>\n",
       "      <td>No OS</td>\n",
       "      <td>1.86</td>\n",
       "      <td>30636.0000</td>\n",
       "      <td>0</td>\n",
       "      <td>0</td>\n",
       "      <td>1920</td>\n",
       "      <td>1080</td>\n",
       "      <td>141.211998</td>\n",
       "    </tr>\n",
       "    <tr>\n",
       "      <th>3</th>\n",
       "      <td>Apple</td>\n",
       "      <td>Ultrabook</td>\n",
       "      <td>15.4</td>\n",
       "      <td>IPS Panel Retina Display 2880x1800</td>\n",
       "      <td>Intel Core i7 2.7GHz</td>\n",
       "      <td>16</td>\n",
       "      <td>512GB SSD</td>\n",
       "      <td>AMD Radeon Pro 455</td>\n",
       "      <td>macOS</td>\n",
       "      <td>1.83</td>\n",
       "      <td>135195.3360</td>\n",
       "      <td>0</td>\n",
       "      <td>1</td>\n",
       "      <td>2880</td>\n",
       "      <td>1800</td>\n",
       "      <td>220.534624</td>\n",
       "    </tr>\n",
       "    <tr>\n",
       "      <th>4</th>\n",
       "      <td>Apple</td>\n",
       "      <td>Ultrabook</td>\n",
       "      <td>13.3</td>\n",
       "      <td>IPS Panel Retina Display 2560x1600</td>\n",
       "      <td>Intel Core i5 3.1GHz</td>\n",
       "      <td>8</td>\n",
       "      <td>256GB SSD</td>\n",
       "      <td>Intel Iris Plus Graphics 650</td>\n",
       "      <td>macOS</td>\n",
       "      <td>1.37</td>\n",
       "      <td>96095.8080</td>\n",
       "      <td>0</td>\n",
       "      <td>1</td>\n",
       "      <td>2560</td>\n",
       "      <td>1600</td>\n",
       "      <td>226.983005</td>\n",
       "    </tr>\n",
       "  </tbody>\n",
       "</table>\n",
       "</div>"
      ],
      "text/plain": [
       "  Company   TypeName  Inches                    ScreenResolution  \\\n",
       "0   Apple  Ultrabook    13.3  IPS Panel Retina Display 2560x1600   \n",
       "1   Apple  Ultrabook    13.3                            1440x900   \n",
       "2      HP   Notebook    15.6                   Full HD 1920x1080   \n",
       "3   Apple  Ultrabook    15.4  IPS Panel Retina Display 2880x1800   \n",
       "4   Apple  Ultrabook    13.3  IPS Panel Retina Display 2560x1600   \n",
       "\n",
       "                          Cpu  Ram               Memory  \\\n",
       "0        Intel Core i5 2.3GHz    8            128GB SSD   \n",
       "1        Intel Core i5 1.8GHz    8  128GB Flash Storage   \n",
       "2  Intel Core i5 7200U 2.5GHz    8            256GB SSD   \n",
       "3        Intel Core i7 2.7GHz   16            512GB SSD   \n",
       "4        Intel Core i5 3.1GHz    8            256GB SSD   \n",
       "\n",
       "                            Gpu  OpSys  Weight        Price  touchscreen  Ips  \\\n",
       "0  Intel Iris Plus Graphics 640  macOS    1.37   71378.6832            0    1   \n",
       "1        Intel HD Graphics 6000  macOS    1.34   47895.5232            0    0   \n",
       "2         Intel HD Graphics 620  No OS    1.86   30636.0000            0    0   \n",
       "3            AMD Radeon Pro 455  macOS    1.83  135195.3360            0    1   \n",
       "4  Intel Iris Plus Graphics 650  macOS    1.37   96095.8080            0    1   \n",
       "\n",
       "   X_res  Y_res         ppi  \n",
       "0   2560   1600  226.983005  \n",
       "1   1440    900  127.677940  \n",
       "2   1920   1080  141.211998  \n",
       "3   2880   1800  220.534624  \n",
       "4   2560   1600  226.983005  "
      ]
     },
     "execution_count": 39,
     "metadata": {},
     "output_type": "execute_result"
    }
   ],
   "source": [
    "df.head()"
   ]
  },
  {
   "cell_type": "code",
   "execution_count": 40,
   "id": "7670111b",
   "metadata": {
    "execution": {
     "iopub.execute_input": "2022-08-30T15:52:01.216285Z",
     "iopub.status.busy": "2022-08-30T15:52:01.215629Z",
     "iopub.status.idle": "2022-08-30T15:52:01.221987Z",
     "shell.execute_reply": "2022-08-30T15:52:01.220905Z"
    },
    "papermill": {
     "duration": 0.044988,
     "end_time": "2022-08-30T15:52:01.224456",
     "exception": false,
     "start_time": "2022-08-30T15:52:01.179468",
     "status": "completed"
    },
    "tags": []
   },
   "outputs": [],
   "source": [
    "df.drop(columns = ['X_res', 'Y_res', 'Inches', 'ScreenResolution'], inplace = True)"
   ]
  },
  {
   "cell_type": "code",
   "execution_count": 41,
   "id": "2873661f",
   "metadata": {
    "execution": {
     "iopub.execute_input": "2022-08-30T15:52:01.293435Z",
     "iopub.status.busy": "2022-08-30T15:52:01.292839Z",
     "iopub.status.idle": "2022-08-30T15:52:01.308914Z",
     "shell.execute_reply": "2022-08-30T15:52:01.307910Z"
    },
    "papermill": {
     "duration": 0.053019,
     "end_time": "2022-08-30T15:52:01.311100",
     "exception": false,
     "start_time": "2022-08-30T15:52:01.258081",
     "status": "completed"
    },
    "tags": []
   },
   "outputs": [
    {
     "data": {
      "text/html": [
       "<div>\n",
       "<style scoped>\n",
       "    .dataframe tbody tr th:only-of-type {\n",
       "        vertical-align: middle;\n",
       "    }\n",
       "\n",
       "    .dataframe tbody tr th {\n",
       "        vertical-align: top;\n",
       "    }\n",
       "\n",
       "    .dataframe thead th {\n",
       "        text-align: right;\n",
       "    }\n",
       "</style>\n",
       "<table border=\"1\" class=\"dataframe\">\n",
       "  <thead>\n",
       "    <tr style=\"text-align: right;\">\n",
       "      <th></th>\n",
       "      <th>Company</th>\n",
       "      <th>TypeName</th>\n",
       "      <th>Cpu</th>\n",
       "      <th>Ram</th>\n",
       "      <th>Memory</th>\n",
       "      <th>Gpu</th>\n",
       "      <th>OpSys</th>\n",
       "      <th>Weight</th>\n",
       "      <th>Price</th>\n",
       "      <th>touchscreen</th>\n",
       "      <th>Ips</th>\n",
       "      <th>ppi</th>\n",
       "    </tr>\n",
       "  </thead>\n",
       "  <tbody>\n",
       "    <tr>\n",
       "      <th>0</th>\n",
       "      <td>Apple</td>\n",
       "      <td>Ultrabook</td>\n",
       "      <td>Intel Core i5 2.3GHz</td>\n",
       "      <td>8</td>\n",
       "      <td>128GB SSD</td>\n",
       "      <td>Intel Iris Plus Graphics 640</td>\n",
       "      <td>macOS</td>\n",
       "      <td>1.37</td>\n",
       "      <td>71378.6832</td>\n",
       "      <td>0</td>\n",
       "      <td>1</td>\n",
       "      <td>226.983005</td>\n",
       "    </tr>\n",
       "    <tr>\n",
       "      <th>1</th>\n",
       "      <td>Apple</td>\n",
       "      <td>Ultrabook</td>\n",
       "      <td>Intel Core i5 1.8GHz</td>\n",
       "      <td>8</td>\n",
       "      <td>128GB Flash Storage</td>\n",
       "      <td>Intel HD Graphics 6000</td>\n",
       "      <td>macOS</td>\n",
       "      <td>1.34</td>\n",
       "      <td>47895.5232</td>\n",
       "      <td>0</td>\n",
       "      <td>0</td>\n",
       "      <td>127.677940</td>\n",
       "    </tr>\n",
       "    <tr>\n",
       "      <th>2</th>\n",
       "      <td>HP</td>\n",
       "      <td>Notebook</td>\n",
       "      <td>Intel Core i5 7200U 2.5GHz</td>\n",
       "      <td>8</td>\n",
       "      <td>256GB SSD</td>\n",
       "      <td>Intel HD Graphics 620</td>\n",
       "      <td>No OS</td>\n",
       "      <td>1.86</td>\n",
       "      <td>30636.0000</td>\n",
       "      <td>0</td>\n",
       "      <td>0</td>\n",
       "      <td>141.211998</td>\n",
       "    </tr>\n",
       "    <tr>\n",
       "      <th>3</th>\n",
       "      <td>Apple</td>\n",
       "      <td>Ultrabook</td>\n",
       "      <td>Intel Core i7 2.7GHz</td>\n",
       "      <td>16</td>\n",
       "      <td>512GB SSD</td>\n",
       "      <td>AMD Radeon Pro 455</td>\n",
       "      <td>macOS</td>\n",
       "      <td>1.83</td>\n",
       "      <td>135195.3360</td>\n",
       "      <td>0</td>\n",
       "      <td>1</td>\n",
       "      <td>220.534624</td>\n",
       "    </tr>\n",
       "    <tr>\n",
       "      <th>4</th>\n",
       "      <td>Apple</td>\n",
       "      <td>Ultrabook</td>\n",
       "      <td>Intel Core i5 3.1GHz</td>\n",
       "      <td>8</td>\n",
       "      <td>256GB SSD</td>\n",
       "      <td>Intel Iris Plus Graphics 650</td>\n",
       "      <td>macOS</td>\n",
       "      <td>1.37</td>\n",
       "      <td>96095.8080</td>\n",
       "      <td>0</td>\n",
       "      <td>1</td>\n",
       "      <td>226.983005</td>\n",
       "    </tr>\n",
       "  </tbody>\n",
       "</table>\n",
       "</div>"
      ],
      "text/plain": [
       "  Company   TypeName                         Cpu  Ram               Memory  \\\n",
       "0   Apple  Ultrabook        Intel Core i5 2.3GHz    8            128GB SSD   \n",
       "1   Apple  Ultrabook        Intel Core i5 1.8GHz    8  128GB Flash Storage   \n",
       "2      HP   Notebook  Intel Core i5 7200U 2.5GHz    8            256GB SSD   \n",
       "3   Apple  Ultrabook        Intel Core i7 2.7GHz   16            512GB SSD   \n",
       "4   Apple  Ultrabook        Intel Core i5 3.1GHz    8            256GB SSD   \n",
       "\n",
       "                            Gpu  OpSys  Weight        Price  touchscreen  Ips  \\\n",
       "0  Intel Iris Plus Graphics 640  macOS    1.37   71378.6832            0    1   \n",
       "1        Intel HD Graphics 6000  macOS    1.34   47895.5232            0    0   \n",
       "2         Intel HD Graphics 620  No OS    1.86   30636.0000            0    0   \n",
       "3            AMD Radeon Pro 455  macOS    1.83  135195.3360            0    1   \n",
       "4  Intel Iris Plus Graphics 650  macOS    1.37   96095.8080            0    1   \n",
       "\n",
       "          ppi  \n",
       "0  226.983005  \n",
       "1  127.677940  \n",
       "2  141.211998  \n",
       "3  220.534624  \n",
       "4  226.983005  "
      ]
     },
     "execution_count": 41,
     "metadata": {},
     "output_type": "execute_result"
    }
   ],
   "source": [
    "df.head()"
   ]
  },
  {
   "cell_type": "code",
   "execution_count": 42,
   "id": "e2f89b53",
   "metadata": {
    "execution": {
     "iopub.execute_input": "2022-08-30T15:52:01.379795Z",
     "iopub.status.busy": "2022-08-30T15:52:01.379172Z",
     "iopub.status.idle": "2022-08-30T15:52:01.385959Z",
     "shell.execute_reply": "2022-08-30T15:52:01.385109Z"
    },
    "papermill": {
     "duration": 0.043495,
     "end_time": "2022-08-30T15:52:01.388279",
     "exception": false,
     "start_time": "2022-08-30T15:52:01.344784",
     "status": "completed"
    },
    "tags": []
   },
   "outputs": [],
   "source": [
    "df['CpuName'] = df['Cpu'].apply(lambda x :\" \" .join(x.split()[:3]))"
   ]
  },
  {
   "cell_type": "code",
   "execution_count": 43,
   "id": "0364ab77",
   "metadata": {
    "execution": {
     "iopub.execute_input": "2022-08-30T15:52:01.458123Z",
     "iopub.status.busy": "2022-08-30T15:52:01.457506Z",
     "iopub.status.idle": "2022-08-30T15:52:01.462568Z",
     "shell.execute_reply": "2022-08-30T15:52:01.461678Z"
    },
    "papermill": {
     "duration": 0.042361,
     "end_time": "2022-08-30T15:52:01.464869",
     "exception": false,
     "start_time": "2022-08-30T15:52:01.422508",
     "status": "completed"
    },
    "tags": []
   },
   "outputs": [],
   "source": [
    "def fetch_processor(text):\n",
    "    if text == 'Intel Core i7' or text == 'Intel Core i5' or text == 'Intel Core i3':\n",
    "        return text\n",
    "    else:\n",
    "        if text.split()[0] == 'Intel':\n",
    "            return 'Other Intel Processor'\n",
    "        else:\n",
    "            return 'AMD Processor'"
   ]
  },
  {
   "cell_type": "code",
   "execution_count": 44,
   "id": "e96fde43",
   "metadata": {
    "execution": {
     "iopub.execute_input": "2022-08-30T15:52:01.533035Z",
     "iopub.status.busy": "2022-08-30T15:52:01.532411Z",
     "iopub.status.idle": "2022-08-30T15:52:01.538587Z",
     "shell.execute_reply": "2022-08-30T15:52:01.537630Z"
    },
    "papermill": {
     "duration": 0.043162,
     "end_time": "2022-08-30T15:52:01.541037",
     "exception": false,
     "start_time": "2022-08-30T15:52:01.497875",
     "status": "completed"
    },
    "tags": []
   },
   "outputs": [],
   "source": [
    "df['Cpu brand'] = df['CpuName'].apply(fetch_processor)"
   ]
  },
  {
   "cell_type": "code",
   "execution_count": 45,
   "id": "5cbb9ef4",
   "metadata": {
    "execution": {
     "iopub.execute_input": "2022-08-30T15:52:01.609300Z",
     "iopub.status.busy": "2022-08-30T15:52:01.608143Z",
     "iopub.status.idle": "2022-08-30T15:52:01.627172Z",
     "shell.execute_reply": "2022-08-30T15:52:01.626035Z"
    },
    "papermill": {
     "duration": 0.055479,
     "end_time": "2022-08-30T15:52:01.629447",
     "exception": false,
     "start_time": "2022-08-30T15:52:01.573968",
     "status": "completed"
    },
    "tags": []
   },
   "outputs": [
    {
     "data": {
      "text/html": [
       "<div>\n",
       "<style scoped>\n",
       "    .dataframe tbody tr th:only-of-type {\n",
       "        vertical-align: middle;\n",
       "    }\n",
       "\n",
       "    .dataframe tbody tr th {\n",
       "        vertical-align: top;\n",
       "    }\n",
       "\n",
       "    .dataframe thead th {\n",
       "        text-align: right;\n",
       "    }\n",
       "</style>\n",
       "<table border=\"1\" class=\"dataframe\">\n",
       "  <thead>\n",
       "    <tr style=\"text-align: right;\">\n",
       "      <th></th>\n",
       "      <th>Company</th>\n",
       "      <th>TypeName</th>\n",
       "      <th>Cpu</th>\n",
       "      <th>Ram</th>\n",
       "      <th>Memory</th>\n",
       "      <th>Gpu</th>\n",
       "      <th>OpSys</th>\n",
       "      <th>Weight</th>\n",
       "      <th>Price</th>\n",
       "      <th>touchscreen</th>\n",
       "      <th>Ips</th>\n",
       "      <th>ppi</th>\n",
       "      <th>CpuName</th>\n",
       "      <th>Cpu brand</th>\n",
       "    </tr>\n",
       "  </thead>\n",
       "  <tbody>\n",
       "    <tr>\n",
       "      <th>0</th>\n",
       "      <td>Apple</td>\n",
       "      <td>Ultrabook</td>\n",
       "      <td>Intel Core i5 2.3GHz</td>\n",
       "      <td>8</td>\n",
       "      <td>128GB SSD</td>\n",
       "      <td>Intel Iris Plus Graphics 640</td>\n",
       "      <td>macOS</td>\n",
       "      <td>1.37</td>\n",
       "      <td>71378.6832</td>\n",
       "      <td>0</td>\n",
       "      <td>1</td>\n",
       "      <td>226.983005</td>\n",
       "      <td>Intel Core i5</td>\n",
       "      <td>Intel Core i5</td>\n",
       "    </tr>\n",
       "    <tr>\n",
       "      <th>1</th>\n",
       "      <td>Apple</td>\n",
       "      <td>Ultrabook</td>\n",
       "      <td>Intel Core i5 1.8GHz</td>\n",
       "      <td>8</td>\n",
       "      <td>128GB Flash Storage</td>\n",
       "      <td>Intel HD Graphics 6000</td>\n",
       "      <td>macOS</td>\n",
       "      <td>1.34</td>\n",
       "      <td>47895.5232</td>\n",
       "      <td>0</td>\n",
       "      <td>0</td>\n",
       "      <td>127.677940</td>\n",
       "      <td>Intel Core i5</td>\n",
       "      <td>Intel Core i5</td>\n",
       "    </tr>\n",
       "    <tr>\n",
       "      <th>2</th>\n",
       "      <td>HP</td>\n",
       "      <td>Notebook</td>\n",
       "      <td>Intel Core i5 7200U 2.5GHz</td>\n",
       "      <td>8</td>\n",
       "      <td>256GB SSD</td>\n",
       "      <td>Intel HD Graphics 620</td>\n",
       "      <td>No OS</td>\n",
       "      <td>1.86</td>\n",
       "      <td>30636.0000</td>\n",
       "      <td>0</td>\n",
       "      <td>0</td>\n",
       "      <td>141.211998</td>\n",
       "      <td>Intel Core i5</td>\n",
       "      <td>Intel Core i5</td>\n",
       "    </tr>\n",
       "    <tr>\n",
       "      <th>3</th>\n",
       "      <td>Apple</td>\n",
       "      <td>Ultrabook</td>\n",
       "      <td>Intel Core i7 2.7GHz</td>\n",
       "      <td>16</td>\n",
       "      <td>512GB SSD</td>\n",
       "      <td>AMD Radeon Pro 455</td>\n",
       "      <td>macOS</td>\n",
       "      <td>1.83</td>\n",
       "      <td>135195.3360</td>\n",
       "      <td>0</td>\n",
       "      <td>1</td>\n",
       "      <td>220.534624</td>\n",
       "      <td>Intel Core i7</td>\n",
       "      <td>Intel Core i7</td>\n",
       "    </tr>\n",
       "    <tr>\n",
       "      <th>4</th>\n",
       "      <td>Apple</td>\n",
       "      <td>Ultrabook</td>\n",
       "      <td>Intel Core i5 3.1GHz</td>\n",
       "      <td>8</td>\n",
       "      <td>256GB SSD</td>\n",
       "      <td>Intel Iris Plus Graphics 650</td>\n",
       "      <td>macOS</td>\n",
       "      <td>1.37</td>\n",
       "      <td>96095.8080</td>\n",
       "      <td>0</td>\n",
       "      <td>1</td>\n",
       "      <td>226.983005</td>\n",
       "      <td>Intel Core i5</td>\n",
       "      <td>Intel Core i5</td>\n",
       "    </tr>\n",
       "  </tbody>\n",
       "</table>\n",
       "</div>"
      ],
      "text/plain": [
       "  Company   TypeName                         Cpu  Ram               Memory  \\\n",
       "0   Apple  Ultrabook        Intel Core i5 2.3GHz    8            128GB SSD   \n",
       "1   Apple  Ultrabook        Intel Core i5 1.8GHz    8  128GB Flash Storage   \n",
       "2      HP   Notebook  Intel Core i5 7200U 2.5GHz    8            256GB SSD   \n",
       "3   Apple  Ultrabook        Intel Core i7 2.7GHz   16            512GB SSD   \n",
       "4   Apple  Ultrabook        Intel Core i5 3.1GHz    8            256GB SSD   \n",
       "\n",
       "                            Gpu  OpSys  Weight        Price  touchscreen  Ips  \\\n",
       "0  Intel Iris Plus Graphics 640  macOS    1.37   71378.6832            0    1   \n",
       "1        Intel HD Graphics 6000  macOS    1.34   47895.5232            0    0   \n",
       "2         Intel HD Graphics 620  No OS    1.86   30636.0000            0    0   \n",
       "3            AMD Radeon Pro 455  macOS    1.83  135195.3360            0    1   \n",
       "4  Intel Iris Plus Graphics 650  macOS    1.37   96095.8080            0    1   \n",
       "\n",
       "          ppi        CpuName      Cpu brand  \n",
       "0  226.983005  Intel Core i5  Intel Core i5  \n",
       "1  127.677940  Intel Core i5  Intel Core i5  \n",
       "2  141.211998  Intel Core i5  Intel Core i5  \n",
       "3  220.534624  Intel Core i7  Intel Core i7  \n",
       "4  226.983005  Intel Core i5  Intel Core i5  "
      ]
     },
     "execution_count": 45,
     "metadata": {},
     "output_type": "execute_result"
    }
   ],
   "source": [
    "df.head()"
   ]
  },
  {
   "cell_type": "code",
   "execution_count": 46,
   "id": "6e6c2203",
   "metadata": {
    "execution": {
     "iopub.execute_input": "2022-08-30T15:52:01.699980Z",
     "iopub.status.busy": "2022-08-30T15:52:01.698839Z",
     "iopub.status.idle": "2022-08-30T15:52:01.708192Z",
     "shell.execute_reply": "2022-08-30T15:52:01.706952Z"
    },
    "papermill": {
     "duration": 0.048281,
     "end_time": "2022-08-30T15:52:01.710939",
     "exception": false,
     "start_time": "2022-08-30T15:52:01.662658",
     "status": "completed"
    },
    "tags": []
   },
   "outputs": [],
   "source": [
    "df.drop(columns = ['Cpu', 'CpuName'], inplace = True)"
   ]
  },
  {
   "cell_type": "code",
   "execution_count": 47,
   "id": "96004417",
   "metadata": {
    "execution": {
     "iopub.execute_input": "2022-08-30T15:52:01.779981Z",
     "iopub.status.busy": "2022-08-30T15:52:01.779590Z",
     "iopub.status.idle": "2022-08-30T15:52:01.796686Z",
     "shell.execute_reply": "2022-08-30T15:52:01.795675Z"
    },
    "papermill": {
     "duration": 0.053759,
     "end_time": "2022-08-30T15:52:01.798766",
     "exception": false,
     "start_time": "2022-08-30T15:52:01.745007",
     "status": "completed"
    },
    "tags": []
   },
   "outputs": [
    {
     "data": {
      "text/html": [
       "<div>\n",
       "<style scoped>\n",
       "    .dataframe tbody tr th:only-of-type {\n",
       "        vertical-align: middle;\n",
       "    }\n",
       "\n",
       "    .dataframe tbody tr th {\n",
       "        vertical-align: top;\n",
       "    }\n",
       "\n",
       "    .dataframe thead th {\n",
       "        text-align: right;\n",
       "    }\n",
       "</style>\n",
       "<table border=\"1\" class=\"dataframe\">\n",
       "  <thead>\n",
       "    <tr style=\"text-align: right;\">\n",
       "      <th></th>\n",
       "      <th>Company</th>\n",
       "      <th>TypeName</th>\n",
       "      <th>Ram</th>\n",
       "      <th>Memory</th>\n",
       "      <th>Gpu</th>\n",
       "      <th>OpSys</th>\n",
       "      <th>Weight</th>\n",
       "      <th>Price</th>\n",
       "      <th>touchscreen</th>\n",
       "      <th>Ips</th>\n",
       "      <th>ppi</th>\n",
       "      <th>Cpu brand</th>\n",
       "    </tr>\n",
       "  </thead>\n",
       "  <tbody>\n",
       "    <tr>\n",
       "      <th>0</th>\n",
       "      <td>Apple</td>\n",
       "      <td>Ultrabook</td>\n",
       "      <td>8</td>\n",
       "      <td>128GB SSD</td>\n",
       "      <td>Intel Iris Plus Graphics 640</td>\n",
       "      <td>macOS</td>\n",
       "      <td>1.37</td>\n",
       "      <td>71378.6832</td>\n",
       "      <td>0</td>\n",
       "      <td>1</td>\n",
       "      <td>226.983005</td>\n",
       "      <td>Intel Core i5</td>\n",
       "    </tr>\n",
       "    <tr>\n",
       "      <th>1</th>\n",
       "      <td>Apple</td>\n",
       "      <td>Ultrabook</td>\n",
       "      <td>8</td>\n",
       "      <td>128GB Flash Storage</td>\n",
       "      <td>Intel HD Graphics 6000</td>\n",
       "      <td>macOS</td>\n",
       "      <td>1.34</td>\n",
       "      <td>47895.5232</td>\n",
       "      <td>0</td>\n",
       "      <td>0</td>\n",
       "      <td>127.677940</td>\n",
       "      <td>Intel Core i5</td>\n",
       "    </tr>\n",
       "    <tr>\n",
       "      <th>2</th>\n",
       "      <td>HP</td>\n",
       "      <td>Notebook</td>\n",
       "      <td>8</td>\n",
       "      <td>256GB SSD</td>\n",
       "      <td>Intel HD Graphics 620</td>\n",
       "      <td>No OS</td>\n",
       "      <td>1.86</td>\n",
       "      <td>30636.0000</td>\n",
       "      <td>0</td>\n",
       "      <td>0</td>\n",
       "      <td>141.211998</td>\n",
       "      <td>Intel Core i5</td>\n",
       "    </tr>\n",
       "  </tbody>\n",
       "</table>\n",
       "</div>"
      ],
      "text/plain": [
       "  Company   TypeName  Ram               Memory                           Gpu  \\\n",
       "0   Apple  Ultrabook    8            128GB SSD  Intel Iris Plus Graphics 640   \n",
       "1   Apple  Ultrabook    8  128GB Flash Storage        Intel HD Graphics 6000   \n",
       "2      HP   Notebook    8            256GB SSD         Intel HD Graphics 620   \n",
       "\n",
       "   OpSys  Weight       Price  touchscreen  Ips         ppi      Cpu brand  \n",
       "0  macOS    1.37  71378.6832            0    1  226.983005  Intel Core i5  \n",
       "1  macOS    1.34  47895.5232            0    0  127.677940  Intel Core i5  \n",
       "2  No OS    1.86  30636.0000            0    0  141.211998  Intel Core i5  "
      ]
     },
     "execution_count": 47,
     "metadata": {},
     "output_type": "execute_result"
    }
   ],
   "source": [
    "df.head(3)"
   ]
  },
  {
   "cell_type": "code",
   "execution_count": 48,
   "id": "824143e2",
   "metadata": {
    "execution": {
     "iopub.execute_input": "2022-08-30T15:52:01.867739Z",
     "iopub.status.busy": "2022-08-30T15:52:01.867017Z",
     "iopub.status.idle": "2022-08-30T15:52:02.094343Z",
     "shell.execute_reply": "2022-08-30T15:52:02.093505Z"
    },
    "papermill": {
     "duration": 0.264427,
     "end_time": "2022-08-30T15:52:02.096652",
     "exception": false,
     "start_time": "2022-08-30T15:52:01.832225",
     "status": "completed"
    },
    "tags": []
   },
   "outputs": [
    {
     "data": {
      "image/png": "[encoded data removed]",
      "text/plain": [
       "<Figure size 1296x504 with 1 Axes>"
      ]
     },
     "metadata": {},
     "output_type": "display_data"
    }
   ],
   "source": [
    "countplot('Cpu brand', 'Cpu brand', 'count', 'Count of Cpu brand')"
   ]
  },
  {
   "cell_type": "markdown",
   "id": "fbcb5212",
   "metadata": {
    "papermill": {
     "duration": 0.06358,
     "end_time": "2022-08-30T15:52:02.195348",
     "exception": false,
     "start_time": "2022-08-30T15:52:02.131768",
     "status": "completed"
    },
    "tags": []
   },
   "source": [
    "* Cpu brand Intel i7 and i5 are the most in the dataset"
   ]
  },
  {
   "cell_type": "code",
   "execution_count": 49,
   "id": "8dcc9c6e",
   "metadata": {
    "execution": {
     "iopub.execute_input": "2022-08-30T15:52:02.266969Z",
     "iopub.status.busy": "2022-08-30T15:52:02.266329Z",
     "iopub.status.idle": "2022-08-30T15:52:02.772317Z",
     "shell.execute_reply": "2022-08-30T15:52:02.770790Z"
    },
    "papermill": {
     "duration": 0.545121,
     "end_time": "2022-08-30T15:52:02.775489",
     "exception": false,
     "start_time": "2022-08-30T15:52:02.230368",
     "status": "completed"
    },
    "tags": []
   },
   "outputs": [
    {
     "data": {
      "image/png": "[encoded data removed]",
      "text/plain": [
       "<Figure size 936x576 with 1 Axes>"
      ]
     },
     "metadata": {},
     "output_type": "display_data"
    }
   ],
   "source": [
    "plt.figure(figsize = (13,8))\n",
    "sns.barplot(x = 'Cpu brand', y = 'Price', data = df)\n",
    "plt.xticks(rotation = 90)\n",
    "plt.xlabel('Cpu brand',  **font)\n",
    "plt.ylabel('Price', **font)\n",
    "plt.title('Cpu brand VS Price', **font)\n",
    "plt.show()"
   ]
  },
  {
   "cell_type": "markdown",
   "id": "ed71d6a5",
   "metadata": {
    "papermill": {
     "duration": 0.038732,
     "end_time": "2022-08-30T15:52:02.853182",
     "exception": false,
     "start_time": "2022-08-30T15:52:02.814450",
     "status": "completed"
    },
    "tags": []
   },
   "source": [
    "* Pocessor Intel i7 are costly than all others."
   ]
  },
  {
   "cell_type": "code",
   "execution_count": 50,
   "id": "3bee4b23",
   "metadata": {
    "execution": {
     "iopub.execute_input": "2022-08-30T15:52:02.951291Z",
     "iopub.status.busy": "2022-08-30T15:52:02.950762Z",
     "iopub.status.idle": "2022-08-30T15:52:03.224528Z",
     "shell.execute_reply": "2022-08-30T15:52:03.223347Z"
    },
    "papermill": {
     "duration": 0.330177,
     "end_time": "2022-08-30T15:52:03.227004",
     "exception": false,
     "start_time": "2022-08-30T15:52:02.896827",
     "status": "completed"
    },
    "tags": []
   },
   "outputs": [
    {
     "data": {
      "image/png": "[encoded data removed]",
      "text/plain": [
       "<Figure size 1296x504 with 1 Axes>"
      ]
     },
     "metadata": {},
     "output_type": "display_data"
    }
   ],
   "source": [
    "countplot('Ram', 'Ram', 'Number of occurresnces', 'Count plot showing the number of RAMS')"
   ]
  },
  {
   "cell_type": "markdown",
   "id": "d00c21a6",
   "metadata": {
    "papermill": {
     "duration": 0.036858,
     "end_time": "2022-08-30T15:52:03.298957",
     "exception": false,
     "start_time": "2022-08-30T15:52:03.262099",
     "status": "completed"
    },
    "tags": []
   },
   "source": [
    "* Laptop with 8 GB rams are the most in the dataset."
   ]
  },
  {
   "cell_type": "code",
   "execution_count": 51,
   "id": "38d0cde2",
   "metadata": {
    "execution": {
     "iopub.execute_input": "2022-08-30T15:52:03.372247Z",
     "iopub.status.busy": "2022-08-30T15:52:03.371496Z",
     "iopub.status.idle": "2022-08-30T15:52:03.869296Z",
     "shell.execute_reply": "2022-08-30T15:52:03.868428Z"
    },
    "papermill": {
     "duration": 0.537114,
     "end_time": "2022-08-30T15:52:03.871761",
     "exception": false,
     "start_time": "2022-08-30T15:52:03.334647",
     "status": "completed"
    },
    "tags": []
   },
   "outputs": [
    {
     "data": {
      "image/png": "[encoded data removed]",
      "text/plain": [
       "<Figure size 1080x432 with 1 Axes>"
      ]
     },
     "metadata": {},
     "output_type": "display_data"
    }
   ],
   "source": [
    "plt.figure(figsize = (15,6))\n",
    "sns.barplot(x = 'Ram', y = 'Price', data = df)\n",
    "plt.xlabel('Ram',  **font)\n",
    "plt.ylabel('Price', **font)\n",
    "plt.title('Ram VS Price', **font)\n",
    "plt.show()"
   ]
  },
  {
   "cell_type": "markdown",
   "id": "73876ae8",
   "metadata": {
    "papermill": {
     "duration": 0.035775,
     "end_time": "2022-08-30T15:52:03.942340",
     "exception": false,
     "start_time": "2022-08-30T15:52:03.906565",
     "status": "completed"
    },
    "tags": []
   },
   "source": [
    "* here we can see that the Size does matter :)"
   ]
  },
  {
   "cell_type": "code",
   "execution_count": 52,
   "id": "a4d92979",
   "metadata": {
    "execution": {
     "iopub.execute_input": "2022-08-30T15:52:04.015722Z",
     "iopub.status.busy": "2022-08-30T15:52:04.014956Z",
     "iopub.status.idle": "2022-08-30T15:52:04.022928Z",
     "shell.execute_reply": "2022-08-30T15:52:04.022029Z"
    },
    "papermill": {
     "duration": 0.046644,
     "end_time": "2022-08-30T15:52:04.025216",
     "exception": false,
     "start_time": "2022-08-30T15:52:03.978572",
     "status": "completed"
    },
    "tags": []
   },
   "outputs": [
    {
     "data": {
      "text/plain": [
       "array(['128GB SSD', '128GB Flash Storage', '256GB SSD', '512GB SSD',\n",
       "       '500GB HDD', '256GB Flash Storage', '1TB HDD',\n",
       "       '32GB Flash Storage', '128GB SSD +  1TB HDD',\n",
       "       '256GB SSD +  256GB SSD', '64GB Flash Storage',\n",
       "       '256GB SSD +  1TB HDD', '256GB SSD +  2TB HDD', '32GB SSD',\n",
       "       '2TB HDD', '64GB SSD', '1.0TB Hybrid', '512GB SSD +  1TB HDD',\n",
       "       '1TB SSD', '256GB SSD +  500GB HDD', '128GB SSD +  2TB HDD',\n",
       "       '512GB SSD +  512GB SSD', '16GB SSD', '16GB Flash Storage',\n",
       "       '512GB SSD +  256GB SSD', '512GB SSD +  2TB HDD',\n",
       "       '64GB Flash Storage +  1TB HDD', '180GB SSD', '1TB HDD +  1TB HDD',\n",
       "       '32GB HDD', '1TB SSD +  1TB HDD', '512GB Flash Storage',\n",
       "       '128GB HDD', '240GB SSD', '8GB SSD', '508GB Hybrid', '1.0TB HDD',\n",
       "       '512GB SSD +  1.0TB Hybrid', '256GB SSD +  1.0TB Hybrid'],\n",
       "      dtype=object)"
      ]
     },
     "execution_count": 52,
     "metadata": {},
     "output_type": "execute_result"
    }
   ],
   "source": [
    "# In memory column it have many different disk sapce categories fetching only hdd and ssd form memory column and storing it in a new column.\n",
    "df['Memory'].unique()"
   ]
  },
  {
   "cell_type": "code",
   "execution_count": 53,
   "id": "c0042de9",
   "metadata": {
    "execution": {
     "iopub.execute_input": "2022-08-30T15:52:04.098369Z",
     "iopub.status.busy": "2022-08-30T15:52:04.097612Z",
     "iopub.status.idle": "2022-08-30T15:52:04.110724Z",
     "shell.execute_reply": "2022-08-30T15:52:04.109561Z"
    },
    "papermill": {
     "duration": 0.053266,
     "end_time": "2022-08-30T15:52:04.113417",
     "exception": false,
     "start_time": "2022-08-30T15:52:04.060151",
     "status": "completed"
    },
    "tags": []
   },
   "outputs": [],
   "source": [
    "df['Memory'] = df['Memory'].astype(str).replace('\\.0', '', regex = True)\n",
    "\n",
    "#Replacing GB to ''(null or empty)\n",
    "df['Memory'] = df['Memory'].str.replace('GB', '')\n",
    "\n",
    "#Replacing TB to 000 (1TB = 1000GB)\n",
    "df['Memory'] = df['Memory'].str.replace('TB', '000')"
   ]
  },
  {
   "cell_type": "code",
   "execution_count": 54,
   "id": "bd72410f",
   "metadata": {
    "execution": {
     "iopub.execute_input": "2022-08-30T15:52:04.187969Z",
     "iopub.status.busy": "2022-08-30T15:52:04.187123Z",
     "iopub.status.idle": "2022-08-30T15:52:04.195766Z",
     "shell.execute_reply": "2022-08-30T15:52:04.194794Z"
    },
    "papermill": {
     "duration": 0.047808,
     "end_time": "2022-08-30T15:52:04.198213",
     "exception": false,
     "start_time": "2022-08-30T15:52:04.150405",
     "status": "completed"
    },
    "tags": []
   },
   "outputs": [],
   "source": [
    "new = df['Memory'].str.split('+', n=1, expand =True)"
   ]
  },
  {
   "cell_type": "code",
   "execution_count": 55,
   "id": "2877a619",
   "metadata": {
    "execution": {
     "iopub.execute_input": "2022-08-30T15:52:04.271262Z",
     "iopub.status.busy": "2022-08-30T15:52:04.270454Z",
     "iopub.status.idle": "2022-08-30T15:52:04.282148Z",
     "shell.execute_reply": "2022-08-30T15:52:04.280719Z"
    },
    "papermill": {
     "duration": 0.050925,
     "end_time": "2022-08-30T15:52:04.284584",
     "exception": false,
     "start_time": "2022-08-30T15:52:04.233659",
     "status": "completed"
    },
    "tags": []
   },
   "outputs": [
    {
     "data": {
      "text/plain": [
       "0                  1            \n",
       "128 SSD              1000 HDD       94\n",
       "256 SSD              1000 HDD       73\n",
       "512 SSD              1000 HDD       14\n",
       "256 SSD              2000 HDD       10\n",
       "512 SSD              2000 HDD        3\n",
       "1000 SSD             1000 HDD        2\n",
       "128 SSD              2000 HDD        2\n",
       "256 SSD              256 SSD         2\n",
       "                     500 HDD         2\n",
       "1000 HDD             1000 HDD        1\n",
       "256 SSD              1000 Hybrid     1\n",
       "512 SSD              1000 Hybrid     1\n",
       "                     256 SSD         1\n",
       "                     512 SSD         1\n",
       "64 Flash Storage     1000 HDD        1\n",
       "dtype: int64"
      ]
     },
     "execution_count": 55,
     "metadata": {},
     "output_type": "execute_result"
    }
   ],
   "source": [
    "new.value_counts()"
   ]
  },
  {
   "cell_type": "code",
   "execution_count": 56,
   "id": "8a63bcfa",
   "metadata": {
    "execution": {
     "iopub.execute_input": "2022-08-30T15:52:04.358141Z",
     "iopub.status.busy": "2022-08-30T15:52:04.357362Z",
     "iopub.status.idle": "2022-08-30T15:52:04.363011Z",
     "shell.execute_reply": "2022-08-30T15:52:04.362183Z"
    },
    "papermill": {
     "duration": 0.045493,
     "end_time": "2022-08-30T15:52:04.365361",
     "exception": false,
     "start_time": "2022-08-30T15:52:04.319868",
     "status": "completed"
    },
    "tags": []
   },
   "outputs": [],
   "source": [
    "df['first'] = new[0]"
   ]
  },
  {
   "cell_type": "code",
   "execution_count": 57,
   "id": "94c852ec",
   "metadata": {
    "execution": {
     "iopub.execute_input": "2022-08-30T15:52:04.437721Z",
     "iopub.status.busy": "2022-08-30T15:52:04.437290Z",
     "iopub.status.idle": "2022-08-30T15:52:04.457282Z",
     "shell.execute_reply": "2022-08-30T15:52:04.456181Z"
    },
    "papermill": {
     "duration": 0.059099,
     "end_time": "2022-08-30T15:52:04.459856",
     "exception": false,
     "start_time": "2022-08-30T15:52:04.400757",
     "status": "completed"
    },
    "tags": []
   },
   "outputs": [
    {
     "data": {
      "text/html": [
       "<div>\n",
       "<style scoped>\n",
       "    .dataframe tbody tr th:only-of-type {\n",
       "        vertical-align: middle;\n",
       "    }\n",
       "\n",
       "    .dataframe tbody tr th {\n",
       "        vertical-align: top;\n",
       "    }\n",
       "\n",
       "    .dataframe thead th {\n",
       "        text-align: right;\n",
       "    }\n",
       "</style>\n",
       "<table border=\"1\" class=\"dataframe\">\n",
       "  <thead>\n",
       "    <tr style=\"text-align: right;\">\n",
       "      <th></th>\n",
       "      <th>Company</th>\n",
       "      <th>TypeName</th>\n",
       "      <th>Ram</th>\n",
       "      <th>Memory</th>\n",
       "      <th>Gpu</th>\n",
       "      <th>OpSys</th>\n",
       "      <th>Weight</th>\n",
       "      <th>Price</th>\n",
       "      <th>touchscreen</th>\n",
       "      <th>Ips</th>\n",
       "      <th>ppi</th>\n",
       "      <th>Cpu brand</th>\n",
       "      <th>first</th>\n",
       "    </tr>\n",
       "  </thead>\n",
       "  <tbody>\n",
       "    <tr>\n",
       "      <th>0</th>\n",
       "      <td>Apple</td>\n",
       "      <td>Ultrabook</td>\n",
       "      <td>8</td>\n",
       "      <td>128 SSD</td>\n",
       "      <td>Intel Iris Plus Graphics 640</td>\n",
       "      <td>macOS</td>\n",
       "      <td>1.37</td>\n",
       "      <td>71378.6832</td>\n",
       "      <td>0</td>\n",
       "      <td>1</td>\n",
       "      <td>226.983005</td>\n",
       "      <td>Intel Core i5</td>\n",
       "      <td>128 SSD</td>\n",
       "    </tr>\n",
       "    <tr>\n",
       "      <th>1</th>\n",
       "      <td>Apple</td>\n",
       "      <td>Ultrabook</td>\n",
       "      <td>8</td>\n",
       "      <td>128 Flash Storage</td>\n",
       "      <td>Intel HD Graphics 6000</td>\n",
       "      <td>macOS</td>\n",
       "      <td>1.34</td>\n",
       "      <td>47895.5232</td>\n",
       "      <td>0</td>\n",
       "      <td>0</td>\n",
       "      <td>127.677940</td>\n",
       "      <td>Intel Core i5</td>\n",
       "      <td>128 Flash Storage</td>\n",
       "    </tr>\n",
       "    <tr>\n",
       "      <th>2</th>\n",
       "      <td>HP</td>\n",
       "      <td>Notebook</td>\n",
       "      <td>8</td>\n",
       "      <td>256 SSD</td>\n",
       "      <td>Intel HD Graphics 620</td>\n",
       "      <td>No OS</td>\n",
       "      <td>1.86</td>\n",
       "      <td>30636.0000</td>\n",
       "      <td>0</td>\n",
       "      <td>0</td>\n",
       "      <td>141.211998</td>\n",
       "      <td>Intel Core i5</td>\n",
       "      <td>256 SSD</td>\n",
       "    </tr>\n",
       "    <tr>\n",
       "      <th>3</th>\n",
       "      <td>Apple</td>\n",
       "      <td>Ultrabook</td>\n",
       "      <td>16</td>\n",
       "      <td>512 SSD</td>\n",
       "      <td>AMD Radeon Pro 455</td>\n",
       "      <td>macOS</td>\n",
       "      <td>1.83</td>\n",
       "      <td>135195.3360</td>\n",
       "      <td>0</td>\n",
       "      <td>1</td>\n",
       "      <td>220.534624</td>\n",
       "      <td>Intel Core i7</td>\n",
       "      <td>512 SSD</td>\n",
       "    </tr>\n",
       "    <tr>\n",
       "      <th>4</th>\n",
       "      <td>Apple</td>\n",
       "      <td>Ultrabook</td>\n",
       "      <td>8</td>\n",
       "      <td>256 SSD</td>\n",
       "      <td>Intel Iris Plus Graphics 650</td>\n",
       "      <td>macOS</td>\n",
       "      <td>1.37</td>\n",
       "      <td>96095.8080</td>\n",
       "      <td>0</td>\n",
       "      <td>1</td>\n",
       "      <td>226.983005</td>\n",
       "      <td>Intel Core i5</td>\n",
       "      <td>256 SSD</td>\n",
       "    </tr>\n",
       "  </tbody>\n",
       "</table>\n",
       "</div>"
      ],
      "text/plain": [
       "  Company   TypeName  Ram             Memory                           Gpu  \\\n",
       "0   Apple  Ultrabook    8            128 SSD  Intel Iris Plus Graphics 640   \n",
       "1   Apple  Ultrabook    8  128 Flash Storage        Intel HD Graphics 6000   \n",
       "2      HP   Notebook    8            256 SSD         Intel HD Graphics 620   \n",
       "3   Apple  Ultrabook   16            512 SSD            AMD Radeon Pro 455   \n",
       "4   Apple  Ultrabook    8            256 SSD  Intel Iris Plus Graphics 650   \n",
       "\n",
       "   OpSys  Weight        Price  touchscreen  Ips         ppi      Cpu brand  \\\n",
       "0  macOS    1.37   71378.6832            0    1  226.983005  Intel Core i5   \n",
       "1  macOS    1.34   47895.5232            0    0  127.677940  Intel Core i5   \n",
       "2  No OS    1.86   30636.0000            0    0  141.211998  Intel Core i5   \n",
       "3  macOS    1.83  135195.3360            0    1  220.534624  Intel Core i7   \n",
       "4  macOS    1.37   96095.8080            0    1  226.983005  Intel Core i5   \n",
       "\n",
       "               first  \n",
       "0            128 SSD  \n",
       "1  128 Flash Storage  \n",
       "2            256 SSD  \n",
       "3            512 SSD  \n",
       "4            256 SSD  "
      ]
     },
     "execution_count": 57,
     "metadata": {},
     "output_type": "execute_result"
    }
   ],
   "source": [
    "df.head()"
   ]
  },
  {
   "cell_type": "code",
   "execution_count": 58,
   "id": "dd8e1edc",
   "metadata": {
    "execution": {
     "iopub.execute_input": "2022-08-30T15:52:04.535242Z",
     "iopub.status.busy": "2022-08-30T15:52:04.534170Z",
     "iopub.status.idle": "2022-08-30T15:52:04.542826Z",
     "shell.execute_reply": "2022-08-30T15:52:04.541644Z"
    },
    "papermill": {
     "duration": 0.04949,
     "end_time": "2022-08-30T15:52:04.545321",
     "exception": false,
     "start_time": "2022-08-30T15:52:04.495831",
     "status": "completed"
    },
    "tags": []
   },
   "outputs": [],
   "source": [
    "df[\"first\"]=df[\"first\"].str.strip()"
   ]
  },
  {
   "cell_type": "code",
   "execution_count": 59,
   "id": "7a56b967",
   "metadata": {
    "execution": {
     "iopub.execute_input": "2022-08-30T15:52:04.619149Z",
     "iopub.status.busy": "2022-08-30T15:52:04.617984Z",
     "iopub.status.idle": "2022-08-30T15:52:04.635279Z",
     "shell.execute_reply": "2022-08-30T15:52:04.634443Z"
    },
    "papermill": {
     "duration": 0.056744,
     "end_time": "2022-08-30T15:52:04.637600",
     "exception": false,
     "start_time": "2022-08-30T15:52:04.580856",
     "status": "completed"
    },
    "tags": []
   },
   "outputs": [
    {
     "data": {
      "text/html": [
       "<div>\n",
       "<style scoped>\n",
       "    .dataframe tbody tr th:only-of-type {\n",
       "        vertical-align: middle;\n",
       "    }\n",
       "\n",
       "    .dataframe tbody tr th {\n",
       "        vertical-align: top;\n",
       "    }\n",
       "\n",
       "    .dataframe thead th {\n",
       "        text-align: right;\n",
       "    }\n",
       "</style>\n",
       "<table border=\"1\" class=\"dataframe\">\n",
       "  <thead>\n",
       "    <tr style=\"text-align: right;\">\n",
       "      <th></th>\n",
       "      <th>Company</th>\n",
       "      <th>TypeName</th>\n",
       "      <th>Ram</th>\n",
       "      <th>Memory</th>\n",
       "      <th>Gpu</th>\n",
       "      <th>OpSys</th>\n",
       "      <th>Weight</th>\n",
       "      <th>Price</th>\n",
       "      <th>touchscreen</th>\n",
       "      <th>Ips</th>\n",
       "      <th>ppi</th>\n",
       "      <th>Cpu brand</th>\n",
       "      <th>first</th>\n",
       "    </tr>\n",
       "  </thead>\n",
       "  <tbody>\n",
       "    <tr>\n",
       "      <th>0</th>\n",
       "      <td>Apple</td>\n",
       "      <td>Ultrabook</td>\n",
       "      <td>8</td>\n",
       "      <td>128 SSD</td>\n",
       "      <td>Intel Iris Plus Graphics 640</td>\n",
       "      <td>macOS</td>\n",
       "      <td>1.37</td>\n",
       "      <td>71378.6832</td>\n",
       "      <td>0</td>\n",
       "      <td>1</td>\n",
       "      <td>226.983005</td>\n",
       "      <td>Intel Core i5</td>\n",
       "      <td>128 SSD</td>\n",
       "    </tr>\n",
       "    <tr>\n",
       "      <th>1</th>\n",
       "      <td>Apple</td>\n",
       "      <td>Ultrabook</td>\n",
       "      <td>8</td>\n",
       "      <td>128 Flash Storage</td>\n",
       "      <td>Intel HD Graphics 6000</td>\n",
       "      <td>macOS</td>\n",
       "      <td>1.34</td>\n",
       "      <td>47895.5232</td>\n",
       "      <td>0</td>\n",
       "      <td>0</td>\n",
       "      <td>127.677940</td>\n",
       "      <td>Intel Core i5</td>\n",
       "      <td>128 Flash Storage</td>\n",
       "    </tr>\n",
       "    <tr>\n",
       "      <th>2</th>\n",
       "      <td>HP</td>\n",
       "      <td>Notebook</td>\n",
       "      <td>8</td>\n",
       "      <td>256 SSD</td>\n",
       "      <td>Intel HD Graphics 620</td>\n",
       "      <td>No OS</td>\n",
       "      <td>1.86</td>\n",
       "      <td>30636.0000</td>\n",
       "      <td>0</td>\n",
       "      <td>0</td>\n",
       "      <td>141.211998</td>\n",
       "      <td>Intel Core i5</td>\n",
       "      <td>256 SSD</td>\n",
       "    </tr>\n",
       "    <tr>\n",
       "      <th>3</th>\n",
       "      <td>Apple</td>\n",
       "      <td>Ultrabook</td>\n",
       "      <td>16</td>\n",
       "      <td>512 SSD</td>\n",
       "      <td>AMD Radeon Pro 455</td>\n",
       "      <td>macOS</td>\n",
       "      <td>1.83</td>\n",
       "      <td>135195.3360</td>\n",
       "      <td>0</td>\n",
       "      <td>1</td>\n",
       "      <td>220.534624</td>\n",
       "      <td>Intel Core i7</td>\n",
       "      <td>512 SSD</td>\n",
       "    </tr>\n",
       "    <tr>\n",
       "      <th>4</th>\n",
       "      <td>Apple</td>\n",
       "      <td>Ultrabook</td>\n",
       "      <td>8</td>\n",
       "      <td>256 SSD</td>\n",
       "      <td>Intel Iris Plus Graphics 650</td>\n",
       "      <td>macOS</td>\n",
       "      <td>1.37</td>\n",
       "      <td>96095.8080</td>\n",
       "      <td>0</td>\n",
       "      <td>1</td>\n",
       "      <td>226.983005</td>\n",
       "      <td>Intel Core i5</td>\n",
       "      <td>256 SSD</td>\n",
       "    </tr>\n",
       "  </tbody>\n",
       "</table>\n",
       "</div>"
      ],
      "text/plain": [
       "  Company   TypeName  Ram             Memory                           Gpu  \\\n",
       "0   Apple  Ultrabook    8            128 SSD  Intel Iris Plus Graphics 640   \n",
       "1   Apple  Ultrabook    8  128 Flash Storage        Intel HD Graphics 6000   \n",
       "2      HP   Notebook    8            256 SSD         Intel HD Graphics 620   \n",
       "3   Apple  Ultrabook   16            512 SSD            AMD Radeon Pro 455   \n",
       "4   Apple  Ultrabook    8            256 SSD  Intel Iris Plus Graphics 650   \n",
       "\n",
       "   OpSys  Weight        Price  touchscreen  Ips         ppi      Cpu brand  \\\n",
       "0  macOS    1.37   71378.6832            0    1  226.983005  Intel Core i5   \n",
       "1  macOS    1.34   47895.5232            0    0  127.677940  Intel Core i5   \n",
       "2  No OS    1.86   30636.0000            0    0  141.211998  Intel Core i5   \n",
       "3  macOS    1.83  135195.3360            0    1  220.534624  Intel Core i7   \n",
       "4  macOS    1.37   96095.8080            0    1  226.983005  Intel Core i5   \n",
       "\n",
       "               first  \n",
       "0            128 SSD  \n",
       "1  128 Flash Storage  \n",
       "2            256 SSD  \n",
       "3            512 SSD  \n",
       "4            256 SSD  "
      ]
     },
     "execution_count": 59,
     "metadata": {},
     "output_type": "execute_result"
    }
   ],
   "source": [
    "df.head()"
   ]
  },
  {
   "cell_type": "code",
   "execution_count": 60,
   "id": "e05202e5",
   "metadata": {
    "execution": {
     "iopub.execute_input": "2022-08-30T15:52:04.713520Z",
     "iopub.status.busy": "2022-08-30T15:52:04.712471Z",
     "iopub.status.idle": "2022-08-30T15:52:04.717793Z",
     "shell.execute_reply": "2022-08-30T15:52:04.716891Z"
    },
    "papermill": {
     "duration": 0.044421,
     "end_time": "2022-08-30T15:52:04.719973",
     "exception": false,
     "start_time": "2022-08-30T15:52:04.675552",
     "status": "completed"
    },
    "tags": []
   },
   "outputs": [],
   "source": [
    "df['second'] = new[1]"
   ]
  },
  {
   "cell_type": "code",
   "execution_count": 61,
   "id": "f381597f",
   "metadata": {
    "execution": {
     "iopub.execute_input": "2022-08-30T15:52:04.793677Z",
     "iopub.status.busy": "2022-08-30T15:52:04.793045Z",
     "iopub.status.idle": "2022-08-30T15:52:04.811564Z",
     "shell.execute_reply": "2022-08-30T15:52:04.810501Z"
    },
    "papermill": {
     "duration": 0.058094,
     "end_time": "2022-08-30T15:52:04.813903",
     "exception": false,
     "start_time": "2022-08-30T15:52:04.755809",
     "status": "completed"
    },
    "tags": []
   },
   "outputs": [
    {
     "data": {
      "text/html": [
       "<div>\n",
       "<style scoped>\n",
       "    .dataframe tbody tr th:only-of-type {\n",
       "        vertical-align: middle;\n",
       "    }\n",
       "\n",
       "    .dataframe tbody tr th {\n",
       "        vertical-align: top;\n",
       "    }\n",
       "\n",
       "    .dataframe thead th {\n",
       "        text-align: right;\n",
       "    }\n",
       "</style>\n",
       "<table border=\"1\" class=\"dataframe\">\n",
       "  <thead>\n",
       "    <tr style=\"text-align: right;\">\n",
       "      <th></th>\n",
       "      <th>Company</th>\n",
       "      <th>TypeName</th>\n",
       "      <th>Ram</th>\n",
       "      <th>Memory</th>\n",
       "      <th>Gpu</th>\n",
       "      <th>OpSys</th>\n",
       "      <th>Weight</th>\n",
       "      <th>Price</th>\n",
       "      <th>touchscreen</th>\n",
       "      <th>Ips</th>\n",
       "      <th>ppi</th>\n",
       "      <th>Cpu brand</th>\n",
       "      <th>first</th>\n",
       "      <th>second</th>\n",
       "    </tr>\n",
       "  </thead>\n",
       "  <tbody>\n",
       "    <tr>\n",
       "      <th>546</th>\n",
       "      <td>Lenovo</td>\n",
       "      <td>Notebook</td>\n",
       "      <td>4</td>\n",
       "      <td>500 HDD</td>\n",
       "      <td>Intel HD Graphics 620</td>\n",
       "      <td>Windows 10</td>\n",
       "      <td>1.87</td>\n",
       "      <td>41824.8000</td>\n",
       "      <td>0</td>\n",
       "      <td>0</td>\n",
       "      <td>157.350512</td>\n",
       "      <td>Intel Core i5</td>\n",
       "      <td>500 HDD</td>\n",
       "      <td>None</td>\n",
       "    </tr>\n",
       "    <tr>\n",
       "      <th>651</th>\n",
       "      <td>Acer</td>\n",
       "      <td>Gaming</td>\n",
       "      <td>8</td>\n",
       "      <td>1000 HDD</td>\n",
       "      <td>Nvidia GeForce GTX 1050</td>\n",
       "      <td>Linux</td>\n",
       "      <td>2.40</td>\n",
       "      <td>37775.5200</td>\n",
       "      <td>0</td>\n",
       "      <td>0</td>\n",
       "      <td>141.211998</td>\n",
       "      <td>Intel Core i5</td>\n",
       "      <td>1000 HDD</td>\n",
       "      <td>None</td>\n",
       "    </tr>\n",
       "    <tr>\n",
       "      <th>1281</th>\n",
       "      <td>Dell</td>\n",
       "      <td>Notebook</td>\n",
       "      <td>8</td>\n",
       "      <td>1000 HDD</td>\n",
       "      <td>AMD Radeon R5 M430</td>\n",
       "      <td>Linux</td>\n",
       "      <td>2.30</td>\n",
       "      <td>42943.1472</td>\n",
       "      <td>0</td>\n",
       "      <td>0</td>\n",
       "      <td>100.454670</td>\n",
       "      <td>Intel Core i7</td>\n",
       "      <td>1000 HDD</td>\n",
       "      <td>None</td>\n",
       "    </tr>\n",
       "    <tr>\n",
       "      <th>953</th>\n",
       "      <td>Asus</td>\n",
       "      <td>2 in 1 Convertible</td>\n",
       "      <td>8</td>\n",
       "      <td>64 Flash Storage</td>\n",
       "      <td>Intel HD Graphics 515</td>\n",
       "      <td>Chrome OS</td>\n",
       "      <td>1.20</td>\n",
       "      <td>61751.5200</td>\n",
       "      <td>0</td>\n",
       "      <td>0</td>\n",
       "      <td>176.232574</td>\n",
       "      <td>Other Intel Processor</td>\n",
       "      <td>64 Flash Storage</td>\n",
       "      <td>None</td>\n",
       "    </tr>\n",
       "    <tr>\n",
       "      <th>749</th>\n",
       "      <td>HP</td>\n",
       "      <td>Workstation</td>\n",
       "      <td>16</td>\n",
       "      <td>256 SSD</td>\n",
       "      <td>Nvidia Quadro M2000M</td>\n",
       "      <td>Windows 7</td>\n",
       "      <td>3.00</td>\n",
       "      <td>233845.9200</td>\n",
       "      <td>0</td>\n",
       "      <td>1</td>\n",
       "      <td>127.335675</td>\n",
       "      <td>Other Intel Processor</td>\n",
       "      <td>256 SSD</td>\n",
       "      <td>None</td>\n",
       "    </tr>\n",
       "  </tbody>\n",
       "</table>\n",
       "</div>"
      ],
      "text/plain": [
       "     Company            TypeName  Ram            Memory  \\\n",
       "546   Lenovo            Notebook    4           500 HDD   \n",
       "651     Acer              Gaming    8          1000 HDD   \n",
       "1281    Dell            Notebook    8          1000 HDD   \n",
       "953     Asus  2 in 1 Convertible    8  64 Flash Storage   \n",
       "749       HP         Workstation   16           256 SSD   \n",
       "\n",
       "                          Gpu       OpSys  Weight        Price  touchscreen  \\\n",
       "546     Intel HD Graphics 620  Windows 10    1.87   41824.8000            0   \n",
       "651   Nvidia GeForce GTX 1050       Linux    2.40   37775.5200            0   \n",
       "1281       AMD Radeon R5 M430       Linux    2.30   42943.1472            0   \n",
       "953     Intel HD Graphics 515   Chrome OS    1.20   61751.5200            0   \n",
       "749      Nvidia Quadro M2000M   Windows 7    3.00  233845.9200            0   \n",
       "\n",
       "      Ips         ppi              Cpu brand             first second  \n",
       "546     0  157.350512          Intel Core i5           500 HDD   None  \n",
       "651     0  141.211998          Intel Core i5          1000 HDD   None  \n",
       "1281    0  100.454670          Intel Core i7          1000 HDD   None  \n",
       "953     0  176.232574  Other Intel Processor  64 Flash Storage   None  \n",
       "749     1  127.335675  Other Intel Processor           256 SSD   None  "
      ]
     },
     "execution_count": 61,
     "metadata": {},
     "output_type": "execute_result"
    }
   ],
   "source": [
    "df.sample(5)"
   ]
  },
  {
   "cell_type": "code",
   "execution_count": 62,
   "id": "091cbedd",
   "metadata": {
    "execution": {
     "iopub.execute_input": "2022-08-30T15:52:04.889258Z",
     "iopub.status.busy": "2022-08-30T15:52:04.888666Z",
     "iopub.status.idle": "2022-08-30T15:52:04.896255Z",
     "shell.execute_reply": "2022-08-30T15:52:04.895115Z"
    },
    "papermill": {
     "duration": 0.047333,
     "end_time": "2022-08-30T15:52:04.898541",
     "exception": false,
     "start_time": "2022-08-30T15:52:04.851208",
     "status": "completed"
    },
    "tags": []
   },
   "outputs": [
    {
     "data": {
      "text/plain": [
       "array(['128 SSD', '128 Flash Storage', '256 SSD', '512 SSD', '500 HDD',\n",
       "       '256 Flash Storage', '1000 HDD', '32 Flash Storage',\n",
       "       '64 Flash Storage', '32 SSD', '2000 HDD', '64 SSD', '1000 Hybrid',\n",
       "       '1000 SSD', '16 SSD', '16 Flash Storage', '180 SSD', '32 HDD',\n",
       "       '512 Flash Storage', '128 HDD', '240 SSD', '8 SSD', '508 Hybrid'],\n",
       "      dtype=object)"
      ]
     },
     "execution_count": 62,
     "metadata": {},
     "output_type": "execute_result"
    }
   ],
   "source": [
    "df['first'].unique()"
   ]
  },
  {
   "cell_type": "code",
   "execution_count": 63,
   "id": "f0478d12",
   "metadata": {
    "execution": {
     "iopub.execute_input": "2022-08-30T15:52:04.973358Z",
     "iopub.status.busy": "2022-08-30T15:52:04.972105Z",
     "iopub.status.idle": "2022-08-30T15:52:04.981715Z",
     "shell.execute_reply": "2022-08-30T15:52:04.980738Z"
    },
    "papermill": {
     "duration": 0.049436,
     "end_time": "2022-08-30T15:52:04.984151",
     "exception": false,
     "start_time": "2022-08-30T15:52:04.934715",
     "status": "completed"
    },
    "tags": []
   },
   "outputs": [],
   "source": [
    "df['Layer1hdd'] = df['first'].apply(lambda x: 1 if 'HDD' in x else 0)\n",
    "df['Layer1ssd'] = df['first'].apply(lambda x: 1 if 'SSD' in x else 0)"
   ]
  },
  {
   "cell_type": "code",
   "execution_count": 64,
   "id": "aaf224cc",
   "metadata": {
    "execution": {
     "iopub.execute_input": "2022-08-30T15:52:05.059012Z",
     "iopub.status.busy": "2022-08-30T15:52:05.058101Z",
     "iopub.status.idle": "2022-08-30T15:52:05.079810Z",
     "shell.execute_reply": "2022-08-30T15:52:05.078902Z"
    },
    "papermill": {
     "duration": 0.061546,
     "end_time": "2022-08-30T15:52:05.082030",
     "exception": false,
     "start_time": "2022-08-30T15:52:05.020484",
     "status": "completed"
    },
    "tags": []
   },
   "outputs": [
    {
     "data": {
      "text/html": [
       "<div>\n",
       "<style scoped>\n",
       "    .dataframe tbody tr th:only-of-type {\n",
       "        vertical-align: middle;\n",
       "    }\n",
       "\n",
       "    .dataframe tbody tr th {\n",
       "        vertical-align: top;\n",
       "    }\n",
       "\n",
       "    .dataframe thead th {\n",
       "        text-align: right;\n",
       "    }\n",
       "</style>\n",
       "<table border=\"1\" class=\"dataframe\">\n",
       "  <thead>\n",
       "    <tr style=\"text-align: right;\">\n",
       "      <th></th>\n",
       "      <th>Company</th>\n",
       "      <th>TypeName</th>\n",
       "      <th>Ram</th>\n",
       "      <th>Memory</th>\n",
       "      <th>Gpu</th>\n",
       "      <th>OpSys</th>\n",
       "      <th>Weight</th>\n",
       "      <th>Price</th>\n",
       "      <th>touchscreen</th>\n",
       "      <th>Ips</th>\n",
       "      <th>ppi</th>\n",
       "      <th>Cpu brand</th>\n",
       "      <th>first</th>\n",
       "      <th>second</th>\n",
       "      <th>Layer1hdd</th>\n",
       "      <th>Layer1ssd</th>\n",
       "    </tr>\n",
       "  </thead>\n",
       "  <tbody>\n",
       "    <tr>\n",
       "      <th>753</th>\n",
       "      <td>Lenovo</td>\n",
       "      <td>Ultrabook</td>\n",
       "      <td>4</td>\n",
       "      <td>180 SSD</td>\n",
       "      <td>Intel HD Graphics 520</td>\n",
       "      <td>Windows 10</td>\n",
       "      <td>1.70</td>\n",
       "      <td>58394.8800</td>\n",
       "      <td>0</td>\n",
       "      <td>0</td>\n",
       "      <td>157.350512</td>\n",
       "      <td>Intel Core i5</td>\n",
       "      <td>180 SSD</td>\n",
       "      <td>None</td>\n",
       "      <td>0</td>\n",
       "      <td>1</td>\n",
       "    </tr>\n",
       "    <tr>\n",
       "      <th>983</th>\n",
       "      <td>Fujitsu</td>\n",
       "      <td>Notebook</td>\n",
       "      <td>4</td>\n",
       "      <td>256 SSD</td>\n",
       "      <td>Intel HD Graphics 520</td>\n",
       "      <td>Windows 10</td>\n",
       "      <td>2.30</td>\n",
       "      <td>34578.7200</td>\n",
       "      <td>0</td>\n",
       "      <td>0</td>\n",
       "      <td>100.454670</td>\n",
       "      <td>Intel Core i5</td>\n",
       "      <td>256 SSD</td>\n",
       "      <td>None</td>\n",
       "      <td>0</td>\n",
       "      <td>1</td>\n",
       "    </tr>\n",
       "    <tr>\n",
       "      <th>669</th>\n",
       "      <td>Acer</td>\n",
       "      <td>Notebook</td>\n",
       "      <td>4</td>\n",
       "      <td>128 SSD</td>\n",
       "      <td>Intel HD Graphics 520</td>\n",
       "      <td>Linux</td>\n",
       "      <td>2.10</td>\n",
       "      <td>21951.3600</td>\n",
       "      <td>0</td>\n",
       "      <td>0</td>\n",
       "      <td>100.454670</td>\n",
       "      <td>Intel Core i3</td>\n",
       "      <td>128 SSD</td>\n",
       "      <td>None</td>\n",
       "      <td>0</td>\n",
       "      <td>1</td>\n",
       "    </tr>\n",
       "    <tr>\n",
       "      <th>1119</th>\n",
       "      <td>Asus</td>\n",
       "      <td>Gaming</td>\n",
       "      <td>8</td>\n",
       "      <td>128 SSD +  1000 HDD</td>\n",
       "      <td>Nvidia GeForce GTX 960M</td>\n",
       "      <td>Windows 10</td>\n",
       "      <td>3.52</td>\n",
       "      <td>69929.4672</td>\n",
       "      <td>0</td>\n",
       "      <td>0</td>\n",
       "      <td>127.335675</td>\n",
       "      <td>Intel Core i7</td>\n",
       "      <td>128 SSD</td>\n",
       "      <td>1000 HDD</td>\n",
       "      <td>0</td>\n",
       "      <td>1</td>\n",
       "    </tr>\n",
       "    <tr>\n",
       "      <th>688</th>\n",
       "      <td>HP</td>\n",
       "      <td>Notebook</td>\n",
       "      <td>6</td>\n",
       "      <td>2000 HDD</td>\n",
       "      <td>AMD Radeon R7 M440</td>\n",
       "      <td>Windows 10</td>\n",
       "      <td>2.65</td>\n",
       "      <td>30316.3200</td>\n",
       "      <td>0</td>\n",
       "      <td>1</td>\n",
       "      <td>127.335675</td>\n",
       "      <td>AMD Processor</td>\n",
       "      <td>2000 HDD</td>\n",
       "      <td>None</td>\n",
       "      <td>1</td>\n",
       "      <td>0</td>\n",
       "    </tr>\n",
       "  </tbody>\n",
       "</table>\n",
       "</div>"
      ],
      "text/plain": [
       "      Company   TypeName  Ram               Memory                      Gpu  \\\n",
       "753    Lenovo  Ultrabook    4              180 SSD    Intel HD Graphics 520   \n",
       "983   Fujitsu   Notebook    4              256 SSD    Intel HD Graphics 520   \n",
       "669      Acer   Notebook    4              128 SSD    Intel HD Graphics 520   \n",
       "1119     Asus     Gaming    8  128 SSD +  1000 HDD  Nvidia GeForce GTX 960M   \n",
       "688        HP   Notebook    6             2000 HDD       AMD Radeon R7 M440   \n",
       "\n",
       "           OpSys  Weight       Price  touchscreen  Ips         ppi  \\\n",
       "753   Windows 10    1.70  58394.8800            0    0  157.350512   \n",
       "983   Windows 10    2.30  34578.7200            0    0  100.454670   \n",
       "669        Linux    2.10  21951.3600            0    0  100.454670   \n",
       "1119  Windows 10    3.52  69929.4672            0    0  127.335675   \n",
       "688   Windows 10    2.65  30316.3200            0    1  127.335675   \n",
       "\n",
       "          Cpu brand     first      second  Layer1hdd  Layer1ssd  \n",
       "753   Intel Core i5   180 SSD        None          0          1  \n",
       "983   Intel Core i5   256 SSD        None          0          1  \n",
       "669   Intel Core i3   128 SSD        None          0          1  \n",
       "1119  Intel Core i7   128 SSD    1000 HDD          0          1  \n",
       "688   AMD Processor  2000 HDD        None          1          0  "
      ]
     },
     "execution_count": 64,
     "metadata": {},
     "output_type": "execute_result"
    }
   ],
   "source": [
    "df.sample(5)"
   ]
  },
  {
   "cell_type": "code",
   "execution_count": 65,
   "id": "5a03f33c",
   "metadata": {
    "execution": {
     "iopub.execute_input": "2022-08-30T15:52:05.157702Z",
     "iopub.status.busy": "2022-08-30T15:52:05.157021Z",
     "iopub.status.idle": "2022-08-30T15:52:05.166159Z",
     "shell.execute_reply": "2022-08-30T15:52:05.165035Z"
    },
    "papermill": {
     "duration": 0.050143,
     "end_time": "2022-08-30T15:52:05.168745",
     "exception": false,
     "start_time": "2022-08-30T15:52:05.118602",
     "status": "completed"
    },
    "tags": []
   },
   "outputs": [
    {
     "name": "stderr",
     "output_type": "stream",
     "text": [
      "/opt/conda/lib/python3.7/site-packages/ipykernel_launcher.py:1: FutureWarning: The default value of regex will change from True to False in a future version.\n",
      "  \"\"\"Entry point for launching an IPython kernel.\n"
     ]
    }
   ],
   "source": [
    "df['first'] = df['first'].str.replace(r'\\D', '')"
   ]
  },
  {
   "cell_type": "code",
   "execution_count": 66,
   "id": "2f40bf69",
   "metadata": {
    "execution": {
     "iopub.execute_input": "2022-08-30T15:52:05.244900Z",
     "iopub.status.busy": "2022-08-30T15:52:05.243974Z",
     "iopub.status.idle": "2022-08-30T15:52:05.263138Z",
     "shell.execute_reply": "2022-08-30T15:52:05.262253Z"
    },
    "papermill": {
     "duration": 0.059885,
     "end_time": "2022-08-30T15:52:05.265287",
     "exception": false,
     "start_time": "2022-08-30T15:52:05.205402",
     "status": "completed"
    },
    "tags": []
   },
   "outputs": [
    {
     "data": {
      "text/html": [
       "<div>\n",
       "<style scoped>\n",
       "    .dataframe tbody tr th:only-of-type {\n",
       "        vertical-align: middle;\n",
       "    }\n",
       "\n",
       "    .dataframe tbody tr th {\n",
       "        vertical-align: top;\n",
       "    }\n",
       "\n",
       "    .dataframe thead th {\n",
       "        text-align: right;\n",
       "    }\n",
       "</style>\n",
       "<table border=\"1\" class=\"dataframe\">\n",
       "  <thead>\n",
       "    <tr style=\"text-align: right;\">\n",
       "      <th></th>\n",
       "      <th>Company</th>\n",
       "      <th>TypeName</th>\n",
       "      <th>Ram</th>\n",
       "      <th>Memory</th>\n",
       "      <th>Gpu</th>\n",
       "      <th>OpSys</th>\n",
       "      <th>Weight</th>\n",
       "      <th>Price</th>\n",
       "      <th>touchscreen</th>\n",
       "      <th>Ips</th>\n",
       "      <th>ppi</th>\n",
       "      <th>Cpu brand</th>\n",
       "      <th>first</th>\n",
       "      <th>second</th>\n",
       "      <th>Layer1hdd</th>\n",
       "      <th>Layer1ssd</th>\n",
       "    </tr>\n",
       "  </thead>\n",
       "  <tbody>\n",
       "    <tr>\n",
       "      <th>0</th>\n",
       "      <td>Apple</td>\n",
       "      <td>Ultrabook</td>\n",
       "      <td>8</td>\n",
       "      <td>128 SSD</td>\n",
       "      <td>Intel Iris Plus Graphics 640</td>\n",
       "      <td>macOS</td>\n",
       "      <td>1.37</td>\n",
       "      <td>71378.6832</td>\n",
       "      <td>0</td>\n",
       "      <td>1</td>\n",
       "      <td>226.983005</td>\n",
       "      <td>Intel Core i5</td>\n",
       "      <td>128</td>\n",
       "      <td>None</td>\n",
       "      <td>0</td>\n",
       "      <td>1</td>\n",
       "    </tr>\n",
       "    <tr>\n",
       "      <th>1</th>\n",
       "      <td>Apple</td>\n",
       "      <td>Ultrabook</td>\n",
       "      <td>8</td>\n",
       "      <td>128 Flash Storage</td>\n",
       "      <td>Intel HD Graphics 6000</td>\n",
       "      <td>macOS</td>\n",
       "      <td>1.34</td>\n",
       "      <td>47895.5232</td>\n",
       "      <td>0</td>\n",
       "      <td>0</td>\n",
       "      <td>127.677940</td>\n",
       "      <td>Intel Core i5</td>\n",
       "      <td>128</td>\n",
       "      <td>None</td>\n",
       "      <td>0</td>\n",
       "      <td>0</td>\n",
       "    </tr>\n",
       "    <tr>\n",
       "      <th>2</th>\n",
       "      <td>HP</td>\n",
       "      <td>Notebook</td>\n",
       "      <td>8</td>\n",
       "      <td>256 SSD</td>\n",
       "      <td>Intel HD Graphics 620</td>\n",
       "      <td>No OS</td>\n",
       "      <td>1.86</td>\n",
       "      <td>30636.0000</td>\n",
       "      <td>0</td>\n",
       "      <td>0</td>\n",
       "      <td>141.211998</td>\n",
       "      <td>Intel Core i5</td>\n",
       "      <td>256</td>\n",
       "      <td>None</td>\n",
       "      <td>0</td>\n",
       "      <td>1</td>\n",
       "    </tr>\n",
       "    <tr>\n",
       "      <th>3</th>\n",
       "      <td>Apple</td>\n",
       "      <td>Ultrabook</td>\n",
       "      <td>16</td>\n",
       "      <td>512 SSD</td>\n",
       "      <td>AMD Radeon Pro 455</td>\n",
       "      <td>macOS</td>\n",
       "      <td>1.83</td>\n",
       "      <td>135195.3360</td>\n",
       "      <td>0</td>\n",
       "      <td>1</td>\n",
       "      <td>220.534624</td>\n",
       "      <td>Intel Core i7</td>\n",
       "      <td>512</td>\n",
       "      <td>None</td>\n",
       "      <td>0</td>\n",
       "      <td>1</td>\n",
       "    </tr>\n",
       "    <tr>\n",
       "      <th>4</th>\n",
       "      <td>Apple</td>\n",
       "      <td>Ultrabook</td>\n",
       "      <td>8</td>\n",
       "      <td>256 SSD</td>\n",
       "      <td>Intel Iris Plus Graphics 650</td>\n",
       "      <td>macOS</td>\n",
       "      <td>1.37</td>\n",
       "      <td>96095.8080</td>\n",
       "      <td>0</td>\n",
       "      <td>1</td>\n",
       "      <td>226.983005</td>\n",
       "      <td>Intel Core i5</td>\n",
       "      <td>256</td>\n",
       "      <td>None</td>\n",
       "      <td>0</td>\n",
       "      <td>1</td>\n",
       "    </tr>\n",
       "  </tbody>\n",
       "</table>\n",
       "</div>"
      ],
      "text/plain": [
       "  Company   TypeName  Ram             Memory                           Gpu  \\\n",
       "0   Apple  Ultrabook    8            128 SSD  Intel Iris Plus Graphics 640   \n",
       "1   Apple  Ultrabook    8  128 Flash Storage        Intel HD Graphics 6000   \n",
       "2      HP   Notebook    8            256 SSD         Intel HD Graphics 620   \n",
       "3   Apple  Ultrabook   16            512 SSD            AMD Radeon Pro 455   \n",
       "4   Apple  Ultrabook    8            256 SSD  Intel Iris Plus Graphics 650   \n",
       "\n",
       "   OpSys  Weight        Price  touchscreen  Ips         ppi      Cpu brand  \\\n",
       "0  macOS    1.37   71378.6832            0    1  226.983005  Intel Core i5   \n",
       "1  macOS    1.34   47895.5232            0    0  127.677940  Intel Core i5   \n",
       "2  No OS    1.86   30636.0000            0    0  141.211998  Intel Core i5   \n",
       "3  macOS    1.83  135195.3360            0    1  220.534624  Intel Core i7   \n",
       "4  macOS    1.37   96095.8080            0    1  226.983005  Intel Core i5   \n",
       "\n",
       "  first second  Layer1hdd  Layer1ssd  \n",
       "0   128   None          0          1  \n",
       "1   128   None          0          0  \n",
       "2   256   None          0          1  \n",
       "3   512   None          0          1  \n",
       "4   256   None          0          1  "
      ]
     },
     "execution_count": 66,
     "metadata": {},
     "output_type": "execute_result"
    }
   ],
   "source": [
    "df.head()"
   ]
  },
  {
   "cell_type": "code",
   "execution_count": 67,
   "id": "f4740c9a",
   "metadata": {
    "execution": {
     "iopub.execute_input": "2022-08-30T15:52:05.342631Z",
     "iopub.status.busy": "2022-08-30T15:52:05.341947Z",
     "iopub.status.idle": "2022-08-30T15:52:05.355694Z",
     "shell.execute_reply": "2022-08-30T15:52:05.354751Z"
    },
    "papermill": {
     "duration": 0.054628,
     "end_time": "2022-08-30T15:52:05.358329",
     "exception": false,
     "start_time": "2022-08-30T15:52:05.303701",
     "status": "completed"
    },
    "tags": []
   },
   "outputs": [
    {
     "name": "stderr",
     "output_type": "stream",
     "text": [
      "/opt/conda/lib/python3.7/site-packages/ipykernel_launcher.py:4: FutureWarning: The default value of regex will change from True to False in a future version.\n",
      "  after removing the cwd from sys.path.\n"
     ]
    }
   ],
   "source": [
    "df[\"second\"].fillna(\"0\", inplace = True)\n",
    "df[\"Layer2hdd\"] = df[\"second\"].apply(lambda x: 1 if \"HDD\" in x else 0)\n",
    "df[\"Layer2ssd\"] = df[\"second\"].apply(lambda x: 1 if \"SSD\" in x else 0)\n",
    "df['second'] = df['second'].str.replace(r'\\D', '')"
   ]
  },
  {
   "cell_type": "code",
   "execution_count": 68,
   "id": "5a5c44ac",
   "metadata": {
    "execution": {
     "iopub.execute_input": "2022-08-30T15:52:05.434780Z",
     "iopub.status.busy": "2022-08-30T15:52:05.434034Z",
     "iopub.status.idle": "2022-08-30T15:52:05.455655Z",
     "shell.execute_reply": "2022-08-30T15:52:05.454256Z"
    },
    "papermill": {
     "duration": 0.062947,
     "end_time": "2022-08-30T15:52:05.458532",
     "exception": false,
     "start_time": "2022-08-30T15:52:05.395585",
     "status": "completed"
    },
    "tags": []
   },
   "outputs": [
    {
     "data": {
      "text/html": [
       "<div>\n",
       "<style scoped>\n",
       "    .dataframe tbody tr th:only-of-type {\n",
       "        vertical-align: middle;\n",
       "    }\n",
       "\n",
       "    .dataframe tbody tr th {\n",
       "        vertical-align: top;\n",
       "    }\n",
       "\n",
       "    .dataframe thead th {\n",
       "        text-align: right;\n",
       "    }\n",
       "</style>\n",
       "<table border=\"1\" class=\"dataframe\">\n",
       "  <thead>\n",
       "    <tr style=\"text-align: right;\">\n",
       "      <th></th>\n",
       "      <th>Company</th>\n",
       "      <th>TypeName</th>\n",
       "      <th>Ram</th>\n",
       "      <th>Memory</th>\n",
       "      <th>Gpu</th>\n",
       "      <th>OpSys</th>\n",
       "      <th>Weight</th>\n",
       "      <th>Price</th>\n",
       "      <th>touchscreen</th>\n",
       "      <th>Ips</th>\n",
       "      <th>ppi</th>\n",
       "      <th>Cpu brand</th>\n",
       "      <th>first</th>\n",
       "      <th>second</th>\n",
       "      <th>Layer1hdd</th>\n",
       "      <th>Layer1ssd</th>\n",
       "      <th>Layer2hdd</th>\n",
       "      <th>Layer2ssd</th>\n",
       "    </tr>\n",
       "  </thead>\n",
       "  <tbody>\n",
       "    <tr>\n",
       "      <th>592</th>\n",
       "      <td>Dell</td>\n",
       "      <td>2 in 1 Convertible</td>\n",
       "      <td>4</td>\n",
       "      <td>128 SSD</td>\n",
       "      <td>Intel HD Graphics 615</td>\n",
       "      <td>Windows 10</td>\n",
       "      <td>1.39</td>\n",
       "      <td>32127.8400</td>\n",
       "      <td>1</td>\n",
       "      <td>0</td>\n",
       "      <td>135.094211</td>\n",
       "      <td>Other Intel Processor</td>\n",
       "      <td>128</td>\n",
       "      <td>0</td>\n",
       "      <td>0</td>\n",
       "      <td>1</td>\n",
       "      <td>0</td>\n",
       "      <td>0</td>\n",
       "    </tr>\n",
       "    <tr>\n",
       "      <th>1254</th>\n",
       "      <td>Dell</td>\n",
       "      <td>Notebook</td>\n",
       "      <td>4</td>\n",
       "      <td>500 HDD</td>\n",
       "      <td>Intel HD Graphics</td>\n",
       "      <td>Windows 10</td>\n",
       "      <td>2.20</td>\n",
       "      <td>23655.7872</td>\n",
       "      <td>0</td>\n",
       "      <td>0</td>\n",
       "      <td>100.454670</td>\n",
       "      <td>Other Intel Processor</td>\n",
       "      <td>500</td>\n",
       "      <td>0</td>\n",
       "      <td>1</td>\n",
       "      <td>0</td>\n",
       "      <td>0</td>\n",
       "      <td>0</td>\n",
       "    </tr>\n",
       "    <tr>\n",
       "      <th>953</th>\n",
       "      <td>Asus</td>\n",
       "      <td>2 in 1 Convertible</td>\n",
       "      <td>8</td>\n",
       "      <td>64 Flash Storage</td>\n",
       "      <td>Intel HD Graphics 515</td>\n",
       "      <td>Chrome OS</td>\n",
       "      <td>1.20</td>\n",
       "      <td>61751.5200</td>\n",
       "      <td>0</td>\n",
       "      <td>0</td>\n",
       "      <td>176.232574</td>\n",
       "      <td>Other Intel Processor</td>\n",
       "      <td>64</td>\n",
       "      <td>0</td>\n",
       "      <td>0</td>\n",
       "      <td>0</td>\n",
       "      <td>0</td>\n",
       "      <td>0</td>\n",
       "    </tr>\n",
       "    <tr>\n",
       "      <th>334</th>\n",
       "      <td>Asus</td>\n",
       "      <td>Gaming</td>\n",
       "      <td>8</td>\n",
       "      <td>256 SSD</td>\n",
       "      <td>Nvidia GeForce GTX 1050</td>\n",
       "      <td>Windows 10</td>\n",
       "      <td>2.50</td>\n",
       "      <td>53226.7200</td>\n",
       "      <td>0</td>\n",
       "      <td>0</td>\n",
       "      <td>141.211998</td>\n",
       "      <td>Intel Core i7</td>\n",
       "      <td>256</td>\n",
       "      <td>0</td>\n",
       "      <td>0</td>\n",
       "      <td>1</td>\n",
       "      <td>0</td>\n",
       "      <td>0</td>\n",
       "    </tr>\n",
       "    <tr>\n",
       "      <th>87</th>\n",
       "      <td>HP</td>\n",
       "      <td>Notebook</td>\n",
       "      <td>8</td>\n",
       "      <td>256 SSD</td>\n",
       "      <td>Intel HD Graphics 620</td>\n",
       "      <td>Windows 10</td>\n",
       "      <td>1.96</td>\n",
       "      <td>31914.1872</td>\n",
       "      <td>0</td>\n",
       "      <td>0</td>\n",
       "      <td>141.211998</td>\n",
       "      <td>Intel Core i5</td>\n",
       "      <td>256</td>\n",
       "      <td>0</td>\n",
       "      <td>0</td>\n",
       "      <td>1</td>\n",
       "      <td>0</td>\n",
       "      <td>0</td>\n",
       "    </tr>\n",
       "  </tbody>\n",
       "</table>\n",
       "</div>"
      ],
      "text/plain": [
       "     Company            TypeName  Ram            Memory  \\\n",
       "592     Dell  2 in 1 Convertible    4           128 SSD   \n",
       "1254    Dell            Notebook    4           500 HDD   \n",
       "953     Asus  2 in 1 Convertible    8  64 Flash Storage   \n",
       "334     Asus              Gaming    8           256 SSD   \n",
       "87        HP            Notebook    8           256 SSD   \n",
       "\n",
       "                          Gpu       OpSys  Weight       Price  touchscreen  \\\n",
       "592     Intel HD Graphics 615  Windows 10    1.39  32127.8400            1   \n",
       "1254        Intel HD Graphics  Windows 10    2.20  23655.7872            0   \n",
       "953     Intel HD Graphics 515   Chrome OS    1.20  61751.5200            0   \n",
       "334   Nvidia GeForce GTX 1050  Windows 10    2.50  53226.7200            0   \n",
       "87      Intel HD Graphics 620  Windows 10    1.96  31914.1872            0   \n",
       "\n",
       "      Ips         ppi              Cpu brand first second  Layer1hdd  \\\n",
       "592     0  135.094211  Other Intel Processor   128      0          0   \n",
       "1254    0  100.454670  Other Intel Processor   500      0          1   \n",
       "953     0  176.232574  Other Intel Processor    64      0          0   \n",
       "334     0  141.211998          Intel Core i7   256      0          0   \n",
       "87      0  141.211998          Intel Core i5   256      0          0   \n",
       "\n",
       "      Layer1ssd  Layer2hdd  Layer2ssd  \n",
       "592           1          0          0  \n",
       "1254          0          0          0  \n",
       "953           0          0          0  \n",
       "334           1          0          0  \n",
       "87            1          0          0  "
      ]
     },
     "execution_count": 68,
     "metadata": {},
     "output_type": "execute_result"
    }
   ],
   "source": [
    "df.sample(5)"
   ]
  },
  {
   "cell_type": "code",
   "execution_count": 69,
   "id": "9ba626d2",
   "metadata": {
    "execution": {
     "iopub.execute_input": "2022-08-30T15:52:05.537693Z",
     "iopub.status.busy": "2022-08-30T15:52:05.537281Z",
     "iopub.status.idle": "2022-08-30T15:52:05.544467Z",
     "shell.execute_reply": "2022-08-30T15:52:05.543257Z"
    },
    "papermill": {
     "duration": 0.049772,
     "end_time": "2022-08-30T15:52:05.546853",
     "exception": false,
     "start_time": "2022-08-30T15:52:05.497081",
     "status": "completed"
    },
    "tags": []
   },
   "outputs": [],
   "source": [
    "df[\"first\"] = df[\"first\"].astype(int)\n",
    "df[\"second\"] = df[\"second\"].astype(int)"
   ]
  },
  {
   "cell_type": "code",
   "execution_count": 70,
   "id": "f829dcbc",
   "metadata": {
    "execution": {
     "iopub.execute_input": "2022-08-30T15:52:05.622957Z",
     "iopub.status.busy": "2022-08-30T15:52:05.622573Z",
     "iopub.status.idle": "2022-08-30T15:52:05.631662Z",
     "shell.execute_reply": "2022-08-30T15:52:05.630441Z"
    },
    "papermill": {
     "duration": 0.049718,
     "end_time": "2022-08-30T15:52:05.633921",
     "exception": false,
     "start_time": "2022-08-30T15:52:05.584203",
     "status": "completed"
    },
    "tags": []
   },
   "outputs": [],
   "source": [
    "df[\"HDD\"]=(df[\"first\"]*df[\"Layer1hdd\"]+df[\"second\"]*df[\"Layer2hdd\"])\n",
    "df[\"SSD\"]=(df[\"first\"]*df[\"Layer1ssd\"]+df[\"second\"]*df[\"Layer2ssd\"])"
   ]
  },
  {
   "cell_type": "code",
   "execution_count": 71,
   "id": "4d429f5f",
   "metadata": {
    "execution": {
     "iopub.execute_input": "2022-08-30T15:52:05.715417Z",
     "iopub.status.busy": "2022-08-30T15:52:05.714652Z",
     "iopub.status.idle": "2022-08-30T15:52:05.721839Z",
     "shell.execute_reply": "2022-08-30T15:52:05.720701Z"
    },
    "papermill": {
     "duration": 0.051272,
     "end_time": "2022-08-30T15:52:05.724493",
     "exception": false,
     "start_time": "2022-08-30T15:52:05.673221",
     "status": "completed"
    },
    "tags": []
   },
   "outputs": [],
   "source": [
    "df.drop(columns=['first', 'second', 'Layer1hdd', 'Layer1ssd',\n",
    "                 'Layer2hdd', 'Layer2ssd'],inplace=True)"
   ]
  },
  {
   "cell_type": "code",
   "execution_count": 72,
   "id": "ec3d873a",
   "metadata": {
    "execution": {
     "iopub.execute_input": "2022-08-30T15:52:05.802133Z",
     "iopub.status.busy": "2022-08-30T15:52:05.801744Z",
     "iopub.status.idle": "2022-08-30T15:52:05.808106Z",
     "shell.execute_reply": "2022-08-30T15:52:05.806845Z"
    },
    "papermill": {
     "duration": 0.04808,
     "end_time": "2022-08-30T15:52:05.810927",
     "exception": false,
     "start_time": "2022-08-30T15:52:05.762847",
     "status": "completed"
    },
    "tags": []
   },
   "outputs": [],
   "source": [
    "df.drop(columns = 'Memory', inplace = True)"
   ]
  },
  {
   "cell_type": "code",
   "execution_count": 73,
   "id": "47deb1dd",
   "metadata": {
    "execution": {
     "iopub.execute_input": "2022-08-30T15:52:05.889051Z",
     "iopub.status.busy": "2022-08-30T15:52:05.888661Z",
     "iopub.status.idle": "2022-08-30T15:52:05.906124Z",
     "shell.execute_reply": "2022-08-30T15:52:05.904968Z"
    },
    "papermill": {
     "duration": 0.059217,
     "end_time": "2022-08-30T15:52:05.908566",
     "exception": false,
     "start_time": "2022-08-30T15:52:05.849349",
     "status": "completed"
    },
    "tags": []
   },
   "outputs": [
    {
     "data": {
      "text/html": [
       "<div>\n",
       "<style scoped>\n",
       "    .dataframe tbody tr th:only-of-type {\n",
       "        vertical-align: middle;\n",
       "    }\n",
       "\n",
       "    .dataframe tbody tr th {\n",
       "        vertical-align: top;\n",
       "    }\n",
       "\n",
       "    .dataframe thead th {\n",
       "        text-align: right;\n",
       "    }\n",
       "</style>\n",
       "<table border=\"1\" class=\"dataframe\">\n",
       "  <thead>\n",
       "    <tr style=\"text-align: right;\">\n",
       "      <th></th>\n",
       "      <th>Company</th>\n",
       "      <th>TypeName</th>\n",
       "      <th>Ram</th>\n",
       "      <th>Gpu</th>\n",
       "      <th>OpSys</th>\n",
       "      <th>Weight</th>\n",
       "      <th>Price</th>\n",
       "      <th>touchscreen</th>\n",
       "      <th>Ips</th>\n",
       "      <th>ppi</th>\n",
       "      <th>Cpu brand</th>\n",
       "      <th>HDD</th>\n",
       "      <th>SSD</th>\n",
       "    </tr>\n",
       "  </thead>\n",
       "  <tbody>\n",
       "    <tr>\n",
       "      <th>0</th>\n",
       "      <td>Apple</td>\n",
       "      <td>Ultrabook</td>\n",
       "      <td>8</td>\n",
       "      <td>Intel Iris Plus Graphics 640</td>\n",
       "      <td>macOS</td>\n",
       "      <td>1.37</td>\n",
       "      <td>71378.6832</td>\n",
       "      <td>0</td>\n",
       "      <td>1</td>\n",
       "      <td>226.983005</td>\n",
       "      <td>Intel Core i5</td>\n",
       "      <td>0</td>\n",
       "      <td>128</td>\n",
       "    </tr>\n",
       "    <tr>\n",
       "      <th>1</th>\n",
       "      <td>Apple</td>\n",
       "      <td>Ultrabook</td>\n",
       "      <td>8</td>\n",
       "      <td>Intel HD Graphics 6000</td>\n",
       "      <td>macOS</td>\n",
       "      <td>1.34</td>\n",
       "      <td>47895.5232</td>\n",
       "      <td>0</td>\n",
       "      <td>0</td>\n",
       "      <td>127.677940</td>\n",
       "      <td>Intel Core i5</td>\n",
       "      <td>0</td>\n",
       "      <td>0</td>\n",
       "    </tr>\n",
       "    <tr>\n",
       "      <th>2</th>\n",
       "      <td>HP</td>\n",
       "      <td>Notebook</td>\n",
       "      <td>8</td>\n",
       "      <td>Intel HD Graphics 620</td>\n",
       "      <td>No OS</td>\n",
       "      <td>1.86</td>\n",
       "      <td>30636.0000</td>\n",
       "      <td>0</td>\n",
       "      <td>0</td>\n",
       "      <td>141.211998</td>\n",
       "      <td>Intel Core i5</td>\n",
       "      <td>0</td>\n",
       "      <td>256</td>\n",
       "    </tr>\n",
       "    <tr>\n",
       "      <th>3</th>\n",
       "      <td>Apple</td>\n",
       "      <td>Ultrabook</td>\n",
       "      <td>16</td>\n",
       "      <td>AMD Radeon Pro 455</td>\n",
       "      <td>macOS</td>\n",
       "      <td>1.83</td>\n",
       "      <td>135195.3360</td>\n",
       "      <td>0</td>\n",
       "      <td>1</td>\n",
       "      <td>220.534624</td>\n",
       "      <td>Intel Core i7</td>\n",
       "      <td>0</td>\n",
       "      <td>512</td>\n",
       "    </tr>\n",
       "    <tr>\n",
       "      <th>4</th>\n",
       "      <td>Apple</td>\n",
       "      <td>Ultrabook</td>\n",
       "      <td>8</td>\n",
       "      <td>Intel Iris Plus Graphics 650</td>\n",
       "      <td>macOS</td>\n",
       "      <td>1.37</td>\n",
       "      <td>96095.8080</td>\n",
       "      <td>0</td>\n",
       "      <td>1</td>\n",
       "      <td>226.983005</td>\n",
       "      <td>Intel Core i5</td>\n",
       "      <td>0</td>\n",
       "      <td>256</td>\n",
       "    </tr>\n",
       "  </tbody>\n",
       "</table>\n",
       "</div>"
      ],
      "text/plain": [
       "  Company   TypeName  Ram                           Gpu  OpSys  Weight  \\\n",
       "0   Apple  Ultrabook    8  Intel Iris Plus Graphics 640  macOS    1.37   \n",
       "1   Apple  Ultrabook    8        Intel HD Graphics 6000  macOS    1.34   \n",
       "2      HP   Notebook    8         Intel HD Graphics 620  No OS    1.86   \n",
       "3   Apple  Ultrabook   16            AMD Radeon Pro 455  macOS    1.83   \n",
       "4   Apple  Ultrabook    8  Intel Iris Plus Graphics 650  macOS    1.37   \n",
       "\n",
       "         Price  touchscreen  Ips         ppi      Cpu brand  HDD  SSD  \n",
       "0   71378.6832            0    1  226.983005  Intel Core i5    0  128  \n",
       "1   47895.5232            0    0  127.677940  Intel Core i5    0    0  \n",
       "2   30636.0000            0    0  141.211998  Intel Core i5    0  256  \n",
       "3  135195.3360            0    1  220.534624  Intel Core i7    0  512  \n",
       "4   96095.8080            0    1  226.983005  Intel Core i5    0  256  "
      ]
     },
     "execution_count": 73,
     "metadata": {},
     "output_type": "execute_result"
    }
   ],
   "source": [
    "df.head()"
   ]
  },
  {
   "cell_type": "code",
   "execution_count": 74,
   "id": "d81b3830",
   "metadata": {
    "execution": {
     "iopub.execute_input": "2022-08-30T15:52:05.988476Z",
     "iopub.status.busy": "2022-08-30T15:52:05.988059Z",
     "iopub.status.idle": "2022-08-30T15:52:05.998231Z",
     "shell.execute_reply": "2022-08-30T15:52:05.997155Z"
    },
    "papermill": {
     "duration": 0.053353,
     "end_time": "2022-08-30T15:52:06.000616",
     "exception": false,
     "start_time": "2022-08-30T15:52:05.947263",
     "status": "completed"
    },
    "tags": []
   },
   "outputs": [
    {
     "data": {
      "text/plain": [
       "Intel HD Graphics 620      281\n",
       "Intel HD Graphics 520      185\n",
       "Intel UHD Graphics 620      68\n",
       "Nvidia GeForce GTX 1050     66\n",
       "Nvidia GeForce GTX 1060     48\n",
       "                          ... \n",
       "AMD Radeon R5 520            1\n",
       "AMD Radeon R7                1\n",
       "Intel HD Graphics 540        1\n",
       "AMD Radeon 540               1\n",
       "ARM Mali T860 MP4            1\n",
       "Name: Gpu, Length: 110, dtype: int64"
      ]
     },
     "execution_count": 74,
     "metadata": {},
     "output_type": "execute_result"
    }
   ],
   "source": [
    "df['Gpu'].value_counts()"
   ]
  },
  {
   "cell_type": "code",
   "execution_count": 75,
   "id": "2870edff",
   "metadata": {
    "execution": {
     "iopub.execute_input": "2022-08-30T15:52:06.078359Z",
     "iopub.status.busy": "2022-08-30T15:52:06.077972Z",
     "iopub.status.idle": "2022-08-30T15:52:06.084752Z",
     "shell.execute_reply": "2022-08-30T15:52:06.083799Z"
    },
    "papermill": {
     "duration": 0.048575,
     "end_time": "2022-08-30T15:52:06.087054",
     "exception": false,
     "start_time": "2022-08-30T15:52:06.038479",
     "status": "completed"
    },
    "tags": []
   },
   "outputs": [],
   "source": [
    "df['Gpu brand']  = df['Gpu'].apply(lambda x:x.split()[0])"
   ]
  },
  {
   "cell_type": "code",
   "execution_count": 76,
   "id": "3b69a617",
   "metadata": {
    "execution": {
     "iopub.execute_input": "2022-08-30T15:52:06.168453Z",
     "iopub.status.busy": "2022-08-30T15:52:06.168044Z",
     "iopub.status.idle": "2022-08-30T15:52:06.176645Z",
     "shell.execute_reply": "2022-08-30T15:52:06.175748Z"
    },
    "papermill": {
     "duration": 0.053298,
     "end_time": "2022-08-30T15:52:06.178833",
     "exception": false,
     "start_time": "2022-08-30T15:52:06.125535",
     "status": "completed"
    },
    "tags": []
   },
   "outputs": [
    {
     "data": {
      "text/plain": [
       "Intel     722\n",
       "Nvidia    400\n",
       "AMD       180\n",
       "ARM         1\n",
       "Name: Gpu brand, dtype: int64"
      ]
     },
     "execution_count": 76,
     "metadata": {},
     "output_type": "execute_result"
    }
   ],
   "source": [
    "df['Gpu brand'].value_counts()"
   ]
  },
  {
   "cell_type": "code",
   "execution_count": 77,
   "id": "e2fbda0a",
   "metadata": {
    "execution": {
     "iopub.execute_input": "2022-08-30T15:52:06.258446Z",
     "iopub.status.busy": "2022-08-30T15:52:06.257753Z",
     "iopub.status.idle": "2022-08-30T15:52:06.263969Z",
     "shell.execute_reply": "2022-08-30T15:52:06.263013Z"
    },
    "papermill": {
     "duration": 0.047971,
     "end_time": "2022-08-30T15:52:06.266339",
     "exception": false,
     "start_time": "2022-08-30T15:52:06.218368",
     "status": "completed"
    },
    "tags": []
   },
   "outputs": [],
   "source": [
    "df = df[df['Gpu brand'] != 'ARM']"
   ]
  },
  {
   "cell_type": "code",
   "execution_count": 78,
   "id": "b83ab0c0",
   "metadata": {
    "execution": {
     "iopub.execute_input": "2022-08-30T15:52:06.407350Z",
     "iopub.status.busy": "2022-08-30T15:52:06.406633Z",
     "iopub.status.idle": "2022-08-30T15:52:06.639592Z",
     "shell.execute_reply": "2022-08-30T15:52:06.638133Z"
    },
    "papermill": {
     "duration": 0.337212,
     "end_time": "2022-08-30T15:52:06.641948",
     "exception": false,
     "start_time": "2022-08-30T15:52:06.304736",
     "status": "completed"
    },
    "tags": []
   },
   "outputs": [
    {
     "data": {
      "image/png": "[encoded data removed]",
      "text/plain": [
       "<Figure size 1296x504 with 1 Axes>"
      ]
     },
     "metadata": {},
     "output_type": "display_data"
    }
   ],
   "source": [
    "countplot('Gpu brand', 'Gpu brand', 'Nnumbers of occurrences', 'count of Gpu brand')"
   ]
  },
  {
   "cell_type": "markdown",
   "id": "547080c3",
   "metadata": {
    "papermill": {
     "duration": 0.038196,
     "end_time": "2022-08-30T15:52:06.719884",
     "exception": false,
     "start_time": "2022-08-30T15:52:06.681688",
     "status": "completed"
    },
    "tags": []
   },
   "source": [
    "* Intel GPU are the most in dataset."
   ]
  },
  {
   "cell_type": "code",
   "execution_count": 79,
   "id": "68b5c38e",
   "metadata": {
    "execution": {
     "iopub.execute_input": "2022-08-30T15:52:06.800592Z",
     "iopub.status.busy": "2022-08-30T15:52:06.800188Z",
     "iopub.status.idle": "2022-08-30T15:52:07.201733Z",
     "shell.execute_reply": "2022-08-30T15:52:07.200460Z"
    },
    "papermill": {
     "duration": 0.445155,
     "end_time": "2022-08-30T15:52:07.204198",
     "exception": false,
     "start_time": "2022-08-30T15:52:06.759043",
     "status": "completed"
    },
    "tags": []
   },
   "outputs": [
    {
     "data": {
      "image/png": "[encoded data removed]",
      "text/plain": [
       "<Figure size 1080x432 with 1 Axes>"
      ]
     },
     "metadata": {},
     "output_type": "display_data"
    }
   ],
   "source": [
    "plt.figure(figsize = (15,6))\n",
    "sns.barplot(x=df['Gpu brand'],y=df['Price'],estimator=np.median)\n",
    "plt.xlabel('Gpu brand',  **font)\n",
    "plt.ylabel('Price', **font)\n",
    "plt.title('Gpu brand VS Price', **font)\n",
    "plt.show()\n"
   ]
  },
  {
   "cell_type": "code",
   "execution_count": 80,
   "id": "2fdc7e43",
   "metadata": {
    "execution": {
     "iopub.execute_input": "2022-08-30T15:52:07.285878Z",
     "iopub.status.busy": "2022-08-30T15:52:07.285487Z",
     "iopub.status.idle": "2022-08-30T15:52:07.292447Z",
     "shell.execute_reply": "2022-08-30T15:52:07.291161Z"
    },
    "papermill": {
     "duration": 0.050876,
     "end_time": "2022-08-30T15:52:07.295062",
     "exception": false,
     "start_time": "2022-08-30T15:52:07.244186",
     "status": "completed"
    },
    "tags": []
   },
   "outputs": [],
   "source": [
    "df.drop(columns=['Gpu'],inplace=True)"
   ]
  },
  {
   "cell_type": "code",
   "execution_count": 81,
   "id": "6b3e4509",
   "metadata": {
    "execution": {
     "iopub.execute_input": "2022-08-30T15:52:07.376089Z",
     "iopub.status.busy": "2022-08-30T15:52:07.375336Z",
     "iopub.status.idle": "2022-08-30T15:52:07.393252Z",
     "shell.execute_reply": "2022-08-30T15:52:07.392393Z"
    },
    "papermill": {
     "duration": 0.060598,
     "end_time": "2022-08-30T15:52:07.395406",
     "exception": false,
     "start_time": "2022-08-30T15:52:07.334808",
     "status": "completed"
    },
    "tags": []
   },
   "outputs": [
    {
     "data": {
      "text/html": [
       "<div>\n",
       "<style scoped>\n",
       "    .dataframe tbody tr th:only-of-type {\n",
       "        vertical-align: middle;\n",
       "    }\n",
       "\n",
       "    .dataframe tbody tr th {\n",
       "        vertical-align: top;\n",
       "    }\n",
       "\n",
       "    .dataframe thead th {\n",
       "        text-align: right;\n",
       "    }\n",
       "</style>\n",
       "<table border=\"1\" class=\"dataframe\">\n",
       "  <thead>\n",
       "    <tr style=\"text-align: right;\">\n",
       "      <th></th>\n",
       "      <th>Company</th>\n",
       "      <th>TypeName</th>\n",
       "      <th>Ram</th>\n",
       "      <th>OpSys</th>\n",
       "      <th>Weight</th>\n",
       "      <th>Price</th>\n",
       "      <th>touchscreen</th>\n",
       "      <th>Ips</th>\n",
       "      <th>ppi</th>\n",
       "      <th>Cpu brand</th>\n",
       "      <th>HDD</th>\n",
       "      <th>SSD</th>\n",
       "      <th>Gpu brand</th>\n",
       "    </tr>\n",
       "  </thead>\n",
       "  <tbody>\n",
       "    <tr>\n",
       "      <th>0</th>\n",
       "      <td>Apple</td>\n",
       "      <td>Ultrabook</td>\n",
       "      <td>8</td>\n",
       "      <td>macOS</td>\n",
       "      <td>1.37</td>\n",
       "      <td>71378.6832</td>\n",
       "      <td>0</td>\n",
       "      <td>1</td>\n",
       "      <td>226.983005</td>\n",
       "      <td>Intel Core i5</td>\n",
       "      <td>0</td>\n",
       "      <td>128</td>\n",
       "      <td>Intel</td>\n",
       "    </tr>\n",
       "    <tr>\n",
       "      <th>1</th>\n",
       "      <td>Apple</td>\n",
       "      <td>Ultrabook</td>\n",
       "      <td>8</td>\n",
       "      <td>macOS</td>\n",
       "      <td>1.34</td>\n",
       "      <td>47895.5232</td>\n",
       "      <td>0</td>\n",
       "      <td>0</td>\n",
       "      <td>127.677940</td>\n",
       "      <td>Intel Core i5</td>\n",
       "      <td>0</td>\n",
       "      <td>0</td>\n",
       "      <td>Intel</td>\n",
       "    </tr>\n",
       "    <tr>\n",
       "      <th>2</th>\n",
       "      <td>HP</td>\n",
       "      <td>Notebook</td>\n",
       "      <td>8</td>\n",
       "      <td>No OS</td>\n",
       "      <td>1.86</td>\n",
       "      <td>30636.0000</td>\n",
       "      <td>0</td>\n",
       "      <td>0</td>\n",
       "      <td>141.211998</td>\n",
       "      <td>Intel Core i5</td>\n",
       "      <td>0</td>\n",
       "      <td>256</td>\n",
       "      <td>Intel</td>\n",
       "    </tr>\n",
       "    <tr>\n",
       "      <th>3</th>\n",
       "      <td>Apple</td>\n",
       "      <td>Ultrabook</td>\n",
       "      <td>16</td>\n",
       "      <td>macOS</td>\n",
       "      <td>1.83</td>\n",
       "      <td>135195.3360</td>\n",
       "      <td>0</td>\n",
       "      <td>1</td>\n",
       "      <td>220.534624</td>\n",
       "      <td>Intel Core i7</td>\n",
       "      <td>0</td>\n",
       "      <td>512</td>\n",
       "      <td>AMD</td>\n",
       "    </tr>\n",
       "    <tr>\n",
       "      <th>4</th>\n",
       "      <td>Apple</td>\n",
       "      <td>Ultrabook</td>\n",
       "      <td>8</td>\n",
       "      <td>macOS</td>\n",
       "      <td>1.37</td>\n",
       "      <td>96095.8080</td>\n",
       "      <td>0</td>\n",
       "      <td>1</td>\n",
       "      <td>226.983005</td>\n",
       "      <td>Intel Core i5</td>\n",
       "      <td>0</td>\n",
       "      <td>256</td>\n",
       "      <td>Intel</td>\n",
       "    </tr>\n",
       "  </tbody>\n",
       "</table>\n",
       "</div>"
      ],
      "text/plain": [
       "  Company   TypeName  Ram  OpSys  Weight        Price  touchscreen  Ips  \\\n",
       "0   Apple  Ultrabook    8  macOS    1.37   71378.6832            0    1   \n",
       "1   Apple  Ultrabook    8  macOS    1.34   47895.5232            0    0   \n",
       "2      HP   Notebook    8  No OS    1.86   30636.0000            0    0   \n",
       "3   Apple  Ultrabook   16  macOS    1.83  135195.3360            0    1   \n",
       "4   Apple  Ultrabook    8  macOS    1.37   96095.8080            0    1   \n",
       "\n",
       "          ppi      Cpu brand  HDD  SSD Gpu brand  \n",
       "0  226.983005  Intel Core i5    0  128     Intel  \n",
       "1  127.677940  Intel Core i5    0    0     Intel  \n",
       "2  141.211998  Intel Core i5    0  256     Intel  \n",
       "3  220.534624  Intel Core i7    0  512       AMD  \n",
       "4  226.983005  Intel Core i5    0  256     Intel  "
      ]
     },
     "execution_count": 81,
     "metadata": {},
     "output_type": "execute_result"
    }
   ],
   "source": [
    "df.head()"
   ]
  },
  {
   "cell_type": "code",
   "execution_count": 82,
   "id": "0ad3f2ce",
   "metadata": {
    "execution": {
     "iopub.execute_input": "2022-08-30T15:52:07.476332Z",
     "iopub.status.busy": "2022-08-30T15:52:07.475716Z",
     "iopub.status.idle": "2022-08-30T15:52:07.483523Z",
     "shell.execute_reply": "2022-08-30T15:52:07.482438Z"
    },
    "papermill": {
     "duration": 0.050825,
     "end_time": "2022-08-30T15:52:07.485828",
     "exception": false,
     "start_time": "2022-08-30T15:52:07.435003",
     "status": "completed"
    },
    "tags": []
   },
   "outputs": [
    {
     "data": {
      "text/plain": [
       "Windows 10      1072\n",
       "No OS             66\n",
       "Linux             62\n",
       "Windows 7         45\n",
       "Chrome OS         26\n",
       "macOS             13\n",
       "Mac OS X           8\n",
       "Windows 10 S       8\n",
       "Android            2\n",
       "Name: OpSys, dtype: int64"
      ]
     },
     "execution_count": 82,
     "metadata": {},
     "output_type": "execute_result"
    }
   ],
   "source": [
    "df['OpSys'].value_counts()"
   ]
  },
  {
   "cell_type": "code",
   "execution_count": 83,
   "id": "4e8127a6",
   "metadata": {
    "execution": {
     "iopub.execute_input": "2022-08-30T15:52:07.566790Z",
     "iopub.status.busy": "2022-08-30T15:52:07.566155Z",
     "iopub.status.idle": "2022-08-30T15:52:07.571416Z",
     "shell.execute_reply": "2022-08-30T15:52:07.570465Z"
    },
    "papermill": {
     "duration": 0.048668,
     "end_time": "2022-08-30T15:52:07.573827",
     "exception": false,
     "start_time": "2022-08-30T15:52:07.525159",
     "status": "completed"
    },
    "tags": []
   },
   "outputs": [],
   "source": [
    "def cat_os(os):\n",
    "    if os == 'Windows 10' or os == 'Windows 7' or os == 'Windows 10 S':\n",
    "        return 'Windows'\n",
    "    elif os == 'Mac OS X' or os == 'macOS':\n",
    "        return 'Mac'\n",
    "    else:\n",
    "        return 'others/NO OS/Linux'"
   ]
  },
  {
   "cell_type": "code",
   "execution_count": 84,
   "id": "8131fee8",
   "metadata": {
    "execution": {
     "iopub.execute_input": "2022-08-30T15:52:07.655085Z",
     "iopub.status.busy": "2022-08-30T15:52:07.654465Z",
     "iopub.status.idle": "2022-08-30T15:52:07.660083Z",
     "shell.execute_reply": "2022-08-30T15:52:07.659261Z"
    },
    "papermill": {
     "duration": 0.04904,
     "end_time": "2022-08-30T15:52:07.662460",
     "exception": false,
     "start_time": "2022-08-30T15:52:07.613420",
     "status": "completed"
    },
    "tags": []
   },
   "outputs": [],
   "source": [
    "df['OS'] = df['OpSys'].apply(cat_os)"
   ]
  },
  {
   "cell_type": "code",
   "execution_count": 85,
   "id": "5ae8dd64",
   "metadata": {
    "execution": {
     "iopub.execute_input": "2022-08-30T15:52:07.743758Z",
     "iopub.status.busy": "2022-08-30T15:52:07.743096Z",
     "iopub.status.idle": "2022-08-30T15:52:07.761291Z",
     "shell.execute_reply": "2022-08-30T15:52:07.759987Z"
    },
    "papermill": {
     "duration": 0.061725,
     "end_time": "2022-08-30T15:52:07.764068",
     "exception": false,
     "start_time": "2022-08-30T15:52:07.702343",
     "status": "completed"
    },
    "tags": []
   },
   "outputs": [
    {
     "data": {
      "text/html": [
       "<div>\n",
       "<style scoped>\n",
       "    .dataframe tbody tr th:only-of-type {\n",
       "        vertical-align: middle;\n",
       "    }\n",
       "\n",
       "    .dataframe tbody tr th {\n",
       "        vertical-align: top;\n",
       "    }\n",
       "\n",
       "    .dataframe thead th {\n",
       "        text-align: right;\n",
       "    }\n",
       "</style>\n",
       "<table border=\"1\" class=\"dataframe\">\n",
       "  <thead>\n",
       "    <tr style=\"text-align: right;\">\n",
       "      <th></th>\n",
       "      <th>Company</th>\n",
       "      <th>TypeName</th>\n",
       "      <th>Ram</th>\n",
       "      <th>OpSys</th>\n",
       "      <th>Weight</th>\n",
       "      <th>Price</th>\n",
       "      <th>touchscreen</th>\n",
       "      <th>Ips</th>\n",
       "      <th>ppi</th>\n",
       "      <th>Cpu brand</th>\n",
       "      <th>HDD</th>\n",
       "      <th>SSD</th>\n",
       "      <th>Gpu brand</th>\n",
       "      <th>OS</th>\n",
       "    </tr>\n",
       "  </thead>\n",
       "  <tbody>\n",
       "    <tr>\n",
       "      <th>0</th>\n",
       "      <td>Apple</td>\n",
       "      <td>Ultrabook</td>\n",
       "      <td>8</td>\n",
       "      <td>macOS</td>\n",
       "      <td>1.37</td>\n",
       "      <td>71378.6832</td>\n",
       "      <td>0</td>\n",
       "      <td>1</td>\n",
       "      <td>226.983005</td>\n",
       "      <td>Intel Core i5</td>\n",
       "      <td>0</td>\n",
       "      <td>128</td>\n",
       "      <td>Intel</td>\n",
       "      <td>Mac</td>\n",
       "    </tr>\n",
       "    <tr>\n",
       "      <th>1</th>\n",
       "      <td>Apple</td>\n",
       "      <td>Ultrabook</td>\n",
       "      <td>8</td>\n",
       "      <td>macOS</td>\n",
       "      <td>1.34</td>\n",
       "      <td>47895.5232</td>\n",
       "      <td>0</td>\n",
       "      <td>0</td>\n",
       "      <td>127.677940</td>\n",
       "      <td>Intel Core i5</td>\n",
       "      <td>0</td>\n",
       "      <td>0</td>\n",
       "      <td>Intel</td>\n",
       "      <td>Mac</td>\n",
       "    </tr>\n",
       "    <tr>\n",
       "      <th>2</th>\n",
       "      <td>HP</td>\n",
       "      <td>Notebook</td>\n",
       "      <td>8</td>\n",
       "      <td>No OS</td>\n",
       "      <td>1.86</td>\n",
       "      <td>30636.0000</td>\n",
       "      <td>0</td>\n",
       "      <td>0</td>\n",
       "      <td>141.211998</td>\n",
       "      <td>Intel Core i5</td>\n",
       "      <td>0</td>\n",
       "      <td>256</td>\n",
       "      <td>Intel</td>\n",
       "      <td>others/NO OS/Linux</td>\n",
       "    </tr>\n",
       "    <tr>\n",
       "      <th>3</th>\n",
       "      <td>Apple</td>\n",
       "      <td>Ultrabook</td>\n",
       "      <td>16</td>\n",
       "      <td>macOS</td>\n",
       "      <td>1.83</td>\n",
       "      <td>135195.3360</td>\n",
       "      <td>0</td>\n",
       "      <td>1</td>\n",
       "      <td>220.534624</td>\n",
       "      <td>Intel Core i7</td>\n",
       "      <td>0</td>\n",
       "      <td>512</td>\n",
       "      <td>AMD</td>\n",
       "      <td>Mac</td>\n",
       "    </tr>\n",
       "    <tr>\n",
       "      <th>4</th>\n",
       "      <td>Apple</td>\n",
       "      <td>Ultrabook</td>\n",
       "      <td>8</td>\n",
       "      <td>macOS</td>\n",
       "      <td>1.37</td>\n",
       "      <td>96095.8080</td>\n",
       "      <td>0</td>\n",
       "      <td>1</td>\n",
       "      <td>226.983005</td>\n",
       "      <td>Intel Core i5</td>\n",
       "      <td>0</td>\n",
       "      <td>256</td>\n",
       "      <td>Intel</td>\n",
       "      <td>Mac</td>\n",
       "    </tr>\n",
       "  </tbody>\n",
       "</table>\n",
       "</div>"
      ],
      "text/plain": [
       "  Company   TypeName  Ram  OpSys  Weight        Price  touchscreen  Ips  \\\n",
       "0   Apple  Ultrabook    8  macOS    1.37   71378.6832            0    1   \n",
       "1   Apple  Ultrabook    8  macOS    1.34   47895.5232            0    0   \n",
       "2      HP   Notebook    8  No OS    1.86   30636.0000            0    0   \n",
       "3   Apple  Ultrabook   16  macOS    1.83  135195.3360            0    1   \n",
       "4   Apple  Ultrabook    8  macOS    1.37   96095.8080            0    1   \n",
       "\n",
       "          ppi      Cpu brand  HDD  SSD Gpu brand                  OS  \n",
       "0  226.983005  Intel Core i5    0  128     Intel                 Mac  \n",
       "1  127.677940  Intel Core i5    0    0     Intel                 Mac  \n",
       "2  141.211998  Intel Core i5    0  256     Intel  others/NO OS/Linux  \n",
       "3  220.534624  Intel Core i7    0  512       AMD                 Mac  \n",
       "4  226.983005  Intel Core i5    0  256     Intel                 Mac  "
      ]
     },
     "execution_count": 85,
     "metadata": {},
     "output_type": "execute_result"
    }
   ],
   "source": [
    "df.head()"
   ]
  },
  {
   "cell_type": "code",
   "execution_count": 86,
   "id": "18900b42",
   "metadata": {
    "execution": {
     "iopub.execute_input": "2022-08-30T15:52:07.845437Z",
     "iopub.status.busy": "2022-08-30T15:52:07.845016Z",
     "iopub.status.idle": "2022-08-30T15:52:07.855032Z",
     "shell.execute_reply": "2022-08-30T15:52:07.854006Z"
    },
    "papermill": {
     "duration": 0.053407,
     "end_time": "2022-08-30T15:52:07.857710",
     "exception": false,
     "start_time": "2022-08-30T15:52:07.804303",
     "status": "completed"
    },
    "tags": []
   },
   "outputs": [],
   "source": [
    "df.drop(columns = 'OpSys', inplace = True)"
   ]
  },
  {
   "cell_type": "code",
   "execution_count": 87,
   "id": "05d54b72",
   "metadata": {
    "execution": {
     "iopub.execute_input": "2022-08-30T15:52:07.941332Z",
     "iopub.status.busy": "2022-08-30T15:52:07.940264Z",
     "iopub.status.idle": "2022-08-30T15:52:07.957892Z",
     "shell.execute_reply": "2022-08-30T15:52:07.956681Z"
    },
    "papermill": {
     "duration": 0.062172,
     "end_time": "2022-08-30T15:52:07.960286",
     "exception": false,
     "start_time": "2022-08-30T15:52:07.898114",
     "status": "completed"
    },
    "tags": []
   },
   "outputs": [
    {
     "data": {
      "text/html": [
       "<div>\n",
       "<style scoped>\n",
       "    .dataframe tbody tr th:only-of-type {\n",
       "        vertical-align: middle;\n",
       "    }\n",
       "\n",
       "    .dataframe tbody tr th {\n",
       "        vertical-align: top;\n",
       "    }\n",
       "\n",
       "    .dataframe thead th {\n",
       "        text-align: right;\n",
       "    }\n",
       "</style>\n",
       "<table border=\"1\" class=\"dataframe\">\n",
       "  <thead>\n",
       "    <tr style=\"text-align: right;\">\n",
       "      <th></th>\n",
       "      <th>Company</th>\n",
       "      <th>TypeName</th>\n",
       "      <th>Ram</th>\n",
       "      <th>Weight</th>\n",
       "      <th>Price</th>\n",
       "      <th>touchscreen</th>\n",
       "      <th>Ips</th>\n",
       "      <th>ppi</th>\n",
       "      <th>Cpu brand</th>\n",
       "      <th>HDD</th>\n",
       "      <th>SSD</th>\n",
       "      <th>Gpu brand</th>\n",
       "      <th>OS</th>\n",
       "    </tr>\n",
       "  </thead>\n",
       "  <tbody>\n",
       "    <tr>\n",
       "      <th>107</th>\n",
       "      <td>Asus</td>\n",
       "      <td>Ultrabook</td>\n",
       "      <td>8</td>\n",
       "      <td>1.30</td>\n",
       "      <td>63563.04</td>\n",
       "      <td>0</td>\n",
       "      <td>1</td>\n",
       "      <td>157.350512</td>\n",
       "      <td>Intel Core i7</td>\n",
       "      <td>0</td>\n",
       "      <td>256</td>\n",
       "      <td>Nvidia</td>\n",
       "      <td>Windows</td>\n",
       "    </tr>\n",
       "    <tr>\n",
       "      <th>181</th>\n",
       "      <td>Dell</td>\n",
       "      <td>Ultrabook</td>\n",
       "      <td>8</td>\n",
       "      <td>1.23</td>\n",
       "      <td>74538.72</td>\n",
       "      <td>0</td>\n",
       "      <td>0</td>\n",
       "      <td>165.632118</td>\n",
       "      <td>Intel Core i5</td>\n",
       "      <td>0</td>\n",
       "      <td>256</td>\n",
       "      <td>Intel</td>\n",
       "      <td>Windows</td>\n",
       "    </tr>\n",
       "    <tr>\n",
       "      <th>1128</th>\n",
       "      <td>Lenovo</td>\n",
       "      <td>Gaming</td>\n",
       "      <td>8</td>\n",
       "      <td>2.40</td>\n",
       "      <td>52693.92</td>\n",
       "      <td>0</td>\n",
       "      <td>1</td>\n",
       "      <td>141.211998</td>\n",
       "      <td>Intel Core i5</td>\n",
       "      <td>1000</td>\n",
       "      <td>128</td>\n",
       "      <td>Nvidia</td>\n",
       "      <td>others/NO OS/Linux</td>\n",
       "    </tr>\n",
       "  </tbody>\n",
       "</table>\n",
       "</div>"
      ],
      "text/plain": [
       "     Company   TypeName  Ram  Weight     Price  touchscreen  Ips         ppi  \\\n",
       "107     Asus  Ultrabook    8    1.30  63563.04            0    1  157.350512   \n",
       "181     Dell  Ultrabook    8    1.23  74538.72            0    0  165.632118   \n",
       "1128  Lenovo     Gaming    8    2.40  52693.92            0    1  141.211998   \n",
       "\n",
       "          Cpu brand   HDD  SSD Gpu brand                  OS  \n",
       "107   Intel Core i7     0  256    Nvidia             Windows  \n",
       "181   Intel Core i5     0  256     Intel             Windows  \n",
       "1128  Intel Core i5  1000  128    Nvidia  others/NO OS/Linux  "
      ]
     },
     "execution_count": 87,
     "metadata": {},
     "output_type": "execute_result"
    }
   ],
   "source": [
    "df.sample(3)"
   ]
  },
  {
   "cell_type": "code",
   "execution_count": 88,
   "id": "4186860c",
   "metadata": {
    "execution": {
     "iopub.execute_input": "2022-08-30T15:52:08.043191Z",
     "iopub.status.busy": "2022-08-30T15:52:08.042136Z",
     "iopub.status.idle": "2022-08-30T15:52:08.317239Z",
     "shell.execute_reply": "2022-08-30T15:52:08.316273Z"
    },
    "papermill": {
     "duration": 0.318617,
     "end_time": "2022-08-30T15:52:08.319792",
     "exception": false,
     "start_time": "2022-08-30T15:52:08.001175",
     "status": "completed"
    },
    "tags": []
   },
   "outputs": [
    {
     "data": {
      "image/png": "[encoded data removed]",
      "text/plain": [
       "<Figure size 432x288 with 1 Axes>"
      ]
     },
     "metadata": {},
     "output_type": "display_data"
    }
   ],
   "source": [
    "sns.barplot(x=df['OS'],y=df['Price'])\n",
    "plt.xticks(rotation='vertical')\n",
    "plt.xlabel('OS',  **font)\n",
    "plt.ylabel('Price', **font)\n",
    "plt.title('OS VS Price', **font)\n",
    "plt.show()"
   ]
  },
  {
   "cell_type": "code",
   "execution_count": 89,
   "id": "378e2afb",
   "metadata": {
    "execution": {
     "iopub.execute_input": "2022-08-30T15:52:08.405163Z",
     "iopub.status.busy": "2022-08-30T15:52:08.404526Z",
     "iopub.status.idle": "2022-08-30T15:52:08.699827Z",
     "shell.execute_reply": "2022-08-30T15:52:08.698904Z"
    },
    "papermill": {
     "duration": 0.340511,
     "end_time": "2022-08-30T15:52:08.702210",
     "exception": false,
     "start_time": "2022-08-30T15:52:08.361699",
     "status": "completed"
    },
    "tags": []
   },
   "outputs": [
    {
     "name": "stderr",
     "output_type": "stream",
     "text": [
      "/opt/conda/lib/python3.7/site-packages/seaborn/distributions.py:2619: FutureWarning: `distplot` is a deprecated function and will be removed in a future version. Please adapt your code to use either `displot` (a figure-level function with similar flexibility) or `histplot` (an axes-level function for histograms).\n",
      "  warnings.warn(msg, FutureWarning)\n"
     ]
    },
    {
     "data": {
      "text/plain": [
       "<AxesSubplot:xlabel='Weight', ylabel='Density'>"
      ]
     },
     "execution_count": 89,
     "metadata": {},
     "output_type": "execute_result"
    },
    {
     "data": {
      "image/png": "[encoded data removed]",
      "text/plain": [
       "<Figure size 432x288 with 1 Axes>"
      ]
     },
     "metadata": {},
     "output_type": "display_data"
    }
   ],
   "source": [
    "sns.distplot(df['Weight'])"
   ]
  },
  {
   "cell_type": "code",
   "execution_count": 90,
   "id": "4eea23be",
   "metadata": {
    "execution": {
     "iopub.execute_input": "2022-08-30T15:52:08.787137Z",
     "iopub.status.busy": "2022-08-30T15:52:08.786733Z",
     "iopub.status.idle": "2022-08-30T15:52:09.161578Z",
     "shell.execute_reply": "2022-08-30T15:52:09.159614Z"
    },
    "papermill": {
     "duration": 0.421907,
     "end_time": "2022-08-30T15:52:09.164769",
     "exception": false,
     "start_time": "2022-08-30T15:52:08.742862",
     "status": "completed"
    },
    "tags": []
   },
   "outputs": [
    {
     "data": {
      "text/plain": [
       "Text(0.5, 1.0, 'Weight VS Price')"
      ]
     },
     "execution_count": 90,
     "metadata": {},
     "output_type": "execute_result"
    },
    {
     "data": {
      "image/png": "[encoded data removed]",
      "text/plain": [
       "<Figure size 1080x432 with 1 Axes>"
      ]
     },
     "metadata": {},
     "output_type": "display_data"
    }
   ],
   "source": [
    "plt.figure(figsize = (15,6))\n",
    "sns.scatterplot(x=df['Weight'],y=df['Price'])\n",
    "plt.xlabel('Weight',  **font)\n",
    "plt.ylabel('Price', **font)\n",
    "plt.title('Weight VS Price', **font)"
   ]
  },
  {
   "cell_type": "code",
   "execution_count": 91,
   "id": "6b31a882",
   "metadata": {
    "execution": {
     "iopub.execute_input": "2022-08-30T15:52:09.261430Z",
     "iopub.status.busy": "2022-08-30T15:52:09.260835Z",
     "iopub.status.idle": "2022-08-30T15:52:09.271635Z",
     "shell.execute_reply": "2022-08-30T15:52:09.270571Z"
    },
    "papermill": {
     "duration": 0.062496,
     "end_time": "2022-08-30T15:52:09.274111",
     "exception": false,
     "start_time": "2022-08-30T15:52:09.211615",
     "status": "completed"
    },
    "tags": []
   },
   "outputs": [
    {
     "data": {
      "text/plain": [
       "Ram            0.742905\n",
       "Weight         0.209867\n",
       "Price          1.000000\n",
       "touchscreen    0.192917\n",
       "Ips            0.253320\n",
       "ppi            0.475368\n",
       "HDD           -0.096891\n",
       "SSD            0.670660\n",
       "Name: Price, dtype: float64"
      ]
     },
     "execution_count": 91,
     "metadata": {},
     "output_type": "execute_result"
    }
   ],
   "source": [
    "df.corr()['Price']"
   ]
  },
  {
   "cell_type": "code",
   "execution_count": 92,
   "id": "9dcbc986",
   "metadata": {
    "execution": {
     "iopub.execute_input": "2022-08-30T15:52:09.365287Z",
     "iopub.status.busy": "2022-08-30T15:52:09.364916Z",
     "iopub.status.idle": "2022-08-30T15:52:09.757017Z",
     "shell.execute_reply": "2022-08-30T15:52:09.755725Z"
    },
    "papermill": {
     "duration": 0.440763,
     "end_time": "2022-08-30T15:52:09.760010",
     "exception": false,
     "start_time": "2022-08-30T15:52:09.319247",
     "status": "completed"
    },
    "tags": []
   },
   "outputs": [
    {
     "data": {
      "text/plain": [
       "<AxesSubplot:>"
      ]
     },
     "execution_count": 92,
     "metadata": {},
     "output_type": "execute_result"
    },
    {
     "data": {
      "image/png": "[encoded data removed]",
      "text/plain": [
       "<Figure size 1080x432 with 2 Axes>"
      ]
     },
     "metadata": {},
     "output_type": "display_data"
    }
   ],
   "source": [
    "plt.figure(figsize = (15,6))\n",
    "sns.heatmap(df.corr())"
   ]
  },
  {
   "cell_type": "code",
   "execution_count": 93,
   "id": "f6fff341",
   "metadata": {
    "execution": {
     "iopub.execute_input": "2022-08-30T15:52:09.851838Z",
     "iopub.status.busy": "2022-08-30T15:52:09.851433Z",
     "iopub.status.idle": "2022-08-30T15:52:10.241822Z",
     "shell.execute_reply": "2022-08-30T15:52:10.240633Z"
    },
    "papermill": {
     "duration": 0.439446,
     "end_time": "2022-08-30T15:52:10.244452",
     "exception": false,
     "start_time": "2022-08-30T15:52:09.805006",
     "status": "completed"
    },
    "tags": []
   },
   "outputs": [
    {
     "name": "stderr",
     "output_type": "stream",
     "text": [
      "/opt/conda/lib/python3.7/site-packages/seaborn/distributions.py:2619: FutureWarning: `distplot` is a deprecated function and will be removed in a future version. Please adapt your code to use either `displot` (a figure-level function with similar flexibility) or `histplot` (an axes-level function for histograms).\n",
      "  warnings.warn(msg, FutureWarning)\n"
     ]
    },
    {
     "data": {
      "text/plain": [
       "<AxesSubplot:xlabel='Price', ylabel='Density'>"
      ]
     },
     "execution_count": 93,
     "metadata": {},
     "output_type": "execute_result"
    },
    {
     "data": {
      "image/png": "[encoded data removed]",
      "text/plain": [
       "<Figure size 432x288 with 1 Axes>"
      ]
     },
     "metadata": {},
     "output_type": "display_data"
    }
   ],
   "source": [
    "sns.distplot(df['Price'])"
   ]
  },
  {
   "cell_type": "code",
   "execution_count": 94,
   "id": "7b84cd6a",
   "metadata": {
    "execution": {
     "iopub.execute_input": "2022-08-30T15:52:10.336512Z",
     "iopub.status.busy": "2022-08-30T15:52:10.336104Z",
     "iopub.status.idle": "2022-08-30T15:52:10.656974Z",
     "shell.execute_reply": "2022-08-30T15:52:10.655780Z"
    },
    "papermill": {
     "duration": 0.370682,
     "end_time": "2022-08-30T15:52:10.660080",
     "exception": false,
     "start_time": "2022-08-30T15:52:10.289398",
     "status": "completed"
    },
    "tags": []
   },
   "outputs": [
    {
     "name": "stderr",
     "output_type": "stream",
     "text": [
      "/opt/conda/lib/python3.7/site-packages/seaborn/distributions.py:2619: FutureWarning: `distplot` is a deprecated function and will be removed in a future version. Please adapt your code to use either `displot` (a figure-level function with similar flexibility) or `histplot` (an axes-level function for histograms).\n",
      "  warnings.warn(msg, FutureWarning)\n"
     ]
    },
    {
     "data": {
      "text/plain": [
       "<AxesSubplot:xlabel='Price', ylabel='Density'>"
      ]
     },
     "execution_count": 94,
     "metadata": {},
     "output_type": "execute_result"
    },
    {
     "data": {
      "image/png": "[encoded data removed]",
      "text/plain": [
       "<Figure size 432x288 with 1 Axes>"
      ]
     },
     "metadata": {},
     "output_type": "display_data"
    }
   ],
   "source": [
    "# Normalizing the price using log \n",
    "sns.distplot(np.log(df['Price']))"
   ]
  },
  {
   "cell_type": "code",
   "execution_count": 95,
   "id": "d8377898",
   "metadata": {
    "execution": {
     "iopub.execute_input": "2022-08-30T15:52:10.753354Z",
     "iopub.status.busy": "2022-08-30T15:52:10.752632Z",
     "iopub.status.idle": "2022-08-30T15:52:10.758848Z",
     "shell.execute_reply": "2022-08-30T15:52:10.757958Z"
    },
    "papermill": {
     "duration": 0.054077,
     "end_time": "2022-08-30T15:52:10.761298",
     "exception": false,
     "start_time": "2022-08-30T15:52:10.707221",
     "status": "completed"
    },
    "tags": []
   },
   "outputs": [],
   "source": [
    "X = df.drop(columns=['Price'])\n",
    "Y = np.log(df['Price'])"
   ]
  },
  {
   "cell_type": "code",
   "execution_count": 96,
   "id": "d6c1b128",
   "metadata": {
    "execution": {
     "iopub.execute_input": "2022-08-30T15:52:10.854077Z",
     "iopub.status.busy": "2022-08-30T15:52:10.853531Z",
     "iopub.status.idle": "2022-08-30T15:52:10.871953Z",
     "shell.execute_reply": "2022-08-30T15:52:10.870720Z"
    },
    "papermill": {
     "duration": 0.068581,
     "end_time": "2022-08-30T15:52:10.874623",
     "exception": false,
     "start_time": "2022-08-30T15:52:10.806042",
     "status": "completed"
    },
    "tags": []
   },
   "outputs": [
    {
     "data": {
      "text/html": [
       "<div>\n",
       "<style scoped>\n",
       "    .dataframe tbody tr th:only-of-type {\n",
       "        vertical-align: middle;\n",
       "    }\n",
       "\n",
       "    .dataframe tbody tr th {\n",
       "        vertical-align: top;\n",
       "    }\n",
       "\n",
       "    .dataframe thead th {\n",
       "        text-align: right;\n",
       "    }\n",
       "</style>\n",
       "<table border=\"1\" class=\"dataframe\">\n",
       "  <thead>\n",
       "    <tr style=\"text-align: right;\">\n",
       "      <th></th>\n",
       "      <th>Company</th>\n",
       "      <th>TypeName</th>\n",
       "      <th>Ram</th>\n",
       "      <th>Weight</th>\n",
       "      <th>touchscreen</th>\n",
       "      <th>Ips</th>\n",
       "      <th>ppi</th>\n",
       "      <th>Cpu brand</th>\n",
       "      <th>HDD</th>\n",
       "      <th>SSD</th>\n",
       "      <th>Gpu brand</th>\n",
       "      <th>OS</th>\n",
       "    </tr>\n",
       "  </thead>\n",
       "  <tbody>\n",
       "    <tr>\n",
       "      <th>0</th>\n",
       "      <td>Apple</td>\n",
       "      <td>Ultrabook</td>\n",
       "      <td>8</td>\n",
       "      <td>1.37</td>\n",
       "      <td>0</td>\n",
       "      <td>1</td>\n",
       "      <td>226.983005</td>\n",
       "      <td>Intel Core i5</td>\n",
       "      <td>0</td>\n",
       "      <td>128</td>\n",
       "      <td>Intel</td>\n",
       "      <td>Mac</td>\n",
       "    </tr>\n",
       "    <tr>\n",
       "      <th>1</th>\n",
       "      <td>Apple</td>\n",
       "      <td>Ultrabook</td>\n",
       "      <td>8</td>\n",
       "      <td>1.34</td>\n",
       "      <td>0</td>\n",
       "      <td>0</td>\n",
       "      <td>127.677940</td>\n",
       "      <td>Intel Core i5</td>\n",
       "      <td>0</td>\n",
       "      <td>0</td>\n",
       "      <td>Intel</td>\n",
       "      <td>Mac</td>\n",
       "    </tr>\n",
       "    <tr>\n",
       "      <th>2</th>\n",
       "      <td>HP</td>\n",
       "      <td>Notebook</td>\n",
       "      <td>8</td>\n",
       "      <td>1.86</td>\n",
       "      <td>0</td>\n",
       "      <td>0</td>\n",
       "      <td>141.211998</td>\n",
       "      <td>Intel Core i5</td>\n",
       "      <td>0</td>\n",
       "      <td>256</td>\n",
       "      <td>Intel</td>\n",
       "      <td>others/NO OS/Linux</td>\n",
       "    </tr>\n",
       "    <tr>\n",
       "      <th>3</th>\n",
       "      <td>Apple</td>\n",
       "      <td>Ultrabook</td>\n",
       "      <td>16</td>\n",
       "      <td>1.83</td>\n",
       "      <td>0</td>\n",
       "      <td>1</td>\n",
       "      <td>220.534624</td>\n",
       "      <td>Intel Core i7</td>\n",
       "      <td>0</td>\n",
       "      <td>512</td>\n",
       "      <td>AMD</td>\n",
       "      <td>Mac</td>\n",
       "    </tr>\n",
       "    <tr>\n",
       "      <th>4</th>\n",
       "      <td>Apple</td>\n",
       "      <td>Ultrabook</td>\n",
       "      <td>8</td>\n",
       "      <td>1.37</td>\n",
       "      <td>0</td>\n",
       "      <td>1</td>\n",
       "      <td>226.983005</td>\n",
       "      <td>Intel Core i5</td>\n",
       "      <td>0</td>\n",
       "      <td>256</td>\n",
       "      <td>Intel</td>\n",
       "      <td>Mac</td>\n",
       "    </tr>\n",
       "  </tbody>\n",
       "</table>\n",
       "</div>"
      ],
      "text/plain": [
       "  Company   TypeName  Ram  Weight  touchscreen  Ips         ppi  \\\n",
       "0   Apple  Ultrabook    8    1.37            0    1  226.983005   \n",
       "1   Apple  Ultrabook    8    1.34            0    0  127.677940   \n",
       "2      HP   Notebook    8    1.86            0    0  141.211998   \n",
       "3   Apple  Ultrabook   16    1.83            0    1  220.534624   \n",
       "4   Apple  Ultrabook    8    1.37            0    1  226.983005   \n",
       "\n",
       "       Cpu brand  HDD  SSD Gpu brand                  OS  \n",
       "0  Intel Core i5    0  128     Intel                 Mac  \n",
       "1  Intel Core i5    0    0     Intel                 Mac  \n",
       "2  Intel Core i5    0  256     Intel  others/NO OS/Linux  \n",
       "3  Intel Core i7    0  512       AMD                 Mac  \n",
       "4  Intel Core i5    0  256     Intel                 Mac  "
      ]
     },
     "execution_count": 96,
     "metadata": {},
     "output_type": "execute_result"
    }
   ],
   "source": [
    "X.head()"
   ]
  },
  {
   "cell_type": "code",
   "execution_count": 97,
   "id": "929e110a",
   "metadata": {
    "execution": {
     "iopub.execute_input": "2022-08-30T15:52:10.968529Z",
     "iopub.status.busy": "2022-08-30T15:52:10.967915Z",
     "iopub.status.idle": "2022-08-30T15:52:10.976746Z",
     "shell.execute_reply": "2022-08-30T15:52:10.975544Z"
    },
    "papermill": {
     "duration": 0.059287,
     "end_time": "2022-08-30T15:52:10.979185",
     "exception": false,
     "start_time": "2022-08-30T15:52:10.919898",
     "status": "completed"
    },
    "tags": []
   },
   "outputs": [
    {
     "data": {
      "text/plain": [
       "0    11.175755\n",
       "1    10.776777\n",
       "2    10.329931\n",
       "3    11.814476\n",
       "4    11.473101\n",
       "Name: Price, dtype: float64"
      ]
     },
     "execution_count": 97,
     "metadata": {},
     "output_type": "execute_result"
    }
   ],
   "source": [
    "Y.head()"
   ]
  },
  {
   "cell_type": "code",
   "execution_count": 98,
   "id": "832becde",
   "metadata": {
    "execution": {
     "iopub.execute_input": "2022-08-30T15:52:11.075472Z",
     "iopub.status.busy": "2022-08-30T15:52:11.074263Z",
     "iopub.status.idle": "2022-08-30T15:52:11.082216Z",
     "shell.execute_reply": "2022-08-30T15:52:11.080896Z"
    },
    "papermill": {
     "duration": 0.059308,
     "end_time": "2022-08-30T15:52:11.085280",
     "exception": false,
     "start_time": "2022-08-30T15:52:11.025972",
     "status": "completed"
    },
    "tags": []
   },
   "outputs": [],
   "source": [
    "# Spliting the dataset.\n",
    "X_train,X_test,y_train,y_test = train_test_split(X,Y,test_size=0.15,random_state=5)"
   ]
  },
  {
   "cell_type": "markdown",
   "id": "4ddaa578",
   "metadata": {
    "papermill": {
     "duration": 0.04632,
     "end_time": "2022-08-30T15:52:11.176726",
     "exception": false,
     "start_time": "2022-08-30T15:52:11.130406",
     "status": "completed"
    },
    "tags": []
   },
   "source": [
    "## <h1 style='background:#AC7E7E; border:2; border-radius: 20px; font-size:250%; font-weight: bold; color:white'><center>RandomForestRegressor</center></h1>"
   ]
  },
  {
   "cell_type": "code",
   "execution_count": 99,
   "id": "3fd124c1",
   "metadata": {
    "execution": {
     "iopub.execute_input": "2022-08-30T15:52:11.268893Z",
     "iopub.status.busy": "2022-08-30T15:52:11.268467Z",
     "iopub.status.idle": "2022-08-30T15:52:12.412151Z",
     "shell.execute_reply": "2022-08-30T15:52:12.411044Z"
    },
    "papermill": {
     "duration": 1.193082,
     "end_time": "2022-08-30T15:52:12.414557",
     "exception": false,
     "start_time": "2022-08-30T15:52:11.221475",
     "status": "completed"
    },
    "tags": []
   },
   "outputs": [
    {
     "name": "stdout",
     "output_type": "stream",
     "text": [
      "R2 score 0.9150123959096494\n",
      "MAE 0.1424436083778887\n"
     ]
    }
   ],
   "source": [
    "step1 = ColumnTransformer(transformers=[\n",
    "    ('col_tnf',OneHotEncoder(sparse=False,drop='first'),[0,1,7,10,11])\n",
    "],remainder='passthrough')\n",
    "\n",
    "step2 = RandomForestRegressor(n_estimators=300,\n",
    "                              random_state=1,\n",
    "                              max_samples=0.8,\n",
    "                              max_features=0.75,\n",
    "                              max_depth=20)\n",
    "\n",
    "pipe = Pipeline([\n",
    "    ('step1',step1),\n",
    "    ('step2',step2)\n",
    "])\n",
    "\n",
    "pipe.fit(X_train,y_train)\n",
    "\n",
    "y_pred = pipe.predict(X_test)\n",
    "\n",
    "print('R2 score',r2_score(y_test,y_pred))\n",
    "print('MAE',mean_absolute_error(y_test,y_pred))"
   ]
  },
  {
   "cell_type": "markdown",
   "id": "54798b2f",
   "metadata": {
    "papermill": {
     "duration": 0.056459,
     "end_time": "2022-08-30T15:52:12.515024",
     "exception": false,
     "start_time": "2022-08-30T15:52:12.458565",
     "status": "completed"
    },
    "tags": []
   },
   "source": [
    "\n",
    "* **I used Random forest for model and got accuracy of 91**"
   ]
  },
  {
   "cell_type": "markdown",
   "id": "4954e346",
   "metadata": {
    "papermill": {
     "duration": 0.043302,
     "end_time": "2022-08-30T15:52:12.602547",
     "exception": false,
     "start_time": "2022-08-30T15:52:12.559245",
     "status": "completed"
    },
    "tags": []
   },
   "source": [
    "<div style='background:#5642C5; border:2; border-radius: 10px;letter-spacing:0.5px; font-size:110%; font-family:Verdana'>\n",
    "    <p style=\"padding: 15px;\n",
    "              color:white;\">\n",
    "        Hopefully you like this kernel, i'm beginner & learning data science,i would like you to share your suggestion and opinions it will help me to improve also an upvote motivate me to work more hard.. Thanku:) </p> </div>"
   ]
  }
 ],
 "metadata": {
  "kernelspec": {
   "display_name": "Python 3",
   "language": "python",
   "name": "python3"
  },
  "language_info": {
   "codemirror_mode": {
    "name": "ipython",
    "version": 3
   },
   "file_extension": ".py",
   "mimetype": "text/x-python",
   "name": "python",
   "nbconvert_exporter": "python",
   "pygments_lexer": "ipython3",
   "version": "3.7.12"
  },
  "papermill": {
   "default_parameters": {},
   "duration": 31.506123,
   "end_time": "2022-08-30T15:52:13.470638",
   "environment_variables": {},
   "exception": null,
   "input_path": "__notebook__.ipynb",
   "output_path": "__notebook__.ipynb",
   "parameters": {},
   "start_time": "2022-08-30T15:51:41.964515",
   "version": "2.3.4"
  }
 },
 "nbformat": 4,
 "nbformat_minor": 5
}
